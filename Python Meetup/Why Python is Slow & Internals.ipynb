{
 "cells": [
  {
   "cell_type": "code",
   "execution_count": 1,
   "metadata": {},
   "outputs": [],
   "source": [
    "# Python is slower than Fortran and C for a variety of reasons"
   ]
  },
  {
   "cell_type": "code",
   "execution_count": 2,
   "metadata": {},
   "outputs": [],
   "source": [
    "#  Python is Dynamically Typed rather than Statically Typed.\n",
    "\n",
    "# At the time the program executes, \n",
    "# the interpreter  know the type of the variables that are defined. \n",
    "\n",
    "# The difference between a C variable (I'm using C as a stand-in for compiled languages) and a Python variable \n",
    "\n"
   ]
  },
  {
   "cell_type": "code",
   "execution_count": 2,
   "metadata": {},
   "outputs": [],
   "source": [
    "# python code\n",
    "a = 1"
   ]
  },
  {
   "cell_type": "code",
   "execution_count": 4,
   "metadata": {},
   "outputs": [
    {
     "data": {
      "text/plain": [
       "int"
      ]
     },
     "execution_count": 4,
     "metadata": {},
     "output_type": "execute_result"
    }
   ],
   "source": [
    "#   a->PyObject_HEAD->typecode to integer\n",
    "#   Set a->val = 1\n",
    "\n",
    "type(a )"
   ]
  },
  {
   "cell_type": "code",
   "execution_count": 5,
   "metadata": {},
   "outputs": [
    {
     "name": "stdout",
     "output_type": "stream",
     "text": [
      "('Python version =', '2.7.1')\n"
     ]
    }
   ],
   "source": [
    "import sys\n",
    "\n",
    "print(\"Python version =\",                  sys.version[:5])"
   ]
  },
  {
   "cell_type": "code",
   "execution_count": 28,
   "metadata": {},
   "outputs": [
    {
     "name": "stdout",
     "output_type": "stream",
     "text": [
      "42\n"
     ]
    }
   ],
   "source": [
    "x = 42\n",
    "print(x)"
   ]
  },
  {
   "cell_type": "code",
   "execution_count": 7,
   "metadata": {},
   "outputs": [
    {
     "data": {
      "text/plain": [
       "int"
      ]
     },
     "execution_count": 7,
     "metadata": {},
     "output_type": "execute_result"
    }
   ],
   "source": [
    "type(x)"
   ]
  },
  {
   "cell_type": "code",
   "execution_count": null,
   "metadata": {},
   "outputs": [],
   "source": [
    "#  C:\\Users\\jvt\\Anaconda3\\include/object.h\n",
    "\n",
    "/* Object and type object interface */\n",
    "\n",
    "/*\n",
    "Objects are structures allocated on the heap.  Special rules apply to\n",
    "the use of objects to ensure they are properly garbage-collected.\n",
    "Objects are never allocated statically or on the stack; they must be\n",
    "accessed through special macros and functions only.  (Type objects are\n",
    "exceptions to the first rule; the standard types are represented by\n",
    "statically initialized type objects, although work on type/class unification\n",
    "for Python 2.2 made it possible to have heap-allocated type objects too).\n",
    "\n",
    "An object has a 'reference count' that is increased or decreased when a\n",
    "pointer to the object is copied or deleted; when the reference count\n",
    "reaches zero there are no references to the object left and it can be\n",
    "removed from the heap.\n",
    "\n",
    "An object has a 'type' that determines what it represents and what kind\n",
    "of data it contains.  An object's type is fixed when it is created.\n",
    "Types themselves are represented as objects; an object contains a\n",
    "pointer to the corresponding type object.  The type itself has a type\n",
    "pointer pointing to the object representing the type 'type', which\n",
    "contains a pointer to itself!).\n",
    "\n",
    "Objects do not float around in memory; once allocated an object keeps\n",
    "the same size and address.  Objects that must hold variable-size data\n",
    "can contain pointers to variable-size parts of the object.  Not all\n",
    "objects of the same type have the same size; but the size cannot change\n",
    "after allocation.  (These restrictions are made so a reference to an\n",
    "object can be simply a pointer -- moving an object would require\n",
    "updating all the pointers, and changing an object's size would require\n",
    "moving it if there was another object right next to it.)\n",
    "\n",
    "Objects are always accessed through pointers of the type 'PyObject *'.\n",
    "The type 'PyObject' is a structure that only contains the reference count\n",
    "and the type pointer.  The actual memory allocated for an object\n",
    "contains other data that can only be accessed after casting the pointer\n",
    "to a pointer to a longer structure type.  This longer type must start\n",
    "with the reference count and type fields; the macro PyObject_HEAD should be\n",
    "used for this (to accommodate for future changes).  The implementation\n",
    "of a particular object type can cast the object pointer to the proper\n",
    "type and back.\n",
    "\n",
    "A standard interface exists for objects that contain an array of items\n",
    "whose size is determined when the object is allocated.\n",
    "*/"
   ]
  },
  {
   "cell_type": "code",
   "execution_count": 21,
   "metadata": {},
   "outputs": [],
   "source": [
    "# How Python manage its objects in memory, that leads me to PyObject.\n",
    "\n",
    "# Let’s take a look at how PyObject being defined in Python first.\n",
    "\n",
    "#  C:\\Users\\jvt\\Anaconda3\\include/object.h\n",
    "\n",
    "#define _PyObject_HEAD_EXTRA            \\\n",
    "    struct _object *_ob_next;           \\\n",
    "    struct _object *_ob_prev;\n",
    "\n",
    "\n",
    "typedef struct _object {\n",
    "    _PyObject_HEAD_EXTRA\n",
    "    Py_ssize_t ob_refcnt;\n",
    "    struct _typeobject *ob_type;\n",
    "} PyObject;\n",
    "\n",
    "\n",
    "\n",
    "typedef struct _typeobject {\n",
    "    \n",
    "    PyObject_VAR_HEAD\n",
    "    const char *tp_name; /* For printing, in format \"<module>.<name>\" */\n",
    "    Py_ssize_t tp_basicsize, tp_itemsize; /* For allocation */\n",
    "\n",
    "    .....\n",
    "} PyTypeObject;\n",
    "#endif\n",
    "\n",
    "\n",
    "PyTypeObject holds the type information of PyObject, so we can use PyObject pointer as \n",
    "the only type of pointers in Python.\n",
    "So how can we know the object’s type"
   ]
  },
  {
   "cell_type": "code",
   "execution_count": null,
   "metadata": {},
   "outputs": [],
   "source": [
    "# C:\\Users\\jvt\\Anaconda3\\include/object.h\n",
    "\n",
    "typedef struct _typeobject PyTypeObject\n",
    "\n",
    "typedef struct _object {\n",
    "    _PyObject_HEAD_EXTRA\n",
    "    Py_ssize_t ob_refcnt;\n",
    "    struct _typeobject *ob_type;\n",
    "} PyObject;\n",
    "\n",
    "typedef struct {\n",
    "    PyObject ob_base;\n",
    "    Py_ssize_t ob_size; /* Number of items in variable part */\n",
    "} PyVarObject;\n",
    "\n",
    "PyObject is the basic structure for fixed length objects\n",
    "\n",
    "PyVarObject  is the basis for various length objects"
   ]
  },
  {
   "cell_type": "code",
   "execution_count": 9,
   "metadata": {},
   "outputs": [],
   "source": [
    "#The actual x variable in CPython is stored in a structure which is defined in the CPython source code,\n",
    "# in Include/longintrepr.h\n",
    "\n",
    "# C:\\Users\\jvt\\Anaconda3\\include/longintrepr"
   ]
  },
  {
   "cell_type": "code",
   "execution_count": 8,
   "metadata": {},
   "outputs": [],
   "source": [
    "# https://hg.python.org/cpython/file/3.4/Include/longintrepr.h/#l89\n",
    "\n",
    "#define PyObject_VAR_HEAD      PyVarObject ob_base;\n",
    "\n",
    "# struct _longobject {\n",
    "# \tPyObject_VAR_HEAD\n",
    "# \tdigit ob_digit[1];\n",
    "# };\n",
    "\n"
   ]
  },
  {
   "cell_type": "code",
   "execution_count": null,
   "metadata": {},
   "outputs": [],
   "source": [
    "# Our integer object works out to something like the following structure:\n",
    "\n",
    "#C:\\Users\\jvt\\.julia\\v0.6\\Conda\\deps\\usr\\pkgs\\python-2.7.14-h8c3f1cb_23\\include/intobject.h\n",
    "\n",
    "typedef struct _object {\n",
    "    _PyObject_HEAD_EXTRA\n",
    "    Py_ssize_t ob_refcnt;\n",
    "    struct _typeobject *ob_type;\n",
    "} PyObject;\n",
    "   \n",
    "#define PyObject_HEAD                   PyObject ob_base;\n",
    "    \n",
    " typedef struct {\n",
    "    PyObject_HEAD  # ob_base variable is a object to the structure containing all the type information and method definitions for the object\n",
    "    long ob_ival; # ob_digit holds the actual numerical value.\n",
    "} PyIntObject;\n",
    "    \n",
    "    \n",
    "struct _longobject {\n",
    "    long ob_refcnt;\n",
    "    PyTypeObject *ob_type; \n",
    "    # ob_type variable is a pointer to the structure containing all the type information and method definitions for the object\n",
    "    size_t ob_size;\n",
    "    long ob_digit[1]; # ob_digit holds the actual numerical value.\n",
    "};"
   ]
  },
  {
   "cell_type": "code",
   "execution_count": 3,
   "metadata": {},
   "outputs": [],
   "source": [
    "# We start with defining a Python representation of the C structure:\n",
    "    \n",
    "import ctypes\n",
    "\n",
    "class IntStruct(ctypes.Structure):\n",
    "    _fields_ = [(\"ob_refcnt\", ctypes.c_long),\n",
    "                (\"ob_type\", ctypes.c_void_p),\n",
    "                (\"ob_size\", ctypes.c_ulong),\n",
    "                (\"ob_digit\", ctypes.c_long)]\n",
    "    \n",
    "    def __repr__(self):\n",
    "        return (\"IntStruct(ob_digit={self.ob_digit}, \"\n",
    "                \"refcount={self.ob_refcnt})\").format(self=self)"
   ]
  },
  {
   "cell_type": "code",
   "execution_count": 4,
   "metadata": {},
   "outputs": [
    {
     "data": {
      "text/plain": [
       "IntStruct(ob_digit=0, refcount=29)"
      ]
     },
     "execution_count": 4,
     "metadata": {},
     "output_type": "execute_result"
    }
   ],
   "source": [
    "# Now let's look at the internal representation for some number, say 42. \n",
    "# We'll use the fact that in CPython, the id function gives the memory location of the object:\n",
    "\n",
    "num = 42\n",
    "IntStruct.from_address(id(num))\n",
    "\n",
    "# CPython, the id function gives the memory location of the object:\n",
    "# The ob_digit attribute points to the correct location in memory!"
   ]
  },
  {
   "cell_type": "code",
   "execution_count": null,
   "metadata": {},
   "outputs": [],
   "source": [
    "But what about refcount? We've only created a single value: why is the reference count so much greater than one?\n",
    "\n",
    "Well it turns out that Python uses small integers a lot. \n",
    "\n",
    "If a new PyObject were created for each of these integers, it would take a lot of memory.\n",
    "\n",
    "Because of this, Python implements common integer values as singletons: that is, only one \n",
    "copy of these numbers exist in memory. In other words, every time you create a new Python integer\n",
    "in this range, you're simply creating a reference to the singleton with that value:"
   ]
  },
  {
   "cell_type": "code",
   "execution_count": 12,
   "metadata": {},
   "outputs": [
    {
     "data": {
      "text/plain": [
       "True"
      ]
     },
     "execution_count": 12,
     "metadata": {},
     "output_type": "execute_result"
    }
   ],
   "source": [
    "x = 42\n",
    "y = 42\n",
    "id(x) == id(y)"
   ]
  },
  {
   "cell_type": "code",
   "execution_count": 13,
   "metadata": {},
   "outputs": [
    {
     "data": {
      "text/plain": [
       "False"
      ]
     },
     "execution_count": 13,
     "metadata": {},
     "output_type": "execute_result"
    }
   ],
   "source": [
    "# When you get to much bigger integers (larger than 255 in Python 3.4), this is no longer true:\n",
    "\n",
    "x = 1234\n",
    "y = 1234\n",
    "id(x) == id(y)"
   ]
  },
  {
   "cell_type": "code",
   "execution_count": 82,
   "metadata": {},
   "outputs": [
    {
     "ename": "SyntaxError",
     "evalue": "invalid syntax (<ipython-input-82-2b71266a9cbd>, line 5)",
     "output_type": "error",
     "traceback": [
      "\u001b[1;36m  File \u001b[1;32m\"<ipython-input-82-2b71266a9cbd>\"\u001b[1;36m, line \u001b[1;32m5\u001b[0m\n\u001b[1;33m    *()\u001b[0m\n\u001b[1;37m    ^\u001b[0m\n\u001b[1;31mSyntaxError\u001b[0m\u001b[1;31m:\u001b[0m invalid syntax\n"
     ]
    }
   ],
   "source": [
    "# C:\\Users\\jvt\\Anaconda3\\include/listobject.h\n",
    "\n",
    "# Digging into Python Lists\n",
    "\n",
    "/*\n",
    "\n",
    "Another generally useful object type is a list of object pointers.\n",
    "This is a mutable type: the list items can be changed, and items can be\n",
    "added or removed.  Out-of-range indices or non-list objects are ignored.\n",
    "\n",
    "*** WARNING *** PyList_SetItem does not increment the new item's reference\n",
    "count, but does decrement the reference count of the item it replaces,\n",
    "if not nil.  It does *decrement* the reference count if it is *not*\n",
    "inserted in the list.  Similarly, PyList_GetItem does not increment the\n",
    "returned item's reference count.\n",
    "\n",
    "*/\n",
    "\n",
    "\n",
    "typedef struct {\n",
    "    \n",
    "    \n",
    "    PyObject_VAR_HEAD\n",
    "    \n",
    "    /* Vector of pointers to list elements.  list[0] is ob_item[0], etc. */\n",
    "    \n",
    "    PyObject **ob_item;\n",
    "\n",
    "    /* ob_item contains space for 'allocated' elements.  The number\n",
    "     * currently in use is ob_size.\n",
    "     * Invariants:\n",
    "     *     0 <= ob_size <= allocated\n",
    "     *     len(list) == ob_size\n",
    "     *     ob_item == NULL implies ob_size == allocated == 0\n",
    "     * list.sort() temporarily sets allocated to -1 to detect mutations.\n",
    "     *\n",
    "     * Items must normally not be NULL, except during construction when\n",
    "     * the list is not yet visible outside the function that builds it.\n",
    "     */\n",
    "    \n",
    "    Py_ssize_t allocated;\n",
    "    \n",
    "} PyListObject;"
   ]
  },
  {
   "cell_type": "code",
   "execution_count": null,
   "metadata": {},
   "outputs": [],
   "source": [
    "# Int type list object\n",
    "\n",
    "typedef struct {\n",
    "    long ob_refcnt;\n",
    "    PyTypeObject *ob_type;\n",
    "    Py_ssize_t ob_size;\n",
    "    PyObject **ob_item;\n",
    "    long allocated;\n",
    "} PyListObject;\n",
    "\n",
    "PyObject **ob_item is what points to the contents of the list, \n",
    "ob_size value tells us how many items are in the list."
   ]
  },
  {
   "cell_type": "code",
   "execution_count": 14,
   "metadata": {},
   "outputs": [],
   "source": [
    "class ListStruct(ctypes.Structure):\n",
    "    _fields_ = [(\"ob_refcnt\", ctypes.c_long),\n",
    "                (\"ob_type\", ctypes.c_void_p),\n",
    "                (\"ob_size\", ctypes.c_ulong),\n",
    "                (\"ob_item\", ctypes.c_long),  # PyObject** pointer cast to long\n",
    "                (\"allocated\", ctypes.c_ulong)]\n",
    "    \n",
    "    def __repr__(self):\n",
    "        return (\"ListStruct(len={self.ob_size}, \"\n",
    "                \"refcount={self.ob_refcnt})\").format(self=self)"
   ]
  },
  {
   "cell_type": "code",
   "execution_count": 15,
   "metadata": {},
   "outputs": [
    {
     "data": {
      "text/plain": [
       "ListStruct(len=5, refcount=1)"
      ]
     },
     "execution_count": 15,
     "metadata": {},
     "output_type": "execute_result"
    }
   ],
   "source": [
    "L = [1,2,3,4,5]\n",
    "ListStruct.from_address(id(L))"
   ]
  },
  {
   "cell_type": "code",
   "execution_count": 19,
   "metadata": {},
   "outputs": [
    {
     "data": {
      "text/plain": [
       "ListStruct(len=5, refcount=3)"
      ]
     },
     "execution_count": 19,
     "metadata": {},
     "output_type": "execute_result"
    }
   ],
   "source": [
    "tup = [L, L]  # two more references to L\n",
    "ListStruct.from_address(id(L))\n",
    "\n",
    "# let's create a few extra references to the list, and see how it affects the reference count:"
   ]
  },
  {
   "cell_type": "code",
   "execution_count": 20,
   "metadata": {},
   "outputs": [],
   "source": [
    "# Elements are stored via a contiguous array of PyObject pointers. ctypes\n",
    "\n",
    "# get a raw pointer to our list\n",
    "Lstruct = ListStruct.from_address(id(L))\n",
    "\n",
    "type(Lstruct)\n",
    "\n",
    "# create a type which is an array of integer pointers the same length as L\n",
    "PtrArray = Lstruct.ob_size * ctypes.POINTER(IntStruct)\n",
    "\n",
    "# instantiate this type using the ob_item pointer\n",
    "L_values = PtrArray.from_address(Lstruct.ob_item)"
   ]
  },
  {
   "cell_type": "code",
   "execution_count": 22,
   "metadata": {},
   "outputs": [
    {
     "data": {
      "text/plain": [
       "__main__.ListStruct"
      ]
     },
     "execution_count": 22,
     "metadata": {},
     "output_type": "execute_result"
    }
   ],
   "source": [
    "type(Lstruct)\n",
    "\n",
    "# [ptr[0] for ptr in L_values]  # ptr[0] dereferences the pointer crash"
   ]
  },
  {
   "cell_type": "code",
   "execution_count": 24,
   "metadata": {},
   "outputs": [],
   "source": [
    "class NumpyStruct(ctypes.Structure):\n",
    "    _fields_ = [(\"ob_refcnt\", ctypes.c_long),\n",
    "                (\"ob_type\", ctypes.c_void_p),\n",
    "                (\"ob_data\", ctypes.c_long),  # char* pointer cast to long\n",
    "                (\"ob_ndim\", ctypes.c_int),\n",
    "                (\"ob_shape\", ctypes.c_voidp),\n",
    "                (\"ob_strides\", ctypes.c_voidp)]\n",
    "    \n",
    "    @property\n",
    "    def shape(self):\n",
    "        return tuple((self.ob_ndim * ctypes.c_int64).from_address(self.ob_shape))\n",
    "    \n",
    "    @property\n",
    "    def strides(self):\n",
    "        return tuple((self.ob_ndim * ctypes.c_int64).from_address(self.ob_strides))\n",
    "    \n",
    "    def __repr__(self):\n",
    "        return (\"NumpyStruct(shape={self.shape}, \"\n",
    "                \"refcount={self.ob_refcnt})\").format(self=self)"
   ]
  },
  {
   "cell_type": "code",
   "execution_count": 30,
   "metadata": {},
   "outputs": [
    {
     "data": {
      "text/plain": [
       "False"
      ]
     },
     "execution_count": 30,
     "metadata": {},
     "output_type": "execute_result"
    }
   ],
   "source": [
    "# WARNNG: never do this!\n",
    "id113 = id(113)\n",
    "iptr = IntStruct.from_address(id113)\n",
    "iptr.ob_digit = 4  # now Python's 113 contains a 4!\n",
    "\n",
    "113 == 4"
   ]
  },
  {
   "cell_type": "code",
   "execution_count": 31,
   "metadata": {},
   "outputs": [
    {
     "data": {
      "text/plain": [
       "IntStruct(ob_digit=4, refcount=10)"
      ]
     },
     "execution_count": 31,
     "metadata": {},
     "output_type": "execute_result"
    }
   ],
   "source": [
    "iptr"
   ]
  },
  {
   "cell_type": "code",
   "execution_count": null,
   "metadata": {},
   "outputs": [],
   "source": [
    "# WARNING: never do this!\n",
    "L = [42]\n",
    "Lwrapper = ListStruct.from_address(id(L))\n",
    "item_address = ctypes.c_long.from_address(Lwrapper.ob_item)\n",
    "print(\"before:\", L)\n",
    "\n",
    "# change the c-pointer of the list item\n",
    "item_address.value = id(6)\n",
    "\n",
    "# we need to update reference counts by hand\n",
    "IntStruct.from_address(id(42)).ob_refcnt -= 1\n",
    "IntStruct.from_address(id(6)).ob_refcnt += 1\n",
    "\n",
    "print(\"after: \", L)"
   ]
  },
  {
   "cell_type": "code",
   "execution_count": 3,
   "metadata": {},
   "outputs": [],
   "source": [
    "import ctypes\n",
    "\n",
    "class CStructStruct(ctypes.Structure):\n",
    "    _fields_ = [(\"ob_refcnt\", ctypes.c_long),\n",
    "                (\"ob_type\", ctypes.c_void_p),\n",
    "                (\"ob_ptr\", ctypes.c_long),  # char* pointer cast to long\n",
    "                    ]\n",
    "    \n",
    "    def __repr__(self):\n",
    "        return (\"CStructStruct(ptr=0x{self.ob_ptr:x}, \"\n",
    "                \"refcnt={self.ob_refcnt})\").format(self=self)"
   ]
  },
  {
   "cell_type": "code",
   "execution_count": 4,
   "metadata": {},
   "outputs": [
    {
     "ename": "NameError",
     "evalue": "name 'IntStruct' is not defined",
     "output_type": "error",
     "traceback": [
      "\u001b[1;31m---------------------------------------------------------------------------\u001b[0m",
      "\u001b[1;31mNameError\u001b[0m                                 Traceback (most recent call last)",
      "\u001b[1;32m<ipython-input-4-fefde846b72f>\u001b[0m in \u001b[0;36m<module>\u001b[1;34m()\u001b[0m\n\u001b[1;32m----> 1\u001b[1;33m \u001b[0mtmp\u001b[0m \u001b[1;33m=\u001b[0m \u001b[0mIntStruct\u001b[0m\u001b[1;33m.\u001b[0m\u001b[0mfrom_address\u001b[0m\u001b[1;33m(\u001b[0m\u001b[0mid\u001b[0m\u001b[1;33m(\u001b[0m\u001b[1;36m0\u001b[0m\u001b[1;33m)\u001b[0m\u001b[1;33m)\u001b[0m\u001b[1;33m\u001b[0m\u001b[0m\n\u001b[0m\u001b[0;32m      2\u001b[0m \u001b[0mmeta\u001b[0m \u001b[1;33m=\u001b[0m \u001b[0mCStructStruct\u001b[0m\u001b[1;33m.\u001b[0m\u001b[0mfrom_address\u001b[0m\u001b[1;33m(\u001b[0m\u001b[0mid\u001b[0m\u001b[1;33m(\u001b[0m\u001b[0mtmp\u001b[0m\u001b[1;33m)\u001b[0m\u001b[1;33m)\u001b[0m\u001b[1;33m\u001b[0m\u001b[0m\n\u001b[0;32m      3\u001b[0m \u001b[1;33m\u001b[0m\u001b[0m\n\u001b[0;32m      4\u001b[0m \u001b[1;32mprint\u001b[0m\u001b[1;33m(\u001b[0m\u001b[0mrepr\u001b[0m\u001b[1;33m(\u001b[0m\u001b[0mmeta\u001b[0m\u001b[1;33m)\u001b[0m\u001b[1;33m)\u001b[0m\u001b[1;33m\u001b[0m\u001b[0m\n",
      "\u001b[1;31mNameError\u001b[0m: name 'IntStruct' is not defined"
     ]
    }
   ],
   "source": [
    "tmp = IntStruct.from_address(id(0))\n",
    "meta = CStructStruct.from_address(id(tmp))\n",
    "\n",
    "print(repr(meta))"
   ]
  },
  {
   "cell_type": "code",
   "execution_count": 6,
   "metadata": {},
   "outputs": [
    {
     "ename": "NameError",
     "evalue": "name 'meta' is not defined",
     "output_type": "error",
     "traceback": [
      "\u001b[1;31m---------------------------------------------------------------------------\u001b[0m",
      "\u001b[1;31mNameError\u001b[0m                                 Traceback (most recent call last)",
      "\u001b[1;32m<ipython-input-6-0fb89190f0cb>\u001b[0m in \u001b[0;36m<module>\u001b[1;34m()\u001b[0m\n\u001b[1;32m----> 1\u001b[1;33m \u001b[0mmeta_wrapper\u001b[0m \u001b[1;33m=\u001b[0m \u001b[0mCStructStruct\u001b[0m\u001b[1;33m.\u001b[0m\u001b[0mfrom_address\u001b[0m\u001b[1;33m(\u001b[0m\u001b[0mid\u001b[0m\u001b[1;33m(\u001b[0m\u001b[0mmeta\u001b[0m\u001b[1;33m)\u001b[0m\u001b[1;33m)\u001b[0m\u001b[1;33m\u001b[0m\u001b[0m\n\u001b[0m\u001b[0;32m      2\u001b[0m \u001b[0mmeta_wrapper\u001b[0m\u001b[1;33m.\u001b[0m\u001b[0mob_ptr\u001b[0m \u001b[1;33m=\u001b[0m \u001b[0mid\u001b[0m\u001b[1;33m(\u001b[0m\u001b[0mmeta\u001b[0m\u001b[1;33m)\u001b[0m\u001b[1;33m\u001b[0m\u001b[0m\n\u001b[0;32m      3\u001b[0m \u001b[1;33m\u001b[0m\u001b[0m\n\u001b[0;32m      4\u001b[0m \u001b[1;32mprint\u001b[0m\u001b[1;33m(\u001b[0m\u001b[0mmeta\u001b[0m\u001b[1;33m.\u001b[0m\u001b[0mob_ptr\u001b[0m \u001b[1;33m==\u001b[0m \u001b[0mid\u001b[0m\u001b[1;33m(\u001b[0m\u001b[0mmeta\u001b[0m\u001b[1;33m)\u001b[0m\u001b[1;33m)\u001b[0m\u001b[1;33m\u001b[0m\u001b[0m\n\u001b[0;32m      5\u001b[0m \u001b[1;31m#print(repr(meta))\u001b[0m\u001b[1;33m\u001b[0m\u001b[1;33m\u001b[0m\u001b[0m\n",
      "\u001b[1;31mNameError\u001b[0m: name 'meta' is not defined"
     ]
    }
   ],
   "source": [
    "meta_wrapper = CStructStruct.from_address(id(meta))\n",
    "meta_wrapper.ob_ptr = id(meta)\n",
    "\n",
    "print(meta.ob_ptr == id(meta))\n",
    "print(repr(meta))"
   ]
  }
 ],
 "metadata": {
  "kernelspec": {
   "display_name": "Python [default]",
   "language": "python",
   "name": "python3"
  },
  "language_info": {
   "codemirror_mode": {
    "name": "ipython",
    "version": 3
   },
   "file_extension": ".py",
   "mimetype": "text/x-python",
   "name": "python",
   "nbconvert_exporter": "python",
   "pygments_lexer": "ipython3",
   "version": "3.5.5"
  }
 },
 "nbformat": 4,
 "nbformat_minor": 2
}
