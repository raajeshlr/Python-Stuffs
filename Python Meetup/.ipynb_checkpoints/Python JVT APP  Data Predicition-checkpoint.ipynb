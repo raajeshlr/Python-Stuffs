{
 "cells": [
  {
   "cell_type": "code",
   "execution_count": 25,
   "metadata": {},
   "outputs": [],
   "source": [
    "# C language Code\n",
    "\n",
    "# Struct Code\n",
    "# {\n",
    "\n",
    "#   int rank;          // 4 bytes\n",
    "\n",
    "#   float salary;     //  4 bytes\n",
    "\n",
    "# };\n",
    "\n",
    "# Code Informs compiler & aswells to object a memory size of 8 bytes \n",
    "\n"
   ]
  },
  {
   "cell_type": "code",
   "execution_count": 26,
   "metadata": {},
   "outputs": [],
   "source": [
    "#      struct Code                : A Memory of 8 bytes storage can be requested\n",
    "\n",
    "# auto struct Code Obj            : 8 Bytes auto storage location is requested by Obj\n",
    "\n"
   ]
  },
  {
   "cell_type": "code",
   "execution_count": 27,
   "metadata": {},
   "outputs": [],
   "source": [
    "#  Constructor  Memory Initilisation\n",
    "\n",
    "#Code( Code *self )\n",
    "#{\n",
    "\n",
    "#    self->rank =1\n",
    "\n",
    "#    self->salary =50000\n",
    "\n",
    "#}\n",
    "\n",
    "\n"
   ]
  },
  {
   "cell_type": "code",
   "execution_count": 28,
   "metadata": {},
   "outputs": [],
   "source": [
    "\n",
    "# Code(&Obj)"
   ]
  },
  {
   "cell_type": "code",
   "execution_count": 29,
   "metadata": {},
   "outputs": [],
   "source": [
    "# auto struct Code Obj \n",
    "\n",
    "            # Code(&Obj)"
   ]
  },
  {
   "cell_type": "code",
   "execution_count": 30,
   "metadata": {},
   "outputs": [],
   "source": [
    "# auto struct Code Obj()     : 8 Bytes storage is requested by Obj \n",
    "\n",
    "#                             Obj invokes Code() to intialise 8 bytes using constructor"
   ]
  },
  {
   "cell_type": "code",
   "execution_count": 31,
   "metadata": {},
   "outputs": [],
   "source": [
    "#  Set Function \n",
    "\n",
    "\n",
    "#  set( Code *self , int ran , float sal  )  # this operation is invalid in python\n",
    "#  {\n",
    "#    self->rank =ran\n",
    "#    self->salary =sal\n",
    "#  }\n"
   ]
  },
  {
   "cell_type": "code",
   "execution_count": null,
   "metadata": {},
   "outputs": [],
   "source": [
    "# set((&Obj , 2 ,40000) "
   ]
  },
  {
   "cell_type": "code",
   "execution_count": 2,
   "metadata": {},
   "outputs": [
    {
     "data": {
      "text/plain": [
       "'Sachin'"
      ]
     },
     "execution_count": 2,
     "metadata": {},
     "output_type": "execute_result"
    }
   ],
   "source": [
    "str( \"Sachin\")"
   ]
  },
  {
   "cell_type": "code",
   "execution_count": 3,
   "metadata": {},
   "outputs": [
    {
     "data": {
      "text/plain": [
       "1000"
      ]
     },
     "execution_count": 3,
     "metadata": {},
     "output_type": "execute_result"
    }
   ],
   "source": [
    "int(1000)  "
   ]
  },
  {
   "cell_type": "code",
   "execution_count": 4,
   "metadata": {},
   "outputs": [
    {
     "data": {
      "text/plain": [
       "139.05"
      ]
     },
     "execution_count": 4,
     "metadata": {},
     "output_type": "execute_result"
    }
   ],
   "source": [
    "float(139.05) "
   ]
  },
  {
   "cell_type": "code",
   "execution_count": 5,
   "metadata": {},
   "outputs": [
    {
     "data": {
      "text/plain": [
       "'L'"
      ]
     },
     "execution_count": 5,
     "metadata": {},
     "output_type": "execute_result"
    }
   ],
   "source": [
    "str('L' )   "
   ]
  },
  {
   "cell_type": "code",
   "execution_count": 7,
   "metadata": {},
   "outputs": [
    {
     "data": {
      "text/plain": [
       "True"
      ]
     },
     "execution_count": 7,
     "metadata": {},
     "output_type": "execute_result"
    }
   ],
   "source": [
    "bool(True)"
   ]
  },
  {
   "cell_type": "code",
   "execution_count": 8,
   "metadata": {},
   "outputs": [],
   "source": [
    "Bitcoinprice = 31000\n",
    "\n",
    "Bitcoinprice1 = int(31000)\n",
    "\n",
    "Bitcoininindia = True\n",
    "\n",
    "Bitcoininindia1 = bool(False)\n",
    "\n",
    "navy = str('indianarmy')\n",
    "\n",
    "navyenginerrsalary= float(3456.78)"
   ]
  },
  {
   "cell_type": "code",
   "execution_count": 1,
   "metadata": {},
   "outputs": [
    {
     "name": "stdout",
     "output_type": "stream",
     "text": [
      "Sachin 139.05 1000\n",
      "1826034978352 1826024073856 1826034894832\n"
     ]
    }
   ],
   "source": [
    "PlayerName              =   str( \"Sachin\")\n",
    "Role                    =    str(\"Batsmen\")     ;\n",
    "M                       =    int(1000)        ;\n",
    "SR                      =    float(139.05)    ;\n",
    "PlayerType              =     str('L' )       ;\n",
    "Alrounder               =     bool(True);\n",
    "print(      PlayerName,    SR,  M        );\n",
    "print(      id(PlayerName),     id(SR),   id(M )       );"
   ]
  },
  {
   "cell_type": "code",
   "execution_count": 4,
   "metadata": {},
   "outputs": [
    {
     "name": "stdout",
     "output_type": "stream",
     "text": [
      "python\n"
     ]
    }
   ],
   "source": [
    "#scripting \n",
    "\n",
    "Lang=\"python\"  #  str class \n",
    "Rank = 1       #  int class \n",
    "year=2018       \n",
    "version=1.1    #  float class\n",
    "print(Lang)"
   ]
  },
  {
   "cell_type": "code",
   "execution_count": 5,
   "metadata": {},
   "outputs": [],
   "source": [
    "L=str(\"python\") \n"
   ]
  },
  {
   "cell_type": "code",
   "execution_count": 6,
   "metadata": {},
   "outputs": [],
   "source": [
    "Int=int(1) "
   ]
  },
  {
   "cell_type": "code",
   "execution_count": 9,
   "metadata": {},
   "outputs": [
    {
     "data": {
      "text/plain": [
       "1436052576"
      ]
     },
     "execution_count": 9,
     "metadata": {},
     "output_type": "execute_result"
    }
   ],
   "source": [
    "obj=2\n",
    "id(obj)"
   ]
  },
  {
   "cell_type": "code",
   "execution_count": 10,
   "metadata": {},
   "outputs": [
    {
     "data": {
      "text/plain": [
       "1436052608"
      ]
     },
     "execution_count": 10,
     "metadata": {},
     "output_type": "execute_result"
    }
   ],
   "source": [
    "obj=3\n",
    "id(obj)"
   ]
  },
  {
   "cell_type": "code",
   "execution_count": 14,
   "metadata": {},
   "outputs": [
    {
     "data": {
      "text/plain": [
       "55"
      ]
     },
     "execution_count": 14,
     "metadata": {},
     "output_type": "execute_result"
    }
   ],
   "source": [
    "import sys\n",
    "sys.getsizeof(Lang)"
   ]
  },
  {
   "cell_type": "code",
   "execution_count": 15,
   "metadata": {},
   "outputs": [
    {
     "data": {
      "text/plain": [
       "28"
      ]
     },
     "execution_count": 15,
     "metadata": {},
     "output_type": "execute_result"
    }
   ],
   "source": [
    "sys.getsizeof(year)"
   ]
  },
  {
   "cell_type": "code",
   "execution_count": 17,
   "metadata": {},
   "outputs": [
    {
     "name": "stdout",
     "output_type": "stream",
     "text": [
      "  2           0 LOAD_CONST               1 ('python')\n",
      "              2 STORE_FAST               0 (Lang)\n",
      "\n",
      "  3           4 LOAD_CONST               2 (1)\n",
      "              6 STORE_FAST               1 (Rank)\n",
      "\n",
      "  4           8 LOAD_CONST               3 (2018)\n",
      "             10 STORE_FAST               2 (year)\n",
      "\n",
      "  5          12 LOAD_CONST               4 (3.6)\n",
      "             14 STORE_FAST               3 (version)\n",
      "\n",
      "  6          16 LOAD_GLOBAL              0 (print)\n",
      "             18 LOAD_FAST                2 (year)\n",
      "             20 CALL_FUNCTION            1\n",
      "             22 POP_TOP\n",
      "             24 LOAD_CONST               0 (None)\n",
      "             26 RETURN_VALUE\n"
     ]
    }
   ],
   "source": [
    "def python():   # Function definition \n",
    " Lang=\"python\"\n",
    " Rank = 1\n",
    " year=2018\n",
    " version=3.6\n",
    " print(year)\n",
    "\n",
    "import dis\n",
    "dis.dis(python)"
   ]
  },
  {
   "cell_type": "code",
   "execution_count": 19,
   "metadata": {},
   "outputs": [
    {
     "name": "stdout",
     "output_type": "stream",
     "text": [
      "2018\n"
     ]
    }
   ],
   "source": [
    "python()       # Function call "
   ]
  },
  {
   "cell_type": "code",
   "execution_count": 20,
   "metadata": {},
   "outputs": [
    {
     "data": {
      "text/plain": [
       "28"
      ]
     },
     "execution_count": 20,
     "metadata": {},
     "output_type": "execute_result"
    }
   ],
   "source": [
    "year = 1\n",
    "import sys\n",
    "sys.getsizeof(year)\n"
   ]
  },
  {
   "cell_type": "code",
   "execution_count": 21,
   "metadata": {},
   "outputs": [
    {
     "data": {
      "text/plain": [
       "1436052544"
      ]
     },
     "execution_count": 21,
     "metadata": {},
     "output_type": "execute_result"
    }
   ],
   "source": [
    "id(year)"
   ]
  },
  {
   "cell_type": "code",
   "execution_count": 22,
   "metadata": {},
   "outputs": [
    {
     "data": {
      "text/plain": [
       "28"
      ]
     },
     "execution_count": 22,
     "metadata": {},
     "output_type": "execute_result"
    }
   ],
   "source": [
    " year=2018\n",
    "import sys\n",
    "sys.getsizeof(year)\n"
   ]
  },
  {
   "cell_type": "code",
   "execution_count": 23,
   "metadata": {},
   "outputs": [
    {
     "data": {
      "text/plain": [
       "1896318911792"
      ]
     },
     "execution_count": 23,
     "metadata": {},
     "output_type": "execute_result"
    }
   ],
   "source": [
    "id(year)"
   ]
  },
  {
   "cell_type": "code",
   "execution_count": 24,
   "metadata": {},
   "outputs": [
    {
     "data": {
      "text/plain": [
       "2019"
      ]
     },
     "execution_count": 24,
     "metadata": {},
     "output_type": "execute_result"
    }
   ],
   "source": [
    "mur=year+1\n",
    "mur"
   ]
  },
  {
   "cell_type": "code",
   "execution_count": 30,
   "metadata": {},
   "outputs": [
    {
     "name": "stdout",
     "output_type": "stream",
     "text": [
      "  4           0 LOAD_GLOBAL              0 (print)\n",
      "              2 LOAD_FAST                2 (year)\n",
      "              4 CALL_FUNCTION            1\n",
      "              6 POP_TOP\n",
      "              8 LOAD_CONST               0 (None)\n",
      "             10 RETURN_VALUE\n"
     ]
    }
   ],
   "source": [
    "# API or Library They are not exposed to the data to which they operate\n",
    "\n",
    "def API(Lang ,Rank,year ):   # Function definition \n",
    " print(year)\n",
    "\n",
    "\n",
    "import dis\n",
    "dis.dis(API)\n",
    "\n"
   ]
  },
  {
   "cell_type": "code",
   "execution_count": 33,
   "metadata": {},
   "outputs": [
    {
     "name": "stdout",
     "output_type": "stream",
     "text": [
      "1.2\n",
      "23\n"
     ]
    }
   ],
   "source": [
    "\n",
    "API(\"jvt\",3.6,1.2)                  # Function call \n",
    "API(1,\"jvt\",23)                     # Function call "
   ]
  },
  {
   "cell_type": "code",
   "execution_count": 37,
   "metadata": {},
   "outputs": [
    {
     "name": "stdout",
     "output_type": "stream",
     "text": [
      "murguan\n",
      "1.2\n"
     ]
    }
   ],
   "source": [
    "def Lib(L ,R,y ):                    # Function definition \n",
    " if( type(L) == str ):\n",
    "   print(\"murguan\")\n",
    "   print(y)\n",
    "\n",
    "Lib(\"jvt\",3.6,1.2)                  # Function call \n",
    "\n"
   ]
  },
  {
   "cell_type": "code",
   "execution_count": 38,
   "metadata": {},
   "outputs": [
    {
     "name": "stdout",
     "output_type": "stream",
     "text": [
      "2018\n"
     ]
    }
   ],
   "source": [
    "# Failure model\n",
    "\n",
    "Lang=\"python\" #  str class \n",
    "Rank = 1      #  int class \n",
    "year=2018       \n",
    "version=1.1   #  float class\n",
    "print(year)"
   ]
  },
  {
   "cell_type": "code",
   "execution_count": 41,
   "metadata": {},
   "outputs": [
    {
     "name": "stdout",
     "output_type": "stream",
     "text": [
      "5.6\n"
     ]
    }
   ],
   "source": [
    "# Failure model\n",
    "\n",
    "# user defined should never expose the type of data \n",
    "\n",
    "\n",
    "# struct python\n",
    "# {\n",
    "#   int rank;\n",
    "#   float salary;\n",
    "# };\n",
    "\n",
    "# auto struct Code Obj \n",
    "\n",
    "class python:\n",
    " Rank = 1     # int class object   Allocate Storage \n",
    " salary=5.6   # float class object Allocate Storage \n",
    " print(salary)\n",
    "\n",
    "\n",
    "# Do we need to create an object ?.."
   ]
  },
  {
   "cell_type": "code",
   "execution_count": 82,
   "metadata": {},
   "outputs": [],
   "source": [
    "class python:\n",
    " overallRank = 5   # int class object   Allocate Storage\n",
    " def constructor(self):\n",
    "  print(\" python methods\")\n",
    "  self.Lang=\"python\"\n",
    "  self.Rank = 1\n",
    "  self.year=2018\n",
    "  self.version=3.6\n",
    "  print(self.Rank)\n",
    "            \n"
   ]
  },
  {
   "cell_type": "code",
   "execution_count": 83,
   "metadata": {},
   "outputs": [
    {
     "data": {
      "text/plain": [
       "<__main__.python at 0x1b985783a90>"
      ]
     },
     "execution_count": 83,
     "metadata": {},
     "output_type": "execute_result"
    }
   ],
   "source": [
    "# struct python\n",
    "# {\n",
    "#   int rank;\n",
    "#   float salary;\n",
    "# };\n",
    "\n",
    "# struct python Obj   : 8 bytes\n",
    "\n",
    "python()  # object creation 56 bytes"
   ]
  },
  {
   "cell_type": "code",
   "execution_count": 84,
   "metadata": {},
   "outputs": [
    {
     "data": {
      "text/plain": [
       "<__main__.python at 0x1b9857832b0>"
      ]
     },
     "execution_count": 84,
     "metadata": {},
     "output_type": "execute_result"
    }
   ],
   "source": [
    "Obj=python()  # object creation 56 bytes\n",
    "\n",
    "Obj"
   ]
  },
  {
   "cell_type": "code",
   "execution_count": 85,
   "metadata": {},
   "outputs": [
    {
     "name": "stdout",
     "output_type": "stream",
     "text": [
      "56\n"
     ]
    }
   ],
   "source": [
    "import sys\n",
    "print(sys.getsizeof(Obj))"
   ]
  },
  {
   "cell_type": "code",
   "execution_count": 86,
   "metadata": {},
   "outputs": [
    {
     "name": "stdout",
     "output_type": "stream",
     "text": [
      " python methods\n",
      "1\n"
     ]
    }
   ],
   "source": [
    "Obj.constructor()  "
   ]
  },
  {
   "cell_type": "code",
   "execution_count": 87,
   "metadata": {},
   "outputs": [
    {
     "data": {
      "text/plain": [
       "'python'"
      ]
     },
     "execution_count": 87,
     "metadata": {},
     "output_type": "execute_result"
    }
   ],
   "source": [
    "\n",
    "Obj.Lang  #  Memory Address of the data  \" python \""
   ]
  },
  {
   "cell_type": "code",
   "execution_count": 88,
   "metadata": {},
   "outputs": [],
   "source": [
    "# Suppose How we can  create another object \n",
    "\n",
    "Obj1=python() \n"
   ]
  },
  {
   "cell_type": "code",
   "execution_count": 89,
   "metadata": {},
   "outputs": [
    {
     "ename": "AttributeError",
     "evalue": "'python' object has no attribute 'Lang'",
     "output_type": "error",
     "traceback": [
      "\u001b[1;31m---------------------------------------------------------------------------\u001b[0m",
      "\u001b[1;31mAttributeError\u001b[0m                            Traceback (most recent call last)",
      "\u001b[1;32m<ipython-input-89-074e31d135dd>\u001b[0m in \u001b[0;36m<module>\u001b[1;34m()\u001b[0m\n\u001b[1;32m----> 1\u001b[1;33m \u001b[0mprint\u001b[0m\u001b[1;33m(\u001b[0m\u001b[0mid\u001b[0m\u001b[1;33m(\u001b[0m\u001b[0mObj1\u001b[0m\u001b[1;33m.\u001b[0m\u001b[0mLang\u001b[0m\u001b[1;33m)\u001b[0m\u001b[1;33m)\u001b[0m  \u001b[1;31m#  Memory Address of the data  \" python \"\u001b[0m\u001b[1;33m\u001b[0m\u001b[0m\n\u001b[0m",
      "\u001b[1;31mAttributeError\u001b[0m: 'python' object has no attribute 'Lang'"
     ]
    }
   ],
   "source": [
    "print(id(Obj1.Lang))  #  Memory Address of the data  \" python \""
   ]
  },
  {
   "cell_type": "code",
   "execution_count": 90,
   "metadata": {},
   "outputs": [
    {
     "name": "stdout",
     "output_type": "stream",
     "text": [
      " python methods\n",
      "1\n"
     ]
    }
   ],
   "source": [
    "Obj1.constructor()  "
   ]
  },
  {
   "cell_type": "code",
   "execution_count": 91,
   "metadata": {},
   "outputs": [
    {
     "name": "stdout",
     "output_type": "stream",
     "text": [
      "1896293885184\n"
     ]
    }
   ],
   "source": [
    "print(id(Obj1.Lang))  #  Memory Address of the data  \" python \""
   ]
  },
  {
   "cell_type": "code",
   "execution_count": 15,
   "metadata": {},
   "outputs": [],
   "source": [
    "class python:\n",
    " def __init__(self):\n",
    "  print(\" python constructor\")\n",
    "  self.Lang=\"python\"\n",
    "  self.Rank = 1\n",
    "  self.year=2018\n",
    "  self.version=3.6\n",
    "  print(version)\n",
    "            "
   ]
  },
  {
   "cell_type": "code",
   "execution_count": 16,
   "metadata": {},
   "outputs": [
    {
     "name": "stdout",
     "output_type": "stream",
     "text": [
      " python constructor\n",
      "1.1\n"
     ]
    },
    {
     "data": {
      "text/plain": [
       "<__main__.python at 0x1a3234e9128>"
      ]
     },
     "execution_count": 16,
     "metadata": {},
     "output_type": "execute_result"
    }
   ],
   "source": [
    "python()  # does this work \"\" BEATING CODE IPL 20-20 \"\"\n"
   ]
  },
  {
   "cell_type": "code",
   "execution_count": 17,
   "metadata": {},
   "outputs": [
    {
     "name": "stdout",
     "output_type": "stream",
     "text": [
      " python constructor\n",
      "1.1\n",
      "python\n"
     ]
    }
   ],
   "source": [
    "Obj=python() \n",
    "print(Obj.Lang)"
   ]
  },
  {
   "cell_type": "code",
   "execution_count": 22,
   "metadata": {},
   "outputs": [],
   "source": [
    "class Dataframes:\n",
    " shape =[] # List \n",
    " def __init__(self):\n",
    "  self.type=\"csv\"\n",
    "  self.columns= 0\n",
    "  self.rows=0\n",
    "  Dataframes.shape.append(100)\n",
    "  Dataframes.shape.append(5)\n",
    "  print(\" Dataframes constructor\")\n",
    "  print( self.type)\n",
    " def head(self ,  i):\n",
    "  print(\" Dataframes head\")\n",
    "  self.rows=5\n",
    "  print(self.rows) \n",
    "    \n",
    "    "
   ]
  },
  {
   "cell_type": "code",
   "execution_count": 20,
   "metadata": {},
   "outputs": [
    {
     "name": "stdout",
     "output_type": "stream",
     "text": [
      " Dataframes constructor\n",
      "csv\n"
     ]
    }
   ],
   "source": [
    "dataset = Dataframes()\n"
   ]
  },
  {
   "cell_type": "code",
   "execution_count": 21,
   "metadata": {},
   "outputs": [
    {
     "data": {
      "text/plain": [
       "[100, 5]"
      ]
     },
     "execution_count": 21,
     "metadata": {},
     "output_type": "execute_result"
    }
   ],
   "source": [
    "dataset.shape"
   ]
  },
  {
   "cell_type": "code",
   "execution_count": 21,
   "metadata": {},
   "outputs": [
    {
     "name": "stdout",
     "output_type": "stream",
     "text": [
      " Dataframes head\n",
      "5\n"
     ]
    }
   ],
   "source": [
    "dataset.head(5)"
   ]
  },
  {
   "cell_type": "code",
   "execution_count": 22,
   "metadata": {},
   "outputs": [],
   "source": [
    "class Dataframes:\n",
    " shape =[]\n",
    " def __init__(self,typ,col,row):\n",
    "  self.type=typ\n",
    "  self.columns= col\n",
    "  self.rows=row\n",
    "  print(\" Dataframes constructor\")\n",
    "  print( self.type)\n",
    " def describe(self):\n",
    "  print(\" Staticstics data mean \")\n",
    " def head(self ,  i):\n",
    "  print(\" Dataframes head data\")\n",
    "  self.rows=5\n",
    "  print(self.rows) \n",
    " def drop(self , id ,num):\n",
    "    print(\" Remove a specific colmun\")\n",
    " def __del__(self):\n",
    "    print(\" Destructor \")\n"
   ]
  },
  {
   "cell_type": "code",
   "execution_count": 23,
   "metadata": {
    "scrolled": true
   },
   "outputs": [
    {
     "name": "stdout",
     "output_type": "stream",
     "text": [
      " Dataframes constructor\n",
      "xl\n",
      " Dataframes head data\n",
      "5\n",
      " Staticstics data mean \n",
      " Remove a specific colmun\n",
      " Destructor \n"
     ]
    }
   ],
   "source": [
    "# ALL operation in machine learning in one case study \n",
    "dataset = Dataframes(\"xl\",5,100)\n",
    "dataset.shape\n",
    "dataset.head(5)\n",
    "dataset.describe()\n",
    "dataset.drop('id',1)\n",
    "del dataset"
   ]
  },
  {
   "cell_type": "code",
   "execution_count": 24,
   "metadata": {},
   "outputs": [
    {
     "data": {
      "text/plain": [
       "{'__name__': '__main__',\n",
       " '__doc__': 'Automatically created module for IPython interactive environment',\n",
       " '__package__': None,\n",
       " '__loader__': None,\n",
       " '__spec__': None,\n",
       " '__builtin__': <module 'builtins' (built-in)>,\n",
       " '__builtins__': <module 'builtins' (built-in)>,\n",
       " '_ih': ['',\n",
       "  '#scripting \\n\\nLang=\"python\" #  str class \\nRank = 1      #  int class \\nyear=2018       \\nversion=1.1   #  float class\\nprint(Lang)',\n",
       "  'import sys\\nsys.getsizeof(Lang)',\n",
       "  'sys.getsizeof(year)',\n",
       "  'def python():   # Function definition \\n Lang=\"python\"\\n Rank = 1\\n year=2018\\n version=3.6\\n print(year)\\n\\npython()       # Function call ',\n",
       "  'class python:\\n Lang=\"python\"\\n Rank = 1\\n year=2018\\n version=3.6\\n print(year)\\n\\n# Do we need to create an object ?..',\n",
       "  'class python:\\n overallRank = 5\\n def method(self):\\n  print(\" python methods\")\\n  self.Lang=\"python\"\\n  self.Rank = 1\\n  self.year=2018\\n  self.version=3.6\\n  print(self.Rank)\\n            ',\n",
       "  'Obj=python()  # object creation 56 bytes',\n",
       "  'import sys\\nprint(sys.getsizeof(Obj))',\n",
       "  '\\nObj.method()  ',\n",
       "  '\\nprint(id(Obj.Lang))  #  Memory Address of the data  \" python \"',\n",
       "  '# Suppose How we can  create another object \\n\\nObj1=python() ',\n",
       "  'print(id(Obj1.Lang))  #  Memory Address of the data  \" python \"',\n",
       "  'Obj1.method()  ',\n",
       "  'print(id(Obj1.Lang))  #  Memory Address of the data  \" python \"',\n",
       "  'class python:\\n def __init__(self):\\n  print(\" python constructor\")\\n  self.Lang=\"python\"\\n  self.Rank = 1\\n  self.year=2018\\n  self.version=3.6\\n  print(version)\\n            ',\n",
       "  'python()  # does this work \"\" BEATING CODE IPL 20-20 \"\"',\n",
       "  'Obj=python() \\nprint(Obj.Lang)',\n",
       "  'class Dataframes:\\n shape =() # tuple \\n def __init__(self):\\n  self.type=\"csv\"\\n  self.columns= 0\\n  self.rows=0\\n  Dataframes.shape =(100,5)\\n  print(\" Dataframes constructor\")\\n  print( self.type)\\n def head(self ,  i):\\n  print(\" Dataframes head\")\\n  self.rows=5\\n  print(self.rows) \\n    \\n    ',\n",
       "  'dataset = Dataframes()',\n",
       "  'dataset.shape',\n",
       "  'dataset.head(5)',\n",
       "  'class Dataframes:\\n shape =(0,0)\\n def __init__(self,typ,col,row):\\n  self.type=typ\\n  self.columns= col\\n  self.rows=row\\n  print(\" Dataframes constructor\")\\n  print( self.type)\\n def describe(self):\\n  print(\" Staticstics data mean \")\\n def head(self ,  i):\\n  print(\" Dataframes head data\")\\n  self.rows=5\\n  print(self.rows) \\n def drop(self , id ,num):\\n    print(\" Remove a specific colmun\")\\n def __del__(self):\\n    print(\" Destructor \")',\n",
       "  '# ALL operation in machine learning in one case study \\ndataset = Dataframes(\"xl\",5,100)\\ndataset.shape\\ndataset.head(5)\\ndataset.describe()\\ndataset.drop(\\'id\\',1)\\ndel dataset',\n",
       "  'globals()'],\n",
       " '_oh': {2: 55, 3: 28, 16: <__main__.python at 0x1a3234e9128>, 20: (100, 5)},\n",
       " '_dh': ['C:\\\\Users\\\\jvt'],\n",
       " 'In': ['',\n",
       "  '#scripting \\n\\nLang=\"python\" #  str class \\nRank = 1      #  int class \\nyear=2018       \\nversion=1.1   #  float class\\nprint(Lang)',\n",
       "  'import sys\\nsys.getsizeof(Lang)',\n",
       "  'sys.getsizeof(year)',\n",
       "  'def python():   # Function definition \\n Lang=\"python\"\\n Rank = 1\\n year=2018\\n version=3.6\\n print(year)\\n\\npython()       # Function call ',\n",
       "  'class python:\\n Lang=\"python\"\\n Rank = 1\\n year=2018\\n version=3.6\\n print(year)\\n\\n# Do we need to create an object ?..',\n",
       "  'class python:\\n overallRank = 5\\n def method(self):\\n  print(\" python methods\")\\n  self.Lang=\"python\"\\n  self.Rank = 1\\n  self.year=2018\\n  self.version=3.6\\n  print(self.Rank)\\n            ',\n",
       "  'Obj=python()  # object creation 56 bytes',\n",
       "  'import sys\\nprint(sys.getsizeof(Obj))',\n",
       "  '\\nObj.method()  ',\n",
       "  '\\nprint(id(Obj.Lang))  #  Memory Address of the data  \" python \"',\n",
       "  '# Suppose How we can  create another object \\n\\nObj1=python() ',\n",
       "  'print(id(Obj1.Lang))  #  Memory Address of the data  \" python \"',\n",
       "  'Obj1.method()  ',\n",
       "  'print(id(Obj1.Lang))  #  Memory Address of the data  \" python \"',\n",
       "  'class python:\\n def __init__(self):\\n  print(\" python constructor\")\\n  self.Lang=\"python\"\\n  self.Rank = 1\\n  self.year=2018\\n  self.version=3.6\\n  print(version)\\n            ',\n",
       "  'python()  # does this work \"\" BEATING CODE IPL 20-20 \"\"',\n",
       "  'Obj=python() \\nprint(Obj.Lang)',\n",
       "  'class Dataframes:\\n shape =() # tuple \\n def __init__(self):\\n  self.type=\"csv\"\\n  self.columns= 0\\n  self.rows=0\\n  Dataframes.shape =(100,5)\\n  print(\" Dataframes constructor\")\\n  print( self.type)\\n def head(self ,  i):\\n  print(\" Dataframes head\")\\n  self.rows=5\\n  print(self.rows) \\n    \\n    ',\n",
       "  'dataset = Dataframes()',\n",
       "  'dataset.shape',\n",
       "  'dataset.head(5)',\n",
       "  'class Dataframes:\\n shape =(0,0)\\n def __init__(self,typ,col,row):\\n  self.type=typ\\n  self.columns= col\\n  self.rows=row\\n  print(\" Dataframes constructor\")\\n  print( self.type)\\n def describe(self):\\n  print(\" Staticstics data mean \")\\n def head(self ,  i):\\n  print(\" Dataframes head data\")\\n  self.rows=5\\n  print(self.rows) \\n def drop(self , id ,num):\\n    print(\" Remove a specific colmun\")\\n def __del__(self):\\n    print(\" Destructor \")',\n",
       "  '# ALL operation in machine learning in one case study \\ndataset = Dataframes(\"xl\",5,100)\\ndataset.shape\\ndataset.head(5)\\ndataset.describe()\\ndataset.drop(\\'id\\',1)\\ndel dataset',\n",
       "  'globals()'],\n",
       " 'Out': {2: 55, 3: 28, 16: <__main__.python at 0x1a3234e9128>, 20: (100, 5)},\n",
       " 'get_ipython': <bound method InteractiveShell.get_ipython of <ipykernel.zmqshell.ZMQInteractiveShell object at 0x000001A3232F16D8>>,\n",
       " 'exit': <IPython.core.autocall.ZMQExitAutocall at 0x1a32334ba58>,\n",
       " 'quit': <IPython.core.autocall.ZMQExitAutocall at 0x1a32334ba58>,\n",
       " '_': (100, 5),\n",
       " '__': <__main__.python at 0x1a3234e9128>,\n",
       " '___': 28,\n",
       " '_i': '# ALL operation in machine learning in one case study \\ndataset = Dataframes(\"xl\",5,100)\\ndataset.shape\\ndataset.head(5)\\ndataset.describe()\\ndataset.drop(\\'id\\',1)\\ndel dataset',\n",
       " '_ii': 'class Dataframes:\\n shape =(0,0)\\n def __init__(self,typ,col,row):\\n  self.type=typ\\n  self.columns= col\\n  self.rows=row\\n  print(\" Dataframes constructor\")\\n  print( self.type)\\n def describe(self):\\n  print(\" Staticstics data mean \")\\n def head(self ,  i):\\n  print(\" Dataframes head data\")\\n  self.rows=5\\n  print(self.rows) \\n def drop(self , id ,num):\\n    print(\" Remove a specific colmun\")\\n def __del__(self):\\n    print(\" Destructor \")',\n",
       " '_iii': 'dataset.head(5)',\n",
       " '_i1': '#scripting \\n\\nLang=\"python\" #  str class \\nRank = 1      #  int class \\nyear=2018       \\nversion=1.1   #  float class\\nprint(Lang)',\n",
       " 'Lang': 'python',\n",
       " 'Rank': 1,\n",
       " 'year': 2018,\n",
       " 'version': 1.1,\n",
       " '_i2': 'import sys\\nsys.getsizeof(Lang)',\n",
       " 'sys': <module 'sys' (built-in)>,\n",
       " '_2': 55,\n",
       " '_i3': 'sys.getsizeof(year)',\n",
       " '_3': 28,\n",
       " '_i4': 'def python():   # Function definition \\n Lang=\"python\"\\n Rank = 1\\n year=2018\\n version=3.6\\n print(year)\\n\\npython()       # Function call ',\n",
       " 'python': __main__.python,\n",
       " '_i5': 'class python:\\n Lang=\"python\"\\n Rank = 1\\n year=2018\\n version=3.6\\n print(year)\\n\\n# Do we need to create an object ?..',\n",
       " '_i6': 'class python:\\n overallRank = 5\\n def method(self):\\n  print(\" python methods\")\\n  self.Lang=\"python\"\\n  self.Rank = 1\\n  self.year=2018\\n  self.version=3.6\\n  print(self.Rank)\\n            ',\n",
       " '_i7': 'Obj=python()  # object creation 56 bytes',\n",
       " 'Obj': <__main__.python at 0x1a3234e95f8>,\n",
       " '_i8': 'import sys\\nprint(sys.getsizeof(Obj))',\n",
       " '_i9': '\\nObj.method()  ',\n",
       " '_i10': '\\nprint(id(Obj.Lang))  #  Memory Address of the data  \" python \"',\n",
       " '_i11': '# Suppose How we can  create another object \\n\\nObj1=python() ',\n",
       " 'Obj1': <__main__.python at 0x1a32345c198>,\n",
       " '_i12': 'print(id(Obj1.Lang))  #  Memory Address of the data  \" python \"',\n",
       " '_i13': 'Obj1.method()  ',\n",
       " '_i14': 'print(id(Obj1.Lang))  #  Memory Address of the data  \" python \"',\n",
       " '_i15': 'class python:\\n def __init__(self):\\n  print(\" python constructor\")\\n  self.Lang=\"python\"\\n  self.Rank = 1\\n  self.year=2018\\n  self.version=3.6\\n  print(version)\\n            ',\n",
       " '_i16': 'python()  # does this work \"\" BEATING CODE IPL 20-20 \"\"',\n",
       " '_16': <__main__.python at 0x1a3234e9128>,\n",
       " '_i17': 'Obj=python() \\nprint(Obj.Lang)',\n",
       " '_i18': 'class Dataframes:\\n shape =() # tuple \\n def __init__(self):\\n  self.type=\"csv\"\\n  self.columns= 0\\n  self.rows=0\\n  Dataframes.shape =(100,5)\\n  print(\" Dataframes constructor\")\\n  print( self.type)\\n def head(self ,  i):\\n  print(\" Dataframes head\")\\n  self.rows=5\\n  print(self.rows) \\n    \\n    ',\n",
       " 'Dataframes': __main__.Dataframes,\n",
       " '_i19': 'dataset = Dataframes()',\n",
       " '_i20': 'dataset.shape',\n",
       " '_20': (100, 5),\n",
       " '_i21': 'dataset.head(5)',\n",
       " '_i22': 'class Dataframes:\\n shape =(0,0)\\n def __init__(self,typ,col,row):\\n  self.type=typ\\n  self.columns= col\\n  self.rows=row\\n  print(\" Dataframes constructor\")\\n  print( self.type)\\n def describe(self):\\n  print(\" Staticstics data mean \")\\n def head(self ,  i):\\n  print(\" Dataframes head data\")\\n  self.rows=5\\n  print(self.rows) \\n def drop(self , id ,num):\\n    print(\" Remove a specific colmun\")\\n def __del__(self):\\n    print(\" Destructor \")',\n",
       " '_i23': '# ALL operation in machine learning in one case study \\ndataset = Dataframes(\"xl\",5,100)\\ndataset.shape\\ndataset.head(5)\\ndataset.describe()\\ndataset.drop(\\'id\\',1)\\ndel dataset',\n",
       " '_i24': ' globals()'}"
      ]
     },
     "execution_count": 24,
     "metadata": {},
     "output_type": "execute_result"
    }
   ],
   "source": [
    " globals()"
   ]
  },
  {
   "cell_type": "code",
   "execution_count": 25,
   "metadata": {},
   "outputs": [
    {
     "data": {
      "text/plain": [
       "14.0"
      ]
     },
     "execution_count": 25,
     "metadata": {},
     "output_type": "execute_result"
    }
   ],
   "source": [
    "# C:\\Users\\jvt\\AppData\\Local\\Programs\\Python\\Python36\\Lib\\ctypes\n",
    "\n",
    "import ctypes             # Folder access \n",
    "from ctypes import util   # From Folder the File access \n",
    "util._get_build_version() # From file we invoke the Function  "
   ]
  },
  {
   "cell_type": "code",
   "execution_count": 26,
   "metadata": {},
   "outputs": [
    {
     "data": {
      "text/plain": [
       "14.0"
      ]
     },
     "execution_count": 26,
     "metadata": {},
     "output_type": "execute_result"
    }
   ],
   "source": [
    "# C:\\Users\\jvt\\AppData\\Local\\Programs\\Python\\Python36\\Lib\\ctypes\n",
    "\n",
    "from ctypes import util   # From Folder the File access \n",
    "util._get_build_version() # From file we invoke the Function "
   ]
  },
  {
   "cell_type": "code",
   "execution_count": 27,
   "metadata": {},
   "outputs": [
    {
     "name": "stdout",
     "output_type": "stream",
     "text": [
      "Python: 3.6.5 |Anaconda, Inc.| (default, Mar 29 2018, 13:32:41) [MSC v.1900 64 bit (AMD64)]\n",
      "scipy: 1.1.0\n",
      "numpy: 1.14.3\n",
      "matplotlib: 2.2.2\n",
      "pandas: 0.23.0\n",
      "sklearn: 0.19.1\n"
     ]
    }
   ],
   "source": [
    "# Python version\n",
    "\n",
    "import sys\n",
    "print('Python: {}'.format(sys.version))\n",
    "\n",
    "# scipy\n",
    "import scipy\n",
    "print('scipy: {}'.format(scipy.__version__))\n",
    "\n",
    "# numpy\n",
    "import numpy\n",
    "print('numpy: {}'.format(numpy.__version__))\n",
    "\n",
    "# matplotlib\n",
    "import matplotlib\n",
    "print('matplotlib: {}'.format(matplotlib.__version__))\n",
    "\n",
    "# pandas\n",
    "import pandas\n",
    "print('pandas: {}'.format(pandas.__version__))\n",
    "\n",
    "# scikit-learn\n",
    "import sklearn\n",
    "print('sklearn: {}'.format(sklearn.__version__))"
   ]
  },
  {
   "cell_type": "code",
   "execution_count": 93,
   "metadata": {},
   "outputs": [],
   "source": [
    "# Installed python \n",
    "\n",
    "# C:\\Users\\jvt\\AppData\\Local\\Programs\\Python\\Python36\n",
    "\n",
    "# C:\\Users\\jvt\\Anaconda3\\lib\\site-packages\\sklearn\\"
   ]
  },
  {
   "cell_type": "code",
   "execution_count": 94,
   "metadata": {},
   "outputs": [
    {
     "name": "stderr",
     "output_type": "stream",
     "text": [
      "C:\\Users\\jvt\\Anaconda3\\lib\\site-packages\\sklearn\\cross_validation.py:41: DeprecationWarning: This module was deprecated in version 0.18 in favor of the model_selection module into which all the refactored classes and functions are moved. Also note that the interface of the new CV iterators are different from that of this module. This module will be removed in 0.20.\n",
      "  \"This module will be removed in 0.20.\", DeprecationWarning)\n"
     ]
    }
   ],
   "source": [
    "# Load libraries\n",
    "\n",
    "# C:\\Users\\jvt\\Anaconda3\\Lib\\site-packages\\seaborn\n",
    "    \n",
    "import seaborn\n",
    "import pandas\n",
    "\n",
    "# C:\\Users\\jvt\\Anaconda3\\Lib\\site-packages\\matplotlib File name : pyplot new name plt\n",
    "\n",
    "import matplotlib.pyplot as plt\n",
    "\n",
    "# C:\\Users\\jvt\\Anaconda3\\Lib\\site-packages\\pandas\\tools File name : plotting    function : scatter_matrix\n",
    "\n",
    "from pandas.tools.plotting import scatter_matrix\n",
    "\n",
    "# C:\\Users\\jvt\\Anaconda3\\Lib\\site-packages\\sklearn  File name : cross_validation\n",
    "\n",
    "from sklearn import cross_validation\n",
    "\n",
    "# C:\\Users\\jvt\\Anaconda3\\Lib\\site-packages\\sklearn\\metrics classification.py   def classification_report()\n",
    "    \n",
    "from sklearn.metrics import classification_report\n",
    "from sklearn.metrics import confusion_matrix\n",
    "from sklearn.metrics import accuracy_score\n",
    "\n",
    "# C:\\Users\\jvt\\Anaconda3\\Lib\\site-packages\\sklearn\\linear_model  logistic.py  \n",
    "# class LogisticRegression(BaseEstimator, LinearClassifierMixin,SparseCoefMixin)\n",
    "    \n",
    "from sklearn.linear_model import LogisticRegression\n",
    "from sklearn.tree import DecisionTreeClassifier\n",
    "from sklearn.neighbors import KNeighborsClassifier\n",
    "from sklearn.discriminant_analysis import LinearDiscriminantAnalysis\n",
    "from sklearn.naive_bayes import GaussianNB\n",
    "from sklearn.svm import SVC"
   ]
  },
  {
   "cell_type": "code",
   "execution_count": 95,
   "metadata": {},
   "outputs": [],
   "source": [
    "\n",
    "# Salary\t Projects Worked \t No of offers\t Experience\t  Technology\n",
    "\n",
    "# 600000\t       2\t         1\t             3\t          Datascintist\n",
    "# 630000\t       2\t         2\t             3\t          Datascintist\n",
    "# 600000\t       1\t         2\t             3 \t          Datascintist\n",
    "# 400000\t       2\t         1\t             1\t          Enterprise Applications\n",
    "\n",
    "# Prediction          : Technology\n",
    "    \n",
    "# predictors Dependent variables :  Salary     Projects Worked  No of offers   Experience \n",
    "\n"
   ]
  },
  {
   "cell_type": "code",
   "execution_count": 96,
   "metadata": {},
   "outputs": [],
   "source": [
    "\n",
    "# Summarize the Dataset\n",
    "\n",
    "# Time to take a look at the data:\n",
    "\n",
    "# Dimensions of the dataset.\n",
    "\n",
    "# Peek at the data itself.\n",
    "\n",
    "# Statistical summary of all attributes.\n",
    "\n",
    "# Breakdown \n"
   ]
  },
  {
   "cell_type": "code",
   "execution_count": 97,
   "metadata": {},
   "outputs": [],
   "source": [
    "# Load dataset\n",
    "dataset = pandas.read_csv(\"staff.csv\")"
   ]
  },
  {
   "cell_type": "code",
   "execution_count": 104,
   "metadata": {},
   "outputs": [
    {
     "data": {
      "text/plain": [
       "pandas.core.frame.DataFrame"
      ]
     },
     "execution_count": 104,
     "metadata": {},
     "output_type": "execute_result"
    }
   ],
   "source": [
    "type(dataset)"
   ]
  },
  {
   "cell_type": "code",
   "execution_count": 105,
   "metadata": {},
   "outputs": [
    {
     "data": {
      "text/plain": [
       "9186"
      ]
     },
     "execution_count": 105,
     "metadata": {},
     "output_type": "execute_result"
    }
   ],
   "source": [
    "import sys\n",
    "sys.getsizeof(dataset)"
   ]
  },
  {
   "cell_type": "code",
   "execution_count": 106,
   "metadata": {},
   "outputs": [
    {
     "name": "stdout",
     "output_type": "stream",
     "text": [
      "   Salary  Projects Worked  No of offers  Experience    Technology\n",
      "0  600000                2             1           3  Datascintist\n",
      "1  630000                2             2           3  Datascintist\n",
      "2  600000                1             2           3  Datascintist\n",
      "3  630000                3             2           3  Datascintist\n",
      "4  580000                1             2           3  Datascintist\n"
     ]
    }
   ],
   "source": [
    "print(dataset.head(5))"
   ]
  },
  {
   "cell_type": "code",
   "execution_count": 102,
   "metadata": {},
   "outputs": [
    {
     "name": "stdout",
     "output_type": "stream",
     "text": [
      "(86, 5)\n"
     ]
    }
   ],
   "source": [
    "print(dataset.shape)"
   ]
  },
  {
   "cell_type": "code",
   "execution_count": 116,
   "metadata": {},
   "outputs": [
    {
     "data": {
      "text/plain": [
       "pandas.core.series.Series"
      ]
     },
     "execution_count": 116,
     "metadata": {},
     "output_type": "execute_result"
    }
   ],
   "source": [
    "\n",
    "type(dataset['Salary'])"
   ]
  },
  {
   "cell_type": "code",
   "execution_count": 114,
   "metadata": {},
   "outputs": [
    {
     "data": {
      "text/plain": [
       "0     600000\n",
       "1     630000\n",
       "2     600000\n",
       "3     630000\n",
       "4     580000\n",
       "5     650000\n",
       "6     650000\n",
       "7     650000\n",
       "8     650000\n",
       "9     650000\n",
       "10    350000\n",
       "11    350000\n",
       "12    350000\n",
       "13    380000\n",
       "14    350000\n",
       "15    500000\n",
       "16    500000\n",
       "17    420000\n",
       "18    480000\n",
       "19    400000\n",
       "20    400000\n",
       "21    400000\n",
       "22    440000\n",
       "23    420000\n",
       "24    420000\n",
       "25    420000\n",
       "26    450000\n",
       "27    450000\n",
       "28    500000\n",
       "29    450000\n",
       "       ...  \n",
       "56    450000\n",
       "57    480000\n",
       "58    450000\n",
       "59    450000\n",
       "60    450000\n",
       "61    500000\n",
       "62    520000\n",
       "63    500000\n",
       "64    500000\n",
       "65    550000\n",
       "66    300000\n",
       "67    500000\n",
       "68    530000\n",
       "69    620000\n",
       "70    620000\n",
       "71    620000\n",
       "72    700000\n",
       "73    450000\n",
       "74    500000\n",
       "75    850000\n",
       "76    850000\n",
       "77    820000\n",
       "78    800000\n",
       "79    600000\n",
       "80    650000\n",
       "81    600000\n",
       "82    700000\n",
       "83    680000\n",
       "84    700000\n",
       "85    770000\n",
       "Name: Salary, Length: 86, dtype: int64"
      ]
     },
     "execution_count": 114,
     "metadata": {},
     "output_type": "execute_result"
    }
   ],
   "source": [
    " dataset['Salary'] "
   ]
  },
  {
   "cell_type": "code",
   "execution_count": 118,
   "metadata": {},
   "outputs": [
    {
     "data": {
      "text/plain": [
       "792"
      ]
     },
     "execution_count": 118,
     "metadata": {},
     "output_type": "execute_result"
    }
   ],
   "source": [
    "sys.getsizeof( dataset['Experience'])"
   ]
  },
  {
   "cell_type": "code",
   "execution_count": 117,
   "metadata": {},
   "outputs": [
    {
     "data": {
      "text/plain": [
       "0     3\n",
       "1     3\n",
       "2     3\n",
       "3     3\n",
       "4     3\n",
       "5     3\n",
       "6     3\n",
       "7     3\n",
       "8     3\n",
       "9     3\n",
       "10    1\n",
       "11    1\n",
       "12    1\n",
       "13    1\n",
       "14    1\n",
       "15    1\n",
       "16    1\n",
       "17    1\n",
       "18    1\n",
       "19    1\n",
       "20    1\n",
       "21    1\n",
       "22    1\n",
       "23    1\n",
       "24    1\n",
       "25    1\n",
       "26    1\n",
       "27    1\n",
       "28    1\n",
       "29    1\n",
       "     ..\n",
       "56    1\n",
       "57    1\n",
       "58    1\n",
       "59    1\n",
       "60    1\n",
       "61    1\n",
       "62    1\n",
       "63    1\n",
       "64    1\n",
       "65    2\n",
       "66    2\n",
       "67    2\n",
       "68    2\n",
       "69    2\n",
       "70    2\n",
       "71    2\n",
       "72    2\n",
       "73    2\n",
       "74    2\n",
       "75    4\n",
       "76    4\n",
       "77    4\n",
       "78    4\n",
       "79    3\n",
       "80    3\n",
       "81    3\n",
       "82    3\n",
       "83    3\n",
       "84    3\n",
       "85    3\n",
       "Name: Experience, Length: 86, dtype: int64"
      ]
     },
     "execution_count": 117,
     "metadata": {},
     "output_type": "execute_result"
    }
   ],
   "source": [
    " dataset['Experience'] "
   ]
  },
  {
   "cell_type": "code",
   "execution_count": 115,
   "metadata": {},
   "outputs": [
    {
     "data": {
      "text/plain": [
       "0                Datascintist\n",
       "1                Datascintist\n",
       "2                Datascintist\n",
       "3                Datascintist\n",
       "4                Datascintist\n",
       "5                Datascintist\n",
       "6                Datascintist\n",
       "7                Datascintist\n",
       "8                Datascintist\n",
       "9                Datascintist\n",
       "10               Datascintist\n",
       "11               Datascintist\n",
       "12               Datascintist\n",
       "13               Datascintist\n",
       "14               Datascintist\n",
       "15               Datascintist\n",
       "16               Datascintist\n",
       "17               Datascintist\n",
       "18               Datascintist\n",
       "19               Datascintist\n",
       "20               Datascintist\n",
       "21               Datascintist\n",
       "22               Datascintist\n",
       "23               Datascintist\n",
       "24               Datascintist\n",
       "25               Datascintist\n",
       "26               Datascintist\n",
       "27               Datascintist\n",
       "28               Datascintist\n",
       "29               Datascintist\n",
       "               ...           \n",
       "56    Enterprise Applications\n",
       "57    Enterprise Applications\n",
       "58    Enterprise Applications\n",
       "59    Enterprise Applications\n",
       "60    Enterprise Applications\n",
       "61    Enterprise Applications\n",
       "62    Enterprise Applications\n",
       "63    Enterprise Applications\n",
       "64    Enterprise Applications\n",
       "65    Enterprise Applications\n",
       "66    Enterprise Applications\n",
       "67    Enterprise Applications\n",
       "68    Enterprise Applications\n",
       "69    Enterprise Applications\n",
       "70    Enterprise Applications\n",
       "71    Enterprise Applications\n",
       "72    Enterprise Applications\n",
       "73    Enterprise Applications\n",
       "74    Enterprise Applications\n",
       "75    Enterprise Applications\n",
       "76    Enterprise Applications\n",
       "77    Enterprise Applications\n",
       "78    Enterprise Applications\n",
       "79    Enterprise Applications\n",
       "80    Enterprise Applications\n",
       "81    Enterprise Applications\n",
       "82    Enterprise Applications\n",
       "83    Enterprise Applications\n",
       "84    Enterprise Applications\n",
       "85    Enterprise Applications\n",
       "Name: Technology, Length: 86, dtype: object"
      ]
     },
     "execution_count": 115,
     "metadata": {},
     "output_type": "execute_result"
    }
   ],
   "source": [
    " dataset['Technology'] "
   ]
  },
  {
   "cell_type": "code",
   "execution_count": 103,
   "metadata": {},
   "outputs": [
    {
     "name": "stdout",
     "output_type": "stream",
     "text": [
      "              Salary  Projects Worked  No of offers  Experience\n",
      "count      86.000000        86.000000     86.000000   86.000000\n",
      "mean   553488.372093         2.383721      1.906977    2.000000\n",
      "std    138841.996036         1.965398      0.940937    1.017494\n",
      "min    300000.000000         0.000000      1.000000    1.000000\n",
      "25%    450000.000000         1.000000      1.000000    1.000000\n",
      "50%    525000.000000         2.000000      2.000000    2.000000\n",
      "75%    650000.000000         3.750000      2.750000    3.000000\n",
      "max    950000.000000         7.000000      4.000000    4.000000\n"
     ]
    }
   ],
   "source": [
    "print(dataset.describe())"
   ]
  },
  {
   "cell_type": "code",
   "execution_count": 89,
   "metadata": {},
   "outputs": [
    {
     "data": {
      "text/html": [
       "<div>\n",
       "<style scoped>\n",
       "    .dataframe tbody tr th:only-of-type {\n",
       "        vertical-align: middle;\n",
       "    }\n",
       "\n",
       "    .dataframe tbody tr th {\n",
       "        vertical-align: top;\n",
       "    }\n",
       "\n",
       "    .dataframe thead th {\n",
       "        text-align: right;\n",
       "    }\n",
       "</style>\n",
       "<table border=\"1\" class=\"dataframe\">\n",
       "  <thead>\n",
       "    <tr style=\"text-align: right;\">\n",
       "      <th></th>\n",
       "      <th>Salary</th>\n",
       "      <th>Projects Worked</th>\n",
       "      <th>No of offers</th>\n",
       "      <th>Experience</th>\n",
       "    </tr>\n",
       "  </thead>\n",
       "  <tbody>\n",
       "    <tr>\n",
       "      <th>0</th>\n",
       "      <td>600000</td>\n",
       "      <td>2</td>\n",
       "      <td>1</td>\n",
       "      <td>3</td>\n",
       "    </tr>\n",
       "    <tr>\n",
       "      <th>1</th>\n",
       "      <td>630000</td>\n",
       "      <td>2</td>\n",
       "      <td>2</td>\n",
       "      <td>3</td>\n",
       "    </tr>\n",
       "    <tr>\n",
       "      <th>2</th>\n",
       "      <td>600000</td>\n",
       "      <td>1</td>\n",
       "      <td>2</td>\n",
       "      <td>3</td>\n",
       "    </tr>\n",
       "    <tr>\n",
       "      <th>3</th>\n",
       "      <td>630000</td>\n",
       "      <td>3</td>\n",
       "      <td>2</td>\n",
       "      <td>3</td>\n",
       "    </tr>\n",
       "    <tr>\n",
       "      <th>4</th>\n",
       "      <td>580000</td>\n",
       "      <td>1</td>\n",
       "      <td>2</td>\n",
       "      <td>3</td>\n",
       "    </tr>\n",
       "  </tbody>\n",
       "</table>\n",
       "</div>"
      ],
      "text/plain": [
       "   Salary  Projects Worked  No of offers  Experience\n",
       "0  600000                2             1           3\n",
       "1  630000                2             2           3\n",
       "2  600000                1             2           3\n",
       "3  630000                3             2           3\n",
       "4  580000                1             2           3"
      ]
     },
     "execution_count": 89,
     "metadata": {},
     "output_type": "execute_result"
    }
   ],
   "source": [
    "#Remove a column from the data\n",
    "rem=dataset\n",
    "rem = rem.drop('Technology',axis=1)\n",
    "rem.head(5)"
   ]
  },
  {
   "cell_type": "code",
   "execution_count": 90,
   "metadata": {},
   "outputs": [
    {
     "name": "stdout",
     "output_type": "stream",
     "text": [
      "   Salary  Projects Worked  No of offers  Experience    Technology\n",
      "0  600000                2             1           3  Datascintist\n",
      "1  630000                2             2           3  Datascintist\n",
      "2  600000                1             2           3  Datascintist\n",
      "3  630000                3             2           3  Datascintist\n",
      "4  580000                1             2           3  Datascintist\n"
     ]
    }
   ],
   "source": [
    "print(dataset.head(5))"
   ]
  },
  {
   "cell_type": "code",
   "execution_count": 91,
   "metadata": {},
   "outputs": [
    {
     "name": "stdout",
     "output_type": "stream",
     "text": [
      "Technology\n",
      "Datascintist               50\n",
      "Enterprise Applications    36\n",
      "dtype: int64\n"
     ]
    }
   ],
   "source": [
    "print(dataset.groupby('Technology').size())"
   ]
  },
  {
   "cell_type": "code",
   "execution_count": 92,
   "metadata": {},
   "outputs": [
    {
     "name": "stdout",
     "output_type": "stream",
     "text": [
      "              Salary  Projects Worked  No of offers  Experience\n",
      "count      86.000000        86.000000     86.000000   86.000000\n",
      "mean   553488.372093         2.383721      1.906977    2.000000\n",
      "std    138841.996036         1.965398      0.940937    1.017494\n",
      "min    300000.000000         0.000000      1.000000    1.000000\n",
      "25%    450000.000000         1.000000      1.000000    1.000000\n",
      "50%    525000.000000         2.000000      2.000000    2.000000\n",
      "75%    650000.000000         3.750000      2.750000    3.000000\n",
      "max    950000.000000         7.000000      4.000000    4.000000\n"
     ]
    }
   ],
   "source": [
    "print(dataset.describe())"
   ]
  },
  {
   "cell_type": "code",
   "execution_count": 93,
   "metadata": {},
   "outputs": [],
   "source": [
    "\n",
    "# Data Visualization\n",
    "# We are going to look at two types of plots:\n",
    "\n",
    "# Univariate plots to understand each attribute.\n",
    "# Multivariate plots to understand the relationships between attributes."
   ]
  },
  {
   "cell_type": "code",
   "execution_count": 94,
   "metadata": {},
   "outputs": [],
   "source": [
    " # Salary  Projects Worked  No of offers  Experience"
   ]
  },
  {
   "cell_type": "code",
   "execution_count": 122,
   "metadata": {},
   "outputs": [
    {
     "data": {
      "text/plain": [
       "<seaborn.axisgrid.PairGrid at 0x1b98c9696d8>"
      ]
     },
     "execution_count": 122,
     "metadata": {},
     "output_type": "execute_result"
    },
    {
     "data": {
      "image/png": "[encoded data removed]",
      "text/plain": [
       "<Figure size 1015.62x864 with 20 Axes>"
      ]
     },
     "metadata": {},
     "output_type": "display_data"
    }
   ],
   "source": [
    "obj= seaborn.pairplot( dataset, hue=\"Technology\", size=3, diag_kind=\"kde\"  )\n",
    "\n",
    "obj"
   ]
  },
  {
   "cell_type": "code",
   "execution_count": 121,
   "metadata": {},
   "outputs": [],
   "source": [
    "\n",
    "plt.show()"
   ]
  },
  {
   "cell_type": "code",
   "execution_count": 96,
   "metadata": {},
   "outputs": [
    {
     "data": {
      "image/png": "[encoded data removed]",
      "text/plain": [
       "<Figure size 432x288 with 4 Axes>"
      ]
     },
     "metadata": {},
     "output_type": "display_data"
    }
   ],
   "source": [
    "# Univariate Plots\n",
    "\n",
    "dataset.plot(kind='box', subplots=True, layout=(2,2), sharex=False, sharey=False)\n",
    "\n",
    "plt.show()"
   ]
  },
  {
   "cell_type": "code",
   "execution_count": 97,
   "metadata": {},
   "outputs": [
    {
     "data": {
      "image/png": "[encoded data removed]",
      "text/plain": [
       "<Figure size 1080x720 with 4 Axes>"
      ]
     },
     "metadata": {},
     "output_type": "display_data"
    }
   ],
   "source": [
    "\n",
    "# Histograms# Histog \n",
    "\n",
    "dataset.hist(figsize=(15,10))\n",
    "plt.show()"
   ]
  },
  {
   "cell_type": "code",
   "execution_count": 98,
   "metadata": {},
   "outputs": [
    {
     "name": "stderr",
     "output_type": "stream",
     "text": [
      "C:\\Users\\jvt\\Anaconda3\\lib\\site-packages\\ipykernel_launcher.py:3: FutureWarning: 'pandas.tools.plotting.scatter_matrix' is deprecated, import 'pandas.plotting.scatter_matrix' instead.\n",
      "  This is separate from the ipykernel package so we can avoid doing imports until\n"
     ]
    },
    {
     "data": {
      "image/png": "[encoded data removed]",
      "text/plain": [
       "<Figure size 1080x720 with 16 Axes>"
      ]
     },
     "metadata": {},
     "output_type": "display_data"
    }
   ],
   "source": [
    "# Scatter plot matrix\n",
    "\n",
    "scatter_matrix(dataset, figsize=(15,10))\n",
    "plt.show()"
   ]
  },
  {
   "cell_type": "code",
   "execution_count": 99,
   "metadata": {},
   "outputs": [
    {
     "data": {
      "image/png": "[encoded data removed]",
      "text/plain": [
       "<Figure size 1015.62x864 with 20 Axes>"
      ]
     },
     "metadata": {},
     "output_type": "display_data"
    }
   ],
   "source": [
    "seaborn.pairplot(dataset, hue=\"Technology\", size = 3)\n",
    "seaborn.set()"
   ]
  },
  {
   "cell_type": "code",
   "execution_count": 100,
   "metadata": {},
   "outputs": [
    {
     "data": {
      "image/png": "[encoded data removed]",
      "text/plain": [
       "<Figure size 432x288 with 4 Axes>"
      ]
     },
     "metadata": {},
     "output_type": "display_data"
    }
   ],
   "source": [
    "dataset.hist()\n",
    "plt.show()"
   ]
  },
  {
   "cell_type": "code",
   "execution_count": 101,
   "metadata": {},
   "outputs": [],
   "source": [
    "# Evaluate Some Algorithms\n",
    "# Let's create some models of the data and estimate their accuracy on unseen data.\n",
    "\n",
    "# We will:\n",
    "\n",
    "# Separate out a validation dataset (create training and validation datasets)\n",
    "# Set-up the test to use 10-fold cross validation.\n",
    "# Build 5 different models to predict species from flower measurements\n",
    "# Select the best model."
   ]
  },
  {
   "cell_type": "code",
   "execution_count": 102,
   "metadata": {},
   "outputs": [
    {
     "data": {
      "text/plain": [
       "array([[600000, 2, 1, 3, 'Datascintist'],\n",
       "       [630000, 2, 2, 3, 'Datascintist'],\n",
       "       [600000, 1, 2, 3, 'Datascintist'],\n",
       "       [630000, 3, 2, 3, 'Datascintist'],\n",
       "       [580000, 1, 2, 3, 'Datascintist'],\n",
       "       [650000, 3, 2, 3, 'Datascintist'],\n",
       "       [650000, 1, 2, 3, 'Datascintist'],\n",
       "       [650000, 2, 1, 3, 'Datascintist'],\n",
       "       [650000, 2, 1, 3, 'Datascintist'],\n",
       "       [650000, 2, 1, 3, 'Datascintist'],\n",
       "       [350000, 0, 1, 1, 'Datascintist'],\n",
       "       [350000, 0, 1, 1, 'Datascintist'],\n",
       "       [350000, 0, 1, 1, 'Datascintist'],\n",
       "       [380000, 0, 1, 1, 'Datascintist'],\n",
       "       [350000, 0, 1, 1, 'Datascintist'],\n",
       "       [500000, 0, 3, 1, 'Datascintist'],\n",
       "       [500000, 0, 3, 1, 'Datascintist'],\n",
       "       [420000, 0, 3, 1, 'Datascintist'],\n",
       "       [480000, 0, 3, 1, 'Datascintist'],\n",
       "       [400000, 0, 1, 1, 'Datascintist'],\n",
       "       [400000, 1, 1, 1, 'Datascintist'],\n",
       "       [400000, 1, 1, 1, 'Datascintist'],\n",
       "       [440000, 1, 1, 1, 'Datascintist'],\n",
       "       [420000, 1, 1, 1, 'Datascintist'],\n",
       "       [420000, 1, 1, 1, 'Datascintist'],\n",
       "       [420000, 1, 2, 1, 'Datascintist'],\n",
       "       [450000, 1, 2, 1, 'Datascintist'],\n",
       "       [450000, 1, 2, 1, 'Datascintist'],\n",
       "       [500000, 1, 2, 1, 'Datascintist'],\n",
       "       [450000, 1, 2, 1, 'Datascintist'],\n",
       "       [700000, 1, 1, 2, 'Datascintist'],\n",
       "       [700000, 2, 1, 2, 'Datascintist'],\n",
       "       [500000, 0, 1, 2, 'Datascintist'],\n",
       "       [500000, 0, 1, 2, 'Datascintist'],\n",
       "       [500000, 0, 1, 2, 'Datascintist'],\n",
       "       [500000, 0, 1, 2, 'Datascintist'],\n",
       "       [550000, 1, 2, 2, 'Datascintist'],\n",
       "       [550000, 1, 2, 2, 'Datascintist'],\n",
       "       [550000, 2, 1, 2, 'Datascintist'],\n",
       "       [720000, 2, 1, 4, 'Datascintist'],\n",
       "       [720000, 2, 2, 4, 'Datascintist'],\n",
       "       [820000, 2, 3, 4, 'Datascintist'],\n",
       "       [950000, 3, 4, 4, 'Datascintist'],\n",
       "       [780000, 3, 2, 4, 'Datascintist'],\n",
       "       [630000, 1, 2, 2, 'Datascintist'],\n",
       "       [600000, 1, 2, 2, 'Datascintist'],\n",
       "       [600000, 1, 2, 2, 'Datascintist'],\n",
       "       [650000, 2, 3, 2, 'Datascintist'],\n",
       "       [630000, 2, 3, 2, 'Datascintist'],\n",
       "       [650000, 1, 3, 2, 'Datascintist'],\n",
       "       [400000, 2, 1, 1, 'Enterprise Applications'],\n",
       "       [350000, 2, 1, 1, 'Enterprise Applications'],\n",
       "       [400000, 2, 1, 1, 'Enterprise Applications'],\n",
       "       [420000, 2, 1, 1, 'Enterprise Applications'],\n",
       "       [400000, 2, 1, 1, 'Enterprise Applications'],\n",
       "       [400000, 2, 1, 1, 'Enterprise Applications'],\n",
       "       [450000, 3, 1, 1, 'Enterprise Applications'],\n",
       "       [480000, 3, 2, 1, 'Enterprise Applications'],\n",
       "       [450000, 3, 2, 1, 'Enterprise Applications'],\n",
       "       [450000, 3, 2, 1, 'Enterprise Applications'],\n",
       "       [450000, 3, 2, 1, 'Enterprise Applications'],\n",
       "       [500000, 4, 3, 1, 'Enterprise Applications'],\n",
       "       [520000, 4, 3, 1, 'Enterprise Applications'],\n",
       "       [500000, 4, 3, 1, 'Enterprise Applications'],\n",
       "       [500000, 4, 3, 1, 'Enterprise Applications'],\n",
       "       [550000, 5, 1, 2, 'Enterprise Applications'],\n",
       "       [300000, 5, 4, 2, 'Enterprise Applications'],\n",
       "       [500000, 6, 1, 2, 'Enterprise Applications'],\n",
       "       [530000, 6, 2, 2, 'Enterprise Applications'],\n",
       "       [620000, 6, 4, 2, 'Enterprise Applications'],\n",
       "       [620000, 5, 2, 2, 'Enterprise Applications'],\n",
       "       [620000, 5, 2, 2, 'Enterprise Applications'],\n",
       "       [700000, 5, 1, 2, 'Enterprise Applications'],\n",
       "       [450000, 1, 2, 2, 'Enterprise Applications'],\n",
       "       [500000, 5, 3, 2, 'Enterprise Applications'],\n",
       "       [850000, 7, 4, 4, 'Enterprise Applications'],\n",
       "       [850000, 7, 4, 4, 'Enterprise Applications'],\n",
       "       [820000, 5, 3, 4, 'Enterprise Applications'],\n",
       "       [800000, 5, 3, 4, 'Enterprise Applications'],\n",
       "       [600000, 3, 1, 3, 'Enterprise Applications'],\n",
       "       [650000, 3, 1, 3, 'Enterprise Applications'],\n",
       "       [600000, 5, 1, 3, 'Enterprise Applications'],\n",
       "       [700000, 4, 2, 3, 'Enterprise Applications'],\n",
       "       [680000, 4, 2, 3, 'Enterprise Applications'],\n",
       "       [700000, 7, 4, 3, 'Enterprise Applications'],\n",
       "       [770000, 7, 3, 3, 'Enterprise Applications']], dtype=object)"
      ]
     },
     "execution_count": 102,
     "metadata": {},
     "output_type": "execute_result"
    }
   ],
   "source": [
    "#I made an adaptation of this reference online \n",
    "# Split-out validation dataset\n",
    "\n",
    "array = dataset.values\n",
    "array"
   ]
  },
  {
   "cell_type": "code",
   "execution_count": 103,
   "metadata": {},
   "outputs": [
    {
     "data": {
      "text/plain": [
       "array([[600000, 2, 1, 3],\n",
       "       [630000, 2, 2, 3],\n",
       "       [600000, 1, 2, 3],\n",
       "       [630000, 3, 2, 3],\n",
       "       [580000, 1, 2, 3],\n",
       "       [650000, 3, 2, 3],\n",
       "       [650000, 1, 2, 3],\n",
       "       [650000, 2, 1, 3],\n",
       "       [650000, 2, 1, 3],\n",
       "       [650000, 2, 1, 3],\n",
       "       [350000, 0, 1, 1],\n",
       "       [350000, 0, 1, 1],\n",
       "       [350000, 0, 1, 1],\n",
       "       [380000, 0, 1, 1],\n",
       "       [350000, 0, 1, 1],\n",
       "       [500000, 0, 3, 1],\n",
       "       [500000, 0, 3, 1],\n",
       "       [420000, 0, 3, 1],\n",
       "       [480000, 0, 3, 1],\n",
       "       [400000, 0, 1, 1],\n",
       "       [400000, 1, 1, 1],\n",
       "       [400000, 1, 1, 1],\n",
       "       [440000, 1, 1, 1],\n",
       "       [420000, 1, 1, 1],\n",
       "       [420000, 1, 1, 1],\n",
       "       [420000, 1, 2, 1],\n",
       "       [450000, 1, 2, 1],\n",
       "       [450000, 1, 2, 1],\n",
       "       [500000, 1, 2, 1],\n",
       "       [450000, 1, 2, 1],\n",
       "       [700000, 1, 1, 2],\n",
       "       [700000, 2, 1, 2],\n",
       "       [500000, 0, 1, 2],\n",
       "       [500000, 0, 1, 2],\n",
       "       [500000, 0, 1, 2],\n",
       "       [500000, 0, 1, 2],\n",
       "       [550000, 1, 2, 2],\n",
       "       [550000, 1, 2, 2],\n",
       "       [550000, 2, 1, 2],\n",
       "       [720000, 2, 1, 4],\n",
       "       [720000, 2, 2, 4],\n",
       "       [820000, 2, 3, 4],\n",
       "       [950000, 3, 4, 4],\n",
       "       [780000, 3, 2, 4],\n",
       "       [630000, 1, 2, 2],\n",
       "       [600000, 1, 2, 2],\n",
       "       [600000, 1, 2, 2],\n",
       "       [650000, 2, 3, 2],\n",
       "       [630000, 2, 3, 2],\n",
       "       [650000, 1, 3, 2],\n",
       "       [400000, 2, 1, 1],\n",
       "       [350000, 2, 1, 1],\n",
       "       [400000, 2, 1, 1],\n",
       "       [420000, 2, 1, 1],\n",
       "       [400000, 2, 1, 1],\n",
       "       [400000, 2, 1, 1],\n",
       "       [450000, 3, 1, 1],\n",
       "       [480000, 3, 2, 1],\n",
       "       [450000, 3, 2, 1],\n",
       "       [450000, 3, 2, 1],\n",
       "       [450000, 3, 2, 1],\n",
       "       [500000, 4, 3, 1],\n",
       "       [520000, 4, 3, 1],\n",
       "       [500000, 4, 3, 1],\n",
       "       [500000, 4, 3, 1],\n",
       "       [550000, 5, 1, 2],\n",
       "       [300000, 5, 4, 2],\n",
       "       [500000, 6, 1, 2],\n",
       "       [530000, 6, 2, 2],\n",
       "       [620000, 6, 4, 2],\n",
       "       [620000, 5, 2, 2],\n",
       "       [620000, 5, 2, 2],\n",
       "       [700000, 5, 1, 2],\n",
       "       [450000, 1, 2, 2],\n",
       "       [500000, 5, 3, 2],\n",
       "       [850000, 7, 4, 4],\n",
       "       [850000, 7, 4, 4],\n",
       "       [820000, 5, 3, 4],\n",
       "       [800000, 5, 3, 4],\n",
       "       [600000, 3, 1, 3],\n",
       "       [650000, 3, 1, 3],\n",
       "       [600000, 5, 1, 3],\n",
       "       [700000, 4, 2, 3],\n",
       "       [680000, 4, 2, 3],\n",
       "       [700000, 7, 4, 3],\n",
       "       [770000, 7, 3, 3]], dtype=object)"
      ]
     },
     "execution_count": 103,
     "metadata": {},
     "output_type": "execute_result"
    }
   ],
   "source": [
    "X = array[:,0:4]\n",
    "\n",
    "X\n",
    "#Select all rows and the first 4 attributes: sepal-length, sepal-width, petal-length, petal-width\n",
    "\n"
   ]
  },
  {
   "cell_type": "code",
   "execution_count": 104,
   "metadata": {},
   "outputs": [
    {
     "data": {
      "text/plain": [
       "86"
      ]
     },
     "execution_count": 104,
     "metadata": {},
     "output_type": "execute_result"
    }
   ],
   "source": [
    "len(X)"
   ]
  },
  {
   "cell_type": "code",
   "execution_count": 105,
   "metadata": {},
   "outputs": [
    {
     "data": {
      "text/plain": [
       "array(['Datascintist', 'Datascintist', 'Datascintist', 'Datascintist',\n",
       "       'Datascintist', 'Datascintist', 'Datascintist', 'Datascintist',\n",
       "       'Datascintist', 'Datascintist', 'Datascintist', 'Datascintist',\n",
       "       'Datascintist', 'Datascintist', 'Datascintist', 'Datascintist',\n",
       "       'Datascintist', 'Datascintist', 'Datascintist', 'Datascintist',\n",
       "       'Datascintist', 'Datascintist', 'Datascintist', 'Datascintist',\n",
       "       'Datascintist', 'Datascintist', 'Datascintist', 'Datascintist',\n",
       "       'Datascintist', 'Datascintist', 'Datascintist', 'Datascintist',\n",
       "       'Datascintist', 'Datascintist', 'Datascintist', 'Datascintist',\n",
       "       'Datascintist', 'Datascintist', 'Datascintist', 'Datascintist',\n",
       "       'Datascintist', 'Datascintist', 'Datascintist', 'Datascintist',\n",
       "       'Datascintist', 'Datascintist', 'Datascintist', 'Datascintist',\n",
       "       'Datascintist', 'Datascintist', 'Enterprise Applications',\n",
       "       'Enterprise Applications', 'Enterprise Applications',\n",
       "       'Enterprise Applications', 'Enterprise Applications',\n",
       "       'Enterprise Applications', 'Enterprise Applications',\n",
       "       'Enterprise Applications', 'Enterprise Applications',\n",
       "       'Enterprise Applications', 'Enterprise Applications',\n",
       "       'Enterprise Applications', 'Enterprise Applications',\n",
       "       'Enterprise Applications', 'Enterprise Applications',\n",
       "       'Enterprise Applications', 'Enterprise Applications',\n",
       "       'Enterprise Applications', 'Enterprise Applications',\n",
       "       'Enterprise Applications', 'Enterprise Applications',\n",
       "       'Enterprise Applications', 'Enterprise Applications',\n",
       "       'Enterprise Applications', 'Enterprise Applications',\n",
       "       'Enterprise Applications', 'Enterprise Applications',\n",
       "       'Enterprise Applications', 'Enterprise Applications',\n",
       "       'Enterprise Applications', 'Enterprise Applications',\n",
       "       'Enterprise Applications', 'Enterprise Applications',\n",
       "       'Enterprise Applications', 'Enterprise Applications',\n",
       "       'Enterprise Applications'], dtype=object)"
      ]
     },
     "execution_count": 105,
     "metadata": {},
     "output_type": "execute_result"
    }
   ],
   "source": [
    "Y = array[:,4]\n",
    "Y\n",
    "\n",
    "#Select all rows and the 5th attribute. Content: Iris-setosa, Iris-versicolor, Iris-virginica\n",
    "# 80% of the dataset to train the models and 20% of the dataset to validate."
   ]
  },
  {
   "cell_type": "code",
   "execution_count": 106,
   "metadata": {},
   "outputs": [
    {
     "data": {
      "text/plain": [
       "86"
      ]
     },
     "execution_count": 106,
     "metadata": {},
     "output_type": "execute_result"
    }
   ],
   "source": [
    "len(Y)"
   ]
  },
  {
   "cell_type": "code",
   "execution_count": 107,
   "metadata": {},
   "outputs": [
    {
     "data": {
      "text/plain": [
       "(68, 4)"
      ]
     },
     "execution_count": 107,
     "metadata": {},
     "output_type": "execute_result"
    }
   ],
   "source": [
    "# 80% of the dataset to train the models and 20% of the dataset to validate.\n",
    "\n",
    "#  cross_validation Filename & function : def train_test_split(*arrays, **options)\n",
    "\n",
    "\n",
    "validation_size = 0.20\n",
    "seed = 7\n",
    "X_train, X_validation, Y_train, Y_validation = cross_validation.train_test_split(X, Y, test_size=validation_size, \n",
    "random_state=seed)\n",
    "\n",
    "X_train.shape  # 80 of four columns"
   ]
  },
  {
   "cell_type": "code",
   "execution_count": 108,
   "metadata": {},
   "outputs": [
    {
     "data": {
      "text/plain": [
       "(18, 4)"
      ]
     },
     "execution_count": 108,
     "metadata": {},
     "output_type": "execute_result"
    }
   ],
   "source": [
    "X_validation.shape  # 20 of four columns"
   ]
  },
  {
   "cell_type": "code",
   "execution_count": 109,
   "metadata": {},
   "outputs": [
    {
     "data": {
      "text/plain": [
       "(68,)"
      ]
     },
     "execution_count": 109,
     "metadata": {},
     "output_type": "execute_result"
    }
   ],
   "source": [
    "Y_train.shape  # 80 of one columns"
   ]
  },
  {
   "cell_type": "code",
   "execution_count": 110,
   "metadata": {},
   "outputs": [
    {
     "data": {
      "text/plain": [
       "(18,)"
      ]
     },
     "execution_count": 110,
     "metadata": {},
     "output_type": "execute_result"
    }
   ],
   "source": [
    "Y_validation.shape  # 20 of one columns"
   ]
  },
  {
   "cell_type": "code",
   "execution_count": 111,
   "metadata": {},
   "outputs": [
    {
     "data": {
      "text/plain": [
       "array([[520000, 4, 3, 1],\n",
       "       [700000, 1, 1, 2],\n",
       "       [440000, 1, 1, 1],\n",
       "       [450000, 1, 2, 1],\n",
       "       [500000, 4, 3, 1],\n",
       "       [680000, 4, 2, 3],\n",
       "       [450000, 1, 2, 1],\n",
       "       [780000, 3, 2, 4],\n",
       "       [400000, 2, 1, 1],\n",
       "       [350000, 2, 1, 1],\n",
       "       [400000, 1, 1, 1],\n",
       "       [450000, 3, 2, 1],\n",
       "       [500000, 0, 1, 2],\n",
       "       [400000, 2, 1, 1],\n",
       "       [550000, 1, 2, 2],\n",
       "       [550000, 1, 2, 2],\n",
       "       [850000, 7, 4, 4],\n",
       "       [350000, 0, 1, 1],\n",
       "       [650000, 3, 1, 3],\n",
       "       [620000, 5, 2, 2],\n",
       "       [500000, 1, 2, 1],\n",
       "       [450000, 1, 2, 1],\n",
       "       [700000, 2, 1, 2],\n",
       "       [500000, 0, 3, 1],\n",
       "       [500000, 4, 3, 1],\n",
       "       [630000, 2, 2, 3],\n",
       "       [300000, 5, 4, 2],\n",
       "       [850000, 7, 4, 4],\n",
       "       [630000, 3, 2, 3],\n",
       "       [500000, 0, 1, 2],\n",
       "       [800000, 5, 3, 4],\n",
       "       [400000, 2, 1, 1],\n",
       "       [600000, 1, 2, 2],\n",
       "       [580000, 1, 2, 3],\n",
       "       [550000, 2, 1, 2],\n",
       "       [600000, 3, 1, 3],\n",
       "       [650000, 2, 1, 3],\n",
       "       [500000, 0, 1, 2],\n",
       "       [620000, 6, 4, 2],\n",
       "       [820000, 5, 3, 4],\n",
       "       [420000, 2, 1, 1],\n",
       "       [450000, 1, 2, 2],\n",
       "       [420000, 1, 1, 1],\n",
       "       [450000, 3, 1, 1],\n",
       "       [650000, 3, 2, 3],\n",
       "       [500000, 4, 3, 1],\n",
       "       [620000, 5, 2, 2],\n",
       "       [450000, 3, 2, 1],\n",
       "       [400000, 0, 1, 1],\n",
       "       [650000, 1, 2, 3],\n",
       "       [400000, 2, 1, 1],\n",
       "       [600000, 2, 1, 3],\n",
       "       [630000, 1, 2, 2],\n",
       "       [650000, 2, 1, 3],\n",
       "       [630000, 2, 3, 2],\n",
       "       [700000, 7, 4, 3],\n",
       "       [720000, 2, 1, 4],\n",
       "       [650000, 2, 1, 3],\n",
       "       [950000, 3, 4, 4],\n",
       "       [700000, 5, 1, 2],\n",
       "       [600000, 5, 1, 3],\n",
       "       [350000, 0, 1, 1],\n",
       "       [480000, 3, 2, 1],\n",
       "       [420000, 1, 1, 1],\n",
       "       [500000, 6, 1, 2],\n",
       "       [420000, 1, 2, 1],\n",
       "       [530000, 6, 2, 2],\n",
       "       [650000, 2, 3, 2]], dtype=object)"
      ]
     },
     "execution_count": 111,
     "metadata": {},
     "output_type": "execute_result"
    }
   ],
   "source": [
    "X_train  # It has a random rows of 68 "
   ]
  },
  {
   "cell_type": "code",
   "execution_count": 112,
   "metadata": {},
   "outputs": [
    {
     "data": {
      "text/plain": [
       "array([[380000, 0, 1, 1],\n",
       "       [600000, 1, 2, 2],\n",
       "       [420000, 0, 3, 1],\n",
       "       [400000, 1, 1, 1],\n",
       "       [350000, 0, 1, 1],\n",
       "       [720000, 2, 2, 4],\n",
       "       [350000, 0, 1, 1],\n",
       "       [700000, 4, 2, 3],\n",
       "       [770000, 7, 3, 3],\n",
       "       [500000, 5, 3, 2],\n",
       "       [500000, 0, 3, 1],\n",
       "       [500000, 0, 1, 2],\n",
       "       [480000, 0, 3, 1],\n",
       "       [450000, 3, 2, 1],\n",
       "       [820000, 2, 3, 4],\n",
       "       [550000, 5, 1, 2],\n",
       "       [600000, 1, 2, 3],\n",
       "       [650000, 1, 3, 2]], dtype=object)"
      ]
     },
     "execution_count": 112,
     "metadata": {},
     "output_type": "execute_result"
    }
   ],
   "source": [
    "X_validation # 20 of four column"
   ]
  },
  {
   "cell_type": "code",
   "execution_count": 113,
   "metadata": {},
   "outputs": [
    {
     "data": {
      "text/plain": [
       "array(['Enterprise Applications', 'Datascintist', 'Datascintist',\n",
       "       'Datascintist', 'Enterprise Applications',\n",
       "       'Enterprise Applications', 'Datascintist', 'Datascintist',\n",
       "       'Enterprise Applications', 'Enterprise Applications',\n",
       "       'Datascintist', 'Enterprise Applications', 'Datascintist',\n",
       "       'Enterprise Applications', 'Datascintist', 'Datascintist',\n",
       "       'Enterprise Applications', 'Datascintist',\n",
       "       'Enterprise Applications', 'Enterprise Applications',\n",
       "       'Datascintist', 'Datascintist', 'Datascintist', 'Datascintist',\n",
       "       'Enterprise Applications', 'Datascintist',\n",
       "       'Enterprise Applications', 'Enterprise Applications',\n",
       "       'Datascintist', 'Datascintist', 'Enterprise Applications',\n",
       "       'Enterprise Applications', 'Datascintist', 'Datascintist',\n",
       "       'Datascintist', 'Enterprise Applications', 'Datascintist',\n",
       "       'Datascintist', 'Enterprise Applications',\n",
       "       'Enterprise Applications', 'Enterprise Applications',\n",
       "       'Enterprise Applications', 'Datascintist',\n",
       "       'Enterprise Applications', 'Datascintist',\n",
       "       'Enterprise Applications', 'Enterprise Applications',\n",
       "       'Enterprise Applications', 'Datascintist', 'Datascintist',\n",
       "       'Enterprise Applications', 'Datascintist', 'Datascintist',\n",
       "       'Datascintist', 'Datascintist', 'Enterprise Applications',\n",
       "       'Datascintist', 'Datascintist', 'Datascintist',\n",
       "       'Enterprise Applications', 'Enterprise Applications',\n",
       "       'Datascintist', 'Enterprise Applications', 'Datascintist',\n",
       "       'Enterprise Applications', 'Datascintist',\n",
       "       'Enterprise Applications', 'Datascintist'], dtype=object)"
      ]
     },
     "execution_count": 113,
     "metadata": {},
     "output_type": "execute_result"
    }
   ],
   "source": [
    "Y_train"
   ]
  },
  {
   "cell_type": "code",
   "execution_count": 114,
   "metadata": {},
   "outputs": [
    {
     "data": {
      "text/plain": [
       "array(['Datascintist', 'Datascintist', 'Datascintist', 'Datascintist',\n",
       "       'Datascintist', 'Datascintist', 'Datascintist',\n",
       "       'Enterprise Applications', 'Enterprise Applications',\n",
       "       'Enterprise Applications', 'Datascintist', 'Datascintist',\n",
       "       'Datascintist', 'Enterprise Applications', 'Datascintist',\n",
       "       'Enterprise Applications', 'Datascintist', 'Datascintist'],\n",
       "      dtype=object)"
      ]
     },
     "execution_count": 114,
     "metadata": {},
     "output_type": "execute_result"
    }
   ],
   "source": [
    "Y_validation"
   ]
  },
  {
   "cell_type": "code",
   "execution_count": 115,
   "metadata": {},
   "outputs": [],
   "source": [
    "#  Test Harness 86 rows splits in to 10 k fold    8  8 8  8 8 8 8 8 8 8 8 8\n",
    "#  Split the dataset into 10 parts: train on 9 and test on 1. \n",
    "#  Then, repeat for all combinations of train-test splits.\n",
    "\n",
    "#  accuracy => metric for model evaluation"
   ]
  },
  {
   "cell_type": "code",
   "execution_count": 116,
   "metadata": {},
   "outputs": [],
   "source": [
    "# Test options and evaluation metric\n",
    "num_folds = 2  # 35 34\n",
    "num_instances = len(X_train)\n",
    "seed = 7\n",
    "scoring = 'accuracy'"
   ]
  },
  {
   "cell_type": "code",
   "execution_count": 117,
   "metadata": {},
   "outputs": [],
   "source": [
    "# Build Models\n",
    "# We will evaluate 6 different algorithms:\n",
    "\n",
    "# Linear:\n",
    "\n",
    "# Logistic Regression (LR) | 'sklearn.linear_model.logistic.LogisticRegression'\n",
    "# Linear Discriminant Analysis (LDA) | 'sklearn.discriminant_analysis.LinearDiscriminantAnalysis'\n",
    "\n",
    "# Non Linear:\n",
    "\n",
    "# K-Nearest Neighbors (KNN) | 'sklearn.neighbors.classification.KNeighborsClassifier'\n",
    "# Classification and Regression Trees (CART) | 'sklearn.tree.tree.DecisionTreeClassifier'\n",
    "# Gaussian Naive Bayes (NB) | 'sklearn.naive_bayes.GaussianNB'\n",
    "# Support Vector Machines (SVM) | 'sklearn.svm.classes.SVC'\n",
    "\n",
    "# Reset the random number seed before each run to ensure that the evaluation of each algorithm \n",
    "# is performed using exactly the same data splits. It ensures the results are directly comparable."
   ]
  },
  {
   "cell_type": "code",
   "execution_count": 118,
   "metadata": {},
   "outputs": [
    {
     "name": "stdout",
     "output_type": "stream",
     "text": [
      "[]\n",
      "[('LR', LogisticRegression(C=1.0, class_weight=None, dual=False, fit_intercept=True,\n",
      "          intercept_scaling=1, max_iter=100, multi_class='ovr', n_jobs=1,\n",
      "          penalty='l2', random_state=None, solver='liblinear', tol=0.0001,\n",
      "          verbose=0, warm_start=False))]\n",
      "[('LR', LogisticRegression(C=1.0, class_weight=None, dual=False, fit_intercept=True,\n",
      "          intercept_scaling=1, max_iter=100, multi_class='ovr', n_jobs=1,\n",
      "          penalty='l2', random_state=None, solver='liblinear', tol=0.0001,\n",
      "          verbose=0, warm_start=False)), ('LDA', LinearDiscriminantAnalysis(n_components=None, priors=None, shrinkage=None,\n",
      "              solver='svd', store_covariance=False, tol=0.0001)), ('KNN', KNeighborsClassifier(algorithm='auto', leaf_size=30, metric='minkowski',\n",
      "           metric_params=None, n_jobs=1, n_neighbors=5, p=2,\n",
      "           weights='uniform')), ('CART', DecisionTreeClassifier(class_weight=None, criterion='gini', max_depth=None,\n",
      "            max_features=None, max_leaf_nodes=None,\n",
      "            min_impurity_decrease=0.0, min_impurity_split=None,\n",
      "            min_samples_leaf=1, min_samples_split=2,\n",
      "            min_weight_fraction_leaf=0.0, presort=False, random_state=None,\n",
      "            splitter='best')), ('NB', GaussianNB(priors=None)), ('SVM', SVC(C=1.0, cache_size=200, class_weight=None, coef0=0.0,\n",
      "  decision_function_shape='ovr', degree=3, gamma='auto', kernel='rbf',\n",
      "  max_iter=-1, probability=False, random_state=None, shrinking=True,\n",
      "  tol=0.001, verbose=False))]\n",
      "LR: 0.544118 (0.014706)\n",
      "LDA: 0.970588 (0.000000)\n",
      "KNN: 0.382353 (0.088235)\n",
      "CART: 0.867647 (0.044118)\n",
      "NB: 0.632353 (0.073529)\n",
      "SVM: 0.617647 (0.058824)\n"
     ]
    }
   ],
   "source": [
    "from sklearn import preprocessing\n",
    "\n",
    "#Here we are testing various predictive algorithms from scikit-learn\n",
    "models = []\n",
    "\n",
    "print(models)\n",
    "\n",
    "models.append(('LR', LogisticRegression()))\n",
    "print(models)\n",
    "\n",
    "models.append(('LDA', LinearDiscriminantAnalysis()))\n",
    "models.append(('KNN', KNeighborsClassifier()))\n",
    "models.append(('CART', DecisionTreeClassifier()))\n",
    "models.append(('NB', GaussianNB()))\n",
    "models.append(('SVM', SVC()))\n",
    "\n",
    "print(models)\n",
    "\n",
    "\n",
    "# evaluate each model in turn\n",
    "results = []\n",
    "names = []\n",
    "for name, model in models:\n",
    "    \n",
    "\tkfold = cross_validation.KFold(n=num_instances, n_folds=num_folds, random_state=seed)\n",
    "    \n",
    "\tcv_results = cross_validation.cross_val_score(model, X_train, Y_train, cv=kfold, scoring=scoring)\n",
    "    \n",
    "\tresults.append(cv_results)\n",
    "    \n",
    "\tnames.append(name)\n",
    "    \n",
    "\tmsg = \"%s: %f (%f)\" % (name, cv_results.mean(), cv_results.std())\n",
    "\tprint(msg)"
   ]
  },
  {
   "cell_type": "code",
   "execution_count": 119,
   "metadata": {},
   "outputs": [],
   "source": [
    "# Select the Best Model\n",
    "# Create a plot of the model evaluation results and compare \n",
    "# the spread and the mean accuracy of each model. There is a population \n",
    "# of accuracy measures for each algorithm because each algorithm was \n",
    " #evaluated 10 times (10 fold cross validation)."
   ]
  },
  {
   "cell_type": "code",
   "execution_count": 120,
   "metadata": {},
   "outputs": [
    {
     "data": {
      "image/png": "[encoded data removed]",
      "text/plain": [
       "<Figure size 432x288 with 1 Axes>"
      ]
     },
     "metadata": {},
     "output_type": "display_data"
    }
   ],
   "source": [
    "# Compare Algorithms\n",
    "fig = plt.figure()\n",
    "fig.suptitle('Algorithm Comparison')\n",
    "ax = fig.add_subplot(111)\n",
    "plt.boxplot(results)\n",
    "ax.set_xticklabels(names)\n",
    "plt.show()"
   ]
  },
  {
   "cell_type": "code",
   "execution_count": 121,
   "metadata": {},
   "outputs": [
    {
     "name": "stdout",
     "output_type": "stream",
     "text": [
      "0.7777777777777778\n",
      "[[10  3]\n",
      " [ 1  4]]\n",
      "                         precision    recall  f1-score   support\n",
      "\n",
      "           Datascintist       0.91      0.77      0.83        13\n",
      "Enterprise Applications       0.57      0.80      0.67         5\n",
      "\n",
      "            avg / total       0.82      0.78      0.79        18\n",
      "\n"
     ]
    }
   ],
   "source": [
    "# Make predictions on validation dataset\n",
    "svn = SVC()\n",
    "svn.fit(X_train, Y_train)\n",
    "predictions = svn.predict(X_validation)\n",
    "print(accuracy_score(Y_validation, predictions))\n",
    "print(confusion_matrix(Y_validation, predictions))\n",
    "print(classification_report(Y_validation, predictions))"
   ]
  },
  {
   "cell_type": "code",
   "execution_count": 122,
   "metadata": {},
   "outputs": [
    {
     "name": "stdout",
     "output_type": "stream",
     "text": [
      "X_new.shape: (2, 4)\n"
     ]
    }
   ],
   "source": [
    "#Test predictions in data input\n",
    "#Input Vector \n",
    "\n",
    "\n",
    "\n",
    "X_new = numpy.array([[450000,\t1,\t2,\t1], [  820000,\t5,\t3,\t4 ]])\n",
    "print(\"X_new.shape: {}\".format(X_new.shape))"
   ]
  },
  {
   "cell_type": "code",
   "execution_count": 123,
   "metadata": {},
   "outputs": [],
   "source": [
    "prediction = svn.predict(X_new)"
   ]
  },
  {
   "cell_type": "code",
   "execution_count": 124,
   "metadata": {},
   "outputs": [
    {
     "name": "stdout",
     "output_type": "stream",
     "text": [
      "Prediction of Species: ['Datascintist' 'Enterprise Applications']\n"
     ]
    }
   ],
   "source": [
    "#Prediction of the species from the input vector\n",
    "print(\"Prediction of Species: {}\".format(prediction))"
   ]
  },
  {
   "cell_type": "code",
   "execution_count": 125,
   "metadata": {},
   "outputs": [],
   "source": [
    "# Make Predictions\n",
    "# We will use the KNN and the SVC models to make predictions \n",
    "# on the validation dataset for a final accuracy evaluation."
   ]
  },
  {
   "cell_type": "code",
   "execution_count": 126,
   "metadata": {},
   "outputs": [
    {
     "name": "stdout",
     "output_type": "stream",
     "text": [
      "Accuracy score:\n",
      "0.7777777777777778\n",
      "\n",
      "confusion_matrix:\n",
      "[[10  3]\n",
      " [ 1  4]]\n",
      "\n",
      "classification_report:\n",
      "                         precision    recall  f1-score   support\n",
      "\n",
      "           Datascintist       0.91      0.77      0.83        13\n",
      "Enterprise Applications       0.57      0.80      0.67         5\n",
      "\n",
      "            avg / total       0.82      0.78      0.79        18\n",
      "\n",
      "\n"
     ]
    }
   ],
   "source": [
    "knn = KNeighborsClassifier()\n",
    "knn.fit(X_train, Y_train)\n",
    "predictions = knn.predict(X_validation)\n",
    "\n",
    "print(\"Accuracy score:\")\n",
    "print(accuracy_score(Y_validation, predictions))\n",
    "print()\n",
    "\n",
    "print(\"confusion_matrix:\")\n",
    "print(confusion_matrix(Y_validation, predictions))\n",
    "print()\n",
    "\n",
    "print(\"classification_report:\")\n",
    "print(classification_report(Y_validation, predictions))\n",
    "print()"
   ]
  },
  {
   "cell_type": "code",
   "execution_count": 127,
   "metadata": {},
   "outputs": [
    {
     "name": "stdout",
     "output_type": "stream",
     "text": [
      "Accuracy score:\n",
      "0.7777777777777778\n",
      "\n",
      "confusion_matrix:\n",
      "[[10  3]\n",
      " [ 1  4]]\n",
      "\n",
      "classification_report:\n",
      "                         precision    recall  f1-score   support\n",
      "\n",
      "           Datascintist       0.91      0.77      0.83        13\n",
      "Enterprise Applications       0.57      0.80      0.67         5\n",
      "\n",
      "            avg / total       0.82      0.78      0.79        18\n",
      "\n",
      "\n"
     ]
    }
   ],
   "source": [
    "# SVM\n",
    "svm = SVC()\n",
    "svm.fit(X_train, Y_train)\n",
    "predictions = svm.predict(X_validation)\n",
    "\n",
    "print(\"Accuracy score:\")\n",
    "print(accuracy_score(Y_validation, predictions))\n",
    "print()\n",
    "\n",
    "print(\"confusion_matrix:\")\n",
    "print(confusion_matrix(Y_validation, predictions))\n",
    "print()\n",
    "\n",
    "print(\"classification_report:\")\n",
    "print(classification_report(Y_validation, predictions))\n",
    "print()"
   ]
  },
  {
   "cell_type": "code",
   "execution_count": 128,
   "metadata": {},
   "outputs": [],
   "source": [
    "# Conclusion:\n"
   ]
  }
 ],
 "metadata": {
  "kernelspec": {
   "display_name": "Python [default]",
   "language": "python",
   "name": "python3"
  },
  "language_info": {
   "codemirror_mode": {
    "name": "ipython",
    "version": 3
   },
   "file_extension": ".py",
   "mimetype": "text/x-python",
   "name": "python",
   "nbconvert_exporter": "python",
   "pygments_lexer": "ipython3",
   "version": "3.5.5"
  }
 },
 "nbformat": 4,
 "nbformat_minor": 2
}
