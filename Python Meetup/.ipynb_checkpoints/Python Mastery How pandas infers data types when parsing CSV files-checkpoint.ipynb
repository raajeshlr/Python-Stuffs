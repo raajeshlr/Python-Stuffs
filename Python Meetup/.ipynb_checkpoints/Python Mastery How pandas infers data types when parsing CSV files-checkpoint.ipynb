{
 "cells": [
  {
   "cell_type": "code",
   "execution_count": 1,
   "metadata": {},
   "outputs": [],
   "source": [
    "\n",
    "# I was always wondering how pandas infers data types and why sometimes it takes a lot of memory\n",
    "\n",
    "# when reading large CSV files. Well, it is time to understand how it works"
   ]
  },
  {
   "cell_type": "code",
   "execution_count": 2,
   "metadata": {},
   "outputs": [],
   "source": [
    "# First off, there is a low_memory parameter in the read_csv function that is set to True by default.\n",
    "\n",
    "# Instead of processing whole file in a single pass, it splits CSV into chunks, which size is limited by\n",
    "\n",
    "# the number of lines. A special heuristic determines the number of lines — 2**20 / number_of_columns\n",
    "\n",
    "# rounded down to the nearest power of two."
   ]
  },
  {
   "cell_type": "code",
   "execution_count": null,
   "metadata": {},
   "outputs": [],
   "source": [
    "\n",
    "# Parsing process\n",
    "\n",
    "# The parsing process starts with a tokenizer, which splits each line into fields (tokens). \n",
    "\n",
    "# The tokenizing engine does not make any assumptions about the data and stores each column as an array of strings.\n",
    "\n",
    "# The next step involves data conversion. If there is no type specified, pandas will try to infer the type automatically.\n",
    "\n",
    "# The inference module is written in C and Cython, here is a pseudo code of the main logic behind type inference:\n",
    "    "
   ]
  },
  {
   "cell_type": "code",
   "execution_count": 3,
   "metadata": {},
   "outputs": [],
   "source": [
    "def try_int64(column):\n",
    "    result = np.empty(column, dtype=np.uint64)\n",
    "    na_count = 0\n",
    "\n",
    "    for i, item in enumerate(column):\n",
    "\n",
    "        try:\n",
    "            value = str_to_int64(item)\n",
    "        except OverflowError:\n",
    "            raise OverflowError\n",
    "        except:\n",
    "            # parsing error, stop the process\n",
    "            return None, na_count\n",
    "\n",
    "        if is_nan(value):\n",
    "            # There is no way to store NaNs in the integer column\n",
    "            na_count += 1\n",
    "            return None, na_count\n",
    "\n",
    "        result[i] = value\n",
    "    return result, na_count"
   ]
  },
  {
   "cell_type": "code",
   "execution_count": 4,
   "metadata": {},
   "outputs": [],
   "source": [
    "def convert_column_data(column, dtype):\n",
    "    result = None\n",
    "\n",
    "    if is_integer_dtype(dtype):\n",
    "        try:\n",
    "            result, na_count = try_int64(column)\n",
    "        except OverflowError:\n",
    "            # try unsigned int\n",
    "            result, na_count = try_uint64(column)\n",
    "\n",
    "        if result is None and na_count > 0:\n",
    "            # Integer column has NA values\n",
    "            return None\n",
    "    elif is_float_dtype(dtype):\n",
    "        result, na_count = try_float64(data)\n",
    "    elif is_bool_dtype(dtype):\n",
    "        result = try_bool(data)\n",
    "    elif is_object_dtype(dtype):\n",
    "        result = to_unicode_string(data)\n",
    "    else:\n",
    "        result = to_unicode_string(data)\n",
    "\n",
    "    return result"
   ]
  },
  {
   "cell_type": "code",
   "execution_count": 5,
   "metadata": {},
   "outputs": [],
   "source": [
    "def infer_dtype(column):\n",
    "    dtype_order = ['int64', 'float64', 'bool', 'object']\n",
    "    for dtype in dtype_order:\n",
    "        result = convert_column_data(column, dtype)\n",
    "\n",
    "        if result is not None:\n",
    "            # Successful inference, exit from the loop\n",
    "            return result\n",
    "\n",
    "    return None"
   ]
  },
  {
   "cell_type": "code",
   "execution_count": 6,
   "metadata": {},
   "outputs": [],
   "source": [
    "# I've omitted some part of the logic, but the code is still pretty self-explanatory.\n",
    "\n",
    "# As it turns out, there is no magic involved in the type inference.\n",
    "\n",
    "# At first, pandas trying to convert all values to an integer.\n",
    "\n",
    "# If an error occurs, then pandas jumps to the next data type.\n",
    "\n",
    "# The last data type is called an object, which is simply an array of strings.\n",
    "\n",
    "# See parser.pyx for more details.\n",
    "\n",
    "# https://github.com/pandas-dev/pandas/blob/982e11233698bc54e59be87eb257da2f33b8eb10/pandas/_libs/parsers.pyx#L1188"
   ]
  },
  {
   "cell_type": "code",
   "execution_count": null,
   "metadata": {},
   "outputs": [],
   "source": [
    "# Example of corner case\n",
    "\n",
    "# Let's say we have a large CSV file with low_memory set to False. Where one of the columns has an integer type,\n",
    "\n",
    "# but its last value is set to a random string.\n",
    "\n",
    "# Not only it takes more memory while converting the data, but the pandas also converts all the data three\n",
    "\n",
    "# times (to an int, float, and string). As a result, you will get a column with an object data type."
   ]
  },
  {
   "cell_type": "code",
   "execution_count": 11,
   "metadata": {},
   "outputs": [
    {
     "name": "stdout",
     "output_type": "stream",
     "text": [
      "Tokenization took: 0.00 ms\n",
      "Type conversion took: 1.00 ms\n",
      "Parser memory cleanup took: 0.00 ms\n"
     ]
    }
   ],
   "source": [
    " # Clean version\n",
    "\n",
    "import pandas\n",
    "\n",
    "df = pandas.read_csv('staff.csv', low_memory=False, verbose=1)\n",
    "\n"
   ]
  },
  {
   "cell_type": "code",
   "execution_count": 13,
   "metadata": {},
   "outputs": [
    {
     "data": {
      "text/plain": [
       "(dtype('int64'), (86, 5))"
      ]
     },
     "execution_count": 13,
     "metadata": {},
     "output_type": "execute_result"
    }
   ],
   "source": [
    "df['Salary'].dtype, df.shape\n"
   ]
  },
  {
   "cell_type": "code",
   "execution_count": 14,
   "metadata": {},
   "outputs": [],
   "source": [
    "# Malformed version of the CSV file"
   ]
  },
  {
   "cell_type": "code",
   "execution_count": 16,
   "metadata": {},
   "outputs": [
    {
     "name": "stdout",
     "output_type": "stream",
     "text": [
      "Tokenization took: 1.00 ms\n",
      "Type conversion took: 1.00 ms\n",
      "Parser memory cleanup took: 0.00 ms\n"
     ]
    }
   ],
   "source": [
    "df = pandas.read_csv('staff.csv', low_memory=False, verbose=1)"
   ]
  },
  {
   "cell_type": "code",
   "execution_count": 17,
   "metadata": {},
   "outputs": [],
   "source": [
    "# I'm not blaming pandas for this; it's just that the CSV is a bad format for storing data."
   ]
  },
  {
   "cell_type": "code",
   "execution_count": null,
   "metadata": {},
   "outputs": [],
   "source": [
    "# Tokenization took: 1239.30 ms\n",
    "# Type conversion took: 7675.89 ms\n",
    "# Parser memory cleanup took: 38.01 ms"
   ]
  },
  {
   "cell_type": "code",
   "execution_count": 18,
   "metadata": {},
   "outputs": [],
   "source": [
    "# Type specification"
   ]
  },
  {
   "cell_type": "code",
   "execution_count": 19,
   "metadata": {},
   "outputs": [],
   "source": [
    "# Pandas allows you to explicitly define types of the columns using dtype parameter. However,\n",
    "\n",
    "# the converting engine always uses \"fat\" data types, such as int64 and float64. So even if you\n",
    "\n",
    "# specify that your column has an int8 type, at first, your data will be parsed using an int64 datatype \n",
    "\n",
    "# and then downcasted to an int8."
   ]
  },
  {
   "cell_type": "code",
   "execution_count": 22,
   "metadata": {},
   "outputs": [
    {
     "ename": "SyntaxError",
     "evalue": "'return' outside function (<ipython-input-22-8d6054f225f5>, line 18)",
     "output_type": "error",
     "traceback": [
      "\u001b[1;36m  File \u001b[1;32m\"<ipython-input-22-8d6054f225f5>\"\u001b[1;36m, line \u001b[1;32m18\u001b[0m\n\u001b[1;33m    return result, na_count\u001b[0m\n\u001b[1;37m    ^\u001b[0m\n\u001b[1;31mSyntaxError\u001b[0m\u001b[1;31m:\u001b[0m 'return' outside function\n"
     ]
    }
   ],
   "source": [
    "if is_integer_dtype(dtype):\n",
    "    try:\n",
    "        result, na_count = _try_int64(self.parser, i, start,\n",
    "                                      end, na_filter, na_hashset)\n",
    "        if user_dtype and na_count is not None:\n",
    "            if na_count > 0:\n",
    "                raise ValueError(\"Integer column has NA values in \"\n",
    "                                 \"column {column}\".format(column=i))\n",
    "    except OverflowError:\n",
    "        result = _try_uint64(self.parser, i, start, end,\n",
    "                             na_filter, na_hashset)\n",
    "        na_count = 0\n",
    "\n",
    "    if result is not None and dtype != 'int64':\n",
    "        # numpy's astype cast, creates a copy of an array\n",
    "        result = result.astype(dtype)\n",
    "\n",
    "    return result, na_count"
   ]
  },
  {
   "cell_type": "code",
   "execution_count": 24,
   "metadata": {},
   "outputs": [
    {
     "name": "stdout",
     "output_type": "stream",
     "text": [
      "   Salary  Projects Worked  No of offers  Experience    Technology\n",
      "0  600000                2             1           3  Datascintist\n",
      "1  630000                2             2           3  Datascintist\n",
      "2  600000                1             2           3  Datascintist\n",
      "3  630000                3             2           3  Datascintist\n",
      "4  580000                1             2           3  Datascintist\n"
     ]
    }
   ],
   "source": [
    "print(df.head(5))"
   ]
  },
  {
   "cell_type": "code",
   "execution_count": 25,
   "metadata": {},
   "outputs": [
    {
     "data": {
      "text/plain": [
       "pandas.core.series.Series"
      ]
     },
     "execution_count": 25,
     "metadata": {},
     "output_type": "execute_result"
    }
   ],
   "source": [
    "type(df['Salary'])"
   ]
  },
  {
   "cell_type": "code",
   "execution_count": 28,
   "metadata": {},
   "outputs": [
    {
     "data": {
      "text/html": [
       "<div>\n",
       "<style scoped>\n",
       "    .dataframe tbody tr th:only-of-type {\n",
       "        vertical-align: middle;\n",
       "    }\n",
       "\n",
       "    .dataframe tbody tr th {\n",
       "        vertical-align: top;\n",
       "    }\n",
       "\n",
       "    .dataframe thead th {\n",
       "        text-align: right;\n",
       "    }\n",
       "</style>\n",
       "<table border=\"1\" class=\"dataframe\">\n",
       "  <thead>\n",
       "    <tr style=\"text-align: right;\">\n",
       "      <th></th>\n",
       "      <th>Salary</th>\n",
       "      <th>Projects Worked</th>\n",
       "      <th>No of offers</th>\n",
       "      <th>Experience</th>\n",
       "    </tr>\n",
       "  </thead>\n",
       "  <tbody>\n",
       "    <tr>\n",
       "      <th>0</th>\n",
       "      <td>600000</td>\n",
       "      <td>2</td>\n",
       "      <td>1</td>\n",
       "      <td>3</td>\n",
       "    </tr>\n",
       "    <tr>\n",
       "      <th>1</th>\n",
       "      <td>630000</td>\n",
       "      <td>2</td>\n",
       "      <td>2</td>\n",
       "      <td>3</td>\n",
       "    </tr>\n",
       "    <tr>\n",
       "      <th>2</th>\n",
       "      <td>600000</td>\n",
       "      <td>1</td>\n",
       "      <td>2</td>\n",
       "      <td>3</td>\n",
       "    </tr>\n",
       "    <tr>\n",
       "      <th>3</th>\n",
       "      <td>630000</td>\n",
       "      <td>3</td>\n",
       "      <td>2</td>\n",
       "      <td>3</td>\n",
       "    </tr>\n",
       "    <tr>\n",
       "      <th>4</th>\n",
       "      <td>580000</td>\n",
       "      <td>1</td>\n",
       "      <td>2</td>\n",
       "      <td>3</td>\n",
       "    </tr>\n",
       "  </tbody>\n",
       "</table>\n",
       "</div>"
      ],
      "text/plain": [
       "   Salary  Projects Worked  No of offers  Experience\n",
       "0  600000                2             1           3\n",
       "1  630000                2             2           3\n",
       "2  600000                1             2           3\n",
       "3  630000                3             2           3\n",
       "4  580000                1             2           3"
      ]
     },
     "execution_count": 28,
     "metadata": {},
     "output_type": "execute_result"
    }
   ],
   "source": [
    "#Remove a column from the data\n",
    "\n",
    "rem=df\n",
    "\n",
    "rem = rem.drop('Technology',axis=1)\n",
    "\n",
    "rem.head(5)"
   ]
  },
  {
   "cell_type": "code",
   "execution_count": 30,
   "metadata": {},
   "outputs": [
    {
     "name": "stdout",
     "output_type": "stream",
     "text": [
      "Technology\n",
      "Datascintist               50\n",
      "Enterprise Applications    36\n",
      "dtype: int64\n"
     ]
    }
   ],
   "source": [
    "print(df.groupby('Technology').size())"
   ]
  }
 ],
 "metadata": {
  "kernelspec": {
   "display_name": "Python [default]",
   "language": "python",
   "name": "python3"
  },
  "language_info": {
   "codemirror_mode": {
    "name": "ipython",
    "version": 3
   },
   "file_extension": ".py",
   "mimetype": "text/x-python",
   "name": "python",
   "nbconvert_exporter": "python",
   "pygments_lexer": "ipython3",
   "version": "3.5.5"
  }
 },
 "nbformat": 4,
 "nbformat_minor": 2
}
