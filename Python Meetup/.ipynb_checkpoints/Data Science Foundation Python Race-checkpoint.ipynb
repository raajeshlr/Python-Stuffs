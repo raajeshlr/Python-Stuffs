{
 "cells": [
  {
   "cell_type": "code",
   "execution_count": 7,
   "metadata": {},
   "outputs": [],
   "source": [
    "# Object's are structures allocated on the Heap"
   ]
  },
  {
   "cell_type": "code",
   "execution_count": 8,
   "metadata": {},
   "outputs": [],
   "source": [
    "a=12"
   ]
  },
  {
   "cell_type": "code",
   "execution_count": 9,
   "metadata": {},
   "outputs": [],
   "source": [
    "a=\"jvt\""
   ]
  },
  {
   "cell_type": "code",
   "execution_count": 1,
   "metadata": {},
   "outputs": [
    {
     "name": "stdout",
     "output_type": "stream",
     "text": [
      " my status viewed  82\n"
     ]
    }
   ],
   "source": [
    "# Whatsup Data\n",
    "\n",
    "Time              =  \"12:52 pm\"\n",
    "viewed            =  82\n",
    "comments          = \"super\"\n",
    "print(\" my status viewed \", viewed)"
   ]
  },
  {
   "cell_type": "code",
   "execution_count": 10,
   "metadata": {},
   "outputs": [],
   "source": [
    "# Object are structures allocated on the Heap contains info\n",
    "\n",
    "# Time Object Internals \n",
    "\n",
    "# ob_refcnt  # Memory which is pointed by multiple objects  \n",
    "# ob_type    # str\n",
    "# ob_size    # memory size\n",
    "# ob_digit   # value in the Memory"
   ]
  },
  {
   "cell_type": "code",
   "execution_count": 12,
   "metadata": {},
   "outputs": [],
   "source": [
    "# python Functions\n",
    "\n",
    "def  Whatsup():\n",
    " Time            =  \"12:52 pm\"\n",
    " viewed          =  82\n",
    " comments        = \"super\"\n",
    " print(\" my status viewed \", viewed)"
   ]
  },
  {
   "cell_type": "code",
   "execution_count": 13,
   "metadata": {},
   "outputs": [
    {
     "name": "stdout",
     "output_type": "stream",
     "text": [
      " my status viewed  82\n"
     ]
    }
   ],
   "source": [
    "Whatsup()  # Function call "
   ]
  },
  {
   "cell_type": "code",
   "execution_count": 14,
   "metadata": {},
   "outputs": [],
   "source": [
    "\n",
    "def  Whatsup( a ,b ):\n",
    "     print(a,b)"
   ]
  },
  {
   "cell_type": "code",
   "execution_count": 16,
   "metadata": {},
   "outputs": [
    {
     "name": "stdout",
     "output_type": "stream",
     "text": [
      "2 3\n",
      "5 jt\n"
     ]
    }
   ],
   "source": [
    " Whatsup(2,3)\n",
    "   \n",
    " Whatsup(5,\"jt\")"
   ]
  },
  {
   "cell_type": "code",
   "execution_count": 17,
   "metadata": {},
   "outputs": [],
   "source": [
    "# Objects are never allocated statically or on the stack they must be accessed through special \n",
    "\n",
    "# macros and functions only.\n",
    "\n",
    "# An object has a 'reference count'that is increased or decreased when \n",
    "\n",
    "# a pointer to the object is copied or deleted; \n",
    "\n",
    "# An object has a 'type' that determines what it represents and what kind of data it contains.  \n",
    "\n",
    "# An object's type is fixed when it is created.once allocated an object keeps \n",
    "\n",
    "# the same size and address\n",
    "\n",
    "# Deallocation : when the reference count reaches zero there are no references \n",
    "# to the object left and it can be removed from the heap.\n",
    "\n",
    "# Refernces : C:\\Users\\jvt\\Anaconda3\\include/object.h"
   ]
  },
  {
   "cell_type": "code",
   "execution_count": 18,
   "metadata": {},
   "outputs": [
    {
     "data": {
      "text/plain": [
       "14.0"
      ]
     },
     "execution_count": 18,
     "metadata": {},
     "output_type": "execute_result"
    }
   ],
   "source": [
    "# C:\\Users\\jvt\\AppData\\Local\\Programs\\Python\\Python36\\Lib\\ctypes\n",
    "\n",
    "import ctypes             # Folder access \n",
    "\n",
    "from ctypes import util   # From Folder the File access \n",
    "\n",
    "util._get_build_version() # From file we invoke the Function  "
   ]
  },
  {
   "cell_type": "code",
   "execution_count": 20,
   "metadata": {},
   "outputs": [
    {
     "data": {
      "text/plain": [
       "57"
      ]
     },
     "execution_count": 20,
     "metadata": {},
     "output_type": "execute_result"
    }
   ],
   "source": [
    "import sys\n",
    "\n",
    "sys.getsizeof(Time)"
   ]
  },
  {
   "cell_type": "code",
   "execution_count": 21,
   "metadata": {},
   "outputs": [
    {
     "data": {
      "text/plain": [
       "str"
      ]
     },
     "execution_count": 21,
     "metadata": {},
     "output_type": "execute_result"
    }
   ],
   "source": [
    "type(Time)"
   ]
  },
  {
   "cell_type": "code",
   "execution_count": 22,
   "metadata": {},
   "outputs": [
    {
     "data": {
      "text/plain": [
       "2703714661104"
      ]
     },
     "execution_count": 22,
     "metadata": {},
     "output_type": "execute_result"
    }
   ],
   "source": [
    "id(Time)"
   ]
  },
  {
   "cell_type": "code",
   "execution_count": 23,
   "metadata": {},
   "outputs": [],
   "source": [
    " import dis\n",
    "    \n",
    "obj = dis.Bytecode(Whatsup)\n"
   ]
  },
  {
   "cell_type": "code",
   "execution_count": 25,
   "metadata": {},
   "outputs": [
    {
     "name": "stdout",
     "output_type": "stream",
     "text": [
      "Bytecode(<function Whatsup at 0x0000027581F26D90>)\n"
     ]
    }
   ],
   "source": [
    " print(obj)"
   ]
  },
  {
   "cell_type": "code",
   "execution_count": 376,
   "metadata": {},
   "outputs": [],
   "source": [
    "obj=dis.code_info(Whatsup)\n"
   ]
  },
  {
   "cell_type": "code",
   "execution_count": 377,
   "metadata": {},
   "outputs": [
    {
     "name": "stdout",
     "output_type": "stream",
     "text": [
      "Name:              Whatsup\n",
      "Filename:          <ipython-input-365-44d408bebb97>\n",
      "Argument count:    0\n",
      "Kw-only arguments: 0\n",
      "Number of locals:  3\n",
      "Stack size:        3\n",
      "Flags:             OPTIMIZED, NEWLOCALS, NOFREE\n",
      "Constants:\n",
      "   0: None\n",
      "   1: '12:52 pm'\n",
      "   2: 82\n",
      "   3: 'super'\n",
      "   4: ' my status viewed '\n",
      "Names:\n",
      "   0: print\n",
      "Variable names:\n",
      "   0: Time\n",
      "   1: viewed\n",
      "   2: comments\n"
     ]
    }
   ],
   "source": [
    " print(obj)"
   ]
  },
  {
   "cell_type": "code",
   "execution_count": 379,
   "metadata": {},
   "outputs": [
    {
     "name": "stdout",
     "output_type": "stream",
     "text": [
      "  4           0 LOAD_CONST               1 ('12:52 pm')\n",
      "              2 STORE_FAST               0 (Time)\n",
      "\n",
      "  5           4 LOAD_CONST               2 (82)\n",
      "              6 STORE_FAST               1 (viewed)\n",
      "\n",
      "  6           8 LOAD_CONST               3 ('super')\n",
      "             10 STORE_FAST               2 (comments)\n",
      "\n",
      "  7          12 LOAD_GLOBAL              0 (print)\n",
      "             14 LOAD_CONST               4 (' my status viewed ')\n",
      "             16 LOAD_FAST                1 (viewed)\n",
      "             18 CALL_FUNCTION            2\n",
      "             20 POP_TOP\n",
      "             22 LOAD_CONST               0 (None)\n",
      "             24 RETURN_VALUE\n"
     ]
    }
   ],
   "source": [
    " # Byte code\n",
    "\n",
    "dis.dis(Whatsup)\n"
   ]
  },
  {
   "cell_type": "code",
   "execution_count": 380,
   "metadata": {},
   "outputs": [
    {
     "name": "stdout",
     "output_type": "stream",
     "text": [
      "Name:              Whatsup\n",
      "Filename:          <ipython-input-365-44d408bebb97>\n",
      "Argument count:    0\n",
      "Kw-only arguments: 0\n",
      "Number of locals:  3\n",
      "Stack size:        3\n",
      "Flags:             OPTIMIZED, NEWLOCALS, NOFREE\n",
      "Constants:\n",
      "   0: None\n",
      "   1: '12:52 pm'\n",
      "   2: 82\n",
      "   3: 'super'\n",
      "   4: ' my status viewed '\n",
      "Names:\n",
      "   0: print\n",
      "Variable names:\n",
      "   0: Time\n",
      "   1: viewed\n",
      "   2: comments\n"
     ]
    }
   ],
   "source": [
    "dis.show_code(Whatsup)"
   ]
  },
  {
   "cell_type": "code",
   "execution_count": 381,
   "metadata": {},
   "outputs": [
    {
     "name": "stdout",
     "output_type": "stream",
     "text": [
      " my status viewed  82\n"
     ]
    }
   ],
   "source": [
    "Whatsup()  # Function call executes byte code"
   ]
  },
  {
   "cell_type": "code",
   "execution_count": 29,
   "metadata": {},
   "outputs": [
    {
     "name": "stdout",
     "output_type": "stream",
     "text": [
      " my Whatsup viewed  82\n",
      "  viewed address  1436055136\n",
      " Time address  2703714804592\n",
      " comments address  2705790396376\n"
     ]
    }
   ],
   "source": [
    "# Part 2\n",
    "\n",
    "class Whatsup:\n",
    " Time           =  \"12:52 pm\"\n",
    " viewed        =  82\n",
    " comments   = \"super\"\n",
    " print(\" my Whatsup viewed \", viewed)\n",
    " print(\"  viewed address \", id(viewed))\n",
    " print(\" Time address \", id(Time))\n",
    " print(\" comments address \", id(comments))\n",
    "\n"
   ]
  },
  {
   "cell_type": "code",
   "execution_count": 28,
   "metadata": {},
   "outputs": [
    {
     "data": {
      "text/plain": [
       "'12:52 pm'"
      ]
     },
     "execution_count": 28,
     "metadata": {},
     "output_type": "execute_result"
    }
   ],
   "source": [
    "Whatsup.Time"
   ]
  },
  {
   "cell_type": "code",
   "execution_count": 30,
   "metadata": {},
   "outputs": [
    {
     "name": "stdout",
     "output_type": "stream",
     "text": [
      "1056\n"
     ]
    }
   ],
   "source": [
    "\n",
    "jvt=Whatsup  # Storage of 1056 bytes\n",
    "import sys\n",
    "print(sys.getsizeof(jvt))"
   ]
  },
  {
   "cell_type": "code",
   "execution_count": 31,
   "metadata": {},
   "outputs": [],
   "source": [
    "class Whatsu:\n",
    "               \n",
    " def  __init__(self):\n",
    "  self.Time           =  \"12:53 pm\"        # single pointer poiniting to individual data\n",
    "  self.viewed        =  85\n",
    "  self.comments   = \"wow\"\n",
    "  print(\" my Whatsu viewed \", self.viewed)\n",
    "  print(\" my Whatsu address \", id(self.viewed))\n",
    "  print(\" my Whatsu address \", id(self.Time))\n",
    "  print(\" my Whatsu address \", id(self.comments))\n",
    "\n"
   ]
  },
  {
   "cell_type": "code",
   "execution_count": 32,
   "metadata": {},
   "outputs": [],
   "source": [
    "# Objects are always accessed through pointers of the type 'PyObject *'\n",
    "\n",
    "# The type 'PyObject' is a structure that only contains the reference count and the type pointer\n",
    "\n",
    "# Object can be simply a pointer -- moving an object would require updating all the pointers, and \n",
    "# changing an object's size would require moving it if there was another object right next to it"
   ]
  },
  {
   "cell_type": "code",
   "execution_count": 388,
   "metadata": {},
   "outputs": [
    {
     "name": "stdout",
     "output_type": "stream",
     "text": [
      " my Whatsu viewed  85\n",
      " my Whatsu address  1597601888\n",
      " my Whatsu address  1651653772656\n",
      " my Whatsu address  1651591683240\n"
     ]
    },
    {
     "data": {
      "text/plain": [
       "<__main__.Whatsu at 0x1808e3d72e8>"
      ]
     },
     "execution_count": 388,
     "metadata": {},
     "output_type": "execute_result"
    }
   ],
   "source": [
    "Whatsu()"
   ]
  },
  {
   "cell_type": "code",
   "execution_count": 33,
   "metadata": {},
   "outputs": [],
   "source": [
    "class python:\n",
    " overallRank = 5\n",
    " def method(self):\n",
    "  print(\" python methods\")\n",
    "  self.Lang=\"python\"\n",
    "  self.Rank = 1\n",
    "  self.year=2018\n",
    "  self.version=3.6\n",
    "  print(self.Rank)\n",
    "            "
   ]
  },
  {
   "cell_type": "code",
   "execution_count": 34,
   "metadata": {},
   "outputs": [
    {
     "data": {
      "text/plain": [
       "5"
      ]
     },
     "execution_count": 34,
     "metadata": {},
     "output_type": "execute_result"
    }
   ],
   "source": [
    "python.overallRank"
   ]
  },
  {
   "cell_type": "code",
   "execution_count": 39,
   "metadata": {},
   "outputs": [
    {
     "ename": "AttributeError",
     "evalue": "type object 'python' has no attribute 'Lang'",
     "output_type": "error",
     "traceback": [
      "\u001b[1;31m---------------------------------------------------------------------------\u001b[0m",
      "\u001b[1;31mAttributeError\u001b[0m                            Traceback (most recent call last)",
      "\u001b[1;32m<ipython-input-39-1ce885d0c3f4>\u001b[0m in \u001b[0;36m<module>\u001b[1;34m()\u001b[0m\n\u001b[1;32m----> 1\u001b[1;33m \u001b[0mpython\u001b[0m\u001b[1;33m.\u001b[0m\u001b[0mLang\u001b[0m\u001b[1;33m\u001b[0m\u001b[0m\n\u001b[0m",
      "\u001b[1;31mAttributeError\u001b[0m: type object 'python' has no attribute 'Lang'"
     ]
    }
   ],
   "source": [
    "python.Lang"
   ]
  },
  {
   "cell_type": "code",
   "execution_count": 44,
   "metadata": {},
   "outputs": [],
   "source": [
    "Obj=python()  # object creation 56 bytes"
   ]
  },
  {
   "cell_type": "code",
   "execution_count": 45,
   "metadata": {},
   "outputs": [
    {
     "name": "stdout",
     "output_type": "stream",
     "text": [
      "56\n"
     ]
    }
   ],
   "source": [
    "import sys\n",
    "print(sys.getsizeof(Obj))"
   ]
  },
  {
   "cell_type": "code",
   "execution_count": 46,
   "metadata": {},
   "outputs": [
    {
     "name": "stdout",
     "output_type": "stream",
     "text": [
      " python methods\n",
      "1\n"
     ]
    }
   ],
   "source": [
    "Obj.method()  "
   ]
  },
  {
   "cell_type": "code",
   "execution_count": 47,
   "metadata": {},
   "outputs": [],
   "source": [
    "# Suppose How we can  create another object \n",
    "\n",
    "Obj1=python() "
   ]
  },
  {
   "cell_type": "code",
   "execution_count": 48,
   "metadata": {},
   "outputs": [
    {
     "ename": "AttributeError",
     "evalue": "'python' object has no attribute 'Lang'",
     "output_type": "error",
     "traceback": [
      "\u001b[1;31m---------------------------------------------------------------------------\u001b[0m",
      "\u001b[1;31mAttributeError\u001b[0m                            Traceback (most recent call last)",
      "\u001b[1;32m<ipython-input-48-074e31d135dd>\u001b[0m in \u001b[0;36m<module>\u001b[1;34m()\u001b[0m\n\u001b[1;32m----> 1\u001b[1;33m \u001b[0mprint\u001b[0m\u001b[1;33m(\u001b[0m\u001b[0mid\u001b[0m\u001b[1;33m(\u001b[0m\u001b[0mObj1\u001b[0m\u001b[1;33m.\u001b[0m\u001b[0mLang\u001b[0m\u001b[1;33m)\u001b[0m\u001b[1;33m)\u001b[0m  \u001b[1;31m#  Memory Address of the data  \" python \"\u001b[0m\u001b[1;33m\u001b[0m\u001b[0m\n\u001b[0m",
      "\u001b[1;31mAttributeError\u001b[0m: 'python' object has no attribute 'Lang'"
     ]
    }
   ],
   "source": [
    " print(id(Obj1.Lang))  #  Memory Address of the data  \" python \""
   ]
  },
  {
   "cell_type": "code",
   "execution_count": 49,
   "metadata": {},
   "outputs": [
    {
     "name": "stdout",
     "output_type": "stream",
     "text": [
      " python methods\n",
      "1\n"
     ]
    }
   ],
   "source": [
    "Obj1.method()  "
   ]
  },
  {
   "cell_type": "code",
   "execution_count": 50,
   "metadata": {},
   "outputs": [],
   "source": [
    "class python:\n",
    " def __init__(self):\n",
    "  print(self)\n",
    "  print(\" python constructor\")\n",
    "  self.Lang=\"python\"\n",
    "  self.Rank = 1\n",
    "  self.year=2018\n",
    "  self.version=3.6\n",
    "  print(self.version)\n",
    "    "
   ]
  },
  {
   "cell_type": "code",
   "execution_count": 51,
   "metadata": {},
   "outputs": [
    {
     "name": "stdout",
     "output_type": "stream",
     "text": [
      "<__main__.python object at 0x0000027581FEA320>\n",
      " python constructor\n",
      "3.6\n"
     ]
    },
    {
     "data": {
      "text/plain": [
       "<__main__.python at 0x27581fea320>"
      ]
     },
     "execution_count": 51,
     "metadata": {},
     "output_type": "execute_result"
    }
   ],
   "source": [
    "python()  # does this work \"\" BEATING CODE IPL 20-20 \"\""
   ]
  },
  {
   "cell_type": "code",
   "execution_count": 53,
   "metadata": {},
   "outputs": [
    {
     "data": {
      "text/plain": [
       "'python'"
      ]
     },
     "execution_count": 53,
     "metadata": {},
     "output_type": "execute_result"
    }
   ],
   "source": [
    " aa= [ \"python\" ,  1 , 2018 ,3.6 ]\n",
    "    \n",
    "aa[0]"
   ]
  },
  {
   "cell_type": "code",
   "execution_count": 63,
   "metadata": {},
   "outputs": [],
   "source": [
    "class Dataframes:\n",
    " shape =[] # list \n",
    " def __init__(self):\n",
    "  self.type=\"csv\"\n",
    "  self.columns= 0\n",
    "  self.rows=0\n",
    "  Dataframes.shape =(100,5)\n",
    "  print(\" Dataframes constructor\")\n",
    "  print( self.type)\n",
    " def head(  ):\n",
    "  print(\" Dataframes head\")\n",
    "  self.rows=5\n",
    "  print(self.rows) \n",
    "    "
   ]
  },
  {
   "cell_type": "code",
   "execution_count": 64,
   "metadata": {},
   "outputs": [
    {
     "name": "stdout",
     "output_type": "stream",
     "text": [
      " Dataframes constructor\n",
      "csv\n"
     ]
    }
   ],
   "source": [
    "dataset = Dataframes()"
   ]
  },
  {
   "cell_type": "code",
   "execution_count": 65,
   "metadata": {},
   "outputs": [
    {
     "data": {
      "text/plain": [
       "(100, 5)"
      ]
     },
     "execution_count": 65,
     "metadata": {},
     "output_type": "execute_result"
    }
   ],
   "source": [
    "dataset.shape"
   ]
  },
  {
   "cell_type": "code",
   "execution_count": 67,
   "metadata": {},
   "outputs": [
    {
     "ename": "TypeError",
     "evalue": "head() takes 0 positional arguments but 1 was given",
     "output_type": "error",
     "traceback": [
      "\u001b[1;31m---------------------------------------------------------------------------\u001b[0m",
      "\u001b[1;31mTypeError\u001b[0m                                 Traceback (most recent call last)",
      "\u001b[1;32m<ipython-input-67-922d0244e112>\u001b[0m in \u001b[0;36m<module>\u001b[1;34m()\u001b[0m\n\u001b[1;32m----> 1\u001b[1;33m \u001b[0mdataset\u001b[0m\u001b[1;33m.\u001b[0m\u001b[0mhead\u001b[0m\u001b[1;33m(\u001b[0m\u001b[1;33m)\u001b[0m \u001b[1;31m# dataset.head(dataset)\u001b[0m\u001b[1;33m\u001b[0m\u001b[0m\n\u001b[0m",
      "\u001b[1;31mTypeError\u001b[0m: head() takes 0 positional arguments but 1 was given"
     ]
    }
   ],
   "source": [
    "dataset.head() # dataset.head(dataset)"
   ]
  },
  {
   "cell_type": "code",
   "execution_count": 72,
   "metadata": {},
   "outputs": [],
   "source": [
    "class Dataframes:\n",
    " shape =(0,0)\n",
    " def __init__(self,typ,col,row):\n",
    "  self.type=typ\n",
    "  self.columns= col\n",
    "  self.rows=row\n",
    "  print(\" Dataframes constructor\")\n",
    "  print( self.type)\n",
    " def describe(self):\n",
    "  print(\" Staticstics data mean \")\n",
    " def head(self ,  i):\n",
    "  print(\" Dataframes head data\")\n",
    "  self.rows=5\n",
    "  print(self.rows) \n",
    " def drop(self , id ,num):\n",
    "    print(\" Remove a specific colmun\")\n",
    " def __del__(self):\n",
    "    print(\" Destructor \")"
   ]
  },
  {
   "cell_type": "code",
   "execution_count": 73,
   "metadata": {},
   "outputs": [
    {
     "name": "stdout",
     "output_type": "stream",
     "text": [
      " Dataframes constructor\n",
      "xl\n",
      " Destructor \n"
     ]
    }
   ],
   "source": [
    "# ALL operation in machine learning in one case study \n",
    "dataset = Dataframes(\"xl\",5,100)"
   ]
  },
  {
   "cell_type": "code",
   "execution_count": 74,
   "metadata": {},
   "outputs": [
    {
     "data": {
      "text/plain": [
       "'xl'"
      ]
     },
     "execution_count": 74,
     "metadata": {},
     "output_type": "execute_result"
    }
   ],
   "source": [
    "dataset.type"
   ]
  },
  {
   "cell_type": "code",
   "execution_count": 75,
   "metadata": {},
   "outputs": [
    {
     "name": "stdout",
     "output_type": "stream",
     "text": [
      " Dataframes constructor\n",
      "xl\n",
      " Destructor \n",
      " Dataframes head data\n",
      "5\n",
      " Staticstics data mean \n",
      " Remove a specific colmun\n",
      " Destructor \n"
     ]
    }
   ],
   "source": [
    "# ALL operation in machine learning in one case study \n",
    "dataset = Dataframes(\"xl\",5,100)\n",
    "dataset.shape\n",
    "dataset.head(5)\n",
    "dataset.describe()\n",
    "dataset.drop('id',1)\n",
    "del dataset"
   ]
  },
  {
   "cell_type": "code",
   "execution_count": 78,
   "metadata": {},
   "outputs": [
    {
     "name": "stdout",
     "output_type": "stream",
     "text": [
      "['python', 1, 2018, 1.1]\n"
     ]
    }
   ],
   "source": [
    "List = [ \"python\" ,1, 2018,1.1 ]\n",
    "\n",
    "print(List)"
   ]
  },
  {
   "cell_type": "code",
   "execution_count": 79,
   "metadata": {},
   "outputs": [
    {
     "name": "stdout",
     "output_type": "stream",
     "text": [
      "['python', 1, 2018, 1.1, 'R']\n"
     ]
    }
   ],
   "source": [
    "List.append(\"R\");\n",
    "\n",
    "print(List)"
   ]
  },
  {
   "cell_type": "code",
   "execution_count": 85,
   "metadata": {},
   "outputs": [
    {
     "name": "stdout",
     "output_type": "stream",
     "text": [
      "['Z9', 'Dgb', 'Aloud']\n",
      "<class 'list'>\n",
      " set size  88\n"
     ]
    }
   ],
   "source": [
    "Offer = [ 'Z9' , 'Dgb', 'Aloud']\n",
    "print(Offer)\n",
    "print(type(Offer))\n",
    "print(\" set size \",sys.getsizeof(Offer))\n",
    "\n"
   ]
  },
  {
   "cell_type": "code",
   "execution_count": 87,
   "metadata": {},
   "outputs": [
    {
     "name": "stdout",
     "output_type": "stream",
     "text": [
      "{'Dgb', 'Z9', 'Aloud'}\n",
      "<class 'set'>\n",
      " set size  224\n"
     ]
    }
   ],
   "source": [
    "Offer = {  'Z9' , 'Dgb', 'Aloud'}\n",
    "print(Offer)\n",
    "print(type(Offer))\n",
    "print(\" set size \",sys.getsizeof(Offer))"
   ]
  },
  {
   "cell_type": "code",
   "execution_count": 88,
   "metadata": {},
   "outputs": [
    {
     "name": "stdout",
     "output_type": "stream",
     "text": [
      "{'Dgb', 'Z9', 'Aloud', 'pizza'}\n",
      " add  size  224\n"
     ]
    }
   ],
   "source": [
    "Offer.add('pizza')\n",
    "print(Offer)\n",
    "print(\" add  size \",sys.getsizeof(Offer))\n"
   ]
  },
  {
   "cell_type": "code",
   "execution_count": 89,
   "metadata": {},
   "outputs": [
    {
     "name": "stdout",
     "output_type": "stream",
     "text": [
      "{'Z9', 'Aloud', 'pizza'}\n",
      " pop  size  224\n"
     ]
    }
   ],
   "source": [
    "Offer.pop() # Removes from begining\n",
    "print(Offer)\n",
    "print(\" pop  size \",sys.getsizeof(Offer))"
   ]
  },
  {
   "cell_type": "code",
   "execution_count": 90,
   "metadata": {},
   "outputs": [
    {
     "name": "stdout",
     "output_type": "stream",
     "text": [
      "{'Lan': 'C', 'One': 'CPP', 'two': 'Java'}\n",
      "<class 'dict'>\n",
      " set size  240\n"
     ]
    }
   ],
   "source": [
    "Offer = { 'Lan': 'C' , 'One':'CPP', 'two':'Java'}\n",
    "print(Offer)\n",
    "print(type(Offer))\n",
    "print(\" set size \",sys.getsizeof(Offer))"
   ]
  },
  {
   "cell_type": "code",
   "execution_count": 93,
   "metadata": {},
   "outputs": [],
   "source": [
    "class Whatsuu3:\n",
    " views           =  82\n",
    " \n",
    " def   __init__(self ,time,status ):\n",
    "    Whatsuu3.views =  Whatsuu3.views+1\n",
    "    self.views          =  self.views+1\n",
    "    self.Time           =  [  ]\n",
    "    self.Time.append(time)\n",
    "    self.Time.append(status)\n",
    "    \n",
    " def   display(self ):\n",
    "     print(self.Time)\n",
    "\n",
    " def append(self ,data):\n",
    "      self.Time.append(data)\n",
    "\n",
    " def __del__(self ):\n",
    "    del self.Time"
   ]
  },
  {
   "cell_type": "code",
   "execution_count": 94,
   "metadata": {},
   "outputs": [
    {
     "name": "stdout",
     "output_type": "stream",
     "text": [
      "['12.53pm ', 'wow']\n",
      "2703715348744\n",
      "['12.53pm ', 'wow', 'like']\n"
     ]
    }
   ],
   "source": [
    "code1=Whatsuu3(\"12.53pm \",\"wow\")\n",
    "code1.display()\n",
    "code1.append(\"like\")\n",
    "print(id(code1.Time))\n",
    "code1.display()\n",
    "del code1"
   ]
  },
  {
   "cell_type": "code",
   "execution_count": 100,
   "metadata": {},
   "outputs": [],
   "source": [
    "class Whatsu1:\n",
    " Timeds           =  [  \"12:54 pm\" ,  82 , \"swuper\" ]"
   ]
  },
  {
   "cell_type": "code",
   "execution_count": 103,
   "metadata": {},
   "outputs": [],
   "source": [
    "class Whatsuu2:\n",
    " def   __init__(self):\n",
    "    self.Time           =  [  ]\n"
   ]
  },
  {
   "cell_type": "code",
   "execution_count": 106,
   "metadata": {},
   "outputs": [
    {
     "name": "stdout",
     "output_type": "stream",
     "text": [
      "56\n",
      "64\n",
      "['like1']\n"
     ]
    }
   ],
   "source": [
    "\n",
    "code=Whatsuu2()\n",
    "import sys\n",
    "print(sys.getsizeof(code))\n",
    "print(sys.getsizeof(code.Time))\n",
    "#print(code.Time[0])\n",
    "code.Time.append(\"like1\")\n",
    "print(code.Time)"
   ]
  },
  {
   "cell_type": "code",
   "execution_count": 107,
   "metadata": {},
   "outputs": [
    {
     "name": "stdout",
     "output_type": "stream",
     "text": [
      "96\n"
     ]
    }
   ],
   "source": [
    "print(sys.getsizeof(code.Time))\n"
   ]
  },
  {
   "cell_type": "code",
   "execution_count": 108,
   "metadata": {},
   "outputs": [],
   "source": [
    "class Whatsuu3:\n",
    " views           =  82           \n",
    " def   __init__(self):\n",
    "    Whatsuu3.views =  Whatsuu3.views+1\n",
    "    self.views          =  self.views+1\n",
    "    self.Time           =  [  \"12:55 pm\" ,  89 , \"sww4uper\" ]\n",
    "\n"
   ]
  },
  {
   "cell_type": "code",
   "execution_count": 109,
   "metadata": {},
   "outputs": [
    {
     "name": "stdout",
     "output_type": "stream",
     "text": [
      "12:55 pm\n",
      "['12:55 pm', 89, 'sww4uper', 'like1']\n"
     ]
    }
   ],
   "source": [
    "code1=Whatsuu3()\n",
    "print(code1.Time[0])\n",
    "code1.Time.append(\"like1\")\n",
    "print(code1.Time)\n"
   ]
  },
  {
   "cell_type": "code",
   "execution_count": null,
   "metadata": {},
   "outputs": [],
   "source": [
    "\"\"\"  Object memory -> array of pointer 56 bytes\n",
    "\n",
    "   comments->  1236085149040         1236085149041      1236085149042         1236085149043\n",
    "                                20                              05                                95                            6704\n",
    "\n",
    "   viewed->      1236085149036         1236085149037      1236085149038         1236085149039\n",
    "                               21                                51                         90                               9744176\n",
    "\n",
    "      Time->     1236085149032         1236085149033      1236085149034         1236085149035\n",
    "                                 21                                51                             90                          9888440\n",
    "\"\"\""
   ]
  },
  {
   "cell_type": "code",
   "execution_count": 335,
   "metadata": {},
   "outputs": [
    {
     "name": "stderr",
     "output_type": "stream",
     "text": [
      "C:\\Users\\jvt\\Anaconda3\\lib\\site-packages\\sklearn\\cross_validation.py:41: DeprecationWarning: This module was deprecated in version 0.18 in favor of the model_selection module into which all the refactored classes and functions are moved. Also note that the interface of the new CV iterators are different from that of this module. This module will be removed in 0.20.\n",
      "  \"This module will be removed in 0.20.\", DeprecationWarning)\n"
     ]
    }
   ],
   "source": [
    "# Load libraries\n",
    "\n",
    "# C:\\Users\\jvt\\Anaconda3\\Lib\\site-packages\\seaborn\n",
    "    \n",
    "import seaborn\n",
    "import pandas\n",
    "\n",
    "# C:\\Users\\jvt\\Anaconda3\\Lib\\site-packages\\matplotlib File name : pyplot new name plt\n",
    "\n",
    "import matplotlib.pyplot as plt\n",
    "\n",
    "# C:\\Users\\jvt\\Anaconda3\\Lib\\site-packages\\pandas\\tools File name : plotting    function : scatter_matrix\n",
    "\n",
    "from pandas.tools.plotting import scatter_matrix\n",
    "\n",
    "# C:\\Users\\jvt\\Anaconda3\\Lib\\site-packages\\sklearn  File name : cross_validation\n",
    "\n",
    "from sklearn import cross_validation\n",
    "\n",
    "# C:\\Users\\jvt\\Anaconda3\\Lib\\site-packages\\sklearn\\metrics classification.py   def classification_report()\n",
    "    \n",
    "from sklearn.metrics import classification_report\n",
    "from sklearn.metrics import confusion_matrix\n",
    "from sklearn.metrics import accuracy_score\n",
    "\n",
    "# C:\\Users\\jvt\\Anaconda3\\Lib\\site-packages\\sklearn\\linear_model  logistic.py  \n",
    "# class LogisticRegression(BaseEstimator, LinearClassifierMixin,SparseCoefMixin)\n",
    "    \n",
    "from sklearn.linear_model import LogisticRegression\n",
    "from sklearn.tree import DecisionTreeClassifier\n",
    "from sklearn.neighbors import KNeighborsClassifier\n",
    "from sklearn.discriminant_analysis import LinearDiscriminantAnalysis\n",
    "from sklearn.naive_bayes import GaussianNB\n",
    "from sklearn.svm import SVC"
   ]
  }
 ],
 "metadata": {
  "kernelspec": {
   "display_name": "Python [default]",
   "language": "python",
   "name": "python3"
  },
  "language_info": {
   "codemirror_mode": {
    "name": "ipython",
    "version": 3
   },
   "file_extension": ".py",
   "mimetype": "text/x-python",
   "name": "python",
   "nbconvert_exporter": "python",
   "pygments_lexer": "ipython3",
   "version": "3.5.5"
  }
 },
 "nbformat": 4,
 "nbformat_minor": 2
}
