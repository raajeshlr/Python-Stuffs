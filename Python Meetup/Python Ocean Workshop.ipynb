{
 "cells": [
  {
   "cell_type": "code",
   "execution_count": 90,
   "metadata": {
    "collapsed": false
   },
   "outputs": [
    {
     "name": "stdout",
     "output_type": "stream",
     "text": [
      " my Utube viewed  82\n"
     ]
    }
   ],
   "source": [
    "# Utube Data\n",
    "\n",
    "Time              =  \"12:52 pm\"\n",
    "viewed            =  82\n",
    "comments          = \"super\"\n",
    "print(\" my Utube viewed \", viewed)"
   ]
  },
  {
   "cell_type": "code",
   "execution_count": 99,
   "metadata": {
    "collapsed": false
   },
   "outputs": [
    {
     "name": "stdout",
     "output_type": "stream",
     "text": [
      "==========DISASSEMBLY CODE============= \n",
      "  2           0 LOAD_CONST               1 (23)\n",
      "              2 STORE_FAST               0 (a)\n",
      "\n",
      "  3           4 LOAD_CONST               2 (32)\n",
      "              6 STORE_FAST               1 (b)\n",
      "              8 LOAD_CONST               0 (None)\n",
      "             10 RETURN_VALUE\n",
      "None\n",
      "==========BYTE CODE================== \n",
      "Bytecode(<function C at 0x000001C31C173378>)\n",
      "==========CODE INFO================== \n",
      "Name:              C\n",
      "Filename:          <ipython-input-99-e17ccfc9c79b>\n",
      "Argument count:    0\n",
      "Kw-only arguments: 0\n",
      "Number of locals:  2\n",
      "Stack size:        1\n",
      "Flags:             OPTIMIZED, NEWLOCALS, NOFREE\n",
      "Constants:\n",
      "   0: None\n",
      "   1: 23\n",
      "   2: 32\n",
      "Variable names:\n",
      "   0: a\n",
      "   1: b\n",
      "=========HIGH LEVEL LANG===============\n",
      "Name:              C\n",
      "Filename:          <ipython-input-99-e17ccfc9c79b>\n",
      "Argument count:    0\n",
      "Kw-only arguments: 0\n",
      "Number of locals:  2\n",
      "Stack size:        1\n",
      "Flags:             OPTIMIZED, NEWLOCALS, NOFREE\n",
      "Constants:\n",
      "   0: None\n",
      "   1: 23\n",
      "   2: 32\n",
      "Variable names:\n",
      "   0: a\n",
      "   1: b\n",
      "None\n"
     ]
    }
   ],
   "source": [
    "def C(  ):\n",
    "      a=23\n",
    "      b=32\n",
    "\n",
    "import dis\n",
    "print(\"==========DISASSEMBLY CODE============= \")\n",
    "print(dis.dis(C))\n",
    "print(\"==========BYTE CODE================== \")\n",
    "print(dis.Bytecode(C))\n",
    "print(\"==========CODE INFO================== \")\n",
    "print(dis.code_info(C))\n",
    "print(\"=========HIGH LEVEL LANG===============\")\n",
    "print(dis.show_code(C))"
   ]
  },
  {
   "cell_type": "code",
   "execution_count": 91,
   "metadata": {
    "collapsed": false
   },
   "outputs": [
    {
     "data": {
      "text/plain": [
       "2"
      ]
     },
     "execution_count": 91,
     "metadata": {},
     "output_type": "execute_result"
    }
   ],
   "source": [
    "import sys\n",
    "sys.getrefcount(Time)"
   ]
  },
  {
   "cell_type": "code",
   "execution_count": 92,
   "metadata": {
    "collapsed": true
   },
   "outputs": [],
   "source": [
    "# Object are structures allocated on the Heap contains info\n",
    "\n",
    "# Utube Time Object Internals \n",
    "\n",
    "# ob_refcnt  # Memory which is pointed by multiple objects  \n",
    "# ob_type    # str\n",
    "# ob_size    # memory size"
   ]
  },
  {
   "cell_type": "code",
   "execution_count": 37,
   "metadata": {
    "collapsed": true
   },
   "outputs": [],
   "source": [
    "# python Functions\n",
    "\n",
    "def  Utube():\n",
    " Time            =  \"12:52 pm\"\n",
    " viewed          =  82\n",
    " comments        = \"super\"\n",
    " print(\" my videos viewed \", viewed)\n",
    " print(sys.getrefcount(Time))   "
   ]
  },
  {
   "cell_type": "code",
   "execution_count": 38,
   "metadata": {
    "collapsed": false
   },
   "outputs": [
    {
     "name": "stdout",
     "output_type": "stream",
     "text": [
      " my videos viewed  82\n",
      "3\n"
     ]
    }
   ],
   "source": [
    "Utube()  # Function call "
   ]
  },
  {
   "cell_type": "code",
   "execution_count": 39,
   "metadata": {
    "collapsed": true
   },
   "outputs": [],
   "source": [
    "def  Whatsup( a ,b ):\n",
    "     print(a,b)"
   ]
  },
  {
   "cell_type": "code",
   "execution_count": 41,
   "metadata": {
    "collapsed": false
   },
   "outputs": [
    {
     "name": "stdout",
     "output_type": "stream",
     "text": [
      "2 3\n",
      "5 jt\n"
     ]
    }
   ],
   "source": [
    " Whatsup(2,3)\n",
    "   \n",
    " Whatsup(5,\"jt\")"
   ]
  },
  {
   "cell_type": "code",
   "execution_count": 42,
   "metadata": {
    "collapsed": false
   },
   "outputs": [
    {
     "data": {
      "text/plain": [
       "14.0"
      ]
     },
     "execution_count": 42,
     "metadata": {},
     "output_type": "execute_result"
    }
   ],
   "source": [
    "# C:\\Users\\jvt\\AppData\\Local\\Programs\\Python\\Python36\\Lib\\ctypes\n",
    "\n",
    "import ctypes             # Folder access \n",
    "\n",
    "from ctypes import util   # From Folder the File access \n",
    "\n",
    "util._get_build_version() # From file we invoke the Function "
   ]
  },
  {
   "cell_type": "code",
   "execution_count": 43,
   "metadata": {
    "collapsed": true
   },
   "outputs": [],
   "source": [
    " import dis\n",
    "    \n",
    "obj = dis.Bytecode(Whatsup)\n"
   ]
  },
  {
   "cell_type": "code",
   "execution_count": 44,
   "metadata": {
    "collapsed": false
   },
   "outputs": [
    {
     "name": "stdout",
     "output_type": "stream",
     "text": [
      "  2           0 LOAD_GLOBAL              0 (print)\n",
      "              2 LOAD_FAST                0 (a)\n",
      "              4 LOAD_FAST                1 (b)\n",
      "              6 CALL_FUNCTION            2\n",
      "              8 POP_TOP\n",
      "             10 LOAD_CONST               0 (None)\n",
      "             12 RETURN_VALUE\n"
     ]
    }
   ],
   "source": [
    " # Byte code\n",
    "\n",
    "dis.dis(Whatsup)\n"
   ]
  },
  {
   "cell_type": "code",
   "execution_count": 48,
   "metadata": {
    "collapsed": false
   },
   "outputs": [
    {
     "name": "stdout",
     "output_type": "stream",
     "text": [
      " my Whatsup viewed  82\n",
      "  viewed address  1436055136\n",
      " Time address  1937420406064\n",
      " comments address  1937348028376\n"
     ]
    }
   ],
   "source": [
    "# Part 2\n",
    "\n",
    "class Utube:\n",
    " Time           =  \"12:52 pm\"\n",
    " viewed        =  82\n",
    " comments   = \"super\"\n",
    " print(\" my Whatsup viewed \", viewed)\n",
    " print(\"  viewed address \", id(viewed))\n",
    " print(\" Time address \", id(Time))\n",
    " print(\" comments address \", id(comments))\n"
   ]
  },
  {
   "cell_type": "code",
   "execution_count": 49,
   "metadata": {
    "collapsed": false
   },
   "outputs": [
    {
     "data": {
      "text/plain": [
       "mappingproxy({'__module__': '__main__',\n",
       "              'Time': '12:52 pm',\n",
       "              'viewed': 82,\n",
       "              'comments': 'super',\n",
       "              '__dict__': <attribute '__dict__' of 'Utube' objects>,\n",
       "              '__weakref__': <attribute '__weakref__' of 'Utube' objects>,\n",
       "              '__doc__': None})"
      ]
     },
     "execution_count": 49,
     "metadata": {},
     "output_type": "execute_result"
    }
   ],
   "source": [
    "Utube.__dict__"
   ]
  },
  {
   "cell_type": "code",
   "execution_count": 55,
   "metadata": {
    "collapsed": true
   },
   "outputs": [],
   "source": [
    "class Utube:\n",
    "               \n",
    " def  __init__(self):\n",
    "  self.Time           =  \"12:53 pm\"        # single pointer poiniting to individual data\n",
    "  self.viewed        =  85\n",
    "  self.comments   = \"wow\"\n",
    "  print(\" my Whatsu viewed \", self.viewed)\n",
    "  print(\" my Whatsu address \", id(self.viewed))\n",
    "  print(\" my Whatsu address \", id(self.Time))\n",
    "  print(\" my Whatsu address \", id(self.comments))\n"
   ]
  },
  {
   "cell_type": "code",
   "execution_count": 56,
   "metadata": {
    "collapsed": false
   },
   "outputs": [
    {
     "name": "stdout",
     "output_type": "stream",
     "text": [
      " my Whatsu viewed  85\n",
      " my Whatsu address  1436055232\n",
      " my Whatsu address  1937420431728\n",
      " my Whatsu address  1937420388200\n"
     ]
    },
    {
     "data": {
      "text/plain": [
       "<__main__.Utube at 0x1c317410cf8>"
      ]
     },
     "execution_count": 56,
     "metadata": {},
     "output_type": "execute_result"
    }
   ],
   "source": [
    "Utube()"
   ]
  },
  {
   "cell_type": "code",
   "execution_count": 57,
   "metadata": {
    "collapsed": true
   },
   "outputs": [],
   "source": [
    "class Utube:\n",
    " def __init__(self):\n",
    "  print(self)\n",
    "  print(\" python constructor\")\n",
    "  self.Lang=\"python\"\n",
    "  self.Rank = 1\n",
    "  self.year=2018\n",
    "  self.version=3.6\n",
    "  print(self.version)"
   ]
  },
  {
   "cell_type": "code",
   "execution_count": 59,
   "metadata": {
    "collapsed": false
   },
   "outputs": [
    {
     "name": "stdout",
     "output_type": "stream",
     "text": [
      "<__main__.Utube object at 0x000001C31741F208>\n",
      " python constructor\n",
      "3.6\n"
     ]
    },
    {
     "data": {
      "text/plain": [
       "<__main__.Utube at 0x1c31741f208>"
      ]
     },
     "execution_count": 59,
     "metadata": {},
     "output_type": "execute_result"
    }
   ],
   "source": [
    "Utube()  # does this work \"\" BEATING CODE IPL 20-20 \"\""
   ]
  },
  {
   "cell_type": "code",
   "execution_count": 60,
   "metadata": {
    "collapsed": false
   },
   "outputs": [
    {
     "data": {
      "text/plain": [
       "'python'"
      ]
     },
     "execution_count": 60,
     "metadata": {},
     "output_type": "execute_result"
    }
   ],
   "source": [
    "Utube= [ \"python\" ,  1 , 2018 ,3.6 ]\n",
    "    \n",
    "Utube[0]"
   ]
  },
  {
   "cell_type": "code",
   "execution_count": 65,
   "metadata": {
    "collapsed": true
   },
   "outputs": [],
   "source": [
    "class pandas:\n",
    " shape =[] # list \n",
    " def __init__(self):\n",
    "  self.type=\"csv\"\n",
    "  self.columns= 0\n",
    "  self.rows=0\n",
    "  pandas.shape =(100,5)\n",
    "  print(\" pandas constructor\")\n",
    "  print( self.type)\n",
    " def head(  ):\n",
    "  print(\" pandas head\")\n",
    "  self.rows=5\n",
    "  print(self.rows) "
   ]
  },
  {
   "cell_type": "code",
   "execution_count": 66,
   "metadata": {
    "collapsed": false
   },
   "outputs": [
    {
     "name": "stdout",
     "output_type": "stream",
     "text": [
      " Dataframes constructor\n",
      "csv\n"
     ]
    }
   ],
   "source": [
    "dataset = pandas()"
   ]
  },
  {
   "cell_type": "code",
   "execution_count": 67,
   "metadata": {
    "collapsed": false
   },
   "outputs": [
    {
     "data": {
      "text/plain": [
       "(100, 5)"
      ]
     },
     "execution_count": 67,
     "metadata": {},
     "output_type": "execute_result"
    }
   ],
   "source": [
    "dataset.shape"
   ]
  },
  {
   "cell_type": "code",
   "execution_count": 72,
   "metadata": {
    "collapsed": true
   },
   "outputs": [],
   "source": [
    "class pandas:\n",
    " shape =(0,0)\n",
    " def __init__(self,typ,col,row):\n",
    "  self.type=typ\n",
    "  self.columns= col\n",
    "  self.rows=row\n",
    "  print(\" pandas constructor\")\n",
    "  print( self.type)\n",
    " def describe(self):\n",
    "  print(\" Staticstics data mean \")\n",
    " def head(self ,  i):\n",
    "  print(\" pandas head data\")\n",
    "  self.rows=5\n",
    "  print(self.rows) \n",
    " def drop(self , id ,num):\n",
    "    print(\" Remove a specific colmun\")\n",
    " def __del__(self):\n",
    "    print(\" Destructor \")"
   ]
  },
  {
   "cell_type": "code",
   "execution_count": 73,
   "metadata": {
    "collapsed": false
   },
   "outputs": [
    {
     "name": "stdout",
     "output_type": "stream",
     "text": [
      " pandas constructor\n",
      "xl\n",
      " Destructor \n"
     ]
    }
   ],
   "source": [
    "# ALL operation in machine learning in one case study \n",
    "dataset = pandas(\"xl\",5,100)"
   ]
  },
  {
   "cell_type": "code",
   "execution_count": 74,
   "metadata": {
    "collapsed": false
   },
   "outputs": [
    {
     "name": "stdout",
     "output_type": "stream",
     "text": [
      " pandas constructor\n",
      "xl\n",
      " Destructor \n",
      " pandas head data\n",
      "5\n",
      " Staticstics data mean \n",
      " Remove a specific colmun\n",
      " Destructor \n"
     ]
    }
   ],
   "source": [
    "# ALL operation in machine learning in one case study \n",
    "dataset = pandas(\"xl\",5,100)\n",
    "dataset.shape\n",
    "dataset.head(5)\n",
    "dataset.describe()\n",
    "dataset.drop('id',1)\n",
    "del dataset"
   ]
  },
  {
   "cell_type": "code",
   "execution_count": 98,
   "metadata": {
    "collapsed": false
   },
   "outputs": [
    {
     "name": "stdout",
     "output_type": "stream",
     "text": [
      "('$9', '20 gb', 'Cloud')\n",
      "$9\n",
      "1937501635392 1937501635168 1937501634944\n",
      "<class 'tuple'>\n",
      "sizeof tuple 72\n",
      "0\n",
      "1\n"
     ]
    }
   ],
   "source": [
    "\"\"\" Tuple objects \"\"\"\n",
    "\n",
    "Offer = ( \"$9\" , \"20 gb\", \"Cloud\")\n",
    "\n",
    "print(Offer)\n",
    "print(Offer[0])\n",
    "print(id(Offer[0]),id(Offer[1]),id(Offer[2]))\n",
    "print(type(Offer))\n",
    "\n",
    "import sys\n",
    "print(\"sizeof tuple\",sys.getsizeof(Offer))\n",
    "print(Offer.index('$9'))\n",
    "print(Offer.count('20 gb'))\n",
    "del Offer              # Its mandatory for DS Objects to resue heap memory "
   ]
  },
  {
   "cell_type": "code",
   "execution_count": 75,
   "metadata": {
    "collapsed": false
   },
   "outputs": [
    {
     "name": "stdout",
     "output_type": "stream",
     "text": [
      "['python', 1, 2018, 1.1]\n"
     ]
    }
   ],
   "source": [
    "List = [ \"python\" ,1, 2018,1.1 ]\n",
    "\n",
    "print(List)"
   ]
  },
  {
   "cell_type": "code",
   "execution_count": 76,
   "metadata": {
    "collapsed": false
   },
   "outputs": [
    {
     "name": "stdout",
     "output_type": "stream",
     "text": [
      "['python', 1, 2018, 1.1, 'R']\n"
     ]
    }
   ],
   "source": [
    "List.append(\"R\");\n",
    "\n",
    "print(List)"
   ]
  },
  {
   "cell_type": "code",
   "execution_count": 77,
   "metadata": {
    "collapsed": false
   },
   "outputs": [
    {
     "name": "stdout",
     "output_type": "stream",
     "text": [
      "['Z9', 'Dgb', 'Aloud']\n",
      "<class 'list'>\n",
      " set size  88\n"
     ]
    }
   ],
   "source": [
    "Offer = [ 'Z9' , 'Dgb', 'Aloud']\n",
    "print(Offer)\n",
    "print(type(Offer))\n",
    "import sys\n",
    "print(\" set size \",sys.getsizeof(Offer))"
   ]
  },
  {
   "cell_type": "code",
   "execution_count": 94,
   "metadata": {
    "collapsed": false
   },
   "outputs": [
    {
     "name": "stdout",
     "output_type": "stream",
     "text": [
      "['12.53pm ', 'wow']\n",
      "1937501547592\n",
      "['12.53pm ', 'wow', 'like']\n",
      "['11.53pm ', 'enjoying']\n",
      "1937501649288\n",
      "['11.53pm ', 'enjoying', 'sharing']\n"
     ]
    }
   ],
   "source": [
    "class Whatsuu3:\n",
    " views           =  82\n",
    " \n",
    " def   __init__(self ,time,status ):\n",
    "    Whatsuu3.views =  Whatsuu3.views+1\n",
    "    self.views          =  self.views+1\n",
    "    self.Time           =  [  ]\n",
    "    self.Time.append(time)\n",
    "    self.Time.append(status)\n",
    "    \n",
    " def   display(self ):\n",
    "     print(self.Time)\n",
    "\n",
    " def append(self ,data):\n",
    "      self.Time.append(data)\n",
    "\n",
    " def __del__(self ):\n",
    "    del self.Time\n",
    "    \n",
    "code1=Whatsuu3(\"12.53pm \",\"wow\")\n",
    "code1.display()\n",
    "code1.append(\"like\")\n",
    "print(id(code1.Time))\n",
    "code1.display()\n",
    "del code1\n",
    "\n",
    "code2=Whatsuu3(\"11.53pm \",\"enjoying\")\n",
    "code2.display()\n",
    "code2.append(\"sharing\")\n",
    "print(id(code2.Time))\n",
    "code2.display()\n",
    "del code2"
   ]
  },
  {
   "cell_type": "code",
   "execution_count": 97,
   "metadata": {
    "collapsed": false
   },
   "outputs": [
    {
     "name": "stdout",
     "output_type": "stream",
     "text": [
      " listsize  88\n",
      "<class 'list'>\n",
      "['$9', '20 gb', 'Cloud']\n",
      "1937420530272 1937501580008 1937501578496\n",
      "Cloud\n",
      "20 gb\n",
      "['$9', '20 gb', 'Cloud']\n",
      "append data ['$9', '20 gb', 'Cloud', 45]\n",
      "1937420530272 1937501580008 1937501578496 1436053952\n",
      "gray data ['$9', '20 gb', 'gray', 'purple']\n",
      "extend data ['$9', '20 gb', 'gray', 'purple', 'pink', 'purple']\n",
      "reverse data ['purple', 'pink', 'purple', 'gray', '20 gb', '$9']\n",
      " append size  120\n",
      "insert  data ['purple', 'pink', 'python vampire', 'purple', 'gray', '20 gb', '$9']\n",
      "Address 1937419117712 1937419117600 1937501548464 1937419117712\n",
      "Address 1937419116760 1937501580008 1937420530272\n",
      "pop data ['purple', 'pink', 'python vampire', 'purple', 'gray', '20 gb']\n",
      " pop  size  120\n",
      "remove data ['pink', 'python vampire', 'purple', 'gray', '20 gb']\n",
      " clear  size  64\n",
      "clear data []\n"
     ]
    }
   ],
   "source": [
    "Offer = [ \"$9\" , \"20 gb\", \"Cloud\"]\n",
    "\n",
    "print(\" listsize \",sys.getsizeof(Offer))\n",
    "print(type(Offer))\n",
    "print(Offer)\n",
    "print(id(Offer[0]),id(Offer[1]),id(Offer[2]))\n",
    "\n",
    "\n",
    "print(Offer[-1])\n",
    "print(Offer[-2])\n",
    "print(Offer[0:3])\n",
    "\n",
    "Offer.append(45)\n",
    "print(\"append data\",Offer)\n",
    "\n",
    "print(id(Offer[0]),id(Offer[1]),id(Offer[2]),id(Offer[3]))\n",
    "\n",
    "Offer[2:4] = ['gray', 'purple']\n",
    "print(\"gray data\",Offer)\n",
    "\n",
    "Offer.extend(['pink', 'purple'])\n",
    "print(\"extend data\",Offer)\n",
    "\n",
    "Offer.reverse()\n",
    "print(\"reverse data\",Offer)\n",
    "\n",
    "print(\" append size \",sys.getsizeof(Offer))\n",
    "Offer.insert(2,\"python vampire\")\n",
    "\n",
    "print( \"insert  data\",Offer)\n",
    "print(\"Address\",id(Offer[0]),id(Offer[1]),id(Offer[2]),id(Offer[3]))\n",
    "print(\"Address\",id(Offer[4]),id(Offer[5]),id(Offer[6]))\n",
    "\n",
    "Offer.pop()\n",
    "print(\"pop data\",Offer)\n",
    "print(\" pop  size \",sys.getsizeof(Offer))\n",
    "\n",
    "Offer.remove('purple')\n",
    "print(\"remove data\",Offer)\n",
    "\n",
    "Offer.clear()\n",
    "\n",
    "print(\" clear  size \",sys.getsizeof(Offer))\n",
    "\n",
    "\n",
    "print(\"clear data\",Offer)\n",
    "del Offer\n"
   ]
  },
  {
   "cell_type": "code",
   "execution_count": 78,
   "metadata": {
    "collapsed": false
   },
   "outputs": [
    {
     "name": "stdout",
     "output_type": "stream",
     "text": [
      "{'Dgb', 'Aloud', 'Z9'}\n",
      "<class 'set'>\n",
      " set size  224\n"
     ]
    }
   ],
   "source": [
    "Offer = {  'Z9' , 'Dgb', 'Aloud'}\n",
    "print(Offer)\n",
    "print(type(Offer))\n",
    "print(\" set size \",sys.getsizeof(Offer))"
   ]
  },
  {
   "cell_type": "code",
   "execution_count": 79,
   "metadata": {
    "collapsed": false
   },
   "outputs": [
    {
     "name": "stdout",
     "output_type": "stream",
     "text": [
      "{'pizza', 'Dgb', 'Aloud', 'Z9'}\n",
      " add  size  224\n"
     ]
    }
   ],
   "source": [
    "Offer.add('pizza')\n",
    "print(Offer)\n",
    "print(\" add  size \",sys.getsizeof(Offer))"
   ]
  },
  {
   "cell_type": "code",
   "execution_count": 96,
   "metadata": {
    "collapsed": false
   },
   "outputs": [
    {
     "name": "stdout",
     "output_type": "stream",
     "text": [
      "<class 'dict'>\n",
      "{'Price': '$9', 'Usage': '20 gb', 'Os': 'Cloud'}\n",
      "$9\n",
      "1937501578888 1937501580232 1937501578944\n",
      "keys dict_keys(['Price', 'Usage', 'Os'])\n",
      "values dict_values(['$9', '20 gb', 'Cloud'])\n",
      " before size  240\n",
      " pop data  {'Price': '$9', 'Usage': '20 gb'}\n",
      " pop  size  240\n",
      " pop  item  {'Price': '$9'}\n",
      " popitem  size  240\n",
      "update value  {'Price': '$9', 'pizza': 'large'}\n"
     ]
    }
   ],
   "source": [
    "Offer = { 'Price': '$9' , 'Usage':'20 gb','Os': 'Cloud'}\n",
    "\n",
    "print(type(Offer))\n",
    "\n",
    "print(Offer)\n",
    "\n",
    "print(Offer['Price'])\n",
    "\n",
    "print(id(Offer['Price']),id(Offer['Usage']),id(Offer['Os']))\n",
    "\n",
    "print(\"keys\", Offer.keys())\n",
    "\n",
    "print(\"values\",Offer.values())\n",
    "\n",
    "print(\" before size \",sys.getsizeof(Offer))\n",
    "\n",
    "Offer.pop('Os')    # delete based on key\n",
    "\n",
    "print(\" pop data \",Offer)\n",
    "\n",
    "print(\" pop  size \",sys.getsizeof(Offer))\n",
    "\n",
    "Offer.popitem()  # delete last element\n",
    "\n",
    "print(\" pop  item \",Offer)\n",
    "\n",
    "print(\" popitem  size \",sys.getsizeof(Offer))\n",
    "\n",
    "Offer.update({'pizza':'large'})\n",
    "\n",
    "print(\"update value \",Offer)\n"
   ]
  },
  {
   "cell_type": "code",
   "execution_count": 93,
   "metadata": {
    "collapsed": false
   },
   "outputs": [
    {
     "name": "stdout",
     "output_type": "stream",
     "text": [
      "{'Dgb', 'Aloud', 'Z9'}\n",
      "<class 'set'>\n",
      " set size  224\n",
      "{'pizza', 'Dgb', 'Aloud', 'Z9'}\n",
      " add  size  224\n",
      "{'Dgb', 'Aloud', 'Z9'}\n",
      " pop  size  224\n"
     ]
    }
   ],
   "source": [
    "# set \n",
    "\n",
    "import sys\n",
    "Offer = {  'Z9' , 'Dgb', 'Aloud'}\n",
    "print(Offer)\n",
    "print(type(Offer))\n",
    "print(\" set size \",sys.getsizeof(Offer))\n",
    "Offer.add('pizza')\n",
    "print(Offer)\n",
    "print(\" add  size \",sys.getsizeof(Offer))\n",
    "Offer.pop() # Removes from begining\n",
    "print(Offer)\n",
    "print(\" pop  size \",sys.getsizeof(Offer))"
   ]
  },
  {
   "cell_type": "code",
   "execution_count": 84,
   "metadata": {
    "collapsed": true
   },
   "outputs": [],
   "source": [
    "class Utub:\n",
    " views           =  123\n",
    " \n",
    " def   __init__(self ,time,status ):\n",
    "    Utub.views =  Utub.views+1\n",
    "    self.views          =  self.views+1\n",
    "    self.Time           =  [  ]\n",
    "    self.Time.append(time)\n",
    "    self.Time.append(status)\n",
    "    \n",
    " def   display(self ):\n",
    "     print(self.Time)\n",
    "\n",
    " def append(self ,data):\n",
    "      self.Time.append(data)\n",
    "\n",
    " def __del__(self ):\n",
    "    del self.Time"
   ]
  },
  {
   "cell_type": "code",
   "execution_count": 85,
   "metadata": {
    "collapsed": false
   },
   "outputs": [
    {
     "name": "stdout",
     "output_type": "stream",
     "text": [
      "['12.53pm ', 'wow']\n",
      "1937420295688\n",
      "['12.53pm ', 'wow', 'like']\n"
     ]
    }
   ],
   "source": [
    "code1=Utub(\"12.53pm \",\"wow\")\n",
    "code1.display()\n",
    "code1.append(\"like\")\n",
    "print(id(code1.Time))\n",
    "code1.display()\n",
    "del code1"
   ]
  },
  {
   "cell_type": "code",
   "execution_count": 87,
   "metadata": {
    "collapsed": true
   },
   "outputs": [],
   "source": [
    "# Load libraries\n",
    "\n",
    "# C:\\Users\\jvt\\Anaconda3\\Lib\\site-packages\\seaborn\n",
    "    \n",
    "import seaborn\n",
    "import pandas\n",
    "\n",
    "# C:\\Users\\jvt\\Anaconda3\\Lib\\site-packages\\matplotlib File name : pyplot new name plt\n",
    "\n",
    "import matplotlib.pyplot as plt\n",
    "\n",
    "# C:\\Users\\jvt\\Anaconda3\\Lib\\site-packages\\pandas\\tools File name : plotting    function : scatter_matrix\n",
    "\n",
    "from pandas.tools.plotting import scatter_matrix\n",
    "\n",
    "# C:\\Users\\jvt\\Anaconda3\\Lib\\site-packages\\sklearn  File name : cross_validation\n",
    "\n",
    "from sklearn import cross_validation\n",
    "\n",
    "# C:\\Users\\jvt\\Anaconda3\\Lib\\site-packages\\sklearn\\metrics classification.py   def classification_report()\n",
    "    \n",
    "from sklearn.metrics import classification_report\n",
    "from sklearn.metrics import confusion_matrix\n",
    "from sklearn.metrics import accuracy_score\n",
    "\n",
    "# C:\\Users\\jvt\\Anaconda3\\Lib\\site-packages\\sklearn\\linear_model  logistic.py  \n",
    "# class LogisticRegression(BaseEstimator, LinearClassifierMixin,SparseCoefMixin)\n",
    "    \n",
    "from sklearn.linear_model import LogisticRegression\n",
    "from sklearn.tree import DecisionTreeClassifier\n",
    "from sklearn.neighbors import KNeighborsClassifier\n",
    "from sklearn.discriminant_analysis import LinearDiscriminantAnalysis\n",
    "from sklearn.naive_bayes import GaussianNB\n",
    "from sklearn.svm import SVC"
   ]
  },
  {
   "cell_type": "code",
   "execution_count": 88,
   "metadata": {
    "collapsed": false
   },
   "outputs": [
    {
     "data": {
      "text/plain": [
       "{'__name__': '__main__',\n",
       " '__doc__': 'Automatically created module for IPython interactive environment',\n",
       " '__package__': None,\n",
       " '__loader__': None,\n",
       " '__spec__': None,\n",
       " '__builtin__': <module 'builtins' (built-in)>,\n",
       " '__builtins__': <module 'builtins' (built-in)>,\n",
       " '_ih': ['',\n",
       "  '# Whatsup Data\\n\\nTime              =  \"12:52 pm\"\\nviewed            =  82\\ncomments          = \"super\"\\nprint(\" my status viewed \", viewed)',\n",
       "  'import sys\\nsys.getcount(Time)',\n",
       "  '# Whatsup Data\\n\\nTime              =  \"12:52 pm\"\\nviewed            =  82\\ncomments          = \"super\"\\nprint(\" my status viewed \", viewed)',\n",
       "  'import sys\\nsys.getcount(Time)',\n",
       "  'import sys\\nsys.getref(Time)',\n",
       "  'import sys\\nsys.getrefcount(Time)',\n",
       "  '# Whatsup Data\\n\\nTime              =  \"12:52 pm\"\\nviewed            =  82\\ncomments          = \"super\"\\nprint(\" my status viewed \", viewed)',\n",
       "  'import sys\\nsys.getrefcount(Time)',\n",
       "  '# Whatsup Data\\n\\nTime              =  \"12:52 pm\"\\nviewed            =  82\\ncomments          = \"super\"\\nprint(\" my status viewed \", viewed)',\n",
       "  'import sys\\nsys.getrefcount(Time)',\n",
       "  '# Object are structures allocated on the Heap contains info\\n\\n# Time Object Internals \\n\\n# ob_refcnt  # Memory which is pointed by multiple objects  \\n# ob_type    # str\\n# ob_size    # memory size',\n",
       "  '# python Functions\\n\\ndef  Whatsup():\\n Time            =  \"12:52 pm\"\\n viewed          =  82\\n comments        = \"super\"\\n print(\" my status viewed \", viewed)',\n",
       "  '# python Functions\\n\\ndef  Whatsup():\\n Time            =  \"12:52 pm\"\\n viewed          =  82\\n comments        = \"super\"\\n print(\" my status viewed \", viewed)\\n print(sys.getrefcount(Time))   ',\n",
       "  'Whatsup()  # Function call ',\n",
       "  '# Whatsup Data\\n\\nTime              =  \"12:52 pm\"\\nviewed            =  82\\ncomments          = \"super\"\\nprint(\" my status viewed \", viewed)',\n",
       "  'import sys\\nsys.getrefcount(Time)',\n",
       "  '# Object are structures allocated on the Heap contains info\\n\\n# Time Object Internals \\n\\n# ob_refcnt  # Memory which is pointed by multiple objects  \\n# ob_type    # str\\n# ob_size    # memory size',\n",
       "  '# python Functions\\n\\ndef  Whatsup():\\n Time            =  \"12:52 pm\"\\n viewed          =  82\\n comments        = \"super\"\\n print(\" my status viewed \", viewed)\\n print(sys.getrefcount(Time))   ',\n",
       "  'Whatsup()  # Function call ',\n",
       "  'Whatsup(2,3)\\n  \\nWhatsup(5,\"jt\")',\n",
       "  'def  Whatsup( a ,b ):\\n     print(a,b)',\n",
       "  'Whatsup(2,3)\\n  \\nWhatsup(5,\"jt\")',\n",
       "  '# C:\\\\Users\\\\jvt\\\\AppData\\\\Local\\\\Programs\\\\Python\\\\Python36\\\\Lib\\\\ctypes\\n\\nimport ctypes             # Folder access \\n\\nfrom ctypes import util   # From Folder the File access \\n\\nutil._get_build_version() # From file we invoke the Function ',\n",
       "  'import dis\\n   \\nobj = dis.Bytecode(Whatsup)',\n",
       "  '# Byte code\\n\\ndis.dis(Whatsup)',\n",
       "  '# Part 2\\n\\nclass Whatsup:\\n Time           =  \"12:52 pm\"\\n viewed        =  82\\n comments   = \"super\"\\n print(\" my Whatsup viewed \", viewed)\\n print(\"  viewed address \", id(viewed))\\n print(\" Time address \", id(Time))\\n print(\" comments address \", id(comments))',\n",
       "  'Whatsup.__dict__',\n",
       "  '# Utube Data\\n\\nTime              =  \"12:52 pm\"\\nviewed            =  82\\ncomments          = \"super\"\\nprint(\" my status viewed \", viewed)',\n",
       "  '# Utube Data\\n\\nTime              =  \"12:52 pm\"\\nviewed            =  82\\ncomments          = \"super\"\\nprint(\" my Utube viewed \", viewed)',\n",
       "  'import sys\\nsys.getrefcount(Time)',\n",
       "  '# Object are structures allocated on the Heap contains info\\n\\n# Time Object Internals \\n\\n# ob_refcnt  # Memory which is pointed by multiple objects  \\n# ob_type    # str\\n# ob_size    # memory size',\n",
       "  '# python Functions\\n\\ndef  Utube():\\n Time            =  \"12:52 pm\"\\n viewed          =  82\\n comments        = \"super\"\\n print(\" my status viewed \", viewed)\\n print(sys.getrefcount(Time))   ',\n",
       "  'Whatsup()  # Function call ',\n",
       "  'Utube()  # Function call ',\n",
       "  '# python Functions\\n\\ndef  Utube():\\n Time            =  \"12:52 pm\"\\n viewed          =  82\\n comments        = \"super\"\\n print(\" my status viewed \", viewed)\\n print(sys.getrefcount(Time))   ',\n",
       "  'Utube()  # Function call ',\n",
       "  '# python Functions\\n\\ndef  Utube():\\n Time            =  \"12:52 pm\"\\n viewed          =  82\\n comments        = \"super\"\\n print(\" my videos viewed \", viewed)\\n print(sys.getrefcount(Time))   ',\n",
       "  'Utube()  # Function call ',\n",
       "  'def  Whatsup( a ,b ):\\n     print(a,b)',\n",
       "  'Whatsup(2,3)\\n  \\nWhatsup(5,\"jt\")',\n",
       "  'Whatsup(2,3)\\n  \\nWhatsup(5,\"jt\")',\n",
       "  '# C:\\\\Users\\\\jvt\\\\AppData\\\\Local\\\\Programs\\\\Python\\\\Python36\\\\Lib\\\\ctypes\\n\\nimport ctypes             # Folder access \\n\\nfrom ctypes import util   # From Folder the File access \\n\\nutil._get_build_version() # From file we invoke the Function ',\n",
       "  'import dis\\n   \\nobj = dis.Bytecode(Whatsup)',\n",
       "  '# Byte code\\n\\ndis.dis(Whatsup)',\n",
       "  '# Part 2\\n\\nclass Utube:\\n Time           =  \"12:52 pm\"\\n viewed        =  82\\n comments   = \"super\"\\n print(\" my Whatsup viewed \", viewed)\\n print(\"  viewed address \", id(viewed))\\n print(\" Time address \", id(Time))\\n print(\" comments address \", id(comments))',\n",
       "  'Whatsup.__dict__',\n",
       "  'Utube.__dict__',\n",
       "  '# Part 2\\n\\nclass Utube:\\n Time           =  \"12:52 pm\"\\n viewed        =  82\\n comments   = \"super\"\\n print(\" my Whatsup viewed \", viewed)\\n print(\"  viewed address \", id(viewed))\\n print(\" Time address \", id(Time))\\n print(\" comments address \", id(comments))',\n",
       "  'Utube.__dict__',\n",
       "  'class Utube:\\n               \\n def  __init__(self):\\n  self.Time           =  \"12:53 pm\"        # single pointer poiniting to individual data\\n  self.viewed        =  85\\n  self.comments   = \"wow\"\\n  print(\" my Whatsu viewed \", self.viewed)\\n  print(\" my Whatsu address \", id(self.viewed))\\n  print(\" my Whatsu address \", id(self.Time))\\n  print(\" my Whatsu address \", id(self.comments))',\n",
       "  'Utube()',\n",
       "  'class Utube:\\n               \\n def  __init__(self):\\n  self.Time           =  \"12:53 pm\"        # single pointer poiniting to individual data\\n  self.viewed        =  85\\n  self.comments   = \"wow\"\\n  print(\" my Whatsu viewed \", self.viewed)\\n  print(\" my Whatsu address \", id(self.viewed))\\n  print(\" my Whatsu address \", id(self.Time))\\n  print(\" my Whatsu address \", id(self.comments))',\n",
       "  'Utube()',\n",
       "  'class Utube:\\n def __init__(self):\\n  print(self)\\n  print(\" python constructor\")\\n  self.Lang=\"python\"\\n  self.Rank = 1\\n  self.year=2018\\n  self.version=3.6\\n  print(self.version)',\n",
       "  'class Utube:\\n               \\n def  __init__(self):\\n  self.Time           =  \"12:53 pm\"        # single pointer poiniting to individual data\\n  self.viewed        =  85\\n  self.comments   = \"wow\"\\n  print(\" my Whatsu viewed \", self.viewed)\\n  print(\" my Whatsu address \", id(self.viewed))\\n  print(\" my Whatsu address \", id(self.Time))\\n  print(\" my Whatsu address \", id(self.comments))',\n",
       "  'Utube()',\n",
       "  'class Utube:\\n def __init__(self):\\n  print(self)\\n  print(\" python constructor\")\\n  self.Lang=\"python\"\\n  self.Rank = 1\\n  self.year=2018\\n  self.version=3.6\\n  print(self.version)',\n",
       "  'python()  # does this work \"\" BEATING CODE IPL 20-20 \"\"',\n",
       "  'Utube()  # does this work \"\" BEATING CODE IPL 20-20 \"\"',\n",
       "  'Utube= [ \"python\" ,  1 , 2018 ,3.6 ]\\n    \\nUtube[0]',\n",
       "  'class pandas:\\n shape =[] # list \\n def __init__(self):\\n  self.type=\"csv\"\\n  self.columns= 0\\n  self.rows=0\\n  Dataframes.shape =(100,5)\\n  print(\" Dataframes constructor\")\\n  print( self.type)\\n def head(  ):\\n  print(\" Dataframes head\")\\n  self.rows=5\\n  print(self.rows) ',\n",
       "  'dataset = pandas()',\n",
       "  'class pandas:\\n shape =[] # list \\n def __init__(self):\\n  self.type=\"csv\"\\n  self.columns= 0\\n  self.rows=0\\n  Dataframes.shape =(100,5)\\n  print(\" Dataframes constructor\")\\n  print( self.type)\\n def head(  ):\\n  print(\" Dataframes head\")\\n  self.rows=5\\n  print(self.rows) ',\n",
       "  'dataset = pandas()',\n",
       "  'class pandas:\\n shape =[] # list \\n def __init__(self):\\n  self.type=\"csv\"\\n  self.columns= 0\\n  self.rows=0\\n  pandas.shape =(100,5)\\n  print(\" Dataframes constructor\")\\n  print( self.type)\\n def head(  ):\\n  print(\" Dataframes head\")\\n  self.rows=5\\n  print(self.rows) ',\n",
       "  'dataset = pandas()',\n",
       "  'dataset.shape',\n",
       "  'class pandas:\\n shape =(0,0)\\n def __init__(self,typ,col,row):\\n  self.type=typ\\n  self.columns= col\\n  self.rows=row\\n  print(\" Dataframes constructor\")\\n  print( self.type)\\n def describe(self):\\n  print(\" Staticstics data mean \")\\n def head(self ,  i):\\n  print(\" Dataframes head data\")\\n  self.rows=5\\n  print(self.rows) \\n def drop(self , id ,num):\\n    print(\" Remove a specific colmun\")\\n def __del__(self):\\n    print(\" Destructor \")',\n",
       "  '# ALL operation in machine learning in one case study \\ndataset = pandas(\"xl\",5,100)',\n",
       "  'class pandas:\\n shape =(0,0)\\n def __init__(self,typ,col,row):\\n  self.type=typ\\n  self.columns= col\\n  self.rows=row\\n  print(\" Dataframes constructor\")\\n  print( self.type)\\n def describe(self):\\n  print(\" Staticstics data mean \")\\n def head(self ,  i):\\n  print(\" Dataframes head data\")\\n  self.rows=5\\n  print(self.rows) \\n def drop(self , id ,num):\\n    print(\" Remove a specific colmun\")\\n def __del__(self):\\n    print(\" Destructor \")',\n",
       "  'class pandas:\\n shape =(0,0)\\n def __init__(self,typ,col,row):\\n  self.type=typ\\n  self.columns= col\\n  self.rows=row\\n  print(\" pandas constructor\")\\n  print( self.type)\\n def describe(self):\\n  print(\" Staticstics data mean \")\\n def head(self ,  i):\\n  print(\" pandas head data\")\\n  self.rows=5\\n  print(self.rows) \\n def drop(self , id ,num):\\n    print(\" Remove a specific colmun\")\\n def __del__(self):\\n    print(\" Destructor \")',\n",
       "  'class pandas:\\n shape =(0,0)\\n def __init__(self,typ,col,row):\\n  self.type=typ\\n  self.columns= col\\n  self.rows=row\\n  print(\" pandas constructor\")\\n  print( self.type)\\n def describe(self):\\n  print(\" Staticstics data mean \")\\n def head(self ,  i):\\n  print(\" pandas head data\")\\n  self.rows=5\\n  print(self.rows) \\n def drop(self , id ,num):\\n    print(\" Remove a specific colmun\")\\n def __del__(self):\\n    print(\" Destructor \")',\n",
       "  '# ALL operation in machine learning in one case study \\ndataset = pandas(\"xl\",5,100)',\n",
       "  '# ALL operation in machine learning in one case study \\ndataset = pandas(\"xl\",5,100)\\ndataset.shape\\ndataset.head(5)\\ndataset.describe()\\ndataset.drop(\\'id\\',1)\\ndel dataset',\n",
       "  'List = [ \"python\" ,1, 2018,1.1 ]\\n\\nprint(List)',\n",
       "  'List.append(\"R\");\\n\\nprint(List)',\n",
       "  'Offer = [ \\'Z9\\' , \\'Dgb\\', \\'Aloud\\']\\nprint(Offer)\\nprint(type(Offer))\\nimport sys\\nprint(\" set size \",sys.getsizeof(Offer))',\n",
       "  'Offer = {  \\'Z9\\' , \\'Dgb\\', \\'Aloud\\'}\\nprint(Offer)\\nprint(type(Offer))\\nprint(\" set size \",sys.getsizeof(Offer))',\n",
       "  'Offer.add(\\'pizza\\')\\nprint(Offer)\\nprint(\" add  size \",sys.getsizeof(Offer))',\n",
       "  'class Utub:\\n views           =  82\\n \\n def   __init__(self ,time,status ):\\n    Whatsuu3.views =  Whatsuu3.views+1\\n    self.views          =  self.views+1\\n    self.Time           =  [  ]\\n    self.Time.append(time)\\n    self.Time.append(status)\\n    \\n def   display(self ):\\n     print(self.Time)\\n\\n def append(self ,data):\\n      self.Time.append(data)\\n\\n def __del__(self ):\\n    del self.Time',\n",
       "  'class Utub:\\n views           =  123\\n \\n def   __init__(self ,time,status ):\\n    Utub.views =  Whatsuu3.views+1\\n    self.views          =  self.views+1\\n    self.Time           =  [  ]\\n    self.Time.append(time)\\n    self.Time.append(status)\\n    \\n def   display(self ):\\n     print(self.Time)\\n\\n def append(self ,data):\\n      self.Time.append(data)\\n\\n def __del__(self ):\\n    del self.Time',\n",
       "  'class Utub:\\n views           =  123\\n \\n def   __init__(self ,time,status ):\\n    Utub.views =  Whatsuu3.views+1\\n    self.views          =  self.views+1\\n    self.Time           =  [  ]\\n    self.Time.append(time)\\n    self.Time.append(status)\\n    \\n def   display(self ):\\n     print(self.Time)\\n\\n def append(self ,data):\\n      self.Time.append(data)\\n\\n def __del__(self ):\\n    del self.Time',\n",
       "  'code1=Utub(\"12.53pm \",\"wow\")\\ncode1.display()\\ncode1.append(\"like\")\\nprint(id(code1.Time))\\ncode1.display()\\ndel code1',\n",
       "  'class Utub:\\n views           =  123\\n \\n def   __init__(self ,time,status ):\\n    Utub.views =  Utub.views+1\\n    self.views          =  self.views+1\\n    self.Time           =  [  ]\\n    self.Time.append(time)\\n    self.Time.append(status)\\n    \\n def   display(self ):\\n     print(self.Time)\\n\\n def append(self ,data):\\n      self.Time.append(data)\\n\\n def __del__(self ):\\n    del self.Time',\n",
       "  'code1=Utub(\"12.53pm \",\"wow\")\\ncode1.display()\\ncode1.append(\"like\")\\nprint(id(code1.Time))\\ncode1.display()\\ndel code1',\n",
       "  '# Load libraries\\n\\n# C:\\\\Users\\\\jvt\\\\Anaconda3\\\\Lib\\\\site-packages\\\\seaborn\\n    \\nimport seaborn\\nimport pandas\\n\\n# C:\\\\Users\\\\jvt\\\\Anaconda3\\\\Lib\\\\site-packages\\\\matplotlib File name : pyplot new name plt\\n\\nimport matplotlib.pyplot as plt\\n\\n# C:\\\\Users\\\\jvt\\\\Anaconda3\\\\Lib\\\\site-packages\\\\pandas\\\\tools File name : plotting    function : scatter_matrix\\n\\nfrom pandas.tools.plotting import scatter_matrix\\n\\n# C:\\\\Users\\\\jvt\\\\Anaconda3\\\\Lib\\\\site-packages\\\\sklearn  File name : cross_validation\\n\\nfrom sklearn import cross_validation\\n\\n# C:\\\\Users\\\\jvt\\\\Anaconda3\\\\Lib\\\\site-packages\\\\sklearn\\\\metrics classification.py   def classification_report()\\n    \\nfrom sklearn.metrics import classification_report\\nfrom sklearn.metrics import confusion_matrix\\nfrom sklearn.metrics import accuracy_score\\n\\n# C:\\\\Users\\\\jvt\\\\Anaconda3\\\\Lib\\\\site-packages\\\\sklearn\\\\linear_model  logistic.py  \\n# class LogisticRegression(BaseEstimator, LinearClassifierMixin,SparseCoefMixin)\\n    \\nfrom sklearn.linear_model import LogisticRegression\\nfrom sklearn.tree import DecisionTreeClassifier\\nfrom sklearn.neighbors import KNeighborsClassifier\\nfrom sklearn.discriminant_analysis import LinearDiscriminantAnalysis\\nfrom sklearn.naive_bayes import GaussianNB\\nfrom sklearn.svm import SVC',\n",
       "  '# Load libraries\\n\\n# C:\\\\Users\\\\jvt\\\\Anaconda3\\\\Lib\\\\site-packages\\\\seaborn\\n    \\nimport seaborn\\nimport pandas\\n\\n# C:\\\\Users\\\\jvt\\\\Anaconda3\\\\Lib\\\\site-packages\\\\matplotlib File name : pyplot new name plt\\n\\nimport matplotlib.pyplot as plt\\n\\n# C:\\\\Users\\\\jvt\\\\Anaconda3\\\\Lib\\\\site-packages\\\\pandas\\\\tools File name : plotting    function : scatter_matrix\\n\\nfrom pandas.tools.plotting import scatter_matrix\\n\\n# C:\\\\Users\\\\jvt\\\\Anaconda3\\\\Lib\\\\site-packages\\\\sklearn  File name : cross_validation\\n\\nfrom sklearn import cross_validation\\n\\n# C:\\\\Users\\\\jvt\\\\Anaconda3\\\\Lib\\\\site-packages\\\\sklearn\\\\metrics classification.py   def classification_report()\\n    \\nfrom sklearn.metrics import classification_report\\nfrom sklearn.metrics import confusion_matrix\\nfrom sklearn.metrics import accuracy_score\\n\\n# C:\\\\Users\\\\jvt\\\\Anaconda3\\\\Lib\\\\site-packages\\\\sklearn\\\\linear_model  logistic.py  \\n# class LogisticRegression(BaseEstimator, LinearClassifierMixin,SparseCoefMixin)\\n    \\nfrom sklearn.linear_model import LogisticRegression\\nfrom sklearn.tree import DecisionTreeClassifier\\nfrom sklearn.neighbors import KNeighborsClassifier\\nfrom sklearn.discriminant_analysis import LinearDiscriminantAnalysis\\nfrom sklearn.naive_bayes import GaussianNB\\nfrom sklearn.svm import SVC',\n",
       "  'globals()'],\n",
       " '_oh': {6: 2,\n",
       "  8: 2,\n",
       "  10: 2,\n",
       "  16: 2,\n",
       "  23: 14.0,\n",
       "  27: mappingproxy({'__module__': '__main__',\n",
       "                'Time': '12:52 pm',\n",
       "                'viewed': 82,\n",
       "                'comments': 'super',\n",
       "                '__dict__': <attribute '__dict__' of 'Whatsup' objects>,\n",
       "                '__weakref__': <attribute '__weakref__' of 'Whatsup' objects>,\n",
       "                '__doc__': None}),\n",
       "  30: 2,\n",
       "  33: <__main__.Whatsup at 0x1c31737af60>,\n",
       "  42: 14.0,\n",
       "  46: {},\n",
       "  47: mappingproxy({'__module__': '__main__',\n",
       "                'Time': '12:52 pm',\n",
       "                'viewed': 82,\n",
       "                'comments': 'super',\n",
       "                '__dict__': <attribute '__dict__' of 'Utube' objects>,\n",
       "                '__weakref__': <attribute '__weakref__' of 'Utube' objects>,\n",
       "                '__doc__': None}),\n",
       "  49: mappingproxy({'__module__': '__main__',\n",
       "                'Time': '12:52 pm',\n",
       "                'viewed': 82,\n",
       "                'comments': 'super',\n",
       "                '__dict__': <attribute '__dict__' of 'Utube' objects>,\n",
       "                '__weakref__': <attribute '__weakref__' of 'Utube' objects>,\n",
       "                '__doc__': None}),\n",
       "  51: <__main__.Utube at 0x1c317410898>,\n",
       "  53: <__main__.Utube at 0x1c317410128>,\n",
       "  56: <__main__.Utube at 0x1c317410cf8>,\n",
       "  59: <__main__.Utube at 0x1c31741f208>,\n",
       "  60: 'python',\n",
       "  67: (100, 5)},\n",
       " '_dh': ['C:\\\\Users\\\\jvt'],\n",
       " 'In': ['',\n",
       "  '# Whatsup Data\\n\\nTime              =  \"12:52 pm\"\\nviewed            =  82\\ncomments          = \"super\"\\nprint(\" my status viewed \", viewed)',\n",
       "  'import sys\\nsys.getcount(Time)',\n",
       "  '# Whatsup Data\\n\\nTime              =  \"12:52 pm\"\\nviewed            =  82\\ncomments          = \"super\"\\nprint(\" my status viewed \", viewed)',\n",
       "  'import sys\\nsys.getcount(Time)',\n",
       "  'import sys\\nsys.getref(Time)',\n",
       "  'import sys\\nsys.getrefcount(Time)',\n",
       "  '# Whatsup Data\\n\\nTime              =  \"12:52 pm\"\\nviewed            =  82\\ncomments          = \"super\"\\nprint(\" my status viewed \", viewed)',\n",
       "  'import sys\\nsys.getrefcount(Time)',\n",
       "  '# Whatsup Data\\n\\nTime              =  \"12:52 pm\"\\nviewed            =  82\\ncomments          = \"super\"\\nprint(\" my status viewed \", viewed)',\n",
       "  'import sys\\nsys.getrefcount(Time)',\n",
       "  '# Object are structures allocated on the Heap contains info\\n\\n# Time Object Internals \\n\\n# ob_refcnt  # Memory which is pointed by multiple objects  \\n# ob_type    # str\\n# ob_size    # memory size',\n",
       "  '# python Functions\\n\\ndef  Whatsup():\\n Time            =  \"12:52 pm\"\\n viewed          =  82\\n comments        = \"super\"\\n print(\" my status viewed \", viewed)',\n",
       "  '# python Functions\\n\\ndef  Whatsup():\\n Time            =  \"12:52 pm\"\\n viewed          =  82\\n comments        = \"super\"\\n print(\" my status viewed \", viewed)\\n print(sys.getrefcount(Time))   ',\n",
       "  'Whatsup()  # Function call ',\n",
       "  '# Whatsup Data\\n\\nTime              =  \"12:52 pm\"\\nviewed            =  82\\ncomments          = \"super\"\\nprint(\" my status viewed \", viewed)',\n",
       "  'import sys\\nsys.getrefcount(Time)',\n",
       "  '# Object are structures allocated on the Heap contains info\\n\\n# Time Object Internals \\n\\n# ob_refcnt  # Memory which is pointed by multiple objects  \\n# ob_type    # str\\n# ob_size    # memory size',\n",
       "  '# python Functions\\n\\ndef  Whatsup():\\n Time            =  \"12:52 pm\"\\n viewed          =  82\\n comments        = \"super\"\\n print(\" my status viewed \", viewed)\\n print(sys.getrefcount(Time))   ',\n",
       "  'Whatsup()  # Function call ',\n",
       "  'Whatsup(2,3)\\n  \\nWhatsup(5,\"jt\")',\n",
       "  'def  Whatsup( a ,b ):\\n     print(a,b)',\n",
       "  'Whatsup(2,3)\\n  \\nWhatsup(5,\"jt\")',\n",
       "  '# C:\\\\Users\\\\jvt\\\\AppData\\\\Local\\\\Programs\\\\Python\\\\Python36\\\\Lib\\\\ctypes\\n\\nimport ctypes             # Folder access \\n\\nfrom ctypes import util   # From Folder the File access \\n\\nutil._get_build_version() # From file we invoke the Function ',\n",
       "  'import dis\\n   \\nobj = dis.Bytecode(Whatsup)',\n",
       "  '# Byte code\\n\\ndis.dis(Whatsup)',\n",
       "  '# Part 2\\n\\nclass Whatsup:\\n Time           =  \"12:52 pm\"\\n viewed        =  82\\n comments   = \"super\"\\n print(\" my Whatsup viewed \", viewed)\\n print(\"  viewed address \", id(viewed))\\n print(\" Time address \", id(Time))\\n print(\" comments address \", id(comments))',\n",
       "  'Whatsup.__dict__',\n",
       "  '# Utube Data\\n\\nTime              =  \"12:52 pm\"\\nviewed            =  82\\ncomments          = \"super\"\\nprint(\" my status viewed \", viewed)',\n",
       "  '# Utube Data\\n\\nTime              =  \"12:52 pm\"\\nviewed            =  82\\ncomments          = \"super\"\\nprint(\" my Utube viewed \", viewed)',\n",
       "  'import sys\\nsys.getrefcount(Time)',\n",
       "  '# Object are structures allocated on the Heap contains info\\n\\n# Time Object Internals \\n\\n# ob_refcnt  # Memory which is pointed by multiple objects  \\n# ob_type    # str\\n# ob_size    # memory size',\n",
       "  '# python Functions\\n\\ndef  Utube():\\n Time            =  \"12:52 pm\"\\n viewed          =  82\\n comments        = \"super\"\\n print(\" my status viewed \", viewed)\\n print(sys.getrefcount(Time))   ',\n",
       "  'Whatsup()  # Function call ',\n",
       "  'Utube()  # Function call ',\n",
       "  '# python Functions\\n\\ndef  Utube():\\n Time            =  \"12:52 pm\"\\n viewed          =  82\\n comments        = \"super\"\\n print(\" my status viewed \", viewed)\\n print(sys.getrefcount(Time))   ',\n",
       "  'Utube()  # Function call ',\n",
       "  '# python Functions\\n\\ndef  Utube():\\n Time            =  \"12:52 pm\"\\n viewed          =  82\\n comments        = \"super\"\\n print(\" my videos viewed \", viewed)\\n print(sys.getrefcount(Time))   ',\n",
       "  'Utube()  # Function call ',\n",
       "  'def  Whatsup( a ,b ):\\n     print(a,b)',\n",
       "  'Whatsup(2,3)\\n  \\nWhatsup(5,\"jt\")',\n",
       "  'Whatsup(2,3)\\n  \\nWhatsup(5,\"jt\")',\n",
       "  '# C:\\\\Users\\\\jvt\\\\AppData\\\\Local\\\\Programs\\\\Python\\\\Python36\\\\Lib\\\\ctypes\\n\\nimport ctypes             # Folder access \\n\\nfrom ctypes import util   # From Folder the File access \\n\\nutil._get_build_version() # From file we invoke the Function ',\n",
       "  'import dis\\n   \\nobj = dis.Bytecode(Whatsup)',\n",
       "  '# Byte code\\n\\ndis.dis(Whatsup)',\n",
       "  '# Part 2\\n\\nclass Utube:\\n Time           =  \"12:52 pm\"\\n viewed        =  82\\n comments   = \"super\"\\n print(\" my Whatsup viewed \", viewed)\\n print(\"  viewed address \", id(viewed))\\n print(\" Time address \", id(Time))\\n print(\" comments address \", id(comments))',\n",
       "  'Whatsup.__dict__',\n",
       "  'Utube.__dict__',\n",
       "  '# Part 2\\n\\nclass Utube:\\n Time           =  \"12:52 pm\"\\n viewed        =  82\\n comments   = \"super\"\\n print(\" my Whatsup viewed \", viewed)\\n print(\"  viewed address \", id(viewed))\\n print(\" Time address \", id(Time))\\n print(\" comments address \", id(comments))',\n",
       "  'Utube.__dict__',\n",
       "  'class Utube:\\n               \\n def  __init__(self):\\n  self.Time           =  \"12:53 pm\"        # single pointer poiniting to individual data\\n  self.viewed        =  85\\n  self.comments   = \"wow\"\\n  print(\" my Whatsu viewed \", self.viewed)\\n  print(\" my Whatsu address \", id(self.viewed))\\n  print(\" my Whatsu address \", id(self.Time))\\n  print(\" my Whatsu address \", id(self.comments))',\n",
       "  'Utube()',\n",
       "  'class Utube:\\n               \\n def  __init__(self):\\n  self.Time           =  \"12:53 pm\"        # single pointer poiniting to individual data\\n  self.viewed        =  85\\n  self.comments   = \"wow\"\\n  print(\" my Whatsu viewed \", self.viewed)\\n  print(\" my Whatsu address \", id(self.viewed))\\n  print(\" my Whatsu address \", id(self.Time))\\n  print(\" my Whatsu address \", id(self.comments))',\n",
       "  'Utube()',\n",
       "  'class Utube:\\n def __init__(self):\\n  print(self)\\n  print(\" python constructor\")\\n  self.Lang=\"python\"\\n  self.Rank = 1\\n  self.year=2018\\n  self.version=3.6\\n  print(self.version)',\n",
       "  'class Utube:\\n               \\n def  __init__(self):\\n  self.Time           =  \"12:53 pm\"        # single pointer poiniting to individual data\\n  self.viewed        =  85\\n  self.comments   = \"wow\"\\n  print(\" my Whatsu viewed \", self.viewed)\\n  print(\" my Whatsu address \", id(self.viewed))\\n  print(\" my Whatsu address \", id(self.Time))\\n  print(\" my Whatsu address \", id(self.comments))',\n",
       "  'Utube()',\n",
       "  'class Utube:\\n def __init__(self):\\n  print(self)\\n  print(\" python constructor\")\\n  self.Lang=\"python\"\\n  self.Rank = 1\\n  self.year=2018\\n  self.version=3.6\\n  print(self.version)',\n",
       "  'python()  # does this work \"\" BEATING CODE IPL 20-20 \"\"',\n",
       "  'Utube()  # does this work \"\" BEATING CODE IPL 20-20 \"\"',\n",
       "  'Utube= [ \"python\" ,  1 , 2018 ,3.6 ]\\n    \\nUtube[0]',\n",
       "  'class pandas:\\n shape =[] # list \\n def __init__(self):\\n  self.type=\"csv\"\\n  self.columns= 0\\n  self.rows=0\\n  Dataframes.shape =(100,5)\\n  print(\" Dataframes constructor\")\\n  print( self.type)\\n def head(  ):\\n  print(\" Dataframes head\")\\n  self.rows=5\\n  print(self.rows) ',\n",
       "  'dataset = pandas()',\n",
       "  'class pandas:\\n shape =[] # list \\n def __init__(self):\\n  self.type=\"csv\"\\n  self.columns= 0\\n  self.rows=0\\n  Dataframes.shape =(100,5)\\n  print(\" Dataframes constructor\")\\n  print( self.type)\\n def head(  ):\\n  print(\" Dataframes head\")\\n  self.rows=5\\n  print(self.rows) ',\n",
       "  'dataset = pandas()',\n",
       "  'class pandas:\\n shape =[] # list \\n def __init__(self):\\n  self.type=\"csv\"\\n  self.columns= 0\\n  self.rows=0\\n  pandas.shape =(100,5)\\n  print(\" Dataframes constructor\")\\n  print( self.type)\\n def head(  ):\\n  print(\" Dataframes head\")\\n  self.rows=5\\n  print(self.rows) ',\n",
       "  'dataset = pandas()',\n",
       "  'dataset.shape',\n",
       "  'class pandas:\\n shape =(0,0)\\n def __init__(self,typ,col,row):\\n  self.type=typ\\n  self.columns= col\\n  self.rows=row\\n  print(\" Dataframes constructor\")\\n  print( self.type)\\n def describe(self):\\n  print(\" Staticstics data mean \")\\n def head(self ,  i):\\n  print(\" Dataframes head data\")\\n  self.rows=5\\n  print(self.rows) \\n def drop(self , id ,num):\\n    print(\" Remove a specific colmun\")\\n def __del__(self):\\n    print(\" Destructor \")',\n",
       "  '# ALL operation in machine learning in one case study \\ndataset = pandas(\"xl\",5,100)',\n",
       "  'class pandas:\\n shape =(0,0)\\n def __init__(self,typ,col,row):\\n  self.type=typ\\n  self.columns= col\\n  self.rows=row\\n  print(\" Dataframes constructor\")\\n  print( self.type)\\n def describe(self):\\n  print(\" Staticstics data mean \")\\n def head(self ,  i):\\n  print(\" Dataframes head data\")\\n  self.rows=5\\n  print(self.rows) \\n def drop(self , id ,num):\\n    print(\" Remove a specific colmun\")\\n def __del__(self):\\n    print(\" Destructor \")',\n",
       "  'class pandas:\\n shape =(0,0)\\n def __init__(self,typ,col,row):\\n  self.type=typ\\n  self.columns= col\\n  self.rows=row\\n  print(\" pandas constructor\")\\n  print( self.type)\\n def describe(self):\\n  print(\" Staticstics data mean \")\\n def head(self ,  i):\\n  print(\" pandas head data\")\\n  self.rows=5\\n  print(self.rows) \\n def drop(self , id ,num):\\n    print(\" Remove a specific colmun\")\\n def __del__(self):\\n    print(\" Destructor \")',\n",
       "  'class pandas:\\n shape =(0,0)\\n def __init__(self,typ,col,row):\\n  self.type=typ\\n  self.columns= col\\n  self.rows=row\\n  print(\" pandas constructor\")\\n  print( self.type)\\n def describe(self):\\n  print(\" Staticstics data mean \")\\n def head(self ,  i):\\n  print(\" pandas head data\")\\n  self.rows=5\\n  print(self.rows) \\n def drop(self , id ,num):\\n    print(\" Remove a specific colmun\")\\n def __del__(self):\\n    print(\" Destructor \")',\n",
       "  '# ALL operation in machine learning in one case study \\ndataset = pandas(\"xl\",5,100)',\n",
       "  '# ALL operation in machine learning in one case study \\ndataset = pandas(\"xl\",5,100)\\ndataset.shape\\ndataset.head(5)\\ndataset.describe()\\ndataset.drop(\\'id\\',1)\\ndel dataset',\n",
       "  'List = [ \"python\" ,1, 2018,1.1 ]\\n\\nprint(List)',\n",
       "  'List.append(\"R\");\\n\\nprint(List)',\n",
       "  'Offer = [ \\'Z9\\' , \\'Dgb\\', \\'Aloud\\']\\nprint(Offer)\\nprint(type(Offer))\\nimport sys\\nprint(\" set size \",sys.getsizeof(Offer))',\n",
       "  'Offer = {  \\'Z9\\' , \\'Dgb\\', \\'Aloud\\'}\\nprint(Offer)\\nprint(type(Offer))\\nprint(\" set size \",sys.getsizeof(Offer))',\n",
       "  'Offer.add(\\'pizza\\')\\nprint(Offer)\\nprint(\" add  size \",sys.getsizeof(Offer))',\n",
       "  'class Utub:\\n views           =  82\\n \\n def   __init__(self ,time,status ):\\n    Whatsuu3.views =  Whatsuu3.views+1\\n    self.views          =  self.views+1\\n    self.Time           =  [  ]\\n    self.Time.append(time)\\n    self.Time.append(status)\\n    \\n def   display(self ):\\n     print(self.Time)\\n\\n def append(self ,data):\\n      self.Time.append(data)\\n\\n def __del__(self ):\\n    del self.Time',\n",
       "  'class Utub:\\n views           =  123\\n \\n def   __init__(self ,time,status ):\\n    Utub.views =  Whatsuu3.views+1\\n    self.views          =  self.views+1\\n    self.Time           =  [  ]\\n    self.Time.append(time)\\n    self.Time.append(status)\\n    \\n def   display(self ):\\n     print(self.Time)\\n\\n def append(self ,data):\\n      self.Time.append(data)\\n\\n def __del__(self ):\\n    del self.Time',\n",
       "  'class Utub:\\n views           =  123\\n \\n def   __init__(self ,time,status ):\\n    Utub.views =  Whatsuu3.views+1\\n    self.views          =  self.views+1\\n    self.Time           =  [  ]\\n    self.Time.append(time)\\n    self.Time.append(status)\\n    \\n def   display(self ):\\n     print(self.Time)\\n\\n def append(self ,data):\\n      self.Time.append(data)\\n\\n def __del__(self ):\\n    del self.Time',\n",
       "  'code1=Utub(\"12.53pm \",\"wow\")\\ncode1.display()\\ncode1.append(\"like\")\\nprint(id(code1.Time))\\ncode1.display()\\ndel code1',\n",
       "  'class Utub:\\n views           =  123\\n \\n def   __init__(self ,time,status ):\\n    Utub.views =  Utub.views+1\\n    self.views          =  self.views+1\\n    self.Time           =  [  ]\\n    self.Time.append(time)\\n    self.Time.append(status)\\n    \\n def   display(self ):\\n     print(self.Time)\\n\\n def append(self ,data):\\n      self.Time.append(data)\\n\\n def __del__(self ):\\n    del self.Time',\n",
       "  'code1=Utub(\"12.53pm \",\"wow\")\\ncode1.display()\\ncode1.append(\"like\")\\nprint(id(code1.Time))\\ncode1.display()\\ndel code1',\n",
       "  '# Load libraries\\n\\n# C:\\\\Users\\\\jvt\\\\Anaconda3\\\\Lib\\\\site-packages\\\\seaborn\\n    \\nimport seaborn\\nimport pandas\\n\\n# C:\\\\Users\\\\jvt\\\\Anaconda3\\\\Lib\\\\site-packages\\\\matplotlib File name : pyplot new name plt\\n\\nimport matplotlib.pyplot as plt\\n\\n# C:\\\\Users\\\\jvt\\\\Anaconda3\\\\Lib\\\\site-packages\\\\pandas\\\\tools File name : plotting    function : scatter_matrix\\n\\nfrom pandas.tools.plotting import scatter_matrix\\n\\n# C:\\\\Users\\\\jvt\\\\Anaconda3\\\\Lib\\\\site-packages\\\\sklearn  File name : cross_validation\\n\\nfrom sklearn import cross_validation\\n\\n# C:\\\\Users\\\\jvt\\\\Anaconda3\\\\Lib\\\\site-packages\\\\sklearn\\\\metrics classification.py   def classification_report()\\n    \\nfrom sklearn.metrics import classification_report\\nfrom sklearn.metrics import confusion_matrix\\nfrom sklearn.metrics import accuracy_score\\n\\n# C:\\\\Users\\\\jvt\\\\Anaconda3\\\\Lib\\\\site-packages\\\\sklearn\\\\linear_model  logistic.py  \\n# class LogisticRegression(BaseEstimator, LinearClassifierMixin,SparseCoefMixin)\\n    \\nfrom sklearn.linear_model import LogisticRegression\\nfrom sklearn.tree import DecisionTreeClassifier\\nfrom sklearn.neighbors import KNeighborsClassifier\\nfrom sklearn.discriminant_analysis import LinearDiscriminantAnalysis\\nfrom sklearn.naive_bayes import GaussianNB\\nfrom sklearn.svm import SVC',\n",
       "  '# Load libraries\\n\\n# C:\\\\Users\\\\jvt\\\\Anaconda3\\\\Lib\\\\site-packages\\\\seaborn\\n    \\nimport seaborn\\nimport pandas\\n\\n# C:\\\\Users\\\\jvt\\\\Anaconda3\\\\Lib\\\\site-packages\\\\matplotlib File name : pyplot new name plt\\n\\nimport matplotlib.pyplot as plt\\n\\n# C:\\\\Users\\\\jvt\\\\Anaconda3\\\\Lib\\\\site-packages\\\\pandas\\\\tools File name : plotting    function : scatter_matrix\\n\\nfrom pandas.tools.plotting import scatter_matrix\\n\\n# C:\\\\Users\\\\jvt\\\\Anaconda3\\\\Lib\\\\site-packages\\\\sklearn  File name : cross_validation\\n\\nfrom sklearn import cross_validation\\n\\n# C:\\\\Users\\\\jvt\\\\Anaconda3\\\\Lib\\\\site-packages\\\\sklearn\\\\metrics classification.py   def classification_report()\\n    \\nfrom sklearn.metrics import classification_report\\nfrom sklearn.metrics import confusion_matrix\\nfrom sklearn.metrics import accuracy_score\\n\\n# C:\\\\Users\\\\jvt\\\\Anaconda3\\\\Lib\\\\site-packages\\\\sklearn\\\\linear_model  logistic.py  \\n# class LogisticRegression(BaseEstimator, LinearClassifierMixin,SparseCoefMixin)\\n    \\nfrom sklearn.linear_model import LogisticRegression\\nfrom sklearn.tree import DecisionTreeClassifier\\nfrom sklearn.neighbors import KNeighborsClassifier\\nfrom sklearn.discriminant_analysis import LinearDiscriminantAnalysis\\nfrom sklearn.naive_bayes import GaussianNB\\nfrom sklearn.svm import SVC',\n",
       "  'globals()'],\n",
       " 'Out': {6: 2,\n",
       "  8: 2,\n",
       "  10: 2,\n",
       "  16: 2,\n",
       "  23: 14.0,\n",
       "  27: mappingproxy({'__module__': '__main__',\n",
       "                'Time': '12:52 pm',\n",
       "                'viewed': 82,\n",
       "                'comments': 'super',\n",
       "                '__dict__': <attribute '__dict__' of 'Whatsup' objects>,\n",
       "                '__weakref__': <attribute '__weakref__' of 'Whatsup' objects>,\n",
       "                '__doc__': None}),\n",
       "  30: 2,\n",
       "  33: <__main__.Whatsup at 0x1c31737af60>,\n",
       "  42: 14.0,\n",
       "  46: {},\n",
       "  47: mappingproxy({'__module__': '__main__',\n",
       "                'Time': '12:52 pm',\n",
       "                'viewed': 82,\n",
       "                'comments': 'super',\n",
       "                '__dict__': <attribute '__dict__' of 'Utube' objects>,\n",
       "                '__weakref__': <attribute '__weakref__' of 'Utube' objects>,\n",
       "                '__doc__': None}),\n",
       "  49: mappingproxy({'__module__': '__main__',\n",
       "                'Time': '12:52 pm',\n",
       "                'viewed': 82,\n",
       "                'comments': 'super',\n",
       "                '__dict__': <attribute '__dict__' of 'Utube' objects>,\n",
       "                '__weakref__': <attribute '__weakref__' of 'Utube' objects>,\n",
       "                '__doc__': None}),\n",
       "  51: <__main__.Utube at 0x1c317410898>,\n",
       "  53: <__main__.Utube at 0x1c317410128>,\n",
       "  56: <__main__.Utube at 0x1c317410cf8>,\n",
       "  59: <__main__.Utube at 0x1c31741f208>,\n",
       "  60: 'python',\n",
       "  67: (100, 5)},\n",
       " 'get_ipython': <bound method InteractiveShell.get_ipython of <ipykernel.zmqshell.ZMQInteractiveShell object at 0x000001C3172116A0>>,\n",
       " 'exit': <IPython.core.autocall.ZMQExitAutocall at 0x1c317274ac8>,\n",
       " 'quit': <IPython.core.autocall.ZMQExitAutocall at 0x1c317274ac8>,\n",
       " '_': (100, 5),\n",
       " '__': 'python',\n",
       " '___': <__main__.Utube at 0x1c31741f208>,\n",
       " '_i': '# Load libraries\\n\\n# C:\\\\Users\\\\jvt\\\\Anaconda3\\\\Lib\\\\site-packages\\\\seaborn\\n    \\nimport seaborn\\nimport pandas\\n\\n# C:\\\\Users\\\\jvt\\\\Anaconda3\\\\Lib\\\\site-packages\\\\matplotlib File name : pyplot new name plt\\n\\nimport matplotlib.pyplot as plt\\n\\n# C:\\\\Users\\\\jvt\\\\Anaconda3\\\\Lib\\\\site-packages\\\\pandas\\\\tools File name : plotting    function : scatter_matrix\\n\\nfrom pandas.tools.plotting import scatter_matrix\\n\\n# C:\\\\Users\\\\jvt\\\\Anaconda3\\\\Lib\\\\site-packages\\\\sklearn  File name : cross_validation\\n\\nfrom sklearn import cross_validation\\n\\n# C:\\\\Users\\\\jvt\\\\Anaconda3\\\\Lib\\\\site-packages\\\\sklearn\\\\metrics classification.py   def classification_report()\\n    \\nfrom sklearn.metrics import classification_report\\nfrom sklearn.metrics import confusion_matrix\\nfrom sklearn.metrics import accuracy_score\\n\\n# C:\\\\Users\\\\jvt\\\\Anaconda3\\\\Lib\\\\site-packages\\\\sklearn\\\\linear_model  logistic.py  \\n# class LogisticRegression(BaseEstimator, LinearClassifierMixin,SparseCoefMixin)\\n    \\nfrom sklearn.linear_model import LogisticRegression\\nfrom sklearn.tree import DecisionTreeClassifier\\nfrom sklearn.neighbors import KNeighborsClassifier\\nfrom sklearn.discriminant_analysis import LinearDiscriminantAnalysis\\nfrom sklearn.naive_bayes import GaussianNB\\nfrom sklearn.svm import SVC',\n",
       " '_ii': '# Load libraries\\n\\n# C:\\\\Users\\\\jvt\\\\Anaconda3\\\\Lib\\\\site-packages\\\\seaborn\\n    \\nimport seaborn\\nimport pandas\\n\\n# C:\\\\Users\\\\jvt\\\\Anaconda3\\\\Lib\\\\site-packages\\\\matplotlib File name : pyplot new name plt\\n\\nimport matplotlib.pyplot as plt\\n\\n# C:\\\\Users\\\\jvt\\\\Anaconda3\\\\Lib\\\\site-packages\\\\pandas\\\\tools File name : plotting    function : scatter_matrix\\n\\nfrom pandas.tools.plotting import scatter_matrix\\n\\n# C:\\\\Users\\\\jvt\\\\Anaconda3\\\\Lib\\\\site-packages\\\\sklearn  File name : cross_validation\\n\\nfrom sklearn import cross_validation\\n\\n# C:\\\\Users\\\\jvt\\\\Anaconda3\\\\Lib\\\\site-packages\\\\sklearn\\\\metrics classification.py   def classification_report()\\n    \\nfrom sklearn.metrics import classification_report\\nfrom sklearn.metrics import confusion_matrix\\nfrom sklearn.metrics import accuracy_score\\n\\n# C:\\\\Users\\\\jvt\\\\Anaconda3\\\\Lib\\\\site-packages\\\\sklearn\\\\linear_model  logistic.py  \\n# class LogisticRegression(BaseEstimator, LinearClassifierMixin,SparseCoefMixin)\\n    \\nfrom sklearn.linear_model import LogisticRegression\\nfrom sklearn.tree import DecisionTreeClassifier\\nfrom sklearn.neighbors import KNeighborsClassifier\\nfrom sklearn.discriminant_analysis import LinearDiscriminantAnalysis\\nfrom sklearn.naive_bayes import GaussianNB\\nfrom sklearn.svm import SVC',\n",
       " '_iii': 'code1=Utub(\"12.53pm \",\"wow\")\\ncode1.display()\\ncode1.append(\"like\")\\nprint(id(code1.Time))\\ncode1.display()\\ndel code1',\n",
       " '_i1': '# Whatsup Data\\n\\nTime              =  \"12:52 pm\"\\nviewed            =  82\\ncomments          = \"super\"\\nprint(\" my status viewed \", viewed)',\n",
       " 'Time': '12:52 pm',\n",
       " 'viewed': 82,\n",
       " 'comments': 'super',\n",
       " '_i2': 'import sys\\nsys.getcount(Time)',\n",
       " 'sys': <module 'sys' (built-in)>,\n",
       " '_i3': '# Whatsup Data\\n\\nTime              =  \"12:52 pm\"\\nviewed            =  82\\ncomments          = \"super\"\\nprint(\" my status viewed \", viewed)',\n",
       " '_i4': 'import sys\\nsys.getcount(Time)',\n",
       " '_i5': 'import sys\\nsys.getref(Time)',\n",
       " '_i6': 'import sys\\nsys.getrefcount(Time)',\n",
       " '_6': 2,\n",
       " '_i7': '# Whatsup Data\\n\\nTime              =  \"12:52 pm\"\\nviewed            =  82\\ncomments          = \"super\"\\nprint(\" my status viewed \", viewed)',\n",
       " '_i8': 'import sys\\nsys.getrefcount(Time)',\n",
       " '_8': 2,\n",
       " '_i9': '# Whatsup Data\\n\\nTime              =  \"12:52 pm\"\\nviewed            =  82\\ncomments          = \"super\"\\nprint(\" my status viewed \", viewed)',\n",
       " '_i10': 'import sys\\nsys.getrefcount(Time)',\n",
       " '_10': 2,\n",
       " '_i11': '# Object are structures allocated on the Heap contains info\\n\\n# Time Object Internals \\n\\n# ob_refcnt  # Memory which is pointed by multiple objects  \\n# ob_type    # str\\n# ob_size    # memory size',\n",
       " '_i12': '# python Functions\\n\\ndef  Whatsup():\\n Time            =  \"12:52 pm\"\\n viewed          =  82\\n comments        = \"super\"\\n print(\" my status viewed \", viewed)',\n",
       " 'Whatsup': <function __main__.Whatsup(a, b)>,\n",
       " '_i13': '# python Functions\\n\\ndef  Whatsup():\\n Time            =  \"12:52 pm\"\\n viewed          =  82\\n comments        = \"super\"\\n print(\" my status viewed \", viewed)\\n print(sys.getrefcount(Time))   ',\n",
       " '_i14': 'Whatsup()  # Function call ',\n",
       " '_i15': '# Whatsup Data\\n\\nTime              =  \"12:52 pm\"\\nviewed            =  82\\ncomments          = \"super\"\\nprint(\" my status viewed \", viewed)',\n",
       " '_i16': 'import sys\\nsys.getrefcount(Time)',\n",
       " '_16': 2,\n",
       " '_i17': '# Object are structures allocated on the Heap contains info\\n\\n# Time Object Internals \\n\\n# ob_refcnt  # Memory which is pointed by multiple objects  \\n# ob_type    # str\\n# ob_size    # memory size',\n",
       " '_i18': '# python Functions\\n\\ndef  Whatsup():\\n Time            =  \"12:52 pm\"\\n viewed          =  82\\n comments        = \"super\"\\n print(\" my status viewed \", viewed)\\n print(sys.getrefcount(Time))   ',\n",
       " '_i19': 'Whatsup()  # Function call ',\n",
       " '_i20': ' Whatsup(2,3)\\n   \\n Whatsup(5,\"jt\")',\n",
       " '_i21': 'def  Whatsup( a ,b ):\\n     print(a,b)',\n",
       " '_i22': ' Whatsup(2,3)\\n   \\n Whatsup(5,\"jt\")',\n",
       " '_i23': '# C:\\\\Users\\\\jvt\\\\AppData\\\\Local\\\\Programs\\\\Python\\\\Python36\\\\Lib\\\\ctypes\\n\\nimport ctypes             # Folder access \\n\\nfrom ctypes import util   # From Folder the File access \\n\\nutil._get_build_version() # From file we invoke the Function ',\n",
       " 'ctypes': <module 'ctypes' from 'C:\\\\Users\\\\jvt\\\\Anaconda3\\\\lib\\\\ctypes\\\\__init__.py'>,\n",
       " 'util': <module 'ctypes.util' from 'C:\\\\Users\\\\jvt\\\\Anaconda3\\\\lib\\\\ctypes\\\\util.py'>,\n",
       " '_23': 14.0,\n",
       " '_i24': ' import dis\\n    \\nobj = dis.Bytecode(Whatsup)',\n",
       " 'dis': <module 'dis' from 'C:\\\\Users\\\\jvt\\\\Anaconda3\\\\lib\\\\dis.py'>,\n",
       " 'obj': Bytecode(<function Whatsup at 0x000001C3173EAD08>),\n",
       " '_i25': ' # Byte code\\n\\ndis.dis(Whatsup)',\n",
       " '_i26': '# Part 2\\n\\nclass Whatsup:\\n Time           =  \"12:52 pm\"\\n viewed        =  82\\n comments   = \"super\"\\n print(\" my Whatsup viewed \", viewed)\\n print(\"  viewed address \", id(viewed))\\n print(\" Time address \", id(Time))\\n print(\" comments address \", id(comments))',\n",
       " '_i27': 'Whatsup.__dict__',\n",
       " '_27': mappingproxy({'__module__': '__main__',\n",
       "               'Time': '12:52 pm',\n",
       "               'viewed': 82,\n",
       "               'comments': 'super',\n",
       "               '__dict__': <attribute '__dict__' of 'Whatsup' objects>,\n",
       "               '__weakref__': <attribute '__weakref__' of 'Whatsup' objects>,\n",
       "               '__doc__': None}),\n",
       " '_i28': '# Utube Data\\n\\nTime              =  \"12:52 pm\"\\nviewed            =  82\\ncomments          = \"super\"\\nprint(\" my status viewed \", viewed)',\n",
       " '_i29': '# Utube Data\\n\\nTime              =  \"12:52 pm\"\\nviewed            =  82\\ncomments          = \"super\"\\nprint(\" my Utube viewed \", viewed)',\n",
       " '_i30': 'import sys\\nsys.getrefcount(Time)',\n",
       " '_30': 2,\n",
       " '_i31': '# Object are structures allocated on the Heap contains info\\n\\n# Time Object Internals \\n\\n# ob_refcnt  # Memory which is pointed by multiple objects  \\n# ob_type    # str\\n# ob_size    # memory size',\n",
       " '_i32': '# python Functions\\n\\ndef  Utube():\\n Time            =  \"12:52 pm\"\\n viewed          =  82\\n comments        = \"super\"\\n print(\" my status viewed \", viewed)\\n print(sys.getrefcount(Time))   ',\n",
       " 'Utube': ['python', 1, 2018, 3.6],\n",
       " '_i33': 'Whatsup()  # Function call ',\n",
       " '_33': <__main__.Whatsup at 0x1c31737af60>,\n",
       " '_i34': 'Utube()  # Function call ',\n",
       " '_i35': '# python Functions\\n\\ndef  Utube():\\n Time            =  \"12:52 pm\"\\n viewed          =  82\\n comments        = \"super\"\\n print(\" my status viewed \", viewed)\\n print(sys.getrefcount(Time))   ',\n",
       " '_i36': 'Utube()  # Function call ',\n",
       " '_i37': '# python Functions\\n\\ndef  Utube():\\n Time            =  \"12:52 pm\"\\n viewed          =  82\\n comments        = \"super\"\\n print(\" my videos viewed \", viewed)\\n print(sys.getrefcount(Time))   ',\n",
       " '_i38': 'Utube()  # Function call ',\n",
       " '_i39': 'def  Whatsup( a ,b ):\\n     print(a,b)',\n",
       " '_i40': ' Whatsup(2,3)\\n   \\n Whatsup(5,\"jt\")',\n",
       " '_i41': ' Whatsup(2,3)\\n   \\n Whatsup(5,\"jt\")',\n",
       " '_i42': '# C:\\\\Users\\\\jvt\\\\AppData\\\\Local\\\\Programs\\\\Python\\\\Python36\\\\Lib\\\\ctypes\\n\\nimport ctypes             # Folder access \\n\\nfrom ctypes import util   # From Folder the File access \\n\\nutil._get_build_version() # From file we invoke the Function ',\n",
       " '_42': 14.0,\n",
       " '_i43': ' import dis\\n    \\nobj = dis.Bytecode(Whatsup)',\n",
       " '_i44': ' # Byte code\\n\\ndis.dis(Whatsup)',\n",
       " '_i45': '# Part 2\\n\\nclass Utube:\\n Time           =  \"12:52 pm\"\\n viewed        =  82\\n comments   = \"super\"\\n print(\" my Whatsup viewed \", viewed)\\n print(\"  viewed address \", id(viewed))\\n print(\" Time address \", id(Time))\\n print(\" comments address \", id(comments))',\n",
       " '_i46': 'Whatsup.__dict__',\n",
       " '_46': {},\n",
       " '_i47': 'Utube.__dict__',\n",
       " '_47': mappingproxy({'__module__': '__main__',\n",
       "               'Time': '12:52 pm',\n",
       "               'viewed': 82,\n",
       "               'comments': 'super',\n",
       "               '__dict__': <attribute '__dict__' of 'Utube' objects>,\n",
       "               '__weakref__': <attribute '__weakref__' of 'Utube' objects>,\n",
       "               '__doc__': None}),\n",
       " '_i48': '# Part 2\\n\\nclass Utube:\\n Time           =  \"12:52 pm\"\\n viewed        =  82\\n comments   = \"super\"\\n print(\" my Whatsup viewed \", viewed)\\n print(\"  viewed address \", id(viewed))\\n print(\" Time address \", id(Time))\\n print(\" comments address \", id(comments))',\n",
       " '_i49': 'Utube.__dict__',\n",
       " '_49': mappingproxy({'__module__': '__main__',\n",
       "               'Time': '12:52 pm',\n",
       "               'viewed': 82,\n",
       "               'comments': 'super',\n",
       "               '__dict__': <attribute '__dict__' of 'Utube' objects>,\n",
       "               '__weakref__': <attribute '__weakref__' of 'Utube' objects>,\n",
       "               '__doc__': None}),\n",
       " '_i50': 'class Utube:\\n               \\n def  __init__(self):\\n  self.Time           =  \"12:53 pm\"        # single pointer poiniting to individual data\\n  self.viewed        =  85\\n  self.comments   = \"wow\"\\n  print(\" my Whatsu viewed \", self.viewed)\\n  print(\" my Whatsu address \", id(self.viewed))\\n  print(\" my Whatsu address \", id(self.Time))\\n  print(\" my Whatsu address \", id(self.comments))',\n",
       " '_i51': 'Utube()',\n",
       " '_51': <__main__.Utube at 0x1c317410898>,\n",
       " '_i52': 'class Utube:\\n               \\n def  __init__(self):\\n  self.Time           =  \"12:53 pm\"        # single pointer poiniting to individual data\\n  self.viewed        =  85\\n  self.comments   = \"wow\"\\n  print(\" my Whatsu viewed \", self.viewed)\\n  print(\" my Whatsu address \", id(self.viewed))\\n  print(\" my Whatsu address \", id(self.Time))\\n  print(\" my Whatsu address \", id(self.comments))',\n",
       " '_i53': 'Utube()',\n",
       " '_53': <__main__.Utube at 0x1c317410128>,\n",
       " '_i54': 'class Utube:\\n def __init__(self):\\n  print(self)\\n  print(\" python constructor\")\\n  self.Lang=\"python\"\\n  self.Rank = 1\\n  self.year=2018\\n  self.version=3.6\\n  print(self.version)',\n",
       " '_i55': 'class Utube:\\n               \\n def  __init__(self):\\n  self.Time           =  \"12:53 pm\"        # single pointer poiniting to individual data\\n  self.viewed        =  85\\n  self.comments   = \"wow\"\\n  print(\" my Whatsu viewed \", self.viewed)\\n  print(\" my Whatsu address \", id(self.viewed))\\n  print(\" my Whatsu address \", id(self.Time))\\n  print(\" my Whatsu address \", id(self.comments))',\n",
       " '_i56': 'Utube()',\n",
       " '_56': <__main__.Utube at 0x1c317410cf8>,\n",
       " '_i57': 'class Utube:\\n def __init__(self):\\n  print(self)\\n  print(\" python constructor\")\\n  self.Lang=\"python\"\\n  self.Rank = 1\\n  self.year=2018\\n  self.version=3.6\\n  print(self.version)',\n",
       " '_i58': 'python()  # does this work \"\" BEATING CODE IPL 20-20 \"\"',\n",
       " '_i59': 'Utube()  # does this work \"\" BEATING CODE IPL 20-20 \"\"',\n",
       " '_59': <__main__.Utube at 0x1c31741f208>,\n",
       " '_i60': 'Utube= [ \"python\" ,  1 , 2018 ,3.6 ]\\n    \\nUtube[0]',\n",
       " '_60': 'python',\n",
       " '_i61': 'class pandas:\\n shape =[] # list \\n def __init__(self):\\n  self.type=\"csv\"\\n  self.columns= 0\\n  self.rows=0\\n  Dataframes.shape =(100,5)\\n  print(\" Dataframes constructor\")\\n  print( self.type)\\n def head(  ):\\n  print(\" Dataframes head\")\\n  self.rows=5\\n  print(self.rows) ',\n",
       " 'pandas': <module 'pandas' from 'C:\\\\Users\\\\jvt\\\\Anaconda3\\\\lib\\\\site-packages\\\\pandas\\\\__init__.py'>,\n",
       " '_i62': 'dataset = pandas()',\n",
       " '_i63': 'class pandas:\\n shape =[] # list \\n def __init__(self):\\n  self.type=\"csv\"\\n  self.columns= 0\\n  self.rows=0\\n  Dataframes.shape =(100,5)\\n  print(\" Dataframes constructor\")\\n  print( self.type)\\n def head(  ):\\n  print(\" Dataframes head\")\\n  self.rows=5\\n  print(self.rows) ',\n",
       " '_i64': 'dataset = pandas()',\n",
       " '_i65': 'class pandas:\\n shape =[] # list \\n def __init__(self):\\n  self.type=\"csv\"\\n  self.columns= 0\\n  self.rows=0\\n  pandas.shape =(100,5)\\n  print(\" Dataframes constructor\")\\n  print( self.type)\\n def head(  ):\\n  print(\" Dataframes head\")\\n  self.rows=5\\n  print(self.rows) ',\n",
       " '_i66': 'dataset = pandas()',\n",
       " '_i67': 'dataset.shape',\n",
       " '_67': (100, 5),\n",
       " '_i68': 'class pandas:\\n shape =(0,0)\\n def __init__(self,typ,col,row):\\n  self.type=typ\\n  self.columns= col\\n  self.rows=row\\n  print(\" Dataframes constructor\")\\n  print( self.type)\\n def describe(self):\\n  print(\" Staticstics data mean \")\\n def head(self ,  i):\\n  print(\" Dataframes head data\")\\n  self.rows=5\\n  print(self.rows) \\n def drop(self , id ,num):\\n    print(\" Remove a specific colmun\")\\n def __del__(self):\\n    print(\" Destructor \")',\n",
       " '_i69': '# ALL operation in machine learning in one case study \\ndataset = pandas(\"xl\",5,100)',\n",
       " '_i70': 'class pandas:\\n shape =(0,0)\\n def __init__(self,typ,col,row):\\n  self.type=typ\\n  self.columns= col\\n  self.rows=row\\n  print(\" Dataframes constructor\")\\n  print( self.type)\\n def describe(self):\\n  print(\" Staticstics data mean \")\\n def head(self ,  i):\\n  print(\" Dataframes head data\")\\n  self.rows=5\\n  print(self.rows) \\n def drop(self , id ,num):\\n    print(\" Remove a specific colmun\")\\n def __del__(self):\\n    print(\" Destructor \")',\n",
       " '_i71': 'class pandas:\\n shape =(0,0)\\n def __init__(self,typ,col,row):\\n  self.type=typ\\n  self.columns= col\\n  self.rows=row\\n  print(\" pandas constructor\")\\n  print( self.type)\\n def describe(self):\\n  print(\" Staticstics data mean \")\\n def head(self ,  i):\\n  print(\" pandas head data\")\\n  self.rows=5\\n  print(self.rows) \\n def drop(self , id ,num):\\n    print(\" Remove a specific colmun\")\\n def __del__(self):\\n    print(\" Destructor \")',\n",
       " '_i72': 'class pandas:\\n shape =(0,0)\\n def __init__(self,typ,col,row):\\n  self.type=typ\\n  self.columns= col\\n  self.rows=row\\n  print(\" pandas constructor\")\\n  print( self.type)\\n def describe(self):\\n  print(\" Staticstics data mean \")\\n def head(self ,  i):\\n  print(\" pandas head data\")\\n  self.rows=5\\n  print(self.rows) \\n def drop(self , id ,num):\\n    print(\" Remove a specific colmun\")\\n def __del__(self):\\n    print(\" Destructor \")',\n",
       " '_i73': '# ALL operation in machine learning in one case study \\ndataset = pandas(\"xl\",5,100)',\n",
       " '_i74': '# ALL operation in machine learning in one case study \\ndataset = pandas(\"xl\",5,100)\\ndataset.shape\\ndataset.head(5)\\ndataset.describe()\\ndataset.drop(\\'id\\',1)\\ndel dataset',\n",
       " '_i75': 'List = [ \"python\" ,1, 2018,1.1 ]\\n\\nprint(List)',\n",
       " 'List': ['python', 1, 2018, 1.1, 'R'],\n",
       " '_i76': 'List.append(\"R\");\\n\\nprint(List)',\n",
       " '_i77': 'Offer = [ \\'Z9\\' , \\'Dgb\\', \\'Aloud\\']\\nprint(Offer)\\nprint(type(Offer))\\nimport sys\\nprint(\" set size \",sys.getsizeof(Offer))',\n",
       " 'Offer': {'Aloud', 'Dgb', 'Z9', 'pizza'},\n",
       " '_i78': 'Offer = {  \\'Z9\\' , \\'Dgb\\', \\'Aloud\\'}\\nprint(Offer)\\nprint(type(Offer))\\nprint(\" set size \",sys.getsizeof(Offer))',\n",
       " '_i79': 'Offer.add(\\'pizza\\')\\nprint(Offer)\\nprint(\" add  size \",sys.getsizeof(Offer))',\n",
       " '_i80': 'class Utub:\\n views           =  82\\n \\n def   __init__(self ,time,status ):\\n    Whatsuu3.views =  Whatsuu3.views+1\\n    self.views          =  self.views+1\\n    self.Time           =  [  ]\\n    self.Time.append(time)\\n    self.Time.append(status)\\n    \\n def   display(self ):\\n     print(self.Time)\\n\\n def append(self ,data):\\n      self.Time.append(data)\\n\\n def __del__(self ):\\n    del self.Time',\n",
       " 'Utub': __main__.Utub,\n",
       " '_i81': 'class Utub:\\n views           =  123\\n \\n def   __init__(self ,time,status ):\\n    Utub.views =  Whatsuu3.views+1\\n    self.views          =  self.views+1\\n    self.Time           =  [  ]\\n    self.Time.append(time)\\n    self.Time.append(status)\\n    \\n def   display(self ):\\n     print(self.Time)\\n\\n def append(self ,data):\\n      self.Time.append(data)\\n\\n def __del__(self ):\\n    del self.Time',\n",
       " '_i82': 'class Utub:\\n views           =  123\\n \\n def   __init__(self ,time,status ):\\n    Utub.views =  Whatsuu3.views+1\\n    self.views          =  self.views+1\\n    self.Time           =  [  ]\\n    self.Time.append(time)\\n    self.Time.append(status)\\n    \\n def   display(self ):\\n     print(self.Time)\\n\\n def append(self ,data):\\n      self.Time.append(data)\\n\\n def __del__(self ):\\n    del self.Time',\n",
       " '_i83': 'code1=Utub(\"12.53pm \",\"wow\")\\ncode1.display()\\ncode1.append(\"like\")\\nprint(id(code1.Time))\\ncode1.display()\\ndel code1',\n",
       " '_i84': 'class Utub:\\n views           =  123\\n \\n def   __init__(self ,time,status ):\\n    Utub.views =  Utub.views+1\\n    self.views          =  self.views+1\\n    self.Time           =  [  ]\\n    self.Time.append(time)\\n    self.Time.append(status)\\n    \\n def   display(self ):\\n     print(self.Time)\\n\\n def append(self ,data):\\n      self.Time.append(data)\\n\\n def __del__(self ):\\n    del self.Time',\n",
       " '_i85': 'code1=Utub(\"12.53pm \",\"wow\")\\ncode1.display()\\ncode1.append(\"like\")\\nprint(id(code1.Time))\\ncode1.display()\\ndel code1',\n",
       " '_i86': '# Load libraries\\n\\n# C:\\\\Users\\\\jvt\\\\Anaconda3\\\\Lib\\\\site-packages\\\\seaborn\\n    \\nimport seaborn\\nimport pandas\\n\\n# C:\\\\Users\\\\jvt\\\\Anaconda3\\\\Lib\\\\site-packages\\\\matplotlib File name : pyplot new name plt\\n\\nimport matplotlib.pyplot as plt\\n\\n# C:\\\\Users\\\\jvt\\\\Anaconda3\\\\Lib\\\\site-packages\\\\pandas\\\\tools File name : plotting    function : scatter_matrix\\n\\nfrom pandas.tools.plotting import scatter_matrix\\n\\n# C:\\\\Users\\\\jvt\\\\Anaconda3\\\\Lib\\\\site-packages\\\\sklearn  File name : cross_validation\\n\\nfrom sklearn import cross_validation\\n\\n# C:\\\\Users\\\\jvt\\\\Anaconda3\\\\Lib\\\\site-packages\\\\sklearn\\\\metrics classification.py   def classification_report()\\n    \\nfrom sklearn.metrics import classification_report\\nfrom sklearn.metrics import confusion_matrix\\nfrom sklearn.metrics import accuracy_score\\n\\n# C:\\\\Users\\\\jvt\\\\Anaconda3\\\\Lib\\\\site-packages\\\\sklearn\\\\linear_model  logistic.py  \\n# class LogisticRegression(BaseEstimator, LinearClassifierMixin,SparseCoefMixin)\\n    \\nfrom sklearn.linear_model import LogisticRegression\\nfrom sklearn.tree import DecisionTreeClassifier\\nfrom sklearn.neighbors import KNeighborsClassifier\\nfrom sklearn.discriminant_analysis import LinearDiscriminantAnalysis\\nfrom sklearn.naive_bayes import GaussianNB\\nfrom sklearn.svm import SVC',\n",
       " 'seaborn': <module 'seaborn' from 'C:\\\\Users\\\\jvt\\\\Anaconda3\\\\lib\\\\site-packages\\\\seaborn\\\\__init__.py'>,\n",
       " 'plt': <module 'matplotlib.pyplot' from 'C:\\\\Users\\\\jvt\\\\Anaconda3\\\\lib\\\\site-packages\\\\matplotlib\\\\pyplot.py'>,\n",
       " 'scatter_matrix': <function pandas.tools.plotting.outer.<locals>.wrapper(*args, **kwargs)>,\n",
       " 'cross_validation': <module 'sklearn.cross_validation' from 'C:\\\\Users\\\\jvt\\\\Anaconda3\\\\lib\\\\site-packages\\\\sklearn\\\\cross_validation.py'>,\n",
       " 'classification_report': <function sklearn.metrics.classification.classification_report(y_true, y_pred, labels=None, target_names=None, sample_weight=None, digits=2)>,\n",
       " 'confusion_matrix': <function sklearn.metrics.classification.confusion_matrix(y_true, y_pred, labels=None, sample_weight=None)>,\n",
       " 'accuracy_score': <function sklearn.metrics.classification.accuracy_score(y_true, y_pred, normalize=True, sample_weight=None)>,\n",
       " 'LogisticRegression': sklearn.linear_model.logistic.LogisticRegression,\n",
       " 'DecisionTreeClassifier': sklearn.tree.tree.DecisionTreeClassifier,\n",
       " 'KNeighborsClassifier': sklearn.neighbors.classification.KNeighborsClassifier,\n",
       " 'LinearDiscriminantAnalysis': sklearn.discriminant_analysis.LinearDiscriminantAnalysis,\n",
       " 'GaussianNB': sklearn.naive_bayes.GaussianNB,\n",
       " 'SVC': sklearn.svm.classes.SVC,\n",
       " '_i87': '# Load libraries\\n\\n# C:\\\\Users\\\\jvt\\\\Anaconda3\\\\Lib\\\\site-packages\\\\seaborn\\n    \\nimport seaborn\\nimport pandas\\n\\n# C:\\\\Users\\\\jvt\\\\Anaconda3\\\\Lib\\\\site-packages\\\\matplotlib File name : pyplot new name plt\\n\\nimport matplotlib.pyplot as plt\\n\\n# C:\\\\Users\\\\jvt\\\\Anaconda3\\\\Lib\\\\site-packages\\\\pandas\\\\tools File name : plotting    function : scatter_matrix\\n\\nfrom pandas.tools.plotting import scatter_matrix\\n\\n# C:\\\\Users\\\\jvt\\\\Anaconda3\\\\Lib\\\\site-packages\\\\sklearn  File name : cross_validation\\n\\nfrom sklearn import cross_validation\\n\\n# C:\\\\Users\\\\jvt\\\\Anaconda3\\\\Lib\\\\site-packages\\\\sklearn\\\\metrics classification.py   def classification_report()\\n    \\nfrom sklearn.metrics import classification_report\\nfrom sklearn.metrics import confusion_matrix\\nfrom sklearn.metrics import accuracy_score\\n\\n# C:\\\\Users\\\\jvt\\\\Anaconda3\\\\Lib\\\\site-packages\\\\sklearn\\\\linear_model  logistic.py  \\n# class LogisticRegression(BaseEstimator, LinearClassifierMixin,SparseCoefMixin)\\n    \\nfrom sklearn.linear_model import LogisticRegression\\nfrom sklearn.tree import DecisionTreeClassifier\\nfrom sklearn.neighbors import KNeighborsClassifier\\nfrom sklearn.discriminant_analysis import LinearDiscriminantAnalysis\\nfrom sklearn.naive_bayes import GaussianNB\\nfrom sklearn.svm import SVC',\n",
       " '_i88': 'globals()'}"
      ]
     },
     "execution_count": 88,
     "metadata": {},
     "output_type": "execute_result"
    }
   ],
   "source": [
    "globals()"
   ]
  }
 ],
 "metadata": {
  "anaconda-cloud": {},
  "kernelspec": {
   "display_name": "Python [default]",
   "language": "python",
   "name": "python3"
  },
  "language_info": {
   "codemirror_mode": {
    "name": "ipython",
    "version": 3
   },
   "file_extension": ".py",
   "mimetype": "text/x-python",
   "name": "python",
   "nbconvert_exporter": "python",
   "pygments_lexer": "ipython3",
   "version": "3.5.2"
  }
 },
 "nbformat": 4,
 "nbformat_minor": 2
}
