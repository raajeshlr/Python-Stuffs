{
 "cells": [
  {
   "cell_type": "code",
   "execution_count": 21,
   "metadata": {
    "collapsed": false
   },
   "outputs": [
    {
     "name": "stdout",
     "output_type": "stream",
     "text": [
      " enter the cityjvt\n",
      "jvt\n"
     ]
    }
   ],
   "source": [
    "\"\"\"Script Compile time MEmory\"\"\"\n",
    "\n",
    "livingcurrently     = input(\" enter the city\") # input returns address to an object\n",
    "Mygender            = 'M'\n",
    "Typeofemployment    = 'Salaried Professional'\n",
    "workexperience      = 3\n",
    "monthlyincome       = 50000\n",
    "TotalEMIs           = 0\n",
    "yourage             = 25\n",
    "print(livingcurrently)"
   ]
  },
  {
   "cell_type": "code",
   "execution_count": 22,
   "metadata": {
    "collapsed": true
   },
   "outputs": [],
   "source": [
    "\"\"\"summary of Run time memory\"\"\"\n",
    "def function( ):\n",
    " Bitcoinprice = 31000\n",
    " Bitcoinprice1 = int(31000)\n",
    " Bitcoininindia = True\n",
    " Bitcoininindia1 = bool(False)\n",
    " navy = str('indianarmy')\n",
    " navyenginerrsalary= float(3456.78)\n",
    " print(Bitcoinprice)\n"
   ]
  },
  {
   "cell_type": "code",
   "execution_count": 23,
   "metadata": {
    "collapsed": false
   },
   "outputs": [
    {
     "name": "stdout",
     "output_type": "stream",
     "text": [
      "  3           0 LOAD_CONST               1 (31000)\n",
      "              2 STORE_FAST               0 (Bitcoinprice)\n",
      "\n",
      "  4           4 LOAD_GLOBAL              0 (int)\n",
      "              6 LOAD_CONST               1 (31000)\n",
      "              8 CALL_FUNCTION            1\n",
      "             10 STORE_FAST               1 (Bitcoinprice1)\n",
      "\n",
      "  5          12 LOAD_CONST               2 (True)\n",
      "             14 STORE_FAST               2 (Bitcoininindia)\n",
      "\n",
      "  6          16 LOAD_GLOBAL              1 (bool)\n",
      "             18 LOAD_CONST               3 (False)\n",
      "             20 CALL_FUNCTION            1\n",
      "             22 STORE_FAST               3 (Bitcoininindia1)\n",
      "\n",
      "  7          24 LOAD_GLOBAL              2 (str)\n",
      "             26 LOAD_CONST               4 ('indianarmy')\n",
      "             28 CALL_FUNCTION            1\n",
      "             30 STORE_FAST               4 (navy)\n",
      "\n",
      "  8          32 LOAD_GLOBAL              3 (float)\n",
      "             34 LOAD_CONST               5 (3456.78)\n",
      "             36 CALL_FUNCTION            1\n",
      "             38 STORE_FAST               5 (navyenginerrsalary)\n",
      "\n",
      "  9          40 LOAD_GLOBAL              4 (print)\n",
      "             42 LOAD_FAST                0 (Bitcoinprice)\n",
      "             44 CALL_FUNCTION            1\n",
      "             46 POP_TOP\n",
      "             48 LOAD_CONST               0 (None)\n",
      "             50 RETURN_VALUE\n"
     ]
    }
   ],
   "source": [
    "import dis\n",
    "dis.dis(function)"
   ]
  },
  {
   "cell_type": "code",
   "execution_count": 27,
   "metadata": {
    "collapsed": false
   },
   "outputs": [
    {
     "name": "stdout",
     "output_type": "stream",
     "text": [
      "31000\n",
      "15.0\n",
      "indianarmy\n",
      "15.0\n"
     ]
    }
   ],
   "source": [
    "\"\"\"summary of Run time memory\"\"\"\n",
    "\"\"\" combine source code files \"\"\"\n",
    "\n",
    "myglobaltax =18.00\n",
    "\n",
    "def function( ):\n",
    " Bitcoinprice = 31000\n",
    " Bitcoinprice1 = int(31000)\n",
    " Bitcoininindia = True\n",
    " Bitcoininindia1 = bool(False)\n",
    " navy = str('indianarmy')\n",
    " navyenginerrsalary= float(3456.78)\n",
    " print(Bitcoinprice)\n",
    " global myglobaltax  \n",
    " myglobaltax =15.00\n",
    " print(myglobaltax)\n",
    " return navy;\n",
    "\n",
    "\"\"\"  Intrpreter will not allocate memory indicates already compile time memory acess\"\"\"\n",
    "\n",
    "val =function( )\n",
    "print(val)\n",
    "print(myglobaltax)"
   ]
  },
  {
   "cell_type": "code",
   "execution_count": 24,
   "metadata": {
    "collapsed": true
   },
   "outputs": [],
   "source": [
    "def loanelibile():\n",
    " livingcurrently = input(\" enter the city\") # input returns address to an object\n",
    " if(  livingcurrently == 'Mumbai' ):\n",
    "   print(\"no loan applicable\")\n",
    "   return\n",
    " Mygender         = 'M'\n",
    " Typeofemployment = 'Salaried Professional'\n",
    " workexperience = 3\n",
    " monthlyincome = 50000\n",
    " TotalEMIs          = 0\n",
    " yourage            = 25\n",
    " Loansancation= monthlyincome *10;\n",
    " print(livingcurrently)\n",
    " print(Loansancation)\n",
    " del Typeofemployment\n",
    " del yourage"
   ]
  },
  {
   "cell_type": "code",
   "execution_count": 7,
   "metadata": {
    "collapsed": false
   },
   "outputs": [
    {
     "name": "stdout",
     "output_type": "stream",
     "text": [
      "230\n",
      "size of data  28\n",
      "type  <class 'int'>\n",
      "address  1436059872\n",
      "10\n"
     ]
    }
   ],
   "source": [
    "def IPL(   ):\n",
    " M =230             \n",
    " print(       M        )\n",
    " import sys\n",
    " print(  \"size of data \"   ,sys.getsizeof(M)       )\n",
    " print(   \"type \" ,  type(M)       )\n",
    " print(   \"address \" ,  id(M)       )\n",
    " print( sys.getrefcount(M) )  \n",
    " del M\n",
    "\n",
    "if __name__ ==\"__main__\":\n",
    "            IPL(      )\n"
   ]
  },
  {
   "cell_type": "code",
   "execution_count": 25,
   "metadata": {
    "collapsed": false
   },
   "outputs": [
    {
     "name": "stdout",
     "output_type": "stream",
     "text": [
      "51000\n",
      "18.0\n",
      "[True, False]\n",
      "[51000, 61000, <function function.<locals>.functionindia at 0x0000021B579DAEA0>, <built-in function print>]\n",
      "18.0\n"
     ]
    }
   ],
   "source": [
    "myglobaltax =18.00\n",
    "\n",
    "def function( ):\n",
    " Bitcoin = 51000\n",
    " Bitcoin1 = int(61000)\n",
    " \n",
    " def functionindia():\n",
    "    Bit = True\n",
    "    Bit1 = bool(False)\n",
    "    navy = str('indianarmy')\n",
    "    navyenginerrsalary= float(3456.78)\n",
    "    nonlocal Bitcoin          # run time memory\n",
    "    print(Bitcoin)\n",
    "    global myglobaltax     # compile time memory\n",
    "    print(myglobaltax)\n",
    "    return [Bit ,Bit1 ];\n",
    "\n",
    " ret=functionindia()\n",
    " print(ret)\n",
    " return [ Bitcoin ,Bitcoin1, functionindia,print  ]\n",
    " \n",
    " \n",
    "val =function( )\n",
    "print(val)\n",
    "print(myglobaltax)\n"
   ]
  },
  {
   "cell_type": "code",
   "execution_count": null,
   "metadata": {
    "collapsed": true
   },
   "outputs": [],
   "source": [
    "def Toturesongs( ):\n",
    "\n",
    " Radio = [  98.3,   \"Radio mirchi\", \"James\",\"Popsongs\" ]\n",
    "\n",
    " def hosting() :\n",
    "   nonlocal Radio\n",
    "   i =1\n",
    "   while  i<4:\n",
    "       print(i)\n",
    "       print(id(i))\n",
    "       i=i+1\n",
    "   Radio.append(\"python kolveri\")\n",
    "\n",
    " hosting()\n",
    " print(Radio)\n",
    " print(id(Radio[0]))\n",
    "       "
   ]
  },
  {
   "cell_type": "code",
   "execution_count": 26,
   "metadata": {
    "collapsed": false
   },
   "outputs": [
    {
     "name": "stdout",
     "output_type": "stream",
     "text": [
      " enter the city :jvt\n",
      "jvt\n",
      "500000\n"
     ]
    }
   ],
   "source": [
    "def loanelibile():  # Step 1\n",
    " livingcurrently = input(\" enter the city :\") # input returns address to an object\n",
    " Mygender         = 'M'\n",
    " Typeofemployment = 'Salaried Professional'\n",
    " workexperience = 2\n",
    " monthlyincome = 50000\n",
    " TotalEMIs          = 0\n",
    " yourage            = 25                      # Step 2 &  3\n",
    " if(  (livingcurrently == 'Mumbai' ) and (  workexperience >2 )):  # Step 4\n",
    "   print(\"no loan applicable\")\n",
    "   return\n",
    " Loansancation= monthlyincome *10;  # Step 5\n",
    " print(livingcurrently)\n",
    " print(Loansancation)     # Step 6\n",
    "\n",
    "\n",
    "loanelibile()       # Step 7\n"
   ]
  },
  {
   "cell_type": "code",
   "execution_count": 6,
   "metadata": {
    "collapsed": false
   },
   "outputs": [
    {
     "name": "stdout",
     "output_type": "stream",
     "text": [
      "Sachin 139.05 1000\n",
      "2316457105648 2316445821616 2316456638928\n"
     ]
    }
   ],
   "source": [
    "PlayerName              =   str( \"Sachin\")\n",
    "Role                    =    str(\"Batsmen\")     ;\n",
    "M                       =    int(1000)        ;\n",
    "SR                      =    float(139.05)    ;\n",
    "PlayerType              =     str('L' )       ;\n",
    "Alrounder               =     bool(True);\n",
    "print(      PlayerName,    SR,  M        );\n",
    "print(      id(PlayerName),     id(SR),   id(M )       );"
   ]
  },
  {
   "cell_type": "code",
   "execution_count": 15,
   "metadata": {
    "collapsed": true
   },
   "outputs": [],
   "source": [
    "#Tuples have a fixed size. Officially, they are immutable and do not change after creation.\n",
    "#Unofficially, they can be altered at the C level, but these alterations are not supposed to\n",
    "#be visible to Python code; you modify the tuple once after you've created it but before you've\n",
    "#used it for anything, and thereafter you don't modify it again\n",
    "\n",
    "Loan=   'Mumbai', 'M',     'Salaried Professional', 3,  50000,  0, 25   "
   ]
  },
  {
   "cell_type": "code",
   "execution_count": 16,
   "metadata": {
    "collapsed": false
   },
   "outputs": [
    {
     "name": "stdout",
     "output_type": "stream",
     "text": [
      "Mumbai\n",
      "2316457104864 2316418062520 2316457183392 1436052608\n"
     ]
    }
   ],
   "source": [
    "# tuple objects\n",
    "\n",
    "Loan= (   'Mumbai', 'M',     'Salaried Professional', 3,  50000,  0, 25   )  # Run time meory  HEap No acess \n",
    "\n",
    "print(Loan[0])\n",
    "\n",
    "#print(Loan[9]) # Appending & Modification not possible tuple index out of range\n",
    "\n",
    "print(id(Loan[0]),id(Loan[1]),id(Loan[2]),id(Loan[3]))\n"
   ]
  },
  {
   "cell_type": "code",
   "execution_count": 17,
   "metadata": {
    "collapsed": false
   },
   "outputs": [
    {
     "name": "stdout",
     "output_type": "stream",
     "text": [
      "None\n",
      "['Mumbai', 'M', 'Salaried Professional', 3, 50000, 0, 25, 'fastloan']\n",
      "2316457104864 2316418062520 2316457403136 1436052608\n"
     ]
    }
   ],
   "source": [
    "# List objects\n",
    "\n",
    "LoanList= [   'Mumbai', 'M',     'Salaried Professional', 3,  50000,  0, 25   ]  # Run time meory Heap\n",
    "\n",
    "print(LoanList.append('fastloan')) # Appending & Modification  possible List index out of range\n",
    "\n",
    "print(LoanList)\n",
    "\n",
    "print(id(LoanList[0]),id(LoanList[1]),id(LoanList[2]),id(LoanList[3]))"
   ]
  },
  {
   "cell_type": "code",
   "execution_count": 19,
   "metadata": {
    "collapsed": false
   },
   "outputs": [
    {
     "name": "stdout",
     "output_type": "stream",
     "text": [
      "dict_keys(['livingcurrently', 'Mygender', 'Typeofemployment', 'workexperience', 'monthlyincome', 'TotalEMIs', 'yourage'])\n",
      "{'livingcurrently': 'Mumbai', 'Mygender': 'M', 'Typeofemployment': 'Salaried Professional', 'workexperience': 3, 'monthlyincome': 50000, 'TotalEMIs': 0, 'yourage': 25}\n",
      "2316457104864 2316418062520 1436052608 2316456638736\n"
     ]
    }
   ],
   "source": [
    "# Dict objects\n",
    "\n",
    "LoanList= {  \"livingcurrently\": 'Mumbai', \"Mygender\":'M',   \"Typeofemployment\":  'Salaried Professional', \"workexperience\":3, \"monthlyincome\": 50000, \"TotalEMIs\": 0, \"yourage\":25   }  # Run time meory Heap\n",
    "\n",
    "print(LoanList.keys()) # Appending & Modification  possible Dict index out of range\n",
    "\n",
    "print(LoanList)\n",
    "\n",
    "print(id(LoanList[\"livingcurrently\"]),id(LoanList[\"Mygender\"]),id(LoanList[ \"workexperience\"]),id(LoanList[\"monthlyincome\"]))\n"
   ]
  },
  {
   "cell_type": "code",
   "execution_count": 43,
   "metadata": {
    "collapsed": false
   },
   "outputs": [
    {
     "name": "stdout",
     "output_type": "stream",
     "text": [
      "{'__name__': '__main__', '__doc__': '  objects ', '__package__': None, '__loader__': None, '__spec__': None, '__builtin__': <module 'builtins' (built-in)>, '__builtins__': <module 'builtins' (built-in)>, '_ih': ['', 'def IPL(   ):\\n M =230             \\n print(       M        )\\n import sys\\n print(  \"size of data \"   ,sys.getsizeof(M)       )\\n print(   \"type \" ,  type(M)       )\\n print(   \"address \" ,  id(M)       )\\n del M\\n\\nif __name__ ==\"__main__\":\\n               T20(    )\\n               IPL(      )', 'def IPL(   ):\\n M =230             \\n print(       M        )\\n import sys\\n print(  \"size of data \"   ,sys.getsizeof(M)       )\\n print(   \"type \" ,  type(M)       )\\n print(   \"address \" ,  id(M)       )\\n del M\\n\\nif __name__ ==\"__main__\":\\n            IPL(      )', 'def IPL(   ):\\n M =230             \\n print(       M        )\\n import sys\\n print(  \"size of data \"   ,sys.getsizeof(M)       )\\n print(   \"type \" ,  type(M)       )\\n print(   \"address \" ,  id(M)       )\\n  print( sys.getrefcount(M) )  \\n del M\\n\\nif __name__ ==\"__main__\":\\n            IPL(      )', 'def IPL(   ):\\n M =230             \\n print(       M        )\\n import sys\\n print(  \"size of data \"   ,sys.getsizeof(M)       )\\n print(   \"type \" ,  type(M)       )\\n print(   \"address \" ,  id(M)       )\\n print( sys.getrefcount(M) )  \\n del M\\n\\nif __name__ ==\"__main__\":\\n            IPL(      )', 'def IPL(   ):\\n M =230             \\n print(       M        )\\n import sys\\n print(  \"size of data \"   ,sys.getsizeof(M)       )\\n print(   \"type \" ,  type(M)       )\\n print(   \"address \" ,  id(M)       )\\n print( sys.getrefcount(M) )  \\n del M\\n\\nif __name__ ==\"__main__\":\\n            IPL(      )', 'PlayerName              =   str( \"Sachin\")\\nRole                    =    str(\"Batsmen\")     ;\\nM                       =    int(1000)        ;\\nSR                      =    float(139.05)    ;\\nPlayerType              =     str(\\'L\\' )       ;\\nAlrounder               =     bool(True);\\nprint(      PlayerName,    SR,  M        );\\nprint(      id(PlayerName),     id(SR),   id(M )       );', 'def IPL(   ):\\n M =230             \\n print(       M        )\\n import sys\\n print(  \"size of data \"   ,sys.getsizeof(M)       )\\n print(   \"type \" ,  type(M)       )\\n print(   \"address \" ,  id(M)       )\\n print( sys.getrefcount(M) )  \\n del M\\n\\nif __name__ ==\"__main__\":\\n            IPL(      )', '\"\"\"Script Compile time MEmory\"\"\"\\nlivingcurrently = input(\" enter the city\") # input returns address to an object\\nMygender         = \\'M\\'\\nTypeofemployment = \\'Salaried Professional\\'\\nworkexperience = 3\\nmonthlyincome = 50000\\nTotalEMIs          = 0\\nyourage            = 25\\nprint(livingcurrently)', '\"\"\"Script Compile time MEmory\"\"\"\\n\\nlivingcurrently     = input(\" enter the city\") # input returns address to an object\\nMygender            = \\'M\\'\\nTypeofemployment    = \\'Salaried Professional\\'\\nworkexperience      = 3\\nmonthlyincome       = 50000\\nTotalEMIs           = 0\\nyourage             = 25\\nprint(livingcurrently)', \"#Tuples have a fixed size. Officially, they are immutable and do not change after creation.\\n#Unofficially, they can be altered at the C level, but these alterations are not supposed to\\n#be visible to Python code; you modify the tuple once after you've created it but before you've\\n#used it for anything, and thereafter you don't modify it again\\n\\nLoan=   'Mumbai', 'M',     'Salaried Professional', 3,  50000,  0, 25   \", \"# tuple objects\\nLoan= (   'Mumbai', 'M',     'Salaried Professional', 3,  50000,  0, 25   )  # Run time meory  HEap No acess \\nprint(Loan[0])\\n#print(Loan[9]) # Appending & Modification not possible tuple index out of range\\nprint(id(Loan[0]),id(Loan[1]),id(Loan[2]),id(Loan[3]))\", \"# List objects\\nLoanList= [   'Mumbai', 'M',     'Salaried Professional', 3,  50000,  0, 25   ]  # Run time meory Heap\\nprint(LoanList.append('fastloan')) # Appending & Modification  possible List index out of range\\nprint(LoanList)\\nprint(id(LoanList[0]),id(LoanList[1]),id(LoanList[2]),id(LoanList[3]))\", \"# List objects\\n\\nLoanList= [   'Mumbai', 'M',     'Salaried Professional', 3,  50000,  0, 25   ]  # Run time meory Heap\\n\\nprint(LoanList.append('fastloan')) # Appending & Modification  possible List index out of range\\n\\nprint(LoanList)\\n\\nprint(id(LoanList[0]),id(LoanList[1]),id(LoanList[2]),id(LoanList[3]))\", \"# tuple objects\\n\\nLoan= (   'Mumbai', 'M',     'Salaried Professional', 3,  50000,  0, 25   )  # Run time meory  HEap No acess \\n\\nprint(Loan[0])\\n\\n#print(Loan[9]) # Appending & Modification not possible tuple index out of range\\n\\nprint(id(Loan[0]),id(Loan[1]),id(Loan[2]),id(Loan[3]))\", \"#Tuples have a fixed size. Officially, they are immutable and do not change after creation.\\n#Unofficially, they can be altered at the C level, but these alterations are not supposed to\\n#be visible to Python code; you modify the tuple once after you've created it but before you've\\n#used it for anything, and thereafter you don't modify it again\\n\\nLoan=   'Mumbai', 'M',     'Salaried Professional', 3,  50000,  0, 25   \", \"# tuple objects\\n\\nLoan= (   'Mumbai', 'M',     'Salaried Professional', 3,  50000,  0, 25   )  # Run time meory  HEap No acess \\n\\nprint(Loan[0])\\n\\n#print(Loan[9]) # Appending & Modification not possible tuple index out of range\\n\\nprint(id(Loan[0]),id(Loan[1]),id(Loan[2]),id(Loan[3]))\", \"# List objects\\n\\nLoanList= [   'Mumbai', 'M',     'Salaried Professional', 3,  50000,  0, 25   ]  # Run time meory Heap\\n\\nprint(LoanList.append('fastloan')) # Appending & Modification  possible List index out of range\\n\\nprint(LoanList)\\n\\nprint(id(LoanList[0]),id(LoanList[1]),id(LoanList[2]),id(LoanList[3]))\", '# Dict objects\\n\\nLoanList= {  \"livingcurrently\": \\'Mumbai\\', \"Mygender\":\\'M\\',   \"Typeofemployment\":  \\'Salaried Professional\\', \"workexperience\":3, \"monthlyincome\": 50000, \"TotalEMIs\": 0, \"yourage\":25   }  # Run time meory Heap\\n\\nprint(LoanList.keys()) # Appending & Modification  possible Dict index out of range\\n\\nprint(LoanList)\\n\\nprint(id(LoanList[\"livingcurrently\"]),id(LoanList[\"Mygender\"]),id(LoanList[ \"workexperience\"]),id(LoanList[\"monthlyincome\"]))', '# Dict objects\\n\\nLoanList= {  \"livingcurrently\": \\'Mumbai\\', \"Mygender\":\\'M\\',   \"Typeofemployment\":  \\'Salaried Professional\\', \"workexperience\":3, \"monthlyincome\": 50000, \"TotalEMIs\": 0, \"yourage\":25   }  # Run time meory Heap\\n\\nprint(LoanList.keys()) # Appending & Modification  possible Dict index out of range\\n\\nprint(LoanList)\\n\\nprint(id(LoanList[\"livingcurrently\"]),id(LoanList[\"Mygender\"]),id(LoanList[ \"workexperience\"]),id(LoanList[\"monthlyincome\"]))', 'import dis\\ndis.dis(function)', '\"\"\"Script Compile time MEmory\"\"\"\\n\\nlivingcurrently     = input(\" enter the city\") # input returns address to an object\\nMygender            = \\'M\\'\\nTypeofemployment    = \\'Salaried Professional\\'\\nworkexperience      = 3\\nmonthlyincome       = 50000\\nTotalEMIs           = 0\\nyourage             = 25\\nprint(livingcurrently)', '\"\"\"summary of Run time memory\"\"\"\\ndef function( ):\\n Bitcoinprice = 31000\\n Bitcoinprice1 = int(31000)\\n Bitcoininindia = True\\n Bitcoininindia1 = bool(False)\\n navy = str(\\'indianarmy\\')\\n navyenginerrsalary= float(3456.78)\\n print(Bitcoinprice)', 'import dis\\ndis.dis(function)', 'def loanelibile():\\n livingcurrently = input(\" enter the city\") # input returns address to an object\\n if(  livingcurrently == \\'Mumbai\\' ):\\n   print(\"no loan applicable\")\\n   return\\n Mygender         = \\'M\\'\\n Typeofemployment = \\'Salaried Professional\\'\\n workexperience = 3\\n monthlyincome = 50000\\n TotalEMIs          = 0\\n yourage            = 25\\n Loansancation= monthlyincome *10;\\n print(livingcurrently)\\n print(Loansancation)\\n del Typeofemployment\\n del yourage', \"myglobaltax =18.00\\n\\ndef function( ):\\n Bitcoin = 51000\\n Bitcoin1 = int(61000)\\n \\n def functionindia():\\n    Bit = True\\n    Bit1 = bool(False)\\n    navy = str('indianarmy')\\n    navyenginerrsalary= float(3456.78)\\n    nonlocal Bitcoin          # run time memory\\n    print(Bitcoin)\\n    global myglobaltax     # compile time memory\\n    print(myglobaltax)\\n    return [Bit ,Bit1 ];\\n\\n ret=functionindia()\\n print(ret)\\n return [ Bitcoin ,Bitcoin1, functionindia,print  ]\\n \\n \\nval =function( )\\nprint(val)\\nprint(myglobaltax)\", 'def loanelibile():  # Step 1\\n livingcurrently = input(\" enter the city :\") # input returns address to an object\\n Mygender         = \\'M\\'\\n Typeofemployment = \\'Salaried Professional\\'\\n workexperience = 2\\n monthlyincome = 50000\\n TotalEMIs          = 0\\n yourage            = 25                      # Step 2 &  3\\n if(  (livingcurrently == \\'Mumbai\\' ) and (  workexperience >2 )):  # Step 4\\n   print(\"no loan applicable\")\\n   return\\n Loansancation= monthlyincome *10;  # Step 5\\n print(livingcurrently)\\n print(Loansancation)     # Step 6\\n\\n\\nloanelibile()       # Step 7', '\"\"\"summary of Run time memory\"\"\"\\n\"\"\" combine source code files \"\"\"\\n\\nmyglobaltax =18.00\\n\\ndef function( ):\\n Bitcoinprice = 31000\\n Bitcoinprice1 = int(31000)\\n Bitcoininindia = True\\n Bitcoininindia1 = bool(False)\\n navy = str(\\'indianarmy\\')\\n navyenginerrsalary= float(3456.78)\\n print(Bitcoinprice)\\n global myglobaltax  \\n myglobaltax =15.00\\n print(myglobaltax)\\n return navy;\\n\\n\"\"\"  Intrpreter will not allocate memory indicates already compile time memory acess\"\"\"\\n\\nval =function( )\\nprint(val)\\nprint(myglobaltax)', 'class Snake:\\n  sound=\\'Buus Buus\\'\\n  def __init__(self,snack,special):\\n        self.snacks =snack\\n        self.sundayspecial =special\\n\\n  def display(self):\\n        print(  self.snacks,self.sundayspecial ,Snake.sound)\\n\\ncython = Snake(\"milk\",\"rat\")\\ncython.display()\\n\\ncython1 = Snake(\"human\",\"frog\")\\ncython1.display()', 'class Snake:\\n  sound=\\'Buus Buus\\'\\n  def __init__(self):\\n        print( \"Consturctor\")\\n        self.snacks =\"milk\"\\n        self.sundayspecial =\"egg\"\\n      \\n\\n  def display(self):\\n        print(  self.snacks,self.sundayspecial ,Snake.sound)\\n        print(  id(self.snacks),id(self.sundayspecial) ,id(Snake.sound))\\n\\n  def __del__(self):\\n        print( \"desturctor\")\\n        del  self.snacks\\n        del  self.sundayspecial\\n\\n\\ncython = Snake()\\ncython.display()\\ncython1 = Snake()\\ncython1.display()\\ndel cython\\ndel cython1', 'class Snake:\\n  sound=\\'Buus Buus\\'\\n  def __init__(self,snack,special):\\n        print( \"Constructor\")\\n        self.snacks =snack\\n        self.sundayspecial =special\\n        Snake.sound=\"god snake\"          # self.sound=\"god snake\" Bug \\n        \\n\\n  def display(self):\\n        print(  self.snacks,self.sundayspecial ,Snake.sound)\\n\\n  def __del__(self):\\n        print( \"desturctor\")\\n        del  self.snacks\\n        del  self.sundayspecial\\n        \\n\\ncython = Snake(\"milk\",\"rat\")\\ncython.display()\\ncython1 = Snake(\"human\",\"frog\")\\ncython1.display()\\ndel cython\\ndel cython1', \"class Snake:\\n  sound='Buus Buus'\\n  def __init__(self,snack,special):\\n        self.snacks =snack\\n        self.sundayspecial =special\\n\\n  def display(self):\\n        print(  self.snacks,self.sundayspecial ,self.sound)\\n\\n  def __del__(self):\\n        del  self.snacks\\n        del  self.sundayspecial\\n\\n\\nclass Anaconda:\\n  sound='Buus Buus'  # allocates different storage for same code \\n  def __init__(self,snack,special):\\n        self.snacks =snack\\n        self.sundayspecial =special\\n\\n  def display(self):\\n       print(  self.snacks,self.sundayspecial ,self.sound)\\n\\n  def __del__(self):\\n        del  self.snacks\\n        del  self.sundayspecial\", 'class Snake:\\n  sound=\\'Buus Buus\\'\\n  def __init__(self,snack,special):\\n        print(\"Snake Constructor\" )\\n        self.snacks =snack\\n        print(id(self.snacks))\\n        self.sundayspecial =special\\n        print(id(self.sundayspecial))\\n     \\n  def display(self):\\n        print(  self.snacks,self.sundayspecial ,self.sound)\\n\\n  def __del__(self):\\n        del  self.snacks\\n        del  self.sundayspecial\\n\\n\\nclass Anaconda(Snake):\\n  def __init__(self,snack,special):\\n        print(\"Anaconda Constructor\" )\\n        self.snacks =snack\\n        print(id(self.snacks))\\n        self.sundayspecial =special\\n        print(id(self.sundayspecial))\\n\\n  def display(self):\\n       print(  self.snacks,self.sundayspecial ,self.sound)\\n\\n  def __del__(self):\\n        print(\"Anaconda Destructor\" )\\n        del  self.snacks\\n        del  self.sundayspecial\\n\\n\\nme=Anaconda(\"egg\",\"milk\")\\nme.display()\\ndel me', 'class Snake:\\n  sound=\\'Buus Buus\\'\\n  def __init__(self,snack,special):\\n        print(\"Snake costructor\" )\\n        self.snacks =snack\\n        print(\"Snake costructor \",id(self.snacks))\\n        self.sundayspecial =special\\n        print(\"Snake costructor \",id(self.sundayspecial))\\n     \\n  def display(self):\\n        print(  self.snacks,self.sundayspecial ,self.sound)\\n\\n  def __del__(self):\\n        del  self.snacks\\n        del  self.sundayspecial\\n\\n\\nclass Anaconda(Snake):\\n  def __init__(self,snack,special):\\n        print(\"Anaconda costructor\" )\\n        Snake.__init__(self,snack,special)\\n      #  self.snacks =snack                    #  It assumes it is abase class member & reinit with different data\\n        print(\"Anaconda costructor \",id(self.snacks))\\n      #  self.sundayspecial =special       #  It assumes it is abase class member & reinit with different data\\n        print(\"Anaconda  costructor  \",id(self.sundayspecial))\\n\\n  def display(self):\\n       print(  self.snacks,self.sundayspecial ,self.sound)\\n\\n  def __del__(self):\\n        del  self.snacks\\n        del  self.sundayspecial\\n\\n\\nme=Anaconda(\"pizza\",\"burger\")\\nme.display()\\ndel me', 'class Snake:\\n  sound=\\'Buus Buus\\'\\n  def __init__(self,snack,special):\\n        print(\"Snake constructor\" )\\n        self.snacks =snack\\n        print(id(self.snacks))\\n        self.sundayspecial =special\\n        print(id(self.sundayspecial))\\n     \\n  def display(self):\\n        print(  self.snacks,self.sundayspecial ,self.sound)\\n\\n  def __del__(self):\\n        print(\"Snake Destructor\")\\n        del  self.snacks\\n        del  self.sundayspecial\\n\\n\\nclass Ana(Snake):\\n\\n  def __init__(self):\\n        print(\"Anaconda constructor\" )\\n        Snake.__init__(self,\"pizza\",\"burger\")\\n   \\n  def __del__(self):\\n        print(\"Ana Destructor\")\\n        Snake.__del__(self)\\n\\n\\nme=Ana()\\nme.display()\\ndel me', 'class Snake:\\n  sound=\\'Buus Buus\\'\\n  def __init__(self,snack,special):\\n        print(\"Snake King\" )\\n        self.snacks =snack\\n        print(id(self.snacks))\\n        self.sundayspecial =special\\n        print(id(self.sundayspecial))\\n     \\n  def display(self):\\n        print(  self.snacks,self.sundayspecial ,self.sound)\\n\\n  def __del__(self):\\n        print(\" i am Snake destructor\")\\n        del  self.snacks\\n        del  self.sundayspecial\\n\\n\\nclass Ana(Snake):\\n\\n  def __init__(self):\\n        print(\"Anaconda King\" )\\n        Snake.__init__(self,\"pizza\",\"burger\")\\n\\n  def display(self):\\n        print(\"derived display\")\\n        print(  self.snacks,self.sundayspecial ,self.sound)\\n   \\n  def __del__(self):\\n        print(\" i am Ana destructor\")\\n        Snake.__del__(self)\\n\\n  \\nme=Ana()\\nme.display()\\ndel me', 'class Snake:\\n  sound=\\'Buus Buus\\'\\n  def __init__(self,snack,special):\\n        print(\"Snake King\" )\\n        self.snacks =snack\\n        print(id(self.snacks))\\n        self.sundayspecial =special\\n        print(id(self.sundayspecial))\\n\\n  def display(self):\\n    print(  self.snacks,self.sundayspecial ,self.sound)\\n\\n  def __add__(self ,other):\\n        temp=self.snacks + other.snacks\\n        return temp\\n  \\n  def __del__(self):\\n        del  self.snacks\\n        del  self.sundayspecial\\n        \\n  def copy_constructor(self, orig):  # no copy constructor in python . Hence we need  to use copy module\\n       print(\"Copy  Constructor \" )\\n       self.snacks =orig.snacks\\n       self.sundayspecial =orig.sundayspecial\\n\\n\\na=Snake(\"kfc\",\"burger\")  # this will call the  constructor\\nb=Snake(a)                    # this will call the copy constructor\\n\\nclass Ana(Snake):\\n\\n  def __init__(self):\\n        print(\"Anaconda King\" )\\n        Snake.__init__(self,\"pizza\",\"burger\")\\n\\n  def display(self):\\n        print(  self.snacks,self.sundayspecial ,self.sound)\\n   \\n  def __del__(self):\\n        pass\\n\\nm=Snake(\"kfc\",\"burger\")\\nmu=Snake(\"mcdocandls\",\"burger\")\\nmee = m + mu\\nprint(mee)\\n\\nme=Ana()\\nme.display()\\ndel me', 'import copy\\ny=23\\nx = copy.copy(y)        # make a shallow copy of y\\nprint(\"shallow copy\")\\nprint(x,y)\\nx=5\\nprint(\"shallow copy\")\\nprint(x,y)\\nx = copy.deepcopy(y)    # make a deep copy of y\\nx=32\\nprint(\"deep copy\")\\nprint(x,y)\\n\\n\\nclass Foo:\\n    def __init__(self, orig=None):\\n        if orig is None:\\n            self.non_copy_constructor()\\n        else:\\n            self.copy_constructor(orig)\\n    def non_copy_constructor(self):\\n        # do the non-copy constructor stuff\\n        pass\\n    def copy_constructor(self, orig):\\n        # do the copy constructor\\n        pass\\n\\na=Foo()  # this will call the non-copy constructor\\nb=Foo(a) # this will call the copy constructor', \"class Person:\\n    age = 23\\n    name = 'Adam'\\n\\nperson = Person()\\n\\nprint('Person has age?:', hasattr(person, 'age'))\\nprint('Person has salary?:', hasattr(person, 'salary'))\", 'class Snake:\\n  sound=\\'Buus Buus\\'\\n  def __init__(self,snack,special):\\n        self.snacks =snack\\n        self.sundayspecial =special\\n\\n  def display(self):\\n        print(  self.snacks,self.sundayspecial ,self.sound)\\n\\nimport sys\\ncython = Snake(\"milk\",\"rat\")\\nprint(sys.getsizeof(cython))\\nprint(cython.sound)\\ncython.display()\\nprint(id(cython.snacks))\\n\\ncython1 = Snake(\"human\",\"frog\")\\nprint(sys.getsizeof(cython1))\\nprint(cython1.sound)\\ncython1.display()\\nprint(id(cython1.snacks))', 'class Offer:\\n\\n def __init__(self) :\\n  self.Price       =   [  \"$9\" ,      \"20 gb\" ,      \"Cloud\" ,   18.0 , 5 ]   # initailise the allocted memory\\n\\n def display(self):\\n   print(self.Price  );    \\n\\nprint(\"run time memory \")\\n\\nstax = Offer()  # allocates memory\\n# stax has the address of allocated &  initailised memory\\nimport sys\\nprint(sys.getsizeof(stax))\\nprint( \"stax address \",id(stax.Price))\\nstax.Price.append(\"hot star\")\\nstax.display()\\nprint(\"stax append address \",id(stax.Price))\\n\\nprint(\"run time memory 1 \")\\nsta = Offer()  # valid\\nimport sys\\nprint(sys.getsizeof(stax))\\nprint(\"sta address \",id(sta.Price))\\nstax.Price.append(\"rock star\")\\nstax.display()\\nprint(\"sta append address \",id(sta.Price))\\n\\nprint(\" ds objects different memory\")\\nprint(id(stax.Price))\\nprint(id(sta.Price))\\nprint(sys.getsizeof(stax))\\nprint(sys.getsizeof(sta))', '\"\"\"  objects \"\"\"\\n\\nclass Offer:\\n Price       =     \"$9\"                 #  Static Variables : Compile Time Memory\\n stax        =      18.0               #  Static Variables : Compile Time Memory\\n Trailer     =       5                  #  Static Variables : Compile Time Memory\\n\\n\\nprint(\" Address of static memory \")\\n               \\nprint(id(Offer.Price))\\nprint(id(Offer.stax))\\nprint(id(Offer.Trailer))\\n\\nprint(\" Size  of static memory \")\\n\\nimport sys\\nprint(sys.getsizeof(Offer.Price))\\nprint(sys.getsizeof(Offer.stax))\\nprint(sys.getsizeof(Offer.Trailer))\\nprint(sys.getsizeof(Offer))\\n\\nprint(\" Object size  of static memory \")\\n\\nss=Offer\\nprint(sys.getsizeof(ss))\\n\\nprint(\" Size of  memory  using constructor \")\\n\\nstax = Offer()\\nprint(sys.getsizeof(stax))', 'import marshal\\nimport sys\\n\\njvt=\"hello\"\\nprint(\"hello data \",type(jvt),sys.getsizeof(jvt ))\\n\\nimport marshal\\ncc=marshal.dumps(jvt)\\nprint(cc)\\nprint(\"second object\",type(cc), len(cc))\\nprint(marshal.loads(cc))\\n\\n\\nc=55\\nprint(\"first object\",type(c))\\ncpp = marshal.dumps(c)\\nprint(\"second object\",type(cpp), len(cpp))\\nprint(marshal.loads(cpp))\\n\\n\\nvalue = (\\n    \"this is a string\",\\n    [1, 2, 3, 4],\\n    (\"more tuples\", 1.0, 2.3, 4.5),\\n    \"this is yet another string\"\\n    )\\n\\ndata = marshal.dumps(value)\\n\\n# intermediate format\\nprint(type(data), len(data))\\nprint( repr(data))\\nprint(marshal.loads(data))', 'glob=456\\nprint(globals())'], '_oh': {}, '_dh': ['C:\\\\Users\\\\jvt'], 'In': ['', 'def IPL(   ):\\n M =230             \\n print(       M        )\\n import sys\\n print(  \"size of data \"   ,sys.getsizeof(M)       )\\n print(   \"type \" ,  type(M)       )\\n print(   \"address \" ,  id(M)       )\\n del M\\n\\nif __name__ ==\"__main__\":\\n               T20(    )\\n               IPL(      )', 'def IPL(   ):\\n M =230             \\n print(       M        )\\n import sys\\n print(  \"size of data \"   ,sys.getsizeof(M)       )\\n print(   \"type \" ,  type(M)       )\\n print(   \"address \" ,  id(M)       )\\n del M\\n\\nif __name__ ==\"__main__\":\\n            IPL(      )', 'def IPL(   ):\\n M =230             \\n print(       M        )\\n import sys\\n print(  \"size of data \"   ,sys.getsizeof(M)       )\\n print(   \"type \" ,  type(M)       )\\n print(   \"address \" ,  id(M)       )\\n  print( sys.getrefcount(M) )  \\n del M\\n\\nif __name__ ==\"__main__\":\\n            IPL(      )', 'def IPL(   ):\\n M =230             \\n print(       M        )\\n import sys\\n print(  \"size of data \"   ,sys.getsizeof(M)       )\\n print(   \"type \" ,  type(M)       )\\n print(   \"address \" ,  id(M)       )\\n print( sys.getrefcount(M) )  \\n del M\\n\\nif __name__ ==\"__main__\":\\n            IPL(      )', 'def IPL(   ):\\n M =230             \\n print(       M        )\\n import sys\\n print(  \"size of data \"   ,sys.getsizeof(M)       )\\n print(   \"type \" ,  type(M)       )\\n print(   \"address \" ,  id(M)       )\\n print( sys.getrefcount(M) )  \\n del M\\n\\nif __name__ ==\"__main__\":\\n            IPL(      )', 'PlayerName              =   str( \"Sachin\")\\nRole                    =    str(\"Batsmen\")     ;\\nM                       =    int(1000)        ;\\nSR                      =    float(139.05)    ;\\nPlayerType              =     str(\\'L\\' )       ;\\nAlrounder               =     bool(True);\\nprint(      PlayerName,    SR,  M        );\\nprint(      id(PlayerName),     id(SR),   id(M )       );', 'def IPL(   ):\\n M =230             \\n print(       M        )\\n import sys\\n print(  \"size of data \"   ,sys.getsizeof(M)       )\\n print(   \"type \" ,  type(M)       )\\n print(   \"address \" ,  id(M)       )\\n print( sys.getrefcount(M) )  \\n del M\\n\\nif __name__ ==\"__main__\":\\n            IPL(      )', '\"\"\"Script Compile time MEmory\"\"\"\\nlivingcurrently = input(\" enter the city\") # input returns address to an object\\nMygender         = \\'M\\'\\nTypeofemployment = \\'Salaried Professional\\'\\nworkexperience = 3\\nmonthlyincome = 50000\\nTotalEMIs          = 0\\nyourage            = 25\\nprint(livingcurrently)', '\"\"\"Script Compile time MEmory\"\"\"\\n\\nlivingcurrently     = input(\" enter the city\") # input returns address to an object\\nMygender            = \\'M\\'\\nTypeofemployment    = \\'Salaried Professional\\'\\nworkexperience      = 3\\nmonthlyincome       = 50000\\nTotalEMIs           = 0\\nyourage             = 25\\nprint(livingcurrently)', \"#Tuples have a fixed size. Officially, they are immutable and do not change after creation.\\n#Unofficially, they can be altered at the C level, but these alterations are not supposed to\\n#be visible to Python code; you modify the tuple once after you've created it but before you've\\n#used it for anything, and thereafter you don't modify it again\\n\\nLoan=   'Mumbai', 'M',     'Salaried Professional', 3,  50000,  0, 25   \", \"# tuple objects\\nLoan= (   'Mumbai', 'M',     'Salaried Professional', 3,  50000,  0, 25   )  # Run time meory  HEap No acess \\nprint(Loan[0])\\n#print(Loan[9]) # Appending & Modification not possible tuple index out of range\\nprint(id(Loan[0]),id(Loan[1]),id(Loan[2]),id(Loan[3]))\", \"# List objects\\nLoanList= [   'Mumbai', 'M',     'Salaried Professional', 3,  50000,  0, 25   ]  # Run time meory Heap\\nprint(LoanList.append('fastloan')) # Appending & Modification  possible List index out of range\\nprint(LoanList)\\nprint(id(LoanList[0]),id(LoanList[1]),id(LoanList[2]),id(LoanList[3]))\", \"# List objects\\n\\nLoanList= [   'Mumbai', 'M',     'Salaried Professional', 3,  50000,  0, 25   ]  # Run time meory Heap\\n\\nprint(LoanList.append('fastloan')) # Appending & Modification  possible List index out of range\\n\\nprint(LoanList)\\n\\nprint(id(LoanList[0]),id(LoanList[1]),id(LoanList[2]),id(LoanList[3]))\", \"# tuple objects\\n\\nLoan= (   'Mumbai', 'M',     'Salaried Professional', 3,  50000,  0, 25   )  # Run time meory  HEap No acess \\n\\nprint(Loan[0])\\n\\n#print(Loan[9]) # Appending & Modification not possible tuple index out of range\\n\\nprint(id(Loan[0]),id(Loan[1]),id(Loan[2]),id(Loan[3]))\", \"#Tuples have a fixed size. Officially, they are immutable and do not change after creation.\\n#Unofficially, they can be altered at the C level, but these alterations are not supposed to\\n#be visible to Python code; you modify the tuple once after you've created it but before you've\\n#used it for anything, and thereafter you don't modify it again\\n\\nLoan=   'Mumbai', 'M',     'Salaried Professional', 3,  50000,  0, 25   \", \"# tuple objects\\n\\nLoan= (   'Mumbai', 'M',     'Salaried Professional', 3,  50000,  0, 25   )  # Run time meory  HEap No acess \\n\\nprint(Loan[0])\\n\\n#print(Loan[9]) # Appending & Modification not possible tuple index out of range\\n\\nprint(id(Loan[0]),id(Loan[1]),id(Loan[2]),id(Loan[3]))\", \"# List objects\\n\\nLoanList= [   'Mumbai', 'M',     'Salaried Professional', 3,  50000,  0, 25   ]  # Run time meory Heap\\n\\nprint(LoanList.append('fastloan')) # Appending & Modification  possible List index out of range\\n\\nprint(LoanList)\\n\\nprint(id(LoanList[0]),id(LoanList[1]),id(LoanList[2]),id(LoanList[3]))\", '# Dict objects\\n\\nLoanList= {  \"livingcurrently\": \\'Mumbai\\', \"Mygender\":\\'M\\',   \"Typeofemployment\":  \\'Salaried Professional\\', \"workexperience\":3, \"monthlyincome\": 50000, \"TotalEMIs\": 0, \"yourage\":25   }  # Run time meory Heap\\n\\nprint(LoanList.keys()) # Appending & Modification  possible Dict index out of range\\n\\nprint(LoanList)\\n\\nprint(id(LoanList[\"livingcurrently\"]),id(LoanList[\"Mygender\"]),id(LoanList[ \"workexperience\"]),id(LoanList[\"monthlyincome\"]))', '# Dict objects\\n\\nLoanList= {  \"livingcurrently\": \\'Mumbai\\', \"Mygender\":\\'M\\',   \"Typeofemployment\":  \\'Salaried Professional\\', \"workexperience\":3, \"monthlyincome\": 50000, \"TotalEMIs\": 0, \"yourage\":25   }  # Run time meory Heap\\n\\nprint(LoanList.keys()) # Appending & Modification  possible Dict index out of range\\n\\nprint(LoanList)\\n\\nprint(id(LoanList[\"livingcurrently\"]),id(LoanList[\"Mygender\"]),id(LoanList[ \"workexperience\"]),id(LoanList[\"monthlyincome\"]))', 'import dis\\ndis.dis(function)', '\"\"\"Script Compile time MEmory\"\"\"\\n\\nlivingcurrently     = input(\" enter the city\") # input returns address to an object\\nMygender            = \\'M\\'\\nTypeofemployment    = \\'Salaried Professional\\'\\nworkexperience      = 3\\nmonthlyincome       = 50000\\nTotalEMIs           = 0\\nyourage             = 25\\nprint(livingcurrently)', '\"\"\"summary of Run time memory\"\"\"\\ndef function( ):\\n Bitcoinprice = 31000\\n Bitcoinprice1 = int(31000)\\n Bitcoininindia = True\\n Bitcoininindia1 = bool(False)\\n navy = str(\\'indianarmy\\')\\n navyenginerrsalary= float(3456.78)\\n print(Bitcoinprice)', 'import dis\\ndis.dis(function)', 'def loanelibile():\\n livingcurrently = input(\" enter the city\") # input returns address to an object\\n if(  livingcurrently == \\'Mumbai\\' ):\\n   print(\"no loan applicable\")\\n   return\\n Mygender         = \\'M\\'\\n Typeofemployment = \\'Salaried Professional\\'\\n workexperience = 3\\n monthlyincome = 50000\\n TotalEMIs          = 0\\n yourage            = 25\\n Loansancation= monthlyincome *10;\\n print(livingcurrently)\\n print(Loansancation)\\n del Typeofemployment\\n del yourage', \"myglobaltax =18.00\\n\\ndef function( ):\\n Bitcoin = 51000\\n Bitcoin1 = int(61000)\\n \\n def functionindia():\\n    Bit = True\\n    Bit1 = bool(False)\\n    navy = str('indianarmy')\\n    navyenginerrsalary= float(3456.78)\\n    nonlocal Bitcoin          # run time memory\\n    print(Bitcoin)\\n    global myglobaltax     # compile time memory\\n    print(myglobaltax)\\n    return [Bit ,Bit1 ];\\n\\n ret=functionindia()\\n print(ret)\\n return [ Bitcoin ,Bitcoin1, functionindia,print  ]\\n \\n \\nval =function( )\\nprint(val)\\nprint(myglobaltax)\", 'def loanelibile():  # Step 1\\n livingcurrently = input(\" enter the city :\") # input returns address to an object\\n Mygender         = \\'M\\'\\n Typeofemployment = \\'Salaried Professional\\'\\n workexperience = 2\\n monthlyincome = 50000\\n TotalEMIs          = 0\\n yourage            = 25                      # Step 2 &  3\\n if(  (livingcurrently == \\'Mumbai\\' ) and (  workexperience >2 )):  # Step 4\\n   print(\"no loan applicable\")\\n   return\\n Loansancation= monthlyincome *10;  # Step 5\\n print(livingcurrently)\\n print(Loansancation)     # Step 6\\n\\n\\nloanelibile()       # Step 7', '\"\"\"summary of Run time memory\"\"\"\\n\"\"\" combine source code files \"\"\"\\n\\nmyglobaltax =18.00\\n\\ndef function( ):\\n Bitcoinprice = 31000\\n Bitcoinprice1 = int(31000)\\n Bitcoininindia = True\\n Bitcoininindia1 = bool(False)\\n navy = str(\\'indianarmy\\')\\n navyenginerrsalary= float(3456.78)\\n print(Bitcoinprice)\\n global myglobaltax  \\n myglobaltax =15.00\\n print(myglobaltax)\\n return navy;\\n\\n\"\"\"  Intrpreter will not allocate memory indicates already compile time memory acess\"\"\"\\n\\nval =function( )\\nprint(val)\\nprint(myglobaltax)', 'class Snake:\\n  sound=\\'Buus Buus\\'\\n  def __init__(self,snack,special):\\n        self.snacks =snack\\n        self.sundayspecial =special\\n\\n  def display(self):\\n        print(  self.snacks,self.sundayspecial ,Snake.sound)\\n\\ncython = Snake(\"milk\",\"rat\")\\ncython.display()\\n\\ncython1 = Snake(\"human\",\"frog\")\\ncython1.display()', 'class Snake:\\n  sound=\\'Buus Buus\\'\\n  def __init__(self):\\n        print( \"Consturctor\")\\n        self.snacks =\"milk\"\\n        self.sundayspecial =\"egg\"\\n      \\n\\n  def display(self):\\n        print(  self.snacks,self.sundayspecial ,Snake.sound)\\n        print(  id(self.snacks),id(self.sundayspecial) ,id(Snake.sound))\\n\\n  def __del__(self):\\n        print( \"desturctor\")\\n        del  self.snacks\\n        del  self.sundayspecial\\n\\n\\ncython = Snake()\\ncython.display()\\ncython1 = Snake()\\ncython1.display()\\ndel cython\\ndel cython1', 'class Snake:\\n  sound=\\'Buus Buus\\'\\n  def __init__(self,snack,special):\\n        print( \"Constructor\")\\n        self.snacks =snack\\n        self.sundayspecial =special\\n        Snake.sound=\"god snake\"          # self.sound=\"god snake\" Bug \\n        \\n\\n  def display(self):\\n        print(  self.snacks,self.sundayspecial ,Snake.sound)\\n\\n  def __del__(self):\\n        print( \"desturctor\")\\n        del  self.snacks\\n        del  self.sundayspecial\\n        \\n\\ncython = Snake(\"milk\",\"rat\")\\ncython.display()\\ncython1 = Snake(\"human\",\"frog\")\\ncython1.display()\\ndel cython\\ndel cython1', \"class Snake:\\n  sound='Buus Buus'\\n  def __init__(self,snack,special):\\n        self.snacks =snack\\n        self.sundayspecial =special\\n\\n  def display(self):\\n        print(  self.snacks,self.sundayspecial ,self.sound)\\n\\n  def __del__(self):\\n        del  self.snacks\\n        del  self.sundayspecial\\n\\n\\nclass Anaconda:\\n  sound='Buus Buus'  # allocates different storage for same code \\n  def __init__(self,snack,special):\\n        self.snacks =snack\\n        self.sundayspecial =special\\n\\n  def display(self):\\n       print(  self.snacks,self.sundayspecial ,self.sound)\\n\\n  def __del__(self):\\n        del  self.snacks\\n        del  self.sundayspecial\", 'class Snake:\\n  sound=\\'Buus Buus\\'\\n  def __init__(self,snack,special):\\n        print(\"Snake Constructor\" )\\n        self.snacks =snack\\n        print(id(self.snacks))\\n        self.sundayspecial =special\\n        print(id(self.sundayspecial))\\n     \\n  def display(self):\\n        print(  self.snacks,self.sundayspecial ,self.sound)\\n\\n  def __del__(self):\\n        del  self.snacks\\n        del  self.sundayspecial\\n\\n\\nclass Anaconda(Snake):\\n  def __init__(self,snack,special):\\n        print(\"Anaconda Constructor\" )\\n        self.snacks =snack\\n        print(id(self.snacks))\\n        self.sundayspecial =special\\n        print(id(self.sundayspecial))\\n\\n  def display(self):\\n       print(  self.snacks,self.sundayspecial ,self.sound)\\n\\n  def __del__(self):\\n        print(\"Anaconda Destructor\" )\\n        del  self.snacks\\n        del  self.sundayspecial\\n\\n\\nme=Anaconda(\"egg\",\"milk\")\\nme.display()\\ndel me', 'class Snake:\\n  sound=\\'Buus Buus\\'\\n  def __init__(self,snack,special):\\n        print(\"Snake costructor\" )\\n        self.snacks =snack\\n        print(\"Snake costructor \",id(self.snacks))\\n        self.sundayspecial =special\\n        print(\"Snake costructor \",id(self.sundayspecial))\\n     \\n  def display(self):\\n        print(  self.snacks,self.sundayspecial ,self.sound)\\n\\n  def __del__(self):\\n        del  self.snacks\\n        del  self.sundayspecial\\n\\n\\nclass Anaconda(Snake):\\n  def __init__(self,snack,special):\\n        print(\"Anaconda costructor\" )\\n        Snake.__init__(self,snack,special)\\n      #  self.snacks =snack                    #  It assumes it is abase class member & reinit with different data\\n        print(\"Anaconda costructor \",id(self.snacks))\\n      #  self.sundayspecial =special       #  It assumes it is abase class member & reinit with different data\\n        print(\"Anaconda  costructor  \",id(self.sundayspecial))\\n\\n  def display(self):\\n       print(  self.snacks,self.sundayspecial ,self.sound)\\n\\n  def __del__(self):\\n        del  self.snacks\\n        del  self.sundayspecial\\n\\n\\nme=Anaconda(\"pizza\",\"burger\")\\nme.display()\\ndel me', 'class Snake:\\n  sound=\\'Buus Buus\\'\\n  def __init__(self,snack,special):\\n        print(\"Snake constructor\" )\\n        self.snacks =snack\\n        print(id(self.snacks))\\n        self.sundayspecial =special\\n        print(id(self.sundayspecial))\\n     \\n  def display(self):\\n        print(  self.snacks,self.sundayspecial ,self.sound)\\n\\n  def __del__(self):\\n        print(\"Snake Destructor\")\\n        del  self.snacks\\n        del  self.sundayspecial\\n\\n\\nclass Ana(Snake):\\n\\n  def __init__(self):\\n        print(\"Anaconda constructor\" )\\n        Snake.__init__(self,\"pizza\",\"burger\")\\n   \\n  def __del__(self):\\n        print(\"Ana Destructor\")\\n        Snake.__del__(self)\\n\\n\\nme=Ana()\\nme.display()\\ndel me', 'class Snake:\\n  sound=\\'Buus Buus\\'\\n  def __init__(self,snack,special):\\n        print(\"Snake King\" )\\n        self.snacks =snack\\n        print(id(self.snacks))\\n        self.sundayspecial =special\\n        print(id(self.sundayspecial))\\n     \\n  def display(self):\\n        print(  self.snacks,self.sundayspecial ,self.sound)\\n\\n  def __del__(self):\\n        print(\" i am Snake destructor\")\\n        del  self.snacks\\n        del  self.sundayspecial\\n\\n\\nclass Ana(Snake):\\n\\n  def __init__(self):\\n        print(\"Anaconda King\" )\\n        Snake.__init__(self,\"pizza\",\"burger\")\\n\\n  def display(self):\\n        print(\"derived display\")\\n        print(  self.snacks,self.sundayspecial ,self.sound)\\n   \\n  def __del__(self):\\n        print(\" i am Ana destructor\")\\n        Snake.__del__(self)\\n\\n  \\nme=Ana()\\nme.display()\\ndel me', 'class Snake:\\n  sound=\\'Buus Buus\\'\\n  def __init__(self,snack,special):\\n        print(\"Snake King\" )\\n        self.snacks =snack\\n        print(id(self.snacks))\\n        self.sundayspecial =special\\n        print(id(self.sundayspecial))\\n\\n  def display(self):\\n    print(  self.snacks,self.sundayspecial ,self.sound)\\n\\n  def __add__(self ,other):\\n        temp=self.snacks + other.snacks\\n        return temp\\n  \\n  def __del__(self):\\n        del  self.snacks\\n        del  self.sundayspecial\\n        \\n  def copy_constructor(self, orig):  # no copy constructor in python . Hence we need  to use copy module\\n       print(\"Copy  Constructor \" )\\n       self.snacks =orig.snacks\\n       self.sundayspecial =orig.sundayspecial\\n\\n\\na=Snake(\"kfc\",\"burger\")  # this will call the  constructor\\nb=Snake(a)                    # this will call the copy constructor\\n\\nclass Ana(Snake):\\n\\n  def __init__(self):\\n        print(\"Anaconda King\" )\\n        Snake.__init__(self,\"pizza\",\"burger\")\\n\\n  def display(self):\\n        print(  self.snacks,self.sundayspecial ,self.sound)\\n   \\n  def __del__(self):\\n        pass\\n\\nm=Snake(\"kfc\",\"burger\")\\nmu=Snake(\"mcdocandls\",\"burger\")\\nmee = m + mu\\nprint(mee)\\n\\nme=Ana()\\nme.display()\\ndel me', 'import copy\\ny=23\\nx = copy.copy(y)        # make a shallow copy of y\\nprint(\"shallow copy\")\\nprint(x,y)\\nx=5\\nprint(\"shallow copy\")\\nprint(x,y)\\nx = copy.deepcopy(y)    # make a deep copy of y\\nx=32\\nprint(\"deep copy\")\\nprint(x,y)\\n\\n\\nclass Foo:\\n    def __init__(self, orig=None):\\n        if orig is None:\\n            self.non_copy_constructor()\\n        else:\\n            self.copy_constructor(orig)\\n    def non_copy_constructor(self):\\n        # do the non-copy constructor stuff\\n        pass\\n    def copy_constructor(self, orig):\\n        # do the copy constructor\\n        pass\\n\\na=Foo()  # this will call the non-copy constructor\\nb=Foo(a) # this will call the copy constructor', \"class Person:\\n    age = 23\\n    name = 'Adam'\\n\\nperson = Person()\\n\\nprint('Person has age?:', hasattr(person, 'age'))\\nprint('Person has salary?:', hasattr(person, 'salary'))\", 'class Snake:\\n  sound=\\'Buus Buus\\'\\n  def __init__(self,snack,special):\\n        self.snacks =snack\\n        self.sundayspecial =special\\n\\n  def display(self):\\n        print(  self.snacks,self.sundayspecial ,self.sound)\\n\\nimport sys\\ncython = Snake(\"milk\",\"rat\")\\nprint(sys.getsizeof(cython))\\nprint(cython.sound)\\ncython.display()\\nprint(id(cython.snacks))\\n\\ncython1 = Snake(\"human\",\"frog\")\\nprint(sys.getsizeof(cython1))\\nprint(cython1.sound)\\ncython1.display()\\nprint(id(cython1.snacks))', 'class Offer:\\n\\n def __init__(self) :\\n  self.Price       =   [  \"$9\" ,      \"20 gb\" ,      \"Cloud\" ,   18.0 , 5 ]   # initailise the allocted memory\\n\\n def display(self):\\n   print(self.Price  );    \\n\\nprint(\"run time memory \")\\n\\nstax = Offer()  # allocates memory\\n# stax has the address of allocated &  initailised memory\\nimport sys\\nprint(sys.getsizeof(stax))\\nprint( \"stax address \",id(stax.Price))\\nstax.Price.append(\"hot star\")\\nstax.display()\\nprint(\"stax append address \",id(stax.Price))\\n\\nprint(\"run time memory 1 \")\\nsta = Offer()  # valid\\nimport sys\\nprint(sys.getsizeof(stax))\\nprint(\"sta address \",id(sta.Price))\\nstax.Price.append(\"rock star\")\\nstax.display()\\nprint(\"sta append address \",id(sta.Price))\\n\\nprint(\" ds objects different memory\")\\nprint(id(stax.Price))\\nprint(id(sta.Price))\\nprint(sys.getsizeof(stax))\\nprint(sys.getsizeof(sta))', '\"\"\"  objects \"\"\"\\n\\nclass Offer:\\n Price       =     \"$9\"                 #  Static Variables : Compile Time Memory\\n stax        =      18.0               #  Static Variables : Compile Time Memory\\n Trailer     =       5                  #  Static Variables : Compile Time Memory\\n\\n\\nprint(\" Address of static memory \")\\n               \\nprint(id(Offer.Price))\\nprint(id(Offer.stax))\\nprint(id(Offer.Trailer))\\n\\nprint(\" Size  of static memory \")\\n\\nimport sys\\nprint(sys.getsizeof(Offer.Price))\\nprint(sys.getsizeof(Offer.stax))\\nprint(sys.getsizeof(Offer.Trailer))\\nprint(sys.getsizeof(Offer))\\n\\nprint(\" Object size  of static memory \")\\n\\nss=Offer\\nprint(sys.getsizeof(ss))\\n\\nprint(\" Size of  memory  using constructor \")\\n\\nstax = Offer()\\nprint(sys.getsizeof(stax))', 'import marshal\\nimport sys\\n\\njvt=\"hello\"\\nprint(\"hello data \",type(jvt),sys.getsizeof(jvt ))\\n\\nimport marshal\\ncc=marshal.dumps(jvt)\\nprint(cc)\\nprint(\"second object\",type(cc), len(cc))\\nprint(marshal.loads(cc))\\n\\n\\nc=55\\nprint(\"first object\",type(c))\\ncpp = marshal.dumps(c)\\nprint(\"second object\",type(cpp), len(cpp))\\nprint(marshal.loads(cpp))\\n\\n\\nvalue = (\\n    \"this is a string\",\\n    [1, 2, 3, 4],\\n    (\"more tuples\", 1.0, 2.3, 4.5),\\n    \"this is yet another string\"\\n    )\\n\\ndata = marshal.dumps(value)\\n\\n# intermediate format\\nprint(type(data), len(data))\\nprint( repr(data))\\nprint(marshal.loads(data))', 'glob=456\\nprint(globals())'], 'Out': {}, 'get_ipython': <bound method InteractiveShell.get_ipython of <ipykernel.zmqshell.ZMQInteractiveShell object at 0x0000021B578016A0>>, 'exit': <IPython.core.autocall.ZMQExitAutocall object at 0x0000021B57864A20>, 'quit': <IPython.core.autocall.ZMQExitAutocall object at 0x0000021B57864A20>, '_': '', '__': '', '___': '', '_i': 'import marshal\\nimport sys\\n\\njvt=\"hello\"\\nprint(\"hello data \",type(jvt),sys.getsizeof(jvt ))\\n\\nimport marshal\\ncc=marshal.dumps(jvt)\\nprint(cc)\\nprint(\"second object\",type(cc), len(cc))\\nprint(marshal.loads(cc))\\n\\n\\nc=55\\nprint(\"first object\",type(c))\\ncpp = marshal.dumps(c)\\nprint(\"second object\",type(cpp), len(cpp))\\nprint(marshal.loads(cpp))\\n\\n\\nvalue = (\\n    \"this is a string\",\\n    [1, 2, 3, 4],\\n    (\"more tuples\", 1.0, 2.3, 4.5),\\n    \"this is yet another string\"\\n    )\\n\\ndata = marshal.dumps(value)\\n\\n# intermediate format\\nprint(type(data), len(data))\\nprint( repr(data))\\nprint(marshal.loads(data))', '_ii': '\"\"\"  objects \"\"\"\\n\\nclass Offer:\\n Price       =     \"$9\"                 #  Static Variables : Compile Time Memory\\n stax        =      18.0               #  Static Variables : Compile Time Memory\\n Trailer     =       5                  #  Static Variables : Compile Time Memory\\n\\n\\nprint(\" Address of static memory \")\\n               \\nprint(id(Offer.Price))\\nprint(id(Offer.stax))\\nprint(id(Offer.Trailer))\\n\\nprint(\" Size  of static memory \")\\n\\nimport sys\\nprint(sys.getsizeof(Offer.Price))\\nprint(sys.getsizeof(Offer.stax))\\nprint(sys.getsizeof(Offer.Trailer))\\nprint(sys.getsizeof(Offer))\\n\\nprint(\" Object size  of static memory \")\\n\\nss=Offer\\nprint(sys.getsizeof(ss))\\n\\nprint(\" Size of  memory  using constructor \")\\n\\nstax = Offer()\\nprint(sys.getsizeof(stax))', '_iii': 'class Offer:\\n\\n def __init__(self) :\\n  self.Price       =   [  \"$9\" ,      \"20 gb\" ,      \"Cloud\" ,   18.0 , 5 ]   # initailise the allocted memory\\n\\n def display(self):\\n   print(self.Price  );    \\n\\nprint(\"run time memory \")\\n\\nstax = Offer()  # allocates memory\\n# stax has the address of allocated &  initailised memory\\nimport sys\\nprint(sys.getsizeof(stax))\\nprint( \"stax address \",id(stax.Price))\\nstax.Price.append(\"hot star\")\\nstax.display()\\nprint(\"stax append address \",id(stax.Price))\\n\\nprint(\"run time memory 1 \")\\nsta = Offer()  # valid\\nimport sys\\nprint(sys.getsizeof(stax))\\nprint(\"sta address \",id(sta.Price))\\nstax.Price.append(\"rock star\")\\nstax.display()\\nprint(\"sta append address \",id(sta.Price))\\n\\nprint(\" ds objects different memory\")\\nprint(id(stax.Price))\\nprint(id(sta.Price))\\nprint(sys.getsizeof(stax))\\nprint(sys.getsizeof(sta))', '_i1': 'def IPL(   ):\\n M =230             \\n print(       M        )\\n import sys\\n print(  \"size of data \"   ,sys.getsizeof(M)       )\\n print(   \"type \" ,  type(M)       )\\n print(   \"address \" ,  id(M)       )\\n del M\\n\\nif __name__ ==\"__main__\":\\n               T20(    )\\n               IPL(      )', 'IPL': <function IPL at 0x0000021B579DA7B8>, '_i2': 'def IPL(   ):\\n M =230             \\n print(       M        )\\n import sys\\n print(  \"size of data \"   ,sys.getsizeof(M)       )\\n print(   \"type \" ,  type(M)       )\\n print(   \"address \" ,  id(M)       )\\n del M\\n\\nif __name__ ==\"__main__\":\\n            IPL(      )', '_i3': 'def IPL(   ):\\n M =230             \\n print(       M        )\\n import sys\\n print(  \"size of data \"   ,sys.getsizeof(M)       )\\n print(   \"type \" ,  type(M)       )\\n print(   \"address \" ,  id(M)       )\\n  print( sys.getrefcount(M) )  \\n del M\\n\\nif __name__ ==\"__main__\":\\n            IPL(      )', '_i4': 'def IPL(   ):\\n M =230             \\n print(       M        )\\n import sys\\n print(  \"size of data \"   ,sys.getsizeof(M)       )\\n print(   \"type \" ,  type(M)       )\\n print(   \"address \" ,  id(M)       )\\n print( sys.getrefcount(M) )  \\n del M\\n\\nif __name__ ==\"__main__\":\\n            IPL(      )', '_i5': 'def IPL(   ):\\n M =230             \\n print(       M        )\\n import sys\\n print(  \"size of data \"   ,sys.getsizeof(M)       )\\n print(   \"type \" ,  type(M)       )\\n print(   \"address \" ,  id(M)       )\\n print( sys.getrefcount(M) )  \\n del M\\n\\nif __name__ ==\"__main__\":\\n            IPL(      )', '_i6': 'PlayerName              =   str( \"Sachin\")\\nRole                    =    str(\"Batsmen\")     ;\\nM                       =    int(1000)        ;\\nSR                      =    float(139.05)    ;\\nPlayerType              =     str(\\'L\\' )       ;\\nAlrounder               =     bool(True);\\nprint(      PlayerName,    SR,  M        );\\nprint(      id(PlayerName),     id(SR),   id(M )       );', 'PlayerName': 'Sachin', 'Role': 'Batsmen', 'M': 1000, 'SR': 139.05, 'PlayerType': 'L', 'Alrounder': True, '_i7': 'def IPL(   ):\\n M =230             \\n print(       M        )\\n import sys\\n print(  \"size of data \"   ,sys.getsizeof(M)       )\\n print(   \"type \" ,  type(M)       )\\n print(   \"address \" ,  id(M)       )\\n print( sys.getrefcount(M) )  \\n del M\\n\\nif __name__ ==\"__main__\":\\n            IPL(      )', '_i8': '\"\"\"Script Compile time MEmory\"\"\"\\nlivingcurrently = input(\" enter the city\") # input returns address to an object\\nMygender         = \\'M\\'\\nTypeofemployment = \\'Salaried Professional\\'\\nworkexperience = 3\\nmonthlyincome = 50000\\nTotalEMIs          = 0\\nyourage            = 25\\nprint(livingcurrently)', 'livingcurrently': 'jvt', 'Mygender': 'M', 'Typeofemployment': 'Salaried Professional', 'workexperience': 3, 'monthlyincome': 50000, 'TotalEMIs': 0, 'yourage': 25, '_i9': '\"\"\"Script Compile time MEmory\"\"\"\\n\\nlivingcurrently     = input(\" enter the city\") # input returns address to an object\\nMygender            = \\'M\\'\\nTypeofemployment    = \\'Salaried Professional\\'\\nworkexperience      = 3\\nmonthlyincome       = 50000\\nTotalEMIs           = 0\\nyourage             = 25\\nprint(livingcurrently)', '_i10': \"#Tuples have a fixed size. Officially, they are immutable and do not change after creation.\\n#Unofficially, they can be altered at the C level, but these alterations are not supposed to\\n#be visible to Python code; you modify the tuple once after you've created it but before you've\\n#used it for anything, and thereafter you don't modify it again\\n\\nLoan=   'Mumbai', 'M',     'Salaried Professional', 3,  50000,  0, 25   \", 'Loan': ('Mumbai', 'M', 'Salaried Professional', 3, 50000, 0, 25), '_i11': \"# tuple objects\\nLoan= (   'Mumbai', 'M',     'Salaried Professional', 3,  50000,  0, 25   )  # Run time meory  HEap No acess \\nprint(Loan[0])\\n#print(Loan[9]) # Appending & Modification not possible tuple index out of range\\nprint(id(Loan[0]),id(Loan[1]),id(Loan[2]),id(Loan[3]))\", '_i12': \"# List objects\\nLoanList= [   'Mumbai', 'M',     'Salaried Professional', 3,  50000,  0, 25   ]  # Run time meory Heap\\nprint(LoanList.append('fastloan')) # Appending & Modification  possible List index out of range\\nprint(LoanList)\\nprint(id(LoanList[0]),id(LoanList[1]),id(LoanList[2]),id(LoanList[3]))\", 'LoanList': {'livingcurrently': 'Mumbai', 'Mygender': 'M', 'Typeofemployment': 'Salaried Professional', 'workexperience': 3, 'monthlyincome': 50000, 'TotalEMIs': 0, 'yourage': 25}, '_i13': \"# List objects\\n\\nLoanList= [   'Mumbai', 'M',     'Salaried Professional', 3,  50000,  0, 25   ]  # Run time meory Heap\\n\\nprint(LoanList.append('fastloan')) # Appending & Modification  possible List index out of range\\n\\nprint(LoanList)\\n\\nprint(id(LoanList[0]),id(LoanList[1]),id(LoanList[2]),id(LoanList[3]))\", '_i14': \"# tuple objects\\n\\nLoan= (   'Mumbai', 'M',     'Salaried Professional', 3,  50000,  0, 25   )  # Run time meory  HEap No acess \\n\\nprint(Loan[0])\\n\\n#print(Loan[9]) # Appending & Modification not possible tuple index out of range\\n\\nprint(id(Loan[0]),id(Loan[1]),id(Loan[2]),id(Loan[3]))\", '_i15': \"#Tuples have a fixed size. Officially, they are immutable and do not change after creation.\\n#Unofficially, they can be altered at the C level, but these alterations are not supposed to\\n#be visible to Python code; you modify the tuple once after you've created it but before you've\\n#used it for anything, and thereafter you don't modify it again\\n\\nLoan=   'Mumbai', 'M',     'Salaried Professional', 3,  50000,  0, 25   \", '_i16': \"# tuple objects\\n\\nLoan= (   'Mumbai', 'M',     'Salaried Professional', 3,  50000,  0, 25   )  # Run time meory  HEap No acess \\n\\nprint(Loan[0])\\n\\n#print(Loan[9]) # Appending & Modification not possible tuple index out of range\\n\\nprint(id(Loan[0]),id(Loan[1]),id(Loan[2]),id(Loan[3]))\", '_i17': \"# List objects\\n\\nLoanList= [   'Mumbai', 'M',     'Salaried Professional', 3,  50000,  0, 25   ]  # Run time meory Heap\\n\\nprint(LoanList.append('fastloan')) # Appending & Modification  possible List index out of range\\n\\nprint(LoanList)\\n\\nprint(id(LoanList[0]),id(LoanList[1]),id(LoanList[2]),id(LoanList[3]))\", '_i18': '# Dict objects\\n\\nLoanList= {  \"livingcurrently\": \\'Mumbai\\', \"Mygender\":\\'M\\',   \"Typeofemployment\":  \\'Salaried Professional\\', \"workexperience\":3, \"monthlyincome\": 50000, \"TotalEMIs\": 0, \"yourage\":25   }  # Run time meory Heap\\n\\nprint(LoanList.keys()) # Appending & Modification  possible Dict index out of range\\n\\nprint(LoanList)\\n\\nprint(id(LoanList[\"livingcurrently\"]),id(LoanList[\"Mygender\"]),id(LoanList[ \"workexperience\"]),id(LoanList[\"monthlyincome\"]))', '_i19': '# Dict objects\\n\\nLoanList= {  \"livingcurrently\": \\'Mumbai\\', \"Mygender\":\\'M\\',   \"Typeofemployment\":  \\'Salaried Professional\\', \"workexperience\":3, \"monthlyincome\": 50000, \"TotalEMIs\": 0, \"yourage\":25   }  # Run time meory Heap\\n\\nprint(LoanList.keys()) # Appending & Modification  possible Dict index out of range\\n\\nprint(LoanList)\\n\\nprint(id(LoanList[\"livingcurrently\"]),id(LoanList[\"Mygender\"]),id(LoanList[ \"workexperience\"]),id(LoanList[\"monthlyincome\"]))', '_i20': 'import dis\\ndis.dis(function)', 'dis': <module 'dis' from 'C:\\\\Users\\\\jvt\\\\Anaconda3\\\\lib\\\\dis.py'>, '_i21': '\"\"\"Script Compile time MEmory\"\"\"\\n\\nlivingcurrently     = input(\" enter the city\") # input returns address to an object\\nMygender            = \\'M\\'\\nTypeofemployment    = \\'Salaried Professional\\'\\nworkexperience      = 3\\nmonthlyincome       = 50000\\nTotalEMIs           = 0\\nyourage             = 25\\nprint(livingcurrently)', '_i22': '\"\"\"summary of Run time memory\"\"\"\\ndef function( ):\\n Bitcoinprice = 31000\\n Bitcoinprice1 = int(31000)\\n Bitcoininindia = True\\n Bitcoininindia1 = bool(False)\\n navy = str(\\'indianarmy\\')\\n navyenginerrsalary= float(3456.78)\\n print(Bitcoinprice)', 'function': <function function at 0x0000021B579FC0D0>, '_i23': 'import dis\\ndis.dis(function)', '_i24': 'def loanelibile():\\n livingcurrently = input(\" enter the city\") # input returns address to an object\\n if(  livingcurrently == \\'Mumbai\\' ):\\n   print(\"no loan applicable\")\\n   return\\n Mygender         = \\'M\\'\\n Typeofemployment = \\'Salaried Professional\\'\\n workexperience = 3\\n monthlyincome = 50000\\n TotalEMIs          = 0\\n yourage            = 25\\n Loansancation= monthlyincome *10;\\n print(livingcurrently)\\n print(Loansancation)\\n del Typeofemployment\\n del yourage', 'loanelibile': <function loanelibile at 0x0000021B579FCC80>, '_i25': \"myglobaltax =18.00\\n\\ndef function( ):\\n Bitcoin = 51000\\n Bitcoin1 = int(61000)\\n \\n def functionindia():\\n    Bit = True\\n    Bit1 = bool(False)\\n    navy = str('indianarmy')\\n    navyenginerrsalary= float(3456.78)\\n    nonlocal Bitcoin          # run time memory\\n    print(Bitcoin)\\n    global myglobaltax     # compile time memory\\n    print(myglobaltax)\\n    return [Bit ,Bit1 ];\\n\\n ret=functionindia()\\n print(ret)\\n return [ Bitcoin ,Bitcoin1, functionindia,print  ]\\n \\n \\nval =function( )\\nprint(val)\\nprint(myglobaltax)\", 'myglobaltax': 15.0, 'val': 'indianarmy', '_i26': 'def loanelibile():  # Step 1\\n livingcurrently = input(\" enter the city :\") # input returns address to an object\\n Mygender         = \\'M\\'\\n Typeofemployment = \\'Salaried Professional\\'\\n workexperience = 2\\n monthlyincome = 50000\\n TotalEMIs          = 0\\n yourage            = 25                      # Step 2 &  3\\n if(  (livingcurrently == \\'Mumbai\\' ) and (  workexperience >2 )):  # Step 4\\n   print(\"no loan applicable\")\\n   return\\n Loansancation= monthlyincome *10;  # Step 5\\n print(livingcurrently)\\n print(Loansancation)     # Step 6\\n\\n\\nloanelibile()       # Step 7', '_i27': '\"\"\"summary of Run time memory\"\"\"\\n\"\"\" combine source code files \"\"\"\\n\\nmyglobaltax =18.00\\n\\ndef function( ):\\n Bitcoinprice = 31000\\n Bitcoinprice1 = int(31000)\\n Bitcoininindia = True\\n Bitcoininindia1 = bool(False)\\n navy = str(\\'indianarmy\\')\\n navyenginerrsalary= float(3456.78)\\n print(Bitcoinprice)\\n global myglobaltax  \\n myglobaltax =15.00\\n print(myglobaltax)\\n return navy;\\n\\n\"\"\"  Intrpreter will not allocate memory indicates already compile time memory acess\"\"\"\\n\\nval =function( )\\nprint(val)\\nprint(myglobaltax)', '_i28': 'class Snake:\\n  sound=\\'Buus Buus\\'\\n  def __init__(self,snack,special):\\n        self.snacks =snack\\n        self.sundayspecial =special\\n\\n  def display(self):\\n        print(  self.snacks,self.sundayspecial ,Snake.sound)\\n\\ncython = Snake(\"milk\",\"rat\")\\ncython.display()\\n\\ncython1 = Snake(\"human\",\"frog\")\\ncython1.display()', 'Snake': <class '__main__.Snake'>, '_i29': 'class Snake:\\n  sound=\\'Buus Buus\\'\\n  def __init__(self):\\n        print( \"Consturctor\")\\n        self.snacks =\"milk\"\\n        self.sundayspecial =\"egg\"\\n      \\n\\n  def display(self):\\n        print(  self.snacks,self.sundayspecial ,Snake.sound)\\n        print(  id(self.snacks),id(self.sundayspecial) ,id(Snake.sound))\\n\\n  def __del__(self):\\n        print( \"desturctor\")\\n        del  self.snacks\\n        del  self.sundayspecial\\n\\n\\ncython = Snake()\\ncython.display()\\ncython1 = Snake()\\ncython1.display()\\ndel cython\\ndel cython1', '_i30': 'class Snake:\\n  sound=\\'Buus Buus\\'\\n  def __init__(self,snack,special):\\n        print( \"Constructor\")\\n        self.snacks =snack\\n        self.sundayspecial =special\\n        Snake.sound=\"god snake\"          # self.sound=\"god snake\" Bug \\n        \\n\\n  def display(self):\\n        print(  self.snacks,self.sundayspecial ,Snake.sound)\\n\\n  def __del__(self):\\n        print( \"desturctor\")\\n        del  self.snacks\\n        del  self.sundayspecial\\n        \\n\\ncython = Snake(\"milk\",\"rat\")\\ncython.display()\\ncython1 = Snake(\"human\",\"frog\")\\ncython1.display()\\ndel cython\\ndel cython1', '_i31': \"class Snake:\\n  sound='Buus Buus'\\n  def __init__(self,snack,special):\\n        self.snacks =snack\\n        self.sundayspecial =special\\n\\n  def display(self):\\n        print(  self.snacks,self.sundayspecial ,self.sound)\\n\\n  def __del__(self):\\n        del  self.snacks\\n        del  self.sundayspecial\\n\\n\\nclass Anaconda:\\n  sound='Buus Buus'  # allocates different storage for same code \\n  def __init__(self,snack,special):\\n        self.snacks =snack\\n        self.sundayspecial =special\\n\\n  def display(self):\\n       print(  self.snacks,self.sundayspecial ,self.sound)\\n\\n  def __del__(self):\\n        del  self.snacks\\n        del  self.sundayspecial\", 'Anaconda': <class '__main__.Anaconda'>, '_i32': 'class Snake:\\n  sound=\\'Buus Buus\\'\\n  def __init__(self,snack,special):\\n        print(\"Snake Constructor\" )\\n        self.snacks =snack\\n        print(id(self.snacks))\\n        self.sundayspecial =special\\n        print(id(self.sundayspecial))\\n     \\n  def display(self):\\n        print(  self.snacks,self.sundayspecial ,self.sound)\\n\\n  def __del__(self):\\n        del  self.snacks\\n        del  self.sundayspecial\\n\\n\\nclass Anaconda(Snake):\\n  def __init__(self,snack,special):\\n        print(\"Anaconda Constructor\" )\\n        self.snacks =snack\\n        print(id(self.snacks))\\n        self.sundayspecial =special\\n        print(id(self.sundayspecial))\\n\\n  def display(self):\\n       print(  self.snacks,self.sundayspecial ,self.sound)\\n\\n  def __del__(self):\\n        print(\"Anaconda Destructor\" )\\n        del  self.snacks\\n        del  self.sundayspecial\\n\\n\\nme=Anaconda(\"egg\",\"milk\")\\nme.display()\\ndel me', '_i33': 'class Snake:\\n  sound=\\'Buus Buus\\'\\n  def __init__(self,snack,special):\\n        print(\"Snake costructor\" )\\n        self.snacks =snack\\n        print(\"Snake costructor \",id(self.snacks))\\n        self.sundayspecial =special\\n        print(\"Snake costructor \",id(self.sundayspecial))\\n     \\n  def display(self):\\n        print(  self.snacks,self.sundayspecial ,self.sound)\\n\\n  def __del__(self):\\n        del  self.snacks\\n        del  self.sundayspecial\\n\\n\\nclass Anaconda(Snake):\\n  def __init__(self,snack,special):\\n        print(\"Anaconda costructor\" )\\n        Snake.__init__(self,snack,special)\\n      #  self.snacks =snack                    #  It assumes it is abase class member & reinit with different data\\n        print(\"Anaconda costructor \",id(self.snacks))\\n      #  self.sundayspecial =special       #  It assumes it is abase class member & reinit with different data\\n        print(\"Anaconda  costructor  \",id(self.sundayspecial))\\n\\n  def display(self):\\n       print(  self.snacks,self.sundayspecial ,self.sound)\\n\\n  def __del__(self):\\n        del  self.snacks\\n        del  self.sundayspecial\\n\\n\\nme=Anaconda(\"pizza\",\"burger\")\\nme.display()\\ndel me', '_i34': 'class Snake:\\n  sound=\\'Buus Buus\\'\\n  def __init__(self,snack,special):\\n        print(\"Snake constructor\" )\\n        self.snacks =snack\\n        print(id(self.snacks))\\n        self.sundayspecial =special\\n        print(id(self.sundayspecial))\\n     \\n  def display(self):\\n        print(  self.snacks,self.sundayspecial ,self.sound)\\n\\n  def __del__(self):\\n        print(\"Snake Destructor\")\\n        del  self.snacks\\n        del  self.sundayspecial\\n\\n\\nclass Ana(Snake):\\n\\n  def __init__(self):\\n        print(\"Anaconda constructor\" )\\n        Snake.__init__(self,\"pizza\",\"burger\")\\n   \\n  def __del__(self):\\n        print(\"Ana Destructor\")\\n        Snake.__del__(self)\\n\\n\\nme=Ana()\\nme.display()\\ndel me', 'Ana': <class '__main__.Ana'>, '_i35': 'class Snake:\\n  sound=\\'Buus Buus\\'\\n  def __init__(self,snack,special):\\n        print(\"Snake King\" )\\n        self.snacks =snack\\n        print(id(self.snacks))\\n        self.sundayspecial =special\\n        print(id(self.sundayspecial))\\n     \\n  def display(self):\\n        print(  self.snacks,self.sundayspecial ,self.sound)\\n\\n  def __del__(self):\\n        print(\" i am Snake destructor\")\\n        del  self.snacks\\n        del  self.sundayspecial\\n\\n\\nclass Ana(Snake):\\n\\n  def __init__(self):\\n        print(\"Anaconda King\" )\\n        Snake.__init__(self,\"pizza\",\"burger\")\\n\\n  def display(self):\\n        print(\"derived display\")\\n        print(  self.snacks,self.sundayspecial ,self.sound)\\n   \\n  def __del__(self):\\n        print(\" i am Ana destructor\")\\n        Snake.__del__(self)\\n\\n  \\nme=Ana()\\nme.display()\\ndel me', '_i36': 'class Snake:\\n  sound=\\'Buus Buus\\'\\n  def __init__(self,snack,special):\\n        print(\"Snake King\" )\\n        self.snacks =snack\\n        print(id(self.snacks))\\n        self.sundayspecial =special\\n        print(id(self.sundayspecial))\\n\\n  def display(self):\\n    print(  self.snacks,self.sundayspecial ,self.sound)\\n\\n  def __add__(self ,other):\\n        temp=self.snacks + other.snacks\\n        return temp\\n  \\n  def __del__(self):\\n        del  self.snacks\\n        del  self.sundayspecial\\n        \\n  def copy_constructor(self, orig):  # no copy constructor in python . Hence we need  to use copy module\\n       print(\"Copy  Constructor \" )\\n       self.snacks =orig.snacks\\n       self.sundayspecial =orig.sundayspecial\\n\\n\\na=Snake(\"kfc\",\"burger\")  # this will call the  constructor\\nb=Snake(a)                    # this will call the copy constructor\\n\\nclass Ana(Snake):\\n\\n  def __init__(self):\\n        print(\"Anaconda King\" )\\n        Snake.__init__(self,\"pizza\",\"burger\")\\n\\n  def display(self):\\n        print(  self.snacks,self.sundayspecial ,self.sound)\\n   \\n  def __del__(self):\\n        pass\\n\\nm=Snake(\"kfc\",\"burger\")\\nmu=Snake(\"mcdocandls\",\"burger\")\\nmee = m + mu\\nprint(mee)\\n\\nme=Ana()\\nme.display()\\ndel me', 'a': <__main__.Foo object at 0x0000021B57A22EB8>, '_i37': 'import copy\\ny=23\\nx = copy.copy(y)        # make a shallow copy of y\\nprint(\"shallow copy\")\\nprint(x,y)\\nx=5\\nprint(\"shallow copy\")\\nprint(x,y)\\nx = copy.deepcopy(y)    # make a deep copy of y\\nx=32\\nprint(\"deep copy\")\\nprint(x,y)\\n\\n\\nclass Foo:\\n    def __init__(self, orig=None):\\n        if orig is None:\\n            self.non_copy_constructor()\\n        else:\\n            self.copy_constructor(orig)\\n    def non_copy_constructor(self):\\n        # do the non-copy constructor stuff\\n        pass\\n    def copy_constructor(self, orig):\\n        # do the copy constructor\\n        pass\\n\\na=Foo()  # this will call the non-copy constructor\\nb=Foo(a) # this will call the copy constructor', 'copy': <module 'copy' from 'C:\\\\Users\\\\jvt\\\\Anaconda3\\\\lib\\\\copy.py'>, 'y': 23, 'x': 32, 'Foo': <class '__main__.Foo'>, 'b': <__main__.Foo object at 0x0000021B57A22DA0>, '_i38': \"class Person:\\n    age = 23\\n    name = 'Adam'\\n\\nperson = Person()\\n\\nprint('Person has age?:', hasattr(person, 'age'))\\nprint('Person has salary?:', hasattr(person, 'salary'))\", 'Person': <class '__main__.Person'>, 'person': <__main__.Person object at 0x0000021B57A22080>, '_i39': 'class Snake:\\n  sound=\\'Buus Buus\\'\\n  def __init__(self,snack,special):\\n        self.snacks =snack\\n        self.sundayspecial =special\\n\\n  def display(self):\\n        print(  self.snacks,self.sundayspecial ,self.sound)\\n\\nimport sys\\ncython = Snake(\"milk\",\"rat\")\\nprint(sys.getsizeof(cython))\\nprint(cython.sound)\\ncython.display()\\nprint(id(cython.snacks))\\n\\ncython1 = Snake(\"human\",\"frog\")\\nprint(sys.getsizeof(cython1))\\nprint(cython1.sound)\\ncython1.display()\\nprint(id(cython1.snacks))', 'sys': <module 'sys' (built-in)>, 'cython': <__main__.Snake object at 0x0000021B57A180F0>, 'cython1': <__main__.Snake object at 0x0000021B57A180B8>, '_i40': 'class Offer:\\n\\n def __init__(self) :\\n  self.Price       =   [  \"$9\" ,      \"20 gb\" ,      \"Cloud\" ,   18.0 , 5 ]   # initailise the allocted memory\\n\\n def display(self):\\n   print(self.Price  );    \\n\\nprint(\"run time memory \")\\n\\nstax = Offer()  # allocates memory\\n# stax has the address of allocated &  initailised memory\\nimport sys\\nprint(sys.getsizeof(stax))\\nprint( \"stax address \",id(stax.Price))\\nstax.Price.append(\"hot star\")\\nstax.display()\\nprint(\"stax append address \",id(stax.Price))\\n\\nprint(\"run time memory 1 \")\\nsta = Offer()  # valid\\nimport sys\\nprint(sys.getsizeof(stax))\\nprint(\"sta address \",id(sta.Price))\\nstax.Price.append(\"rock star\")\\nstax.display()\\nprint(\"sta append address \",id(sta.Price))\\n\\nprint(\" ds objects different memory\")\\nprint(id(stax.Price))\\nprint(id(sta.Price))\\nprint(sys.getsizeof(stax))\\nprint(sys.getsizeof(sta))', 'Offer': <class '__main__.Offer'>, 'stax': <__main__.Offer object at 0x0000021B57A187B8>, 'sta': <__main__.Offer object at 0x0000021B57A18FD0>, '_i41': '\"\"\"  objects \"\"\"\\n\\nclass Offer:\\n Price       =     \"$9\"                 #  Static Variables : Compile Time Memory\\n stax        =      18.0               #  Static Variables : Compile Time Memory\\n Trailer     =       5                  #  Static Variables : Compile Time Memory\\n\\n\\nprint(\" Address of static memory \")\\n               \\nprint(id(Offer.Price))\\nprint(id(Offer.stax))\\nprint(id(Offer.Trailer))\\n\\nprint(\" Size  of static memory \")\\n\\nimport sys\\nprint(sys.getsizeof(Offer.Price))\\nprint(sys.getsizeof(Offer.stax))\\nprint(sys.getsizeof(Offer.Trailer))\\nprint(sys.getsizeof(Offer))\\n\\nprint(\" Object size  of static memory \")\\n\\nss=Offer\\nprint(sys.getsizeof(ss))\\n\\nprint(\" Size of  memory  using constructor \")\\n\\nstax = Offer()\\nprint(sys.getsizeof(stax))', 'ss': <class '__main__.Offer'>, '_i42': 'import marshal\\nimport sys\\n\\njvt=\"hello\"\\nprint(\"hello data \",type(jvt),sys.getsizeof(jvt ))\\n\\nimport marshal\\ncc=marshal.dumps(jvt)\\nprint(cc)\\nprint(\"second object\",type(cc), len(cc))\\nprint(marshal.loads(cc))\\n\\n\\nc=55\\nprint(\"first object\",type(c))\\ncpp = marshal.dumps(c)\\nprint(\"second object\",type(cpp), len(cpp))\\nprint(marshal.loads(cpp))\\n\\n\\nvalue = (\\n    \"this is a string\",\\n    [1, 2, 3, 4],\\n    (\"more tuples\", 1.0, 2.3, 4.5),\\n    \"this is yet another string\"\\n    )\\n\\ndata = marshal.dumps(value)\\n\\n# intermediate format\\nprint(type(data), len(data))\\nprint( repr(data))\\nprint(marshal.loads(data))', 'marshal': <module 'marshal' (built-in)>, 'jvt': 'hello', 'cc': b'\\xda\\x05hello', 'c': 55, 'cpp': b'\\xe97\\x00\\x00\\x00', 'value': ('this is a string', [1, 2, 3, 4], ('more tuples', 1.0, 2.3, 4.5), 'this is yet another string'), 'data': b'\\xa9\\x04\\xfa\\x10this is a string[\\x04\\x00\\x00\\x00\\xe9\\x01\\x00\\x00\\x00\\xe9\\x02\\x00\\x00\\x00\\xe9\\x03\\x00\\x00\\x00\\xe9\\x04\\x00\\x00\\x00)\\x04\\xfa\\x0bmore tuples\\xe7\\x00\\x00\\x00\\x00\\x00\\x00\\xf0?\\xe7ffffff\\x02@\\xe7\\x00\\x00\\x00\\x00\\x00\\x00\\x12@\\xfa\\x1athis is yet another string', '_i43': 'glob=456\\nprint(globals())', 'glob': 456}\n"
     ]
    }
   ],
   "source": [
    "glob=456\n",
    "print(globals())"
   ]
  },
  {
   "cell_type": "code",
   "execution_count": 38,
   "metadata": {
    "collapsed": false
   },
   "outputs": [
    {
     "name": "stdout",
     "output_type": "stream",
     "text": [
      "Person has age?: True\n",
      "Person has salary?: False\n"
     ]
    }
   ],
   "source": [
    "class Person:\n",
    "    age = 23\n",
    "    name = 'Adam'\n",
    "\n",
    "person = Person()\n",
    "\n",
    "print('Person has age?:', hasattr(person, 'age'))\n",
    "print('Person has salary?:', hasattr(person, 'salary'))\n"
   ]
  },
  {
   "cell_type": "code",
   "execution_count": 41,
   "metadata": {
    "collapsed": false
   },
   "outputs": [
    {
     "name": "stdout",
     "output_type": "stream",
     "text": [
      " Address of static memory \n",
      "2316457488880\n",
      "2316445822888\n",
      "1436052672\n",
      " Size  of static memory \n",
      "51\n",
      "24\n",
      "28\n",
      "1056\n",
      " Object size  of static memory \n",
      "1056\n",
      " Size of  memory  using constructor \n",
      "56\n"
     ]
    }
   ],
   "source": [
    "\"\"\"  objects \"\"\"\n",
    "\n",
    "class Offer:\n",
    " Price       =     \"$9\"                 #  Static Variables : Compile Time Memory\n",
    " stax        =      18.0               #  Static Variables : Compile Time Memory\n",
    " Trailer     =       5                  #  Static Variables : Compile Time Memory\n",
    "\n",
    "\n",
    "print(\" Address of static memory \")\n",
    "               \n",
    "print(id(Offer.Price))\n",
    "print(id(Offer.stax))\n",
    "print(id(Offer.Trailer))\n",
    "\n",
    "print(\" Size  of static memory \")\n",
    "\n",
    "import sys\n",
    "print(sys.getsizeof(Offer.Price))\n",
    "print(sys.getsizeof(Offer.stax))\n",
    "print(sys.getsizeof(Offer.Trailer))\n",
    "print(sys.getsizeof(Offer))\n",
    "\n",
    "print(\" Object size  of static memory \")\n",
    "\n",
    "ss=Offer\n",
    "print(sys.getsizeof(ss))\n",
    "\n",
    "print(\" Size of  memory  using constructor \")\n",
    "\n",
    "stax = Offer()\n",
    "print(sys.getsizeof(stax))"
   ]
  },
  {
   "cell_type": "code",
   "execution_count": 39,
   "metadata": {
    "collapsed": false
   },
   "outputs": [
    {
     "name": "stdout",
     "output_type": "stream",
     "text": [
      "56\n",
      "Buus Buus\n",
      "milk rat Buus Buus\n",
      "2316457626736\n",
      "56\n",
      "Buus Buus\n",
      "human frog Buus Buus\n",
      "2316457627576\n"
     ]
    }
   ],
   "source": [
    "class Snake:\n",
    "  sound='Buus Buus'\n",
    "  def __init__(self,snack,special):\n",
    "        self.snacks =snack\n",
    "        self.sundayspecial =special\n",
    "\n",
    "  def display(self):\n",
    "        print(  self.snacks,self.sundayspecial ,self.sound)\n",
    "\n",
    "import sys\n",
    "cython = Snake(\"milk\",\"rat\")\n",
    "print(sys.getsizeof(cython))\n",
    "print(cython.sound)\n",
    "cython.display()\n",
    "print(id(cython.snacks))\n",
    "\n",
    "cython1 = Snake(\"human\",\"frog\")\n",
    "print(sys.getsizeof(cython1))\n",
    "print(cython1.sound)\n",
    "cython1.display()\n",
    "print(id(cython1.snacks))"
   ]
  },
  {
   "cell_type": "code",
   "execution_count": 40,
   "metadata": {
    "collapsed": false
   },
   "outputs": [
    {
     "name": "stdout",
     "output_type": "stream",
     "text": [
      "run time memory \n",
      "56\n",
      "stax address  2316457631688\n",
      "['$9', '20 gb', 'Cloud', 18.0, 5, 'hot star']\n",
      "stax append address  2316457631688\n",
      "run time memory 1 \n",
      "56\n",
      "sta address  2316457631368\n",
      "['$9', '20 gb', 'Cloud', 18.0, 5, 'hot star', 'rock star']\n",
      "sta append address  2316457631368\n",
      " ds objects different memory\n",
      "2316457631688\n",
      "2316457631368\n",
      "56\n",
      "56\n"
     ]
    }
   ],
   "source": [
    "class Offer:\n",
    "\n",
    " def __init__(self) :\n",
    "  self.Price       =   [  \"$9\" ,      \"20 gb\" ,      \"Cloud\" ,   18.0 , 5 ]   # initailise the allocted memory\n",
    "\n",
    " def display(self):\n",
    "   print(self.Price  );    \n",
    "\n",
    "print(\"run time memory \")\n",
    "\n",
    "stax = Offer()  # allocates memory\n",
    "# stax has the address of allocated &  initailised memory\n",
    "import sys\n",
    "print(sys.getsizeof(stax))\n",
    "print( \"stax address \",id(stax.Price))\n",
    "stax.Price.append(\"hot star\")\n",
    "stax.display()\n",
    "print(\"stax append address \",id(stax.Price))\n",
    "\n",
    "print(\"run time memory 1 \")\n",
    "sta = Offer()  # valid\n",
    "import sys\n",
    "print(sys.getsizeof(stax))\n",
    "print(\"sta address \",id(sta.Price))\n",
    "stax.Price.append(\"rock star\")\n",
    "stax.display()\n",
    "print(\"sta append address \",id(sta.Price))\n",
    "\n",
    "print(\" ds objects different memory\")\n",
    "print(id(stax.Price))\n",
    "print(id(sta.Price))\n",
    "print(sys.getsizeof(stax))\n",
    "print(sys.getsizeof(sta))\n"
   ]
  },
  {
   "cell_type": "code",
   "execution_count": 28,
   "metadata": {
    "collapsed": false
   },
   "outputs": [
    {
     "name": "stdout",
     "output_type": "stream",
     "text": [
      "milk rat Buus Buus\n",
      "human frog Buus Buus\n"
     ]
    }
   ],
   "source": [
    "class Snake:\n",
    "  sound='Buus Buus'\n",
    "  def __init__(self,snack,special):\n",
    "        self.snacks =snack\n",
    "        self.sundayspecial =special\n",
    "\n",
    "  def display(self):\n",
    "        print(  self.snacks,self.sundayspecial ,Snake.sound)\n",
    "\n",
    "cython = Snake(\"milk\",\"rat\")\n",
    "cython.display()\n",
    "\n",
    "cython1 = Snake(\"human\",\"frog\")\n",
    "cython1.display()"
   ]
  },
  {
   "cell_type": "code",
   "execution_count": 29,
   "metadata": {
    "collapsed": false
   },
   "outputs": [
    {
     "name": "stdout",
     "output_type": "stream",
     "text": [
      "Consturctor\n",
      "milk egg Buus Buus\n",
      "2316457411168 2316457104416 2316457471344\n",
      "Consturctor\n",
      "milk egg Buus Buus\n",
      "2316457411168 2316457104416 2316457471344\n",
      "desturctor\n",
      "desturctor\n"
     ]
    }
   ],
   "source": [
    "class Snake:\n",
    "  sound='Buus Buus'\n",
    "  def __init__(self):\n",
    "        print( \"Consturctor\")\n",
    "        self.snacks =\"milk\"\n",
    "        self.sundayspecial =\"egg\"\n",
    "      \n",
    "\n",
    "  def display(self):\n",
    "        print(  self.snacks,self.sundayspecial ,Snake.sound)\n",
    "        print(  id(self.snacks),id(self.sundayspecial) ,id(Snake.sound))\n",
    "\n",
    "  def __del__(self):\n",
    "        print( \"desturctor\")\n",
    "        del  self.snacks\n",
    "        del  self.sundayspecial\n",
    "\n",
    "\n",
    "cython = Snake()\n",
    "cython.display()\n",
    "cython1 = Snake()\n",
    "cython1.display()\n",
    "del cython\n",
    "del cython1\n"
   ]
  },
  {
   "cell_type": "code",
   "execution_count": 30,
   "metadata": {
    "collapsed": false
   },
   "outputs": [
    {
     "name": "stdout",
     "output_type": "stream",
     "text": [
      "Constructor\n",
      "milk rat god snake\n",
      "Constructor\n",
      "human frog god snake\n",
      "desturctor\n",
      "desturctor\n"
     ]
    }
   ],
   "source": [
    "class Snake:\n",
    "  sound='Buus Buus'\n",
    "  def __init__(self,snack,special):\n",
    "        print( \"Constructor\")\n",
    "        self.snacks =snack\n",
    "        self.sundayspecial =special\n",
    "        Snake.sound=\"god snake\"          # self.sound=\"god snake\" Bug \n",
    "        \n",
    "\n",
    "  def display(self):\n",
    "        print(  self.snacks,self.sundayspecial ,Snake.sound)\n",
    "\n",
    "  def __del__(self):\n",
    "        print( \"desturctor\")\n",
    "        del  self.snacks\n",
    "        del  self.sundayspecial\n",
    "        \n",
    "\n",
    "cython = Snake(\"milk\",\"rat\")\n",
    "cython.display()\n",
    "cython1 = Snake(\"human\",\"frog\")\n",
    "cython1.display()\n",
    "del cython\n",
    "del cython1\n"
   ]
  },
  {
   "cell_type": "code",
   "execution_count": 31,
   "metadata": {
    "collapsed": true
   },
   "outputs": [],
   "source": [
    "class Snake:\n",
    "  sound='Buus Buus'\n",
    "  def __init__(self,snack,special):\n",
    "        self.snacks =snack\n",
    "        self.sundayspecial =special\n",
    "\n",
    "  def display(self):\n",
    "        print(  self.snacks,self.sundayspecial ,self.sound)\n",
    "\n",
    "  def __del__(self):\n",
    "        del  self.snacks\n",
    "        del  self.sundayspecial\n",
    "\n",
    "\n",
    "class Anaconda:\n",
    "  sound='Buus Buus'  # allocates different storage for same code \n",
    "  def __init__(self,snack,special):\n",
    "        self.snacks =snack\n",
    "        self.sundayspecial =special\n",
    "\n",
    "  def display(self):\n",
    "       print(  self.snacks,self.sundayspecial ,self.sound)\n",
    "\n",
    "  def __del__(self):\n",
    "        del  self.snacks\n",
    "        del  self.sundayspecial\n"
   ]
  },
  {
   "cell_type": "code",
   "execution_count": 32,
   "metadata": {
    "collapsed": false
   },
   "outputs": [
    {
     "name": "stdout",
     "output_type": "stream",
     "text": [
      "Anaconda Constructor\n",
      "2316457104416\n",
      "2316457411168\n",
      "egg milk Buus Buus\n",
      "Anaconda Destructor\n"
     ]
    }
   ],
   "source": [
    "class Snake:\n",
    "  sound='Buus Buus'\n",
    "  def __init__(self,snack,special):\n",
    "        print(\"Snake Constructor\" )\n",
    "        self.snacks =snack\n",
    "        print(id(self.snacks))\n",
    "        self.sundayspecial =special\n",
    "        print(id(self.sundayspecial))\n",
    "     \n",
    "  def display(self):\n",
    "        print(  self.snacks,self.sundayspecial ,self.sound)\n",
    "\n",
    "  def __del__(self):\n",
    "        del  self.snacks\n",
    "        del  self.sundayspecial\n",
    "\n",
    "\n",
    "class Anaconda(Snake):\n",
    "  def __init__(self,snack,special):\n",
    "        print(\"Anaconda Constructor\" )\n",
    "        self.snacks =snack\n",
    "        print(id(self.snacks))\n",
    "        self.sundayspecial =special\n",
    "        print(id(self.sundayspecial))\n",
    "\n",
    "  def display(self):\n",
    "       print(  self.snacks,self.sundayspecial ,self.sound)\n",
    "\n",
    "  def __del__(self):\n",
    "        print(\"Anaconda Destructor\" )\n",
    "        del  self.snacks\n",
    "        del  self.sundayspecial\n",
    "\n",
    "\n",
    "me=Anaconda(\"egg\",\"milk\")\n",
    "me.display()\n",
    "del me\n"
   ]
  },
  {
   "cell_type": "code",
   "execution_count": 33,
   "metadata": {
    "collapsed": false
   },
   "outputs": [
    {
     "name": "stdout",
     "output_type": "stream",
     "text": [
      "Anaconda costructor\n",
      "Snake costructor\n",
      "Snake costructor  2316457498640\n",
      "Snake costructor  2316457498472\n",
      "Anaconda costructor  2316457498640\n",
      "Anaconda  costructor   2316457498472\n",
      "pizza burger Buus Buus\n"
     ]
    }
   ],
   "source": [
    "class Snake:\n",
    "  sound='Buus Buus'\n",
    "  def __init__(self,snack,special):\n",
    "        print(\"Snake costructor\" )\n",
    "        self.snacks =snack\n",
    "        print(\"Snake costructor \",id(self.snacks))\n",
    "        self.sundayspecial =special\n",
    "        print(\"Snake costructor \",id(self.sundayspecial))\n",
    "     \n",
    "  def display(self):\n",
    "        print(  self.snacks,self.sundayspecial ,self.sound)\n",
    "\n",
    "  def __del__(self):\n",
    "        del  self.snacks\n",
    "        del  self.sundayspecial\n",
    "\n",
    "\n",
    "class Anaconda(Snake):\n",
    "  def __init__(self,snack,special):\n",
    "        print(\"Anaconda costructor\" )\n",
    "        Snake.__init__(self,snack,special)\n",
    "      #  self.snacks =snack                    #  It assumes it is abase class member & reinit with different data\n",
    "        print(\"Anaconda costructor \",id(self.snacks))\n",
    "      #  self.sundayspecial =special       #  It assumes it is abase class member & reinit with different data\n",
    "        print(\"Anaconda  costructor  \",id(self.sundayspecial))\n",
    "\n",
    "  def display(self):\n",
    "       print(  self.snacks,self.sundayspecial ,self.sound)\n",
    "\n",
    "  def __del__(self):\n",
    "        del  self.snacks\n",
    "        del  self.sundayspecial\n",
    "\n",
    "\n",
    "me=Anaconda(\"pizza\",\"burger\")\n",
    "me.display()\n",
    "del me"
   ]
  },
  {
   "cell_type": "code",
   "execution_count": 34,
   "metadata": {
    "collapsed": false
   },
   "outputs": [
    {
     "name": "stdout",
     "output_type": "stream",
     "text": [
      "Anaconda constructor\n",
      "Snake constructor\n",
      "2316457411336\n",
      "2316457413800\n",
      "pizza burger Buus Buus\n",
      "Ana Destructor\n",
      "Snake Destructor\n"
     ]
    }
   ],
   "source": [
    "class Snake:\n",
    "  sound='Buus Buus'\n",
    "  def __init__(self,snack,special):\n",
    "        print(\"Snake constructor\" )\n",
    "        self.snacks =snack\n",
    "        print(id(self.snacks))\n",
    "        self.sundayspecial =special\n",
    "        print(id(self.sundayspecial))\n",
    "     \n",
    "  def display(self):\n",
    "        print(  self.snacks,self.sundayspecial ,self.sound)\n",
    "\n",
    "  def __del__(self):\n",
    "        print(\"Snake Destructor\")\n",
    "        del  self.snacks\n",
    "        del  self.sundayspecial\n",
    "\n",
    "\n",
    "class Ana(Snake):\n",
    "\n",
    "  def __init__(self):\n",
    "        print(\"Anaconda constructor\" )\n",
    "        Snake.__init__(self,\"pizza\",\"burger\")\n",
    "   \n",
    "  def __del__(self):\n",
    "        print(\"Ana Destructor\")\n",
    "        Snake.__del__(self)\n",
    "\n",
    "\n",
    "me=Ana()\n",
    "me.display()\n",
    "del me"
   ]
  },
  {
   "cell_type": "code",
   "execution_count": 35,
   "metadata": {
    "collapsed": false
   },
   "outputs": [
    {
     "name": "stdout",
     "output_type": "stream",
     "text": [
      "Anaconda King\n",
      "Snake King\n",
      "2316457411336\n",
      "2316457413800\n",
      "derived display\n",
      "pizza burger Buus Buus\n",
      " i am Ana destructor\n",
      " i am Snake destructor\n"
     ]
    }
   ],
   "source": [
    "class Snake:\n",
    "  sound='Buus Buus'\n",
    "  def __init__(self,snack,special):\n",
    "        print(\"Snake King\" )\n",
    "        self.snacks =snack\n",
    "        print(id(self.snacks))\n",
    "        self.sundayspecial =special\n",
    "        print(id(self.sundayspecial))\n",
    "     \n",
    "  def display(self):\n",
    "        print(  self.snacks,self.sundayspecial ,self.sound)\n",
    "\n",
    "  def __del__(self):\n",
    "        print(\" i am Snake destructor\")\n",
    "        del  self.snacks\n",
    "        del  self.sundayspecial\n",
    "\n",
    "\n",
    "class Ana(Snake):\n",
    "\n",
    "  def __init__(self):\n",
    "        print(\"Anaconda King\" )\n",
    "        Snake.__init__(self,\"pizza\",\"burger\")\n",
    "\n",
    "  def display(self):\n",
    "        print(\"derived display\")\n",
    "        print(  self.snacks,self.sundayspecial ,self.sound)\n",
    "   \n",
    "  def __del__(self):\n",
    "        print(\" i am Ana destructor\")\n",
    "        Snake.__del__(self)\n",
    "\n",
    "  \n",
    "me=Ana()\n",
    "me.display()\n",
    "del me\n"
   ]
  },
  {
   "cell_type": "code",
   "execution_count": 36,
   "metadata": {
    "collapsed": false
   },
   "outputs": [
    {
     "name": "stdout",
     "output_type": "stream",
     "text": [
      "Snake King\n",
      "2316457491232\n",
      "2316457413800\n"
     ]
    },
    {
     "name": "stderr",
     "output_type": "stream",
     "text": [
      "Exception ignored in: <bound method Snake.__del__ of <__main__.Snake object at 0x0000021B57A03F28>>\n",
      "Traceback (most recent call last):\n",
      "  File \"<ipython-input-36-d31178b328fb>\", line 18, in __del__\n",
      "AttributeError: snacks\n"
     ]
    },
    {
     "ename": "TypeError",
     "evalue": "__init__() missing 1 required positional argument: 'special'",
     "output_type": "error",
     "traceback": [
      "\u001b[1;31m---------------------------------------------------------------------------\u001b[0m",
      "\u001b[1;31mTypeError\u001b[0m                                 Traceback (most recent call last)",
      "\u001b[1;32m<ipython-input-36-d31178b328fb>\u001b[0m in \u001b[0;36m<module>\u001b[1;34m()\u001b[0m\n\u001b[0;32m     26\u001b[0m \u001b[1;33m\u001b[0m\u001b[0m\n\u001b[0;32m     27\u001b[0m \u001b[0ma\u001b[0m\u001b[1;33m=\u001b[0m\u001b[0mSnake\u001b[0m\u001b[1;33m(\u001b[0m\u001b[1;34m\"kfc\"\u001b[0m\u001b[1;33m,\u001b[0m\u001b[1;34m\"burger\"\u001b[0m\u001b[1;33m)\u001b[0m  \u001b[1;31m# this will call the  constructor\u001b[0m\u001b[1;33m\u001b[0m\u001b[0m\n\u001b[1;32m---> 28\u001b[1;33m \u001b[0mb\u001b[0m\u001b[1;33m=\u001b[0m\u001b[0mSnake\u001b[0m\u001b[1;33m(\u001b[0m\u001b[0ma\u001b[0m\u001b[1;33m)\u001b[0m                    \u001b[1;31m# this will call the copy constructor\u001b[0m\u001b[1;33m\u001b[0m\u001b[0m\n\u001b[0m\u001b[0;32m     29\u001b[0m \u001b[1;33m\u001b[0m\u001b[0m\n\u001b[0;32m     30\u001b[0m \u001b[1;32mclass\u001b[0m \u001b[0mAna\u001b[0m\u001b[1;33m(\u001b[0m\u001b[0mSnake\u001b[0m\u001b[1;33m)\u001b[0m\u001b[1;33m:\u001b[0m\u001b[1;33m\u001b[0m\u001b[0m\n",
      "\u001b[1;31mTypeError\u001b[0m: __init__() missing 1 required positional argument: 'special'"
     ]
    }
   ],
   "source": [
    "class Snake:\n",
    "  sound='Buus Buus'\n",
    "  def __init__(self,snack,special):\n",
    "        print(\"Snake King\" )\n",
    "        self.snacks =snack\n",
    "        print(id(self.snacks))\n",
    "        self.sundayspecial =special\n",
    "        print(id(self.sundayspecial))\n",
    "\n",
    "  def display(self):\n",
    "    print(  self.snacks,self.sundayspecial ,self.sound)\n",
    "\n",
    "  def __add__(self ,other):\n",
    "        temp=self.snacks + other.snacks\n",
    "        return temp\n",
    "  \n",
    "  def __del__(self):\n",
    "        del  self.snacks\n",
    "        del  self.sundayspecial\n",
    "        \n",
    "  def copy_constructor(self, orig):  # no copy constructor in python . Hence we need  to use copy module\n",
    "       print(\"Copy  Constructor \" )\n",
    "       self.snacks =orig.snacks\n",
    "       self.sundayspecial =orig.sundayspecial\n",
    "\n",
    "\n",
    "a=Snake(\"kfc\",\"burger\")  # this will call the  constructor\n",
    "b=Snake(a)                    # this will call the copy constructor\n",
    "\n",
    "class Ana(Snake):\n",
    "\n",
    "  def __init__(self):\n",
    "        print(\"Anaconda King\" )\n",
    "        Snake.__init__(self,\"pizza\",\"burger\")\n",
    "\n",
    "  def display(self):\n",
    "        print(  self.snacks,self.sundayspecial ,self.sound)\n",
    "   \n",
    "  def __del__(self):\n",
    "        pass\n",
    "\n",
    "m=Snake(\"kfc\",\"burger\")\n",
    "mu=Snake(\"mcdocandls\",\"burger\")\n",
    "mee = m + mu\n",
    "print(mee)\n",
    "\n",
    "me=Ana()\n",
    "me.display()\n",
    "del me"
   ]
  },
  {
   "cell_type": "code",
   "execution_count": 37,
   "metadata": {
    "collapsed": false
   },
   "outputs": [
    {
     "name": "stdout",
     "output_type": "stream",
     "text": [
      "shallow copy\n",
      "23 23\n",
      "shallow copy\n",
      "5 23\n",
      "deep copy\n",
      "32 23\n"
     ]
    }
   ],
   "source": [
    "import copy\n",
    "y=23\n",
    "x = copy.copy(y)        # make a shallow copy of y\n",
    "print(\"shallow copy\")\n",
    "print(x,y)\n",
    "x=5\n",
    "print(\"shallow copy\")\n",
    "print(x,y)\n",
    "x = copy.deepcopy(y)    # make a deep copy of y\n",
    "x=32\n",
    "print(\"deep copy\")\n",
    "print(x,y)\n",
    "\n",
    "\n",
    "class Foo:\n",
    "    def __init__(self, orig=None):\n",
    "        if orig is None:\n",
    "            self.non_copy_constructor()\n",
    "        else:\n",
    "            self.copy_constructor(orig)\n",
    "    def non_copy_constructor(self):\n",
    "        # do the non-copy constructor stuff\n",
    "        pass\n",
    "    def copy_constructor(self, orig):\n",
    "        # do the copy constructor\n",
    "        pass\n",
    "\n",
    "a=Foo()  # this will call the non-copy constructor\n",
    "b=Foo(a) # this will call the copy constructor"
   ]
  },
  {
   "cell_type": "code",
   "execution_count": 11,
   "metadata": {
    "collapsed": true
   },
   "outputs": [],
   "source": [
    " import ctypes"
   ]
  },
  {
   "cell_type": "code",
   "execution_count": 12,
   "metadata": {
    "collapsed": false
   },
   "outputs": [
    {
     "name": "stdout",
     "output_type": "stream",
     "text": [
      "4\n"
     ]
    }
   ],
   "source": [
    "longsize = ctypes.sizeof(ctypes.c_long)\n",
    "\n",
    "print(longsize)"
   ]
  },
  {
   "cell_type": "code",
   "execution_count": 13,
   "metadata": {
    "collapsed": false
   },
   "outputs": [
    {
     "name": "stdout",
     "output_type": "stream",
     "text": [
      "4\n"
     ]
    }
   ],
   "source": [
    "intsize = ctypes.sizeof(ctypes.c_int)\n",
    "\n",
    "charsize = ctypes.sizeof(ctypes.c_char)\n",
    "\n",
    "print(intsize)\n"
   ]
  },
  {
   "cell_type": "code",
   "execution_count": 14,
   "metadata": {
    "collapsed": false
   },
   "outputs": [
    {
     "name": "stdout",
     "output_type": "stream",
     "text": [
      "1\n"
     ]
    }
   ],
   "source": [
    "print(charsize)"
   ]
  },
  {
   "cell_type": "code",
   "execution_count": 42,
   "metadata": {
    "collapsed": true
   },
   "outputs": [],
   "source": [
    "# Usually, you do not need to worry about memory management when the objects are no longer needed Python\n",
    "\n",
    "# automatically reclaims the memory from them. However, understanding how GC works can help you write better Python programs.\n"
   ]
  },
  {
   "cell_type": "code",
   "execution_count": 44,
   "metadata": {
    "collapsed": true
   },
   "outputs": [],
   "source": [
    "# Garbage collection algorithms\n",
    "\n",
    "# Standard CPython's garbage collector has two components, the reference counting collector\n",
    "\n",
    "# and the generational garbage collector, known as gc module.  https://docs.python.org/3.6/library/gc.html"
   ]
  },
  {
   "cell_type": "code",
   "execution_count": 45,
   "metadata": {
    "collapsed": true
   },
   "outputs": [],
   "source": [
    "# The reference counting algorithm is incredibly efficient and straightforward, but it cannot detect reference cycles.\n",
    "\n",
    "# That is why Python has a supplemental algorithm called generational cyclic GC, that deals with reference cycles.\n",
    "\n",
    "# The reference counting is fundamental to Python and can't be disabled, whereas the cyclic GC is optional and can be\n",
    "\n",
    "# used manually.\n"
   ]
  },
  {
   "cell_type": "code",
   "execution_count": null,
   "metadata": {
    "collapsed": true
   },
   "outputs": [],
   "source": [
    "# Reference counting\n",
    "\n",
    "# Reference counting is a simple technique in which objects are deallocated when there is no reference to them in a program.\n",
    "\n",
    "# Every variable in Python is a reference (a pointer) to an object and not the actual value itself.\n",
    "\n",
    "# For example, the assignment statement just adds a new reference to the right-hand side.\n",
    "\n",
    "# To keep track of references every object (even integer) has an extra field called reference count\n",
    "\n",
    "# that is increased or decreased when a pointer to the object is copied or deleted. See Objects, Types \n",
    "\n",
    "# and Reference Counts section, for a detailed explanation. https://docs.python.org/3.6/c-api/intro.html#objects-types-and-reference-counts\n"
   ]
  },
  {
   "cell_type": "code",
   "execution_count": 46,
   "metadata": {
    "collapsed": true
   },
   "outputs": [],
   "source": [
    "# Examples, where the reference count increases:\n",
    "    \n",
    "# assignment operator\n",
    "# argument passing\n",
    "# appending an object to a list (object's reference count will be increased)."
   ]
  },
  {
   "cell_type": "code",
   "execution_count": 48,
   "metadata": {
    "collapsed": false
   },
   "outputs": [
    {
     "name": "stdout",
     "output_type": "stream",
     "text": [
      "2\n",
      "4\n",
      "2\n"
     ]
    }
   ],
   "source": [
    "foo = []\n",
    "\n",
    "# 2 references, 1 from the foo var and 1 from getrefcount\n",
    "\n",
    "print(sys.getrefcount(foo))\n",
    "\n",
    "def bar(a):\n",
    "    # 4 references\n",
    "    # from the foo var, function argument, getrefcount and Python's function stack\n",
    "    print(sys.getrefcount(a))\n",
    "\n",
    "bar(foo)\n",
    "\n",
    "# 2 references, the function scope is destroyed\n",
    "\n",
    "print(sys.getrefcount(foo))"
   ]
  },
  {
   "cell_type": "code",
   "execution_count": null,
   "metadata": {
    "collapsed": true
   },
   "outputs": [],
   "source": [
    "# If reference counting field reaches zero, CPython automatically calls the object-specific deallocation function.\n",
    "\n",
    "# If an object contains references to other objects, then their reference count is decremented too.\n",
    "\n",
    "# Thus other objects may be deallocated in turn. For example, when a list is deleted the reference count \n",
    "\n",
    "# of all its items is decreased.\n",
    "\n",
    "# Variables, which declared outside of functions, classes, and blocks are called globals. \n",
    "\n",
    "# Usually, such variables live until the end of the Python's process. Thus, the reference count of objects,\n",
    "\n",
    "# which are referred by globals, never drops to 0.\n",
    "\n",
    "# Variables, which are defined inside blocks (e.g., in a function or class) have a local scope \n",
    "\n",
    "# (i.e., they are local to its block). If Python interpreter exits from the block, it destroys\n",
    "\n",
    "# all references created inside the block.\n",
    "\n"
   ]
  },
  {
   "cell_type": "code",
   "execution_count": null,
   "metadata": {
    "collapsed": true
   },
   "outputs": [],
   "source": [
    "# The main reason why CPython uses reference counting is historical.\n",
    "\n",
    "# There are a lot of debates nowadays about weaknesses of such technique. Some people claim that\n",
    "\n",
    "# modern garbage collection algorithms can be more efficient without reference counting at all.\n",
    "\n",
    "# The reference counting algorithm has a lot of issues, such as circular references, thread locking\n",
    "\n",
    "# and memory and performance overhead.\n",
    "\n",
    "# The main advantage of such approach is that the objects can be immediately destroyed after they are no longer needed.\n"
   ]
  },
  {
   "cell_type": "code",
   "execution_count": null,
   "metadata": {
    "collapsed": true
   },
   "outputs": [],
   "source": [
    "# Generational garbage collector\n",
    "\n",
    "# Why do we need additional garbage collector when we have reference counting?\n",
    "\n",
    "# Unfortunately, classical reference counting has a fundamental problem — it cannot \n",
    "\n",
    "# detect reference cycles. A reference cycle occurs when one or more objects are referencing each other.\n"
   ]
  },
  {
   "cell_type": "code",
   "execution_count": 53,
   "metadata": {
    "collapsed": true
   },
   "outputs": [],
   "source": [
    "import gc\n",
    "\n",
    "# We are using ctypes to access our unreachable objects by memory address.\n",
    "\n",
    "class PyObject(ctypes.Structure):\n",
    "    _fields_ = [(\"refcnt\", ctypes.c_long)]\n",
    "\n",
    "\n",
    "gc.disable()  # Disable generational gc\n",
    "\n",
    "lst = []\n",
    "lst.append(lst)\n",
    "\n",
    "# Store address of the list\n",
    "\n",
    "lst_address = id(lst)\n",
    "\n",
    "# Destroy the lst reference\n",
    "del lst\n"
   ]
  },
  {
   "cell_type": "code",
   "execution_count": 54,
   "metadata": {
    "collapsed": false
   },
   "outputs": [
    {
     "name": "stdout",
     "output_type": "stream",
     "text": [
      "1\n",
      "1\n"
     ]
    }
   ],
   "source": [
    "\n",
    "object_1 = {}\n",
    "object_2 = {}\n",
    "object_1['obj2'] = object_2\n",
    "object_2['obj1'] = object_1\n",
    "\n",
    "obj_address = id(object_1)\n",
    "\n",
    "# Destroy references\n",
    "del object_1, object_2\n",
    "\n",
    "# Uncomment if you want to manually run garbage collection process \n",
    "# gc.collect()\n",
    "\n",
    "# Check the reference count\n",
    "print(PyObject.from_address(obj_address).refcnt)\n",
    "print(PyObject.from_address(lst_address).refcnt)"
   ]
  },
  {
   "cell_type": "code",
   "execution_count": null,
   "metadata": {
    "collapsed": true
   },
   "outputs": [],
   "source": [
    "# In the example above, the del statement removes the references to our objects (i.e., decreases reference count by 1). \n",
    "\n",
    "# After Python executes the del statement, our objects are no longer accessible from Python code. However,\n",
    "\n",
    "# such objects are still sitting in the memory, that's because they are still referencing each other and the reference \n",
    "\n",
    "# count of each object is 1. You can visually explore such relations using objgraph module.\n",
    "\n",
    "#To resolve this issue, the additional cycle-detecting algorithm was introduced in Python 1.5. \n",
    "\n",
    "# The gc module is responsible for this and exists only for dealing with such problem.\n",
    "\n",
    "# Reference cycles can only occur in container objects (i.e., in objects which can contain other objects),\n",
    "\n",
    "# such as lists, dictionaries, classes, tuples. The GC does not track all immutable types except for a tuple. \n",
    "\n",
    "# Tuples and dictionaries containing only immutable objects can also be untracked depending on certain conditions. \n",
    "\n",
    "# Thus, the reference counting technique handles all non-circular references.\n"
   ]
  },
  {
   "cell_type": "code",
   "execution_count": 59,
   "metadata": {
    "collapsed": true
   },
   "outputs": [],
   "source": [
    "# https://mg.pov.lt/objgraph/\n",
    "\n",
    "# How to find reference cycles\n",
    "\n",
    "# It is hard to explain the reference cycle detection algorithm in a few paragraphs.\n",
    "\n",
    "# But basically, the GC iterates over each container object and temporarily removes all references to \n",
    "\n",
    "# container objects it references. After full iteration, all objects which reference count lower than two\n",
    "\n",
    "# are unreachable from Python's code and thus can be collected.\n",
    "\n"
   ]
  },
  {
   "cell_type": "code",
   "execution_count": 60,
   "metadata": {
    "collapsed": true
   },
   "outputs": [],
   "source": [
    "# To avoid circular references in your code, you need to use weak references, which are implemented \n",
    "\n",
    "# in the weakref module. Unlike the usual references, the weakref.ref doesn't increase the reference count \n",
    "\n",
    "# and returns None if an object was destroyed.\n",
    "\n",
    "# In some cases, it is useful to disable GC and use it manually. \n",
    "\n",
    "# The automatic collection can be disabled by calling gc.disable(). \n",
    "\n",
    "# To manually run collection process you need to use gc.collect().\n",
    "\n",
    "# http://arctrix.com/nas/python/gc/\n",
    "\n",
    "# https://github.com/python/cpython/blob/7d6ddb96b34b94c1cbdf95baa94492c48426404e/Modules/gcmodule.c#L902"
   ]
  },
  {
   "cell_type": "code",
   "execution_count": 61,
   "metadata": {
    "collapsed": false
   },
   "outputs": [
    {
     "name": "stdout",
     "output_type": "stream",
     "text": [
      "(939, 0, 0)\n",
      "<_ast.Module object at 0x000001D42A10CDA0>\n"
     ]
    },
    {
     "ename": "AssertionError",
     "evalue": "",
     "output_type": "error",
     "traceback": [
      "\u001b[1;31m---------------------------------------------------------------------------\u001b[0m",
      "\u001b[1;31mAssertionError\u001b[0m                            Traceback (most recent call last)",
      "\u001b[1;32m<ipython-input-61-3628f4198707>\u001b[0m in \u001b[0;36m<module>\u001b[1;34m()\u001b[0m\n\u001b[0;32m     14\u001b[0m \u001b[1;32mfor\u001b[0m \u001b[0mitem\u001b[0m \u001b[1;32min\u001b[0m \u001b[0mgc\u001b[0m\u001b[1;33m.\u001b[0m\u001b[0mgarbage\u001b[0m\u001b[1;33m:\u001b[0m\u001b[1;33m\u001b[0m\u001b[0m\n\u001b[0;32m     15\u001b[0m     \u001b[0mprint\u001b[0m\u001b[1;33m(\u001b[0m\u001b[0mitem\u001b[0m\u001b[1;33m)\u001b[0m\u001b[1;33m\u001b[0m\u001b[0m\n\u001b[1;32m---> 16\u001b[1;33m     \u001b[1;32massert\u001b[0m \u001b[0mlist_id\u001b[0m \u001b[1;33m==\u001b[0m \u001b[0mid\u001b[0m\u001b[1;33m(\u001b[0m\u001b[0mitem\u001b[0m\u001b[1;33m)\u001b[0m\u001b[1;33m\u001b[0m\u001b[0m\n\u001b[0m",
      "\u001b[1;31mAssertionError\u001b[0m: "
     ]
    }
   ],
   "source": [
    "# How to find and debug reference cycles\n",
    "\n",
    "import gc\n",
    "\n",
    "gc.set_debug(gc.DEBUG_SAVEALL)\n",
    "\n",
    "print(gc.get_count())\n",
    "\n",
    "lst = []\n",
    "lst.append(lst)\n",
    "list_id = id(lst)\n",
    "del lst\n",
    "gc.collect()\n",
    "for item in gc.garbage:\n",
    "    print(item)\n",
    "    assert list_id == id(item)"
   ]
  },
  {
   "cell_type": "code",
   "execution_count": 62,
   "metadata": {
    "collapsed": true
   },
   "outputs": [],
   "source": [
    "# Conclusion\n",
    "\n",
    "# Most of the garbage collection is done by reference counting algorithm, which we cannot tune at all.\n",
    "\n",
    "# So, be aware of implementation specifics, but don't worry about potential GC problems prematurely.\n",
    "\n",
    "# Hopefully, you have learned something new. If you have any questions left, I will be glad to answer them.\n"
   ]
  },
  {
   "cell_type": "code",
   "execution_count": 63,
   "metadata": {
    "collapsed": true
   },
   "outputs": [],
   "source": [
    "import sys"
   ]
  },
  {
   "cell_type": "code",
   "execution_count": 64,
   "metadata": {
    "collapsed": true
   },
   "outputs": [],
   "source": [
    "# Reference Counting and Garbage Collection"
   ]
  },
  {
   "cell_type": "code",
   "execution_count": 65,
   "metadata": {
    "collapsed": true
   },
   "outputs": [],
   "source": [
    "# All objects are reference-counted. An object’s reference count is increased whenever it’s assigned \n",
    "\n",
    "# to a new name or placed in a container such as a list, tuple, or dictionary, as shown here:\n",
    "\n",
    "a = 37       # Creates an object with value 37\n",
    "b = a        # Increases reference count on 37\n",
    "c = []\n",
    "c.append(b)  # Increases reference count on 37"
   ]
  },
  {
   "cell_type": "code",
   "execution_count": 66,
   "metadata": {
    "collapsed": false
   },
   "outputs": [
    {
     "data": {
      "text/plain": [
       "28"
      ]
     },
     "execution_count": 66,
     "metadata": {},
     "output_type": "execute_result"
    }
   ],
   "source": [
    "\n",
    "# An object’s reference count is decreased by the del statement or\n",
    "# whenever a reference goes out of scope (or is reassigned). Here’s an example\n",
    "\n",
    "import sys\n",
    "sys.getrefcount(a)\n"
   ]
  },
  {
   "cell_type": "code",
   "execution_count": 67,
   "metadata": {
    "collapsed": true
   },
   "outputs": [],
   "source": [
    "del a      # Decrease reference count of 37\n",
    "\n",
    "b = 42     # Decrease reference count of 37\n",
    "\n",
    "d = c[0]\n",
    "\n",
    "c[0] = 2.0 # Decrease reference count of 37\n",
    "\n"
   ]
  },
  {
   "cell_type": "code",
   "execution_count": 68,
   "metadata": {
    "collapsed": false
   },
   "outputs": [
    {
     "data": {
      "text/plain": [
       "25"
      ]
     },
     "execution_count": 68,
     "metadata": {},
     "output_type": "execute_result"
    }
   ],
   "source": [
    "sys.getrefcount(d)"
   ]
  },
  {
   "cell_type": "code",
   "execution_count": 69,
   "metadata": {
    "collapsed": true
   },
   "outputs": [],
   "source": [
    "# In many cases, the reference count is much higher than you might guess. \n",
    "# For immutable data such as numbers and strings, the interpreter aggressively shares objects\n",
    "# between different parts of the program in order to conserve memory.\n",
    "\n"
   ]
  },
  {
   "cell_type": "code",
   "execution_count": 70,
   "metadata": {
    "collapsed": true
   },
   "outputs": [],
   "source": [
    "# When an object’s reference count reaches zero, it is garbage-collected. However, in some cases\n",
    "# a circular dependency may exist among a collection of objects that are no longer in use.\n"
   ]
  },
  {
   "cell_type": "code",
   "execution_count": 71,
   "metadata": {
    "collapsed": true
   },
   "outputs": [],
   "source": [
    "a = { }\n",
    "b = { }\n",
    "a['b'] = b      # a contains reference to b\n",
    "b['a'] = a      # b contains reference to a\n",
    "del a\n",
    "del b"
   ]
  },
  {
   "cell_type": "code",
   "execution_count": 39,
   "metadata": {
    "collapsed": true
   },
   "outputs": [],
   "source": [
    "# In this example, the del statements decrease the reference count of a and b and destroy the names\n",
    "# used to refer to the underlying objects. However, because each object contains a reference to the other, \n",
    "# the reference count doesn’t drop to zero and the objects remain allocated (resulting in a memory leak).\n",
    "\n",
    "# To address this problem, the interpreter periodically executes a cycle detector that searches for cycles of \n",
    "# inaccessible objects and deletes them. The cycle-detection algorithm runs periodically as the interpreter\n",
    "#  allocates more and more memory during execution. The exact behavior can be fine-tuned and controlled using\n",
    "# functions in the gc module ( “Python Runtime Services”).\n"
   ]
  }
 ],
 "metadata": {
  "anaconda-cloud": {},
  "kernelspec": {
   "display_name": "Python [default]",
   "language": "python",
   "name": "python3"
  },
  "language_info": {
   "codemirror_mode": {
    "name": "ipython",
    "version": 3
   },
   "file_extension": ".py",
   "mimetype": "text/x-python",
   "name": "python",
   "nbconvert_exporter": "python",
   "pygments_lexer": "ipython3",
   "version": "3.5.2"
  }
 },
 "nbformat": 4,
 "nbformat_minor": 2
}
